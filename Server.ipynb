{
 "cells": [
  {
   "cell_type": "code",
   "execution_count": null,
   "metadata": {},
   "outputs": [
    {
     "name": "stdout",
     "output_type": "stream",
     "text": [
      " * Running on http://0.0.0.0:8899/ (Press CTRL+C to quit)\n",
      "192.168.116.185 - - [26/Jan/2018 14:12:52] \"\u001b[37mGET /api/getStat HTTP/1.1\u001b[0m\" 200 -\n",
      "192.168.116.218 - - [26/Jan/2018 14:13:01] \"\u001b[37mGET /api/getStat HTTP/1.1\u001b[0m\" 200 -\n",
      "192.168.116.224 - - [26/Jan/2018 14:13:26] \"\u001b[37mGET /api/getStat HTTP/1.1\u001b[0m\" 200 -\n",
      "192.168.116.185 - - [26/Jan/2018 14:13:42] \"\u001b[37mGET / HTTP/1.1\u001b[0m\" 200 -\n",
      "192.168.116.185 - - [26/Jan/2018 14:13:43] \"\u001b[37mGET /api/getStat HTTP/1.1\u001b[0m\" 200 -\n",
      "192.168.116.218 - - [26/Jan/2018 14:14:01] \"\u001b[37mGET /api/getStat HTTP/1.1\u001b[0m\" 200 -\n",
      "192.168.116.224 - - [26/Jan/2018 14:14:26] \"\u001b[37mGET /api/getStat HTTP/1.1\u001b[0m\" 200 -\n",
      "192.168.116.185 - - [26/Jan/2018 14:14:43] \"\u001b[37mGET /api/getStat HTTP/1.1\u001b[0m\" 200 -\n",
      "192.168.116.218 - - [26/Jan/2018 14:15:01] \"\u001b[37mGET /api/getStat HTTP/1.1\u001b[0m\" 200 -\n",
      "192.168.116.224 - - [26/Jan/2018 14:15:26] \"\u001b[37mGET /api/getStat HTTP/1.1\u001b[0m\" 200 -\n",
      "192.168.116.185 - - [26/Jan/2018 14:15:43] \"\u001b[37mGET /api/getStat HTTP/1.1\u001b[0m\" 200 -\n",
      "192.168.116.218 - - [26/Jan/2018 14:16:01] \"\u001b[37mGET /api/getStat HTTP/1.1\u001b[0m\" 200 -\n",
      "192.168.116.224 - - [26/Jan/2018 14:16:26] \"\u001b[37mGET /api/getStat HTTP/1.1\u001b[0m\" 200 -\n",
      "192.168.116.185 - - [26/Jan/2018 14:16:43] \"\u001b[37mGET /api/getStat HTTP/1.1\u001b[0m\" 200 -\n",
      "192.168.116.185 - - [26/Jan/2018 14:16:44] \"\u001b[37mGET / HTTP/1.1\u001b[0m\" 200 -\n",
      "192.168.116.185 - - [26/Jan/2018 14:16:45] \"\u001b[37mGET /api/getStat HTTP/1.1\u001b[0m\" 200 -\n",
      "192.168.116.218 - - [26/Jan/2018 14:17:01] \"\u001b[37mGET /api/getStat HTTP/1.1\u001b[0m\" 200 -\n",
      "192.168.116.232 - - [26/Jan/2018 14:17:02] \"\u001b[37mGET / HTTP/1.1\u001b[0m\" 200 -\n",
      "192.168.116.232 - - [26/Jan/2018 14:17:02] \"\u001b[37mGET /static/foundation.min.css HTTP/1.1\u001b[0m\" 200 -\n",
      "192.168.116.232 - - [26/Jan/2018 14:17:02] \"\u001b[37mGET /static/app.css HTTP/1.1\u001b[0m\" 200 -\n",
      "192.168.116.232 - - [26/Jan/2018 14:17:02] \"\u001b[37mGET /static/css/app.c94d97cb59cddefed51e9b213d77bf70.css HTTP/1.1\u001b[0m\" 200 -\n",
      "192.168.116.232 - - [26/Jan/2018 14:17:02] \"\u001b[37mGET /static/js/manifest.7466f00e9e690d071eef.js HTTP/1.1\u001b[0m\" 200 -\n",
      "192.168.116.232 - - [26/Jan/2018 14:17:02] \"\u001b[37mGET /static/js/vendor.a14b24670632a7c07601.js HTTP/1.1\u001b[0m\" 200 -\n",
      "192.168.116.232 - - [26/Jan/2018 14:17:02] \"\u001b[37mGET /static/js/app.3e324c055db6ff457cd0.js HTTP/1.1\u001b[0m\" 200 -\n",
      "192.168.116.232 - - [26/Jan/2018 14:17:03] \"\u001b[37mGET /api/getStat HTTP/1.1\u001b[0m\" 200 -\n",
      "192.168.116.232 - - [26/Jan/2018 14:17:04] \"\u001b[33mGET /favicon.ico HTTP/1.1\u001b[0m\" 404 -\n",
      "192.168.116.224 - - [26/Jan/2018 14:17:26] \"\u001b[37mGET /api/getStat HTTP/1.1\u001b[0m\" 200 -\n",
      "192.168.116.185 - - [26/Jan/2018 14:17:43] \"\u001b[37mGET /api/getStat HTTP/1.1\u001b[0m\" 200 -\n",
      "192.168.116.218 - - [26/Jan/2018 14:18:01] \"\u001b[37mGET /api/getStat HTTP/1.1\u001b[0m\" 200 -\n",
      "192.168.116.232 - - [26/Jan/2018 14:18:03] \"\u001b[37mGET /api/getStat HTTP/1.1\u001b[0m\" 200 -\n",
      "192.168.116.224 - - [26/Jan/2018 14:18:26] \"\u001b[37mGET /api/getStat HTTP/1.1\u001b[0m\" 200 -\n"
     ]
    }
   ],
   "source": [
    "!python app.py"
   ]
  },
  {
   "cell_type": "code",
   "execution_count": null,
   "metadata": {},
   "outputs": [],
   "source": []
  }
 ],
 "metadata": {
  "kernelspec": {
   "display_name": "Python (3.6)",
   "language": "python",
   "name": "py35"
  },
  "language_info": {
   "codemirror_mode": {
    "name": "ipython",
    "version": 3
   },
   "file_extension": ".py",
   "mimetype": "text/x-python",
   "name": "python",
   "nbconvert_exporter": "python",
   "pygments_lexer": "ipython3",
   "version": "3.6.4"
  }
 },
 "nbformat": 4,
 "nbformat_minor": 2
}
