{
 "cells": [
  {
   "cell_type": "code",
   "execution_count": 10,
   "metadata": {},
   "outputs": [],
   "source": [
    "import requests\n",
    "import json\n",
    "from io import StringIO\n",
    "from flask import Flask\n",
    "from flask import request\n",
    "import requests\n",
    "import json\n",
    "from io import StringIO\n",
    "import psycopg2\n",
    "from psycopg2.extras import RealDictCursor\n",
    "from werkzeug.wrappers import Request, Response\n",
    "from IPython.core.display import display, HTML\n",
    "\n",
    "base_url = 'http://146.185.179.193:9000/api/'"
   ]
  },
  {
   "cell_type": "code",
   "execution_count": 11,
   "metadata": {},
   "outputs": [
    {
     "ename": "ConnectionError",
     "evalue": "HTTPConnectionPool(host='146.185.179.193', port=9000): Max retries exceeded with url: /api/GetClients/ (Caused by NewConnectionError('<urllib3.connection.HTTPConnection object at 0x7f51d3684d30>: Failed to establish a new connection: [Errno 111] Connection refused',))",
     "output_type": "error",
     "traceback": [
      "\u001b[0;31m---------------------------------------------------------------------------\u001b[0m",
      "\u001b[0;31mConnectionRefusedError\u001b[0m                    Traceback (most recent call last)",
      "\u001b[0;32m/usr/lib/python3/dist-packages/urllib3/connection.py\u001b[0m in \u001b[0;36m_new_conn\u001b[0;34m(self)\u001b[0m\n\u001b[1;32m    140\u001b[0m             conn = connection.create_connection(\n\u001b[0;32m--> 141\u001b[0;31m                 (self.host, self.port), self.timeout, **extra_kw)\n\u001b[0m\u001b[1;32m    142\u001b[0m \u001b[0;34m\u001b[0m\u001b[0m\n",
      "\u001b[0;32m/usr/lib/python3/dist-packages/urllib3/util/connection.py\u001b[0m in \u001b[0;36mcreate_connection\u001b[0;34m(address, timeout, source_address, socket_options)\u001b[0m\n\u001b[1;32m     82\u001b[0m     \u001b[0;32mif\u001b[0m \u001b[0merr\u001b[0m \u001b[0;32mis\u001b[0m \u001b[0;32mnot\u001b[0m \u001b[0;32mNone\u001b[0m\u001b[0;34m:\u001b[0m\u001b[0;34m\u001b[0m\u001b[0;34m\u001b[0m\u001b[0m\n\u001b[0;32m---> 83\u001b[0;31m         \u001b[0;32mraise\u001b[0m \u001b[0merr\u001b[0m\u001b[0;34m\u001b[0m\u001b[0;34m\u001b[0m\u001b[0m\n\u001b[0m\u001b[1;32m     84\u001b[0m \u001b[0;34m\u001b[0m\u001b[0m\n",
      "\u001b[0;32m/usr/lib/python3/dist-packages/urllib3/util/connection.py\u001b[0m in \u001b[0;36mcreate_connection\u001b[0;34m(address, timeout, source_address, socket_options)\u001b[0m\n\u001b[1;32m     72\u001b[0m                 \u001b[0msock\u001b[0m\u001b[0;34m.\u001b[0m\u001b[0mbind\u001b[0m\u001b[0;34m(\u001b[0m\u001b[0msource_address\u001b[0m\u001b[0;34m)\u001b[0m\u001b[0;34m\u001b[0m\u001b[0;34m\u001b[0m\u001b[0m\n\u001b[0;32m---> 73\u001b[0;31m             \u001b[0msock\u001b[0m\u001b[0;34m.\u001b[0m\u001b[0mconnect\u001b[0m\u001b[0;34m(\u001b[0m\u001b[0msa\u001b[0m\u001b[0;34m)\u001b[0m\u001b[0;34m\u001b[0m\u001b[0;34m\u001b[0m\u001b[0m\n\u001b[0m\u001b[1;32m     74\u001b[0m             \u001b[0;32mreturn\u001b[0m \u001b[0msock\u001b[0m\u001b[0;34m\u001b[0m\u001b[0;34m\u001b[0m\u001b[0m\n",
      "\u001b[0;31mConnectionRefusedError\u001b[0m: [Errno 111] Connection refused",
      "\nDuring handling of the above exception, another exception occurred:\n",
      "\u001b[0;31mNewConnectionError\u001b[0m                        Traceback (most recent call last)",
      "\u001b[0;32m/usr/lib/python3/dist-packages/urllib3/connectionpool.py\u001b[0m in \u001b[0;36murlopen\u001b[0;34m(self, method, url, body, headers, retries, redirect, assert_same_host, timeout, pool_timeout, release_conn, chunked, body_pos, **response_kw)\u001b[0m\n\u001b[1;32m    600\u001b[0m                                                   \u001b[0mbody\u001b[0m\u001b[0;34m=\u001b[0m\u001b[0mbody\u001b[0m\u001b[0;34m,\u001b[0m \u001b[0mheaders\u001b[0m\u001b[0;34m=\u001b[0m\u001b[0mheaders\u001b[0m\u001b[0;34m,\u001b[0m\u001b[0;34m\u001b[0m\u001b[0;34m\u001b[0m\u001b[0m\n\u001b[0;32m--> 601\u001b[0;31m                                                   chunked=chunked)\n\u001b[0m\u001b[1;32m    602\u001b[0m \u001b[0;34m\u001b[0m\u001b[0m\n",
      "\u001b[0;32m/usr/lib/python3/dist-packages/urllib3/connectionpool.py\u001b[0m in \u001b[0;36m_make_request\u001b[0;34m(self, conn, method, url, timeout, chunked, **httplib_request_kw)\u001b[0m\n\u001b[1;32m    356\u001b[0m         \u001b[0;32melse\u001b[0m\u001b[0;34m:\u001b[0m\u001b[0;34m\u001b[0m\u001b[0;34m\u001b[0m\u001b[0m\n\u001b[0;32m--> 357\u001b[0;31m             \u001b[0mconn\u001b[0m\u001b[0;34m.\u001b[0m\u001b[0mrequest\u001b[0m\u001b[0;34m(\u001b[0m\u001b[0mmethod\u001b[0m\u001b[0;34m,\u001b[0m \u001b[0murl\u001b[0m\u001b[0;34m,\u001b[0m \u001b[0;34m**\u001b[0m\u001b[0mhttplib_request_kw\u001b[0m\u001b[0;34m)\u001b[0m\u001b[0;34m\u001b[0m\u001b[0;34m\u001b[0m\u001b[0m\n\u001b[0m\u001b[1;32m    358\u001b[0m \u001b[0;34m\u001b[0m\u001b[0m\n",
      "\u001b[0;32m/usr/lib/python3.6/http/client.py\u001b[0m in \u001b[0;36mrequest\u001b[0;34m(self, method, url, body, headers, encode_chunked)\u001b[0m\n\u001b[1;32m   1253\u001b[0m         \u001b[0;34m\"\"\"Send a complete request to the server.\"\"\"\u001b[0m\u001b[0;34m\u001b[0m\u001b[0;34m\u001b[0m\u001b[0m\n\u001b[0;32m-> 1254\u001b[0;31m         \u001b[0mself\u001b[0m\u001b[0;34m.\u001b[0m\u001b[0m_send_request\u001b[0m\u001b[0;34m(\u001b[0m\u001b[0mmethod\u001b[0m\u001b[0;34m,\u001b[0m \u001b[0murl\u001b[0m\u001b[0;34m,\u001b[0m \u001b[0mbody\u001b[0m\u001b[0;34m,\u001b[0m \u001b[0mheaders\u001b[0m\u001b[0;34m,\u001b[0m \u001b[0mencode_chunked\u001b[0m\u001b[0;34m)\u001b[0m\u001b[0;34m\u001b[0m\u001b[0;34m\u001b[0m\u001b[0m\n\u001b[0m\u001b[1;32m   1255\u001b[0m \u001b[0;34m\u001b[0m\u001b[0m\n",
      "\u001b[0;32m/usr/lib/python3.6/http/client.py\u001b[0m in \u001b[0;36m_send_request\u001b[0;34m(self, method, url, body, headers, encode_chunked)\u001b[0m\n\u001b[1;32m   1299\u001b[0m             \u001b[0mbody\u001b[0m \u001b[0;34m=\u001b[0m \u001b[0m_encode\u001b[0m\u001b[0;34m(\u001b[0m\u001b[0mbody\u001b[0m\u001b[0;34m,\u001b[0m \u001b[0;34m'body'\u001b[0m\u001b[0;34m)\u001b[0m\u001b[0;34m\u001b[0m\u001b[0;34m\u001b[0m\u001b[0m\n\u001b[0;32m-> 1300\u001b[0;31m         \u001b[0mself\u001b[0m\u001b[0;34m.\u001b[0m\u001b[0mendheaders\u001b[0m\u001b[0;34m(\u001b[0m\u001b[0mbody\u001b[0m\u001b[0;34m,\u001b[0m \u001b[0mencode_chunked\u001b[0m\u001b[0;34m=\u001b[0m\u001b[0mencode_chunked\u001b[0m\u001b[0;34m)\u001b[0m\u001b[0;34m\u001b[0m\u001b[0;34m\u001b[0m\u001b[0m\n\u001b[0m\u001b[1;32m   1301\u001b[0m \u001b[0;34m\u001b[0m\u001b[0m\n",
      "\u001b[0;32m/usr/lib/python3.6/http/client.py\u001b[0m in \u001b[0;36mendheaders\u001b[0;34m(self, message_body, encode_chunked)\u001b[0m\n\u001b[1;32m   1248\u001b[0m             \u001b[0;32mraise\u001b[0m \u001b[0mCannotSendHeader\u001b[0m\u001b[0;34m(\u001b[0m\u001b[0;34m)\u001b[0m\u001b[0;34m\u001b[0m\u001b[0;34m\u001b[0m\u001b[0m\n\u001b[0;32m-> 1249\u001b[0;31m         \u001b[0mself\u001b[0m\u001b[0;34m.\u001b[0m\u001b[0m_send_output\u001b[0m\u001b[0;34m(\u001b[0m\u001b[0mmessage_body\u001b[0m\u001b[0;34m,\u001b[0m \u001b[0mencode_chunked\u001b[0m\u001b[0;34m=\u001b[0m\u001b[0mencode_chunked\u001b[0m\u001b[0;34m)\u001b[0m\u001b[0;34m\u001b[0m\u001b[0;34m\u001b[0m\u001b[0m\n\u001b[0m\u001b[1;32m   1250\u001b[0m \u001b[0;34m\u001b[0m\u001b[0m\n",
      "\u001b[0;32m/usr/lib/python3.6/http/client.py\u001b[0m in \u001b[0;36m_send_output\u001b[0;34m(self, message_body, encode_chunked)\u001b[0m\n\u001b[1;32m   1035\u001b[0m         \u001b[0;32mdel\u001b[0m \u001b[0mself\u001b[0m\u001b[0;34m.\u001b[0m\u001b[0m_buffer\u001b[0m\u001b[0;34m[\u001b[0m\u001b[0;34m:\u001b[0m\u001b[0;34m]\u001b[0m\u001b[0;34m\u001b[0m\u001b[0;34m\u001b[0m\u001b[0m\n\u001b[0;32m-> 1036\u001b[0;31m         \u001b[0mself\u001b[0m\u001b[0;34m.\u001b[0m\u001b[0msend\u001b[0m\u001b[0;34m(\u001b[0m\u001b[0mmsg\u001b[0m\u001b[0;34m)\u001b[0m\u001b[0;34m\u001b[0m\u001b[0;34m\u001b[0m\u001b[0m\n\u001b[0m\u001b[1;32m   1037\u001b[0m \u001b[0;34m\u001b[0m\u001b[0m\n",
      "\u001b[0;32m/usr/lib/python3.6/http/client.py\u001b[0m in \u001b[0;36msend\u001b[0;34m(self, data)\u001b[0m\n\u001b[1;32m    973\u001b[0m             \u001b[0;32mif\u001b[0m \u001b[0mself\u001b[0m\u001b[0;34m.\u001b[0m\u001b[0mauto_open\u001b[0m\u001b[0;34m:\u001b[0m\u001b[0;34m\u001b[0m\u001b[0;34m\u001b[0m\u001b[0m\n\u001b[0;32m--> 974\u001b[0;31m                 \u001b[0mself\u001b[0m\u001b[0;34m.\u001b[0m\u001b[0mconnect\u001b[0m\u001b[0;34m(\u001b[0m\u001b[0;34m)\u001b[0m\u001b[0;34m\u001b[0m\u001b[0;34m\u001b[0m\u001b[0m\n\u001b[0m\u001b[1;32m    975\u001b[0m             \u001b[0;32melse\u001b[0m\u001b[0;34m:\u001b[0m\u001b[0;34m\u001b[0m\u001b[0;34m\u001b[0m\u001b[0m\n",
      "\u001b[0;32m/usr/lib/python3/dist-packages/urllib3/connection.py\u001b[0m in \u001b[0;36mconnect\u001b[0;34m(self)\u001b[0m\n\u001b[1;32m    165\u001b[0m     \u001b[0;32mdef\u001b[0m \u001b[0mconnect\u001b[0m\u001b[0;34m(\u001b[0m\u001b[0mself\u001b[0m\u001b[0;34m)\u001b[0m\u001b[0;34m:\u001b[0m\u001b[0;34m\u001b[0m\u001b[0;34m\u001b[0m\u001b[0m\n\u001b[0;32m--> 166\u001b[0;31m         \u001b[0mconn\u001b[0m \u001b[0;34m=\u001b[0m \u001b[0mself\u001b[0m\u001b[0;34m.\u001b[0m\u001b[0m_new_conn\u001b[0m\u001b[0;34m(\u001b[0m\u001b[0;34m)\u001b[0m\u001b[0;34m\u001b[0m\u001b[0;34m\u001b[0m\u001b[0m\n\u001b[0m\u001b[1;32m    167\u001b[0m         \u001b[0mself\u001b[0m\u001b[0;34m.\u001b[0m\u001b[0m_prepare_conn\u001b[0m\u001b[0;34m(\u001b[0m\u001b[0mconn\u001b[0m\u001b[0;34m)\u001b[0m\u001b[0;34m\u001b[0m\u001b[0;34m\u001b[0m\u001b[0m\n",
      "\u001b[0;32m/usr/lib/python3/dist-packages/urllib3/connection.py\u001b[0m in \u001b[0;36m_new_conn\u001b[0;34m(self)\u001b[0m\n\u001b[1;32m    149\u001b[0m             raise NewConnectionError(\n\u001b[0;32m--> 150\u001b[0;31m                 self, \"Failed to establish a new connection: %s\" % e)\n\u001b[0m\u001b[1;32m    151\u001b[0m \u001b[0;34m\u001b[0m\u001b[0m\n",
      "\u001b[0;31mNewConnectionError\u001b[0m: <urllib3.connection.HTTPConnection object at 0x7f51d3684d30>: Failed to establish a new connection: [Errno 111] Connection refused",
      "\nDuring handling of the above exception, another exception occurred:\n",
      "\u001b[0;31mMaxRetryError\u001b[0m                             Traceback (most recent call last)",
      "\u001b[0;32m/usr/lib/python3/dist-packages/requests/adapters.py\u001b[0m in \u001b[0;36msend\u001b[0;34m(self, request, stream, timeout, verify, cert, proxies)\u001b[0m\n\u001b[1;32m    439\u001b[0m                     \u001b[0mretries\u001b[0m\u001b[0;34m=\u001b[0m\u001b[0mself\u001b[0m\u001b[0;34m.\u001b[0m\u001b[0mmax_retries\u001b[0m\u001b[0;34m,\u001b[0m\u001b[0;34m\u001b[0m\u001b[0;34m\u001b[0m\u001b[0m\n\u001b[0;32m--> 440\u001b[0;31m                     \u001b[0mtimeout\u001b[0m\u001b[0;34m=\u001b[0m\u001b[0mtimeout\u001b[0m\u001b[0;34m\u001b[0m\u001b[0;34m\u001b[0m\u001b[0m\n\u001b[0m\u001b[1;32m    441\u001b[0m                 )\n",
      "\u001b[0;32m/usr/lib/python3/dist-packages/urllib3/connectionpool.py\u001b[0m in \u001b[0;36murlopen\u001b[0;34m(self, method, url, body, headers, retries, redirect, assert_same_host, timeout, pool_timeout, release_conn, chunked, body_pos, **response_kw)\u001b[0m\n\u001b[1;32m    638\u001b[0m             retries = retries.increment(method, url, error=e, _pool=self,\n\u001b[0;32m--> 639\u001b[0;31m                                         _stacktrace=sys.exc_info()[2])\n\u001b[0m\u001b[1;32m    640\u001b[0m             \u001b[0mretries\u001b[0m\u001b[0;34m.\u001b[0m\u001b[0msleep\u001b[0m\u001b[0;34m(\u001b[0m\u001b[0;34m)\u001b[0m\u001b[0;34m\u001b[0m\u001b[0;34m\u001b[0m\u001b[0m\n",
      "\u001b[0;32m/usr/lib/python3/dist-packages/urllib3/util/retry.py\u001b[0m in \u001b[0;36mincrement\u001b[0;34m(self, method, url, response, error, _pool, _stacktrace)\u001b[0m\n\u001b[1;32m    397\u001b[0m         \u001b[0;32mif\u001b[0m \u001b[0mnew_retry\u001b[0m\u001b[0;34m.\u001b[0m\u001b[0mis_exhausted\u001b[0m\u001b[0;34m(\u001b[0m\u001b[0;34m)\u001b[0m\u001b[0;34m:\u001b[0m\u001b[0;34m\u001b[0m\u001b[0;34m\u001b[0m\u001b[0m\n\u001b[0;32m--> 398\u001b[0;31m             \u001b[0;32mraise\u001b[0m \u001b[0mMaxRetryError\u001b[0m\u001b[0;34m(\u001b[0m\u001b[0m_pool\u001b[0m\u001b[0;34m,\u001b[0m \u001b[0murl\u001b[0m\u001b[0;34m,\u001b[0m \u001b[0merror\u001b[0m \u001b[0;32mor\u001b[0m \u001b[0mResponseError\u001b[0m\u001b[0;34m(\u001b[0m\u001b[0mcause\u001b[0m\u001b[0;34m)\u001b[0m\u001b[0;34m)\u001b[0m\u001b[0;34m\u001b[0m\u001b[0;34m\u001b[0m\u001b[0m\n\u001b[0m\u001b[1;32m    399\u001b[0m \u001b[0;34m\u001b[0m\u001b[0m\n",
      "\u001b[0;31mMaxRetryError\u001b[0m: HTTPConnectionPool(host='146.185.179.193', port=9000): Max retries exceeded with url: /api/GetClients/ (Caused by NewConnectionError('<urllib3.connection.HTTPConnection object at 0x7f51d3684d30>: Failed to establish a new connection: [Errno 111] Connection refused',))",
      "\nDuring handling of the above exception, another exception occurred:\n",
      "\u001b[0;31mConnectionError\u001b[0m                           Traceback (most recent call last)",
      "\u001b[0;32m<ipython-input-11-a46d5cdb8aa0>\u001b[0m in \u001b[0;36m<module>\u001b[0;34m\u001b[0m\n\u001b[1;32m      2\u001b[0m \u001b[0mparams\u001b[0m \u001b[0;34m=\u001b[0m \u001b[0;34m{\u001b[0m\u001b[0;34m'q'\u001b[0m\u001b[0;34m:\u001b[0m\u001b[0;34m''\u001b[0m\u001b[0;34m}\u001b[0m\u001b[0;34m\u001b[0m\u001b[0;34m\u001b[0m\u001b[0m\n\u001b[1;32m      3\u001b[0m \u001b[0;34m\u001b[0m\u001b[0m\n\u001b[0;32m----> 4\u001b[0;31m \u001b[0mr\u001b[0m \u001b[0;34m=\u001b[0m \u001b[0mrequests\u001b[0m\u001b[0;34m.\u001b[0m\u001b[0mpost\u001b[0m\u001b[0;34m(\u001b[0m\u001b[0mbase_url\u001b[0m \u001b[0;34m+\u001b[0m \u001b[0;34m'GetClients/'\u001b[0m\u001b[0;34m,\u001b[0m \u001b[0mjson\u001b[0m \u001b[0;34m=\u001b[0m \u001b[0mparams\u001b[0m\u001b[0;34m)\u001b[0m\u001b[0;34m\u001b[0m\u001b[0;34m\u001b[0m\u001b[0m\n\u001b[0m\u001b[1;32m      5\u001b[0m \u001b[0;34m\u001b[0m\u001b[0m\n\u001b[1;32m      6\u001b[0m \u001b[0;32mtry\u001b[0m\u001b[0;34m:\u001b[0m\u001b[0;34m\u001b[0m\u001b[0;34m\u001b[0m\u001b[0m\n",
      "\u001b[0;32m/usr/lib/python3/dist-packages/requests/api.py\u001b[0m in \u001b[0;36mpost\u001b[0;34m(url, data, json, **kwargs)\u001b[0m\n\u001b[1;32m    110\u001b[0m     \"\"\"\n\u001b[1;32m    111\u001b[0m \u001b[0;34m\u001b[0m\u001b[0m\n\u001b[0;32m--> 112\u001b[0;31m     \u001b[0;32mreturn\u001b[0m \u001b[0mrequest\u001b[0m\u001b[0;34m(\u001b[0m\u001b[0;34m'post'\u001b[0m\u001b[0;34m,\u001b[0m \u001b[0murl\u001b[0m\u001b[0;34m,\u001b[0m \u001b[0mdata\u001b[0m\u001b[0;34m=\u001b[0m\u001b[0mdata\u001b[0m\u001b[0;34m,\u001b[0m \u001b[0mjson\u001b[0m\u001b[0;34m=\u001b[0m\u001b[0mjson\u001b[0m\u001b[0;34m,\u001b[0m \u001b[0;34m**\u001b[0m\u001b[0mkwargs\u001b[0m\u001b[0;34m)\u001b[0m\u001b[0;34m\u001b[0m\u001b[0;34m\u001b[0m\u001b[0m\n\u001b[0m\u001b[1;32m    113\u001b[0m \u001b[0;34m\u001b[0m\u001b[0m\n\u001b[1;32m    114\u001b[0m \u001b[0;34m\u001b[0m\u001b[0m\n",
      "\u001b[0;32m/usr/lib/python3/dist-packages/requests/api.py\u001b[0m in \u001b[0;36mrequest\u001b[0;34m(method, url, **kwargs)\u001b[0m\n\u001b[1;32m     56\u001b[0m     \u001b[0;31m# cases, and look like a memory leak in others.\u001b[0m\u001b[0;34m\u001b[0m\u001b[0;34m\u001b[0m\u001b[0;34m\u001b[0m\u001b[0m\n\u001b[1;32m     57\u001b[0m     \u001b[0;32mwith\u001b[0m \u001b[0msessions\u001b[0m\u001b[0;34m.\u001b[0m\u001b[0mSession\u001b[0m\u001b[0;34m(\u001b[0m\u001b[0;34m)\u001b[0m \u001b[0;32mas\u001b[0m \u001b[0msession\u001b[0m\u001b[0;34m:\u001b[0m\u001b[0;34m\u001b[0m\u001b[0;34m\u001b[0m\u001b[0m\n\u001b[0;32m---> 58\u001b[0;31m         \u001b[0;32mreturn\u001b[0m \u001b[0msession\u001b[0m\u001b[0;34m.\u001b[0m\u001b[0mrequest\u001b[0m\u001b[0;34m(\u001b[0m\u001b[0mmethod\u001b[0m\u001b[0;34m=\u001b[0m\u001b[0mmethod\u001b[0m\u001b[0;34m,\u001b[0m \u001b[0murl\u001b[0m\u001b[0;34m=\u001b[0m\u001b[0murl\u001b[0m\u001b[0;34m,\u001b[0m \u001b[0;34m**\u001b[0m\u001b[0mkwargs\u001b[0m\u001b[0;34m)\u001b[0m\u001b[0;34m\u001b[0m\u001b[0;34m\u001b[0m\u001b[0m\n\u001b[0m\u001b[1;32m     59\u001b[0m \u001b[0;34m\u001b[0m\u001b[0m\n\u001b[1;32m     60\u001b[0m \u001b[0;34m\u001b[0m\u001b[0m\n",
      "\u001b[0;32m/usr/lib/python3/dist-packages/requests/sessions.py\u001b[0m in \u001b[0;36mrequest\u001b[0;34m(self, method, url, params, data, headers, cookies, files, auth, timeout, allow_redirects, proxies, hooks, stream, verify, cert, json)\u001b[0m\n\u001b[1;32m    518\u001b[0m         }\n\u001b[1;32m    519\u001b[0m         \u001b[0msend_kwargs\u001b[0m\u001b[0;34m.\u001b[0m\u001b[0mupdate\u001b[0m\u001b[0;34m(\u001b[0m\u001b[0msettings\u001b[0m\u001b[0;34m)\u001b[0m\u001b[0;34m\u001b[0m\u001b[0;34m\u001b[0m\u001b[0m\n\u001b[0;32m--> 520\u001b[0;31m         \u001b[0mresp\u001b[0m \u001b[0;34m=\u001b[0m \u001b[0mself\u001b[0m\u001b[0;34m.\u001b[0m\u001b[0msend\u001b[0m\u001b[0;34m(\u001b[0m\u001b[0mprep\u001b[0m\u001b[0;34m,\u001b[0m \u001b[0;34m**\u001b[0m\u001b[0msend_kwargs\u001b[0m\u001b[0;34m)\u001b[0m\u001b[0;34m\u001b[0m\u001b[0;34m\u001b[0m\u001b[0m\n\u001b[0m\u001b[1;32m    521\u001b[0m \u001b[0;34m\u001b[0m\u001b[0m\n\u001b[1;32m    522\u001b[0m         \u001b[0;32mreturn\u001b[0m \u001b[0mresp\u001b[0m\u001b[0;34m\u001b[0m\u001b[0;34m\u001b[0m\u001b[0m\n",
      "\u001b[0;32m/usr/lib/python3/dist-packages/requests/sessions.py\u001b[0m in \u001b[0;36msend\u001b[0;34m(self, request, **kwargs)\u001b[0m\n\u001b[1;32m    628\u001b[0m \u001b[0;34m\u001b[0m\u001b[0m\n\u001b[1;32m    629\u001b[0m         \u001b[0;31m# Send the request\u001b[0m\u001b[0;34m\u001b[0m\u001b[0;34m\u001b[0m\u001b[0;34m\u001b[0m\u001b[0m\n\u001b[0;32m--> 630\u001b[0;31m         \u001b[0mr\u001b[0m \u001b[0;34m=\u001b[0m \u001b[0madapter\u001b[0m\u001b[0;34m.\u001b[0m\u001b[0msend\u001b[0m\u001b[0;34m(\u001b[0m\u001b[0mrequest\u001b[0m\u001b[0;34m,\u001b[0m \u001b[0;34m**\u001b[0m\u001b[0mkwargs\u001b[0m\u001b[0;34m)\u001b[0m\u001b[0;34m\u001b[0m\u001b[0;34m\u001b[0m\u001b[0m\n\u001b[0m\u001b[1;32m    631\u001b[0m \u001b[0;34m\u001b[0m\u001b[0m\n\u001b[1;32m    632\u001b[0m         \u001b[0;31m# Total elapsed time of the request (approximately)\u001b[0m\u001b[0;34m\u001b[0m\u001b[0;34m\u001b[0m\u001b[0;34m\u001b[0m\u001b[0m\n",
      "\u001b[0;32m/usr/lib/python3/dist-packages/requests/adapters.py\u001b[0m in \u001b[0;36msend\u001b[0;34m(self, request, stream, timeout, verify, cert, proxies)\u001b[0m\n\u001b[1;32m    506\u001b[0m                 \u001b[0;32mraise\u001b[0m \u001b[0mSSLError\u001b[0m\u001b[0;34m(\u001b[0m\u001b[0me\u001b[0m\u001b[0;34m,\u001b[0m \u001b[0mrequest\u001b[0m\u001b[0;34m=\u001b[0m\u001b[0mrequest\u001b[0m\u001b[0;34m)\u001b[0m\u001b[0;34m\u001b[0m\u001b[0;34m\u001b[0m\u001b[0m\n\u001b[1;32m    507\u001b[0m \u001b[0;34m\u001b[0m\u001b[0m\n\u001b[0;32m--> 508\u001b[0;31m             \u001b[0;32mraise\u001b[0m \u001b[0mConnectionError\u001b[0m\u001b[0;34m(\u001b[0m\u001b[0me\u001b[0m\u001b[0;34m,\u001b[0m \u001b[0mrequest\u001b[0m\u001b[0;34m=\u001b[0m\u001b[0mrequest\u001b[0m\u001b[0;34m)\u001b[0m\u001b[0;34m\u001b[0m\u001b[0;34m\u001b[0m\u001b[0m\n\u001b[0m\u001b[1;32m    509\u001b[0m \u001b[0;34m\u001b[0m\u001b[0m\n\u001b[1;32m    510\u001b[0m         \u001b[0;32mexcept\u001b[0m \u001b[0mClosedPoolError\u001b[0m \u001b[0;32mas\u001b[0m \u001b[0me\u001b[0m\u001b[0;34m:\u001b[0m\u001b[0;34m\u001b[0m\u001b[0;34m\u001b[0m\u001b[0m\n",
      "\u001b[0;31mConnectionError\u001b[0m: HTTPConnectionPool(host='146.185.179.193', port=9000): Max retries exceeded with url: /api/GetClients/ (Caused by NewConnectionError('<urllib3.connection.HTTPConnection object at 0x7f51d3684d30>: Failed to establish a new connection: [Errno 111] Connection refused',))"
     ]
    }
   ],
   "source": [
    "# GetClients\n",
    "params = {'q':''}\n",
    "\n",
    "r = requests.post(base_url + 'GetClients/', json = params)\n",
    "\n",
    "try:\n",
    "    io = StringIO(r.text)\n",
    "    result = json.load(io)\n",
    "    print(result)\n",
    "except:\n",
    "    print(r)"
   ]
  },
  {
   "cell_type": "code",
   "execution_count": null,
   "metadata": {
    "collapsed": true
   },
   "outputs": [],
   "source": [
    "# GetUserData\n",
    "params = {'login':'login'}\n",
    "\n",
    "r = requests.post(base_url + 'GetUserData/', json = params)\n",
    "\n",
    "try:\n",
    "    io = StringIO(r.text)\n",
    "    result = json.load(io)\n",
    "    print(result)\n",
    "except:\n",
    "    print(r)"
   ]
  },
  {
   "cell_type": "code",
   "execution_count": null,
   "metadata": {
    "collapsed": true
   },
   "outputs": [],
   "source": [
    "# GetEmployees\n",
    "\n",
    "r = requests.post(base_url + 'GetEmployees/')\n",
    "\n",
    "try:\n",
    "    io = StringIO(r.text)\n",
    "    result = json.load(io)\n",
    "    print(result)\n",
    "except:\n",
    "    print(r)"
   ]
  },
  {
   "cell_type": "code",
   "execution_count": 3,
   "metadata": {},
   "outputs": [
    {
     "name": "stdout",
     "output_type": "stream",
     "text": [
      "{'id': 1, 'name': 'Иванов Диего Михайлович', 'roles': ['officeAdmin'], 'salary': 100000.0, 'servicePercent': 0.1, 'goodsPercent': 0.1, 'categoryId': None, 'state': 'working', 'clientRating': None, 'controlRating': None, 'login': 'admin', 'password': 'admin', 'contacts': None, 'photo': None}\n"
     ]
    }
   ],
   "source": [
    "# GetEmployee\n",
    "\n",
    "params = {'id':1}\n",
    "\n",
    "r = requests.post(base_url + 'GetEmployee/', json = params)\n",
    "\n",
    "try:\n",
    "    io = StringIO(r.text)\n",
    "    result = json.load(io)\n",
    "    print(result)\n",
    "except:\n",
    "    print(r)"
   ]
  },
  {
   "cell_type": "code",
   "execution_count": null,
   "metadata": {
    "collapsed": true
   },
   "outputs": [],
   "source": [
    "# GetAdmins\n",
    "\n",
    "r = requests.post(base_url + 'GetAdmins/')\n",
    "\n",
    "try:\n",
    "    io = StringIO(r.text)\n",
    "    result = json.load(io)\n",
    "    print(result)\n",
    "except:\n",
    "    print(r)"
   ]
  },
  {
   "cell_type": "code",
   "execution_count": null,
   "metadata": {
    "collapsed": true
   },
   "outputs": [],
   "source": [
    "# GetMasters\n",
    "\n",
    "r = requests.post(base_url + 'GetMasters/')\n",
    "\n",
    "try:\n",
    "    io = StringIO(r.text)\n",
    "    result = json.load(io)\n",
    "    print(result)\n",
    "except:\n",
    "    print(r)"
   ]
  },
  {
   "cell_type": "code",
   "execution_count": null,
   "metadata": {
    "collapsed": true
   },
   "outputs": [],
   "source": [
    "# GetBarberCategories\n",
    "\n",
    "r = requests.post(base_url + 'GetBarberCategories/')\n",
    "\n",
    "try:\n",
    "    io = StringIO(r.text)\n",
    "    result = json.load(io)\n",
    "    print(result)\n",
    "except:\n",
    "    print(r)"
   ]
  },
  {
   "cell_type": "code",
   "execution_count": null,
   "metadata": {
    "collapsed": true
   },
   "outputs": [],
   "source": [
    "# GetBarberCategory\n",
    "\n",
    "params = {'id':1}\n",
    "\n",
    "r = requests.post(base_url + 'GetBarberCategory/', json = params)\n",
    "\n",
    "try:\n",
    "    io = StringIO(r.text)\n",
    "    result = json.load(io)\n",
    "    print(result)\n",
    "except:\n",
    "    print(r)"
   ]
  },
  {
   "cell_type": "code",
   "execution_count": null,
   "metadata": {
    "collapsed": true
   },
   "outputs": [],
   "source": [
    "# GetOffices\n",
    "\n",
    "r = requests.post(base_url + 'GetOffices/')\n",
    "\n",
    "try:\n",
    "    io = StringIO(r.text)\n",
    "    result = json.load(io)\n",
    "    print(result)\n",
    "except:\n",
    "    print(r)"
   ]
  },
  {
   "cell_type": "code",
   "execution_count": null,
   "metadata": {
    "collapsed": true
   },
   "outputs": [],
   "source": [
    "# GetOffice\n",
    "\n",
    "params = {'id':1}\n",
    "\n",
    "r = requests.post(base_url + 'GetOffice/', json = params)\n",
    "\n",
    "try:\n",
    "    io = StringIO(r.text)\n",
    "    result = json.load(io)\n",
    "    print(result)\n",
    "except:\n",
    "    print(r)"
   ]
  },
  {
   "cell_type": "code",
   "execution_count": 20,
   "metadata": {},
   "outputs": [
    {
     "name": "stdout",
     "output_type": "stream",
     "text": [
      "{'id': 13, 'dateOpened': '27.10.2019 10:34', 'dateClosed': None, 'employees': [{'id': 6, 'role': 'officeAdmin', 'workHours': 6}, {'id': 4, 'role': 'master', 'workHours': 6}], 'officeId': 3, 'state': 'open'}\n"
     ]
    }
   ],
   "source": [
    "# GetCurrentSession\n",
    "\n",
    "params = {'officeId':3, \"withOperations\": True}\n",
    "\n",
    "r = requests.post(base_url + 'GetCurrentSession/', json = params)\n",
    "\n",
    "try:\n",
    "    io = StringIO(r.text)\n",
    "    result = json.load(io)\n",
    "    print(result)\n",
    "except:\n",
    "    display(HTML(r.text))"
   ]
  },
  {
   "cell_type": "code",
   "execution_count": null,
   "metadata": {
    "collapsed": true
   },
   "outputs": [],
   "source": [
    "# GetSession\n",
    "\n",
    "params = {'id':3,\n",
    "          \"withOperations\": True\n",
    "         }\n",
    "\n",
    "r = requests.post(base_url + 'GetSession/', json = params)\n",
    "\n",
    "try:\n",
    "    io = StringIO(r.text)\n",
    "    result = json.load(io)\n",
    "    print(result)\n",
    "except:\n",
    "    print(r)"
   ]
  },
  {
   "cell_type": "code",
   "execution_count": null,
   "metadata": {
    "collapsed": true
   },
   "outputs": [],
   "source": [
    "# GetSessionsWithOperations\n",
    "\n",
    "params = {\n",
    "    \"dateFrom\": '01.01.2018',\n",
    "    \"dateTo\": '01.01.2019',\n",
    "    \"operationType\": [1,2],\n",
    "    \"employeeIds\": [1,4],\n",
    "    \"clientIds\": [1,2]\n",
    "}\n",
    "\n",
    "r = requests.post(base_url + 'GetSessionsWithOperations/', json = params)\n",
    "\n",
    "try:\n",
    "    io = StringIO(r.text)\n",
    "    result = json.load(io)\n",
    "    print(result)\n",
    "except:\n",
    "    display(HTML(r.text))"
   ]
  },
  {
   "cell_type": "code",
   "execution_count": 7,
   "metadata": {},
   "outputs": [
    {
     "name": "stdout",
     "output_type": "stream",
     "text": [
      "[{'id': 1, 'name': 'Стрижка мужская', 'prices': [{'price': '1000', 'category': 1}, {'price': '1000', 'category': 2}, {'price': '30000', 'category': 3}]}, {'id': 2, 'name': 'Стрижка женская', 'prices': [{'price': '200', 'category': 2}, {'price': '3333', 'category': 3}, {'price': '500', 'category': 1}]}, {'id': 3, 'name': 'Стрижка трансгендера', 'prices': [{'price': '100.4', 'category': 2}, {'price': '7000', 'category': 3}, {'price': '100', 'category': 1}]}]\n"
     ]
    }
   ],
   "source": [
    "# GetServicesPrices\n",
    "\n",
    "r = requests.post(base_url + 'GetServicesPrices/')\n",
    "\n",
    "try:\n",
    "    io = StringIO(r.text)\n",
    "    result = json.load(io)\n",
    "    print(result)\n",
    "except:\n",
    "    print(r)"
   ]
  },
  {
   "cell_type": "code",
   "execution_count": 3,
   "metadata": {},
   "outputs": [
    {
     "name": "stdout",
     "output_type": "stream",
     "text": [
      "{'id': 1, 'officeId': 1, 'sessionId': 1, 'serviceId': 1, 'startDatetime': '31.12.2018 11:00', 'finishDatetime': '31.12.2018 12:00', 'adminId': 1, 'masterId': 4, 'clientId': 1, 'cashSum': None, 'cashlessSum': None, 'discountSum': None, 'adminBonusSum': None, 'totalRevenue': None, 'clientRating': None, 'review': None, 'comment': None, 'controlRating': None, 'photos': None, 'masterBonusSum': None}\n"
     ]
    }
   ],
   "source": [
    "# GetServiceOperation\n",
    "\n",
    "params = {'id':1}\n",
    "\n",
    "r = requests.post(base_url + 'GetServiceOperation/', json = params)\n",
    "\n",
    "try:\n",
    "    io = StringIO(r.text)\n",
    "    result = json.load(io)\n",
    "    print(result)\n",
    "except:\n",
    "    print(r)"
   ]
  },
  {
   "cell_type": "code",
   "execution_count": null,
   "metadata": {
    "collapsed": true
   },
   "outputs": [],
   "source": [
    "# GetGoods\n",
    "\n",
    "r = requests.post(base_url + 'GetGoods/')\n",
    "\n",
    "try:\n",
    "    io = StringIO(r.text)\n",
    "    result = json.load(io)\n",
    "    print(result)\n",
    "except:\n",
    "    print(r)"
   ]
  },
  {
   "cell_type": "code",
   "execution_count": 9,
   "metadata": {},
   "outputs": [
    {
     "name": "stdout",
     "output_type": "stream",
     "text": [
      "{'id': 1, 'name': 'Шампунь', 'price': 5000.0, 'state': 'active'}\n"
     ]
    }
   ],
   "source": [
    "# GetGood\n",
    "\n",
    "params = {'id':1}\n",
    "\n",
    "r = requests.post(base_url + 'GetGood/', json = params)\n",
    "\n",
    "try:\n",
    "    io = StringIO(r.text)\n",
    "    result = json.load(io)\n",
    "    print(result)\n",
    "except:\n",
    "    print(r)"
   ]
  },
  {
   "cell_type": "code",
   "execution_count": 4,
   "metadata": {},
   "outputs": [
    {
     "name": "stdout",
     "output_type": "stream",
     "text": [
      "{'id': 1, 'officeId': 1, 'sessionId': 1, 'goodsIds': [1], 'datetime': '31.12.2018 12:00', 'adminId': 1, 'masterId': 4, 'clientId': 1, 'cashSum': None, 'cashlessSum': None, 'discountSum': None, 'adminBonusSum': None, 'totalRevenue': None, 'comment': None, 'masterBonusSum': None}\n"
     ]
    }
   ],
   "source": [
    "# GetGoodsOperation\n",
    "\n",
    "params = {'id':1}\n",
    "\n",
    "r = requests.post(base_url + 'GetGoodsOperation/', json = params)\n",
    "\n",
    "try:\n",
    "    io = StringIO(r.text)\n",
    "    result = json.load(io)\n",
    "    print(result)\n",
    "except:\n",
    "    print(r)"
   ]
  },
  {
   "cell_type": "code",
   "execution_count": null,
   "metadata": {
    "collapsed": true
   },
   "outputs": [],
   "source": [
    "# GetSpendTypes\n",
    "\n",
    "r = requests.post(base_url + 'GetSpendTypes/')\n",
    "\n",
    "try:\n",
    "    io = StringIO(r.text)\n",
    "    result = json.load(io)\n",
    "    print(result)\n",
    "except:\n",
    "    print(r)"
   ]
  },
  {
   "cell_type": "code",
   "execution_count": null,
   "metadata": {
    "collapsed": true
   },
   "outputs": [],
   "source": [
    "# GetSpendType\n",
    "\n",
    "params = {'id':1}\n",
    "\n",
    "r = requests.post(base_url + 'GetSpendType/', json = params)\n",
    "\n",
    "try:\n",
    "    io = StringIO(r.text)\n",
    "    result = json.load(io)\n",
    "    print(result)\n",
    "except:\n",
    "    print(r)"
   ]
  },
  {
   "cell_type": "code",
   "execution_count": 5,
   "metadata": {},
   "outputs": [
    {
     "name": "stdout",
     "output_type": "stream",
     "text": [
      "{'id': 1, 'officeId': 1, 'sessionId': 1, 'expenseTypeId': 1, 'datetime': '30.12.2018 09:00', 'sum': 5000.0, 'cashSum': 1000.0, 'cashlessSum': 4000, 'comment': None}\n"
     ]
    }
   ],
   "source": [
    "# GetSpendOperation\n",
    "\n",
    "params = {'id':1}\n",
    "\n",
    "r = requests.post(base_url + 'GetSpendOperation/', json = params)\n",
    "\n",
    "try:\n",
    "    io = StringIO(r.text)\n",
    "    result = json.load(io)\n",
    "    print(result)\n",
    "except:\n",
    "    print(r)"
   ]
  },
  {
   "cell_type": "code",
   "execution_count": null,
   "metadata": {
    "collapsed": true
   },
   "outputs": [],
   "source": [
    "# GetEmployeePaymentTypes\n",
    "\n",
    "r = requests.post(base_url + 'GetEmployeePaymentTypes/')\n",
    "\n",
    "try:\n",
    "    io = StringIO(r.text)\n",
    "    result = json.load(io)\n",
    "    print(result)\n",
    "except:\n",
    "    print(r)"
   ]
  },
  {
   "cell_type": "code",
   "execution_count": null,
   "metadata": {
    "collapsed": true
   },
   "outputs": [],
   "source": [
    "# GetEmployeePaymentType\n",
    "\n",
    "params = {'id':1}\n",
    "\n",
    "r = requests.post(base_url + 'GetEmployeePaymentType/', json = params)\n",
    "\n",
    "try:\n",
    "    io = StringIO(r.text)\n",
    "    result = json.load(io)\n",
    "    print(result)\n",
    "except:\n",
    "    print(r)"
   ]
  },
  {
   "cell_type": "code",
   "execution_count": 6,
   "metadata": {},
   "outputs": [
    {
     "name": "stdout",
     "output_type": "stream",
     "text": [
      "{'id': 1, 'officeId': 1, 'sessionId': 1, 'employeeId': 3, 'datetime': '30.12.2018 09:00', 'sum': 1000.0, 'cashSum': None, 'cashlessSum': None, 'comment': None, 'employeePaymentTypeId': 1}\n"
     ]
    }
   ],
   "source": [
    "# GetEmployeePaymentOperation\n",
    "\n",
    "params = {'id':1}\n",
    "\n",
    "r = requests.post(base_url + 'GetEmployeePaymentOperation/', json = params)\n",
    "\n",
    "try:\n",
    "    io = StringIO(r.text)\n",
    "    result = json.load(io)\n",
    "    print(result)\n",
    "except:\n",
    "    print(r)"
   ]
  },
  {
   "cell_type": "code",
   "execution_count": 10,
   "metadata": {},
   "outputs": [
    {
     "name": "stdout",
     "output_type": "stream",
     "text": [
      "{'id': 3, 'name': 'Клиентов Клиент Клиентович Старший', 'contacts': [{'type': 'phone', 'value': '+1111'}], 'comment': None, 'photo': None, 'Operations': None}\n"
     ]
    }
   ],
   "source": [
    "# GetClient\n",
    "\n",
    "params = {'id':3}\n",
    "\n",
    "r = requests.post(base_url + 'GetClient/', json = params)\n",
    "\n",
    "try:\n",
    "    io = StringIO(r.text)\n",
    "    result = json.load(io)\n",
    "    print(result)\n",
    "except:\n",
    "    print(r)"
   ]
  },
  {
   "cell_type": "code",
   "execution_count": null,
   "metadata": {
    "collapsed": true
   },
   "outputs": [],
   "source": [
    "# GetClients\n",
    "\n",
    "params = {'q':'кли'}\n",
    "\n",
    "r = requests.post(base_url + 'GetClients/', json = params)\n",
    "\n",
    "try:\n",
    "    io = StringIO(r.text)\n",
    "    result = json.load(io)\n",
    "    print(result)\n",
    "except:\n",
    "    print(r)"
   ]
  },
  {
   "cell_type": "code",
   "execution_count": null,
   "metadata": {
    "collapsed": true
   },
   "outputs": [],
   "source": [
    "# GenerateEmployeeReport\n",
    "\n",
    "params = {'period':'01.12.2018',\n",
    "         'groupingtype':'office'}\n",
    "\n",
    "r = requests.post(base_url + 'GenerateEmployeeReport/', json = params)\n",
    "\n",
    "try:\n",
    "    io = StringIO(r.text)\n",
    "    result = json.load(io)\n",
    "    print(result)\n",
    "except:\n",
    "    print(r)"
   ]
  },
  {
   "cell_type": "code",
   "execution_count": null,
   "metadata": {
    "collapsed": true
   },
   "outputs": [],
   "source": [
    "# GenerateClientReport\n",
    "\n",
    "params = {'period':'01.12.2018',\n",
    "         'groupingtype':'office'}\n",
    "\n",
    "r = requests.post(base_url + 'GenerateClientReport/', json = params)\n",
    "\n",
    "try:\n",
    "    io = StringIO(r.text)\n",
    "    result = json.load(io)\n",
    "    print(result)\n",
    "except:\n",
    "    print(r)"
   ]
  },
  {
   "cell_type": "code",
   "execution_count": null,
   "metadata": {
    "collapsed": true
   },
   "outputs": [],
   "source": [
    "# GenerateFinanceReport\n",
    "\n",
    "params = {'period':'01.12.2018',\n",
    "         'groupingtype':'all'}\n",
    "\n",
    "r = requests.post(base_url + 'GenerateFinanceReport/', json = params)\n",
    "\n",
    "try:\n",
    "    io = StringIO(r.text)\n",
    "    result = json.load(io)\n",
    "    print(result)\n",
    "except:\n",
    "    print(r)"
   ]
  },
  {
   "cell_type": "code",
   "execution_count": null,
   "metadata": {
    "collapsed": true
   },
   "outputs": [],
   "source": [
    "# EditOffice\n",
    "\n",
    "params = { 'id':3,\n",
    "'name':'Токио',\n",
    "'city':'Токио',\n",
    "'address':'г. Токио, ул. Демонстрации, 51',\n",
    "'coordinatex':0.2,\n",
    "'coordinatey':0.2,\n",
    "'state':'open'}\n",
    "\n",
    "r = requests.post(base_url + 'EditOffice/', json = params)\n",
    "\n",
    "try:\n",
    "    io = StringIO(r.text)\n",
    "    result = json.load(io)\n",
    "    print(result)\n",
    "except:\n",
    "    print(r)"
   ]
  },
  {
   "cell_type": "code",
   "execution_count": null,
   "metadata": {
    "collapsed": true
   },
   "outputs": [],
   "source": [
    "# EditSession\n",
    "\n",
    "params = {\"id\":2,\"dateOpened\":\"2019-10-20\",\"dateClosed\":\"2019-10-20\",\"employees\":[{\"id\":1,\"role\":\"officeAdmin\",\"workHours\":6},{\"id\":4,\"role\":\"master\",\"workHours\":6}],\"officeId\":2,\"state\":\"closed\",\"openCash\":0}\n",
    "\n",
    "r = requests.post(base_url + 'EditSession/', json = params)\n",
    "\n",
    "try:\n",
    "    io = StringIO(r.text)\n",
    "    result = json.load(io)\n",
    "    print(result)\n",
    "except:\n",
    "    print(r)"
   ]
  },
  {
   "cell_type": "code",
   "execution_count": 13,
   "metadata": {},
   "outputs": [
    {
     "name": "stdout",
     "output_type": "stream",
     "text": [
      "{'id': 12}\n"
     ]
    }
   ],
   "source": [
    "# EditClient\n",
    "\n",
    "params = {\"id\":None,\"name\":\"Олег\",\"contacts\":[{\"type\":\"phone\",\"value\":\"123\"}]}\n",
    "r = requests.post(base_url + 'EditClient/', json = params)\n",
    "\n",
    "try:\n",
    "    io = StringIO(r.text)\n",
    "    result = json.load(io)\n",
    "    print(result)\n",
    "except:\n",
    "    print(r)"
   ]
  },
  {
   "cell_type": "code",
   "execution_count": null,
   "metadata": {
    "collapsed": true
   },
   "outputs": [],
   "source": [
    "# EditOperations\n",
    "params = [\n",
    "    {\n",
    "        \"id\":'null',\n",
    "        \"operationType\": 'serviceoperation',\n",
    "        \"officeId\": 3,\n",
    "        \"sessionId\": 3,\n",
    "        \"serviceId\": 3,\n",
    "        \"startDatetime\": '11.10.2019 11:11',\n",
    "        \"finishDatetime\": '11.10.2019 12:11',\n",
    "        \"adminId\": 2,\n",
    "        \"masterId\": 3,\n",
    "        \"clientId\": 2,\n",
    "        \"cashSum\": 100,\n",
    "        \"cashlessSum\": 100,\n",
    "        \"discountSum\": 100,\n",
    "        \"clientRating\": 10,\n",
    "        \"review\": 'Отзыв клиента',\n",
    "        \"comment\": 'Комментарий'\n",
    "    },\n",
    "    {\n",
    "        \"id\":'null',\n",
    "        \"operationType\": 'goodsoperation',\n",
    "        \"officeId\": 3,\n",
    "        \"sessionId\": 3,\n",
    "        \"goodsIds\": [1,2,3],\n",
    "        \"datetime\": '11.10.2019 12:11',\n",
    "        \"adminId\": 1,\n",
    "        \"masterId\": 4,\n",
    "        \"clientId\": 1,\n",
    "        \"cashSum\": 100,\n",
    "        \"cashlessSum\": 100,\n",
    "        \"discountSum\": 100,\n",
    "        \"comment\": 'Комментарий'\n",
    "    },\n",
    "    {\n",
    "        \"id\":'null',\n",
    "        \"operationType\": 'spendoperation',\n",
    "        \"officeId\": 3,\n",
    "        \"sessionId\": 3,\n",
    "        \"expenseTypeId\": 3,\n",
    "        \"datetime\": '11.10.2019 12:11',\n",
    "        \"sum\": 500,\n",
    "        \"comment\": 'Комментарий'\n",
    "    },\n",
    "    {\n",
    "        \"id\":'null',\n",
    "        \"operationType\": 'employeePayment',\n",
    "        \"officeId\": 3,\n",
    "        \"sessionId\": 3,\n",
    "        \"employeeId\": 3,\n",
    "        \"employeePaymentTypeId\": 1,\n",
    "        \"datetime\": '11.10.2019 12:11',\n",
    "        \"sum\": 1000,\n",
    "        \"comment\": 'Комментарий'\n",
    "    }\n",
    "]\n",
    "\n",
    "r = requests.post(base_url + 'EditOperations/', json = params)\n",
    "\n",
    "try:\n",
    "    io = StringIO(r.text)\n",
    "    result = json.load(io)\n",
    "    print(result)\n",
    "except:\n",
    "    print(r)"
   ]
  },
  {
   "cell_type": "code",
   "execution_count": null,
   "metadata": {
    "collapsed": true
   },
   "outputs": [],
   "source": [
    "# EditEmployee\n",
    "params = {\"id\":1,\n",
    "          \"name\":\"Иванов Диего Михайлович\",\n",
    "          \"roles\":[\"officeAdmin\"],\n",
    "          \"salary\":100000,\n",
    "          \"servicePercent\":0.1,\n",
    "          \"goodsPercent\":0.1,\n",
    "          \"categoryId\":2,\n",
    "          \"state\":\"active\",\n",
    "          \"clientRating\":None,\n",
    "          \"controlRating\":None,\n",
    "          \"login\":\"login\",\n",
    "          \"password\":\"password\",\n",
    "          \"contacts\":None,\n",
    "          \"photo\":None}\n",
    "\n",
    "r = requests.post(base_url + 'EditEmployee/', json = params)\n",
    "\n",
    "try:\n",
    "    io = StringIO(r.text)\n",
    "    result = json.load(io)\n",
    "    print(result)\n",
    "except:\n",
    "    print(r)"
   ]
  },
  {
   "cell_type": "code",
   "execution_count": null,
   "metadata": {
    "collapsed": true
   },
   "outputs": [],
   "source": [
    "# EditBarberCategory\n",
    "params = { 'id':1,\n",
    "'name':'Иисус-мастер',\n",
    "'state':'active'}\n",
    "\n",
    "r = requests.post(base_url + 'EditBarberCategory/', json = params)\n",
    "\n",
    "try:\n",
    "    io = StringIO(r.text)\n",
    "    result = json.load(io)\n",
    "    print(result)\n",
    "except:\n",
    "    print(r)"
   ]
  },
  {
   "cell_type": "code",
   "execution_count": null,
   "metadata": {
    "collapsed": true
   },
   "outputs": [],
   "source": [
    "# EditEmployeePaymentType\n",
    "params = { 'id':3,\n",
    "'name':'Похвала красаве',\n",
    "'defaultSum':500000,\n",
    "'state':'active'}\n",
    "\n",
    "r = requests.post(base_url + 'EditEmployeePaymentType/', json = params)\n",
    "\n",
    "try:\n",
    "    io = StringIO(r.text)\n",
    "    result = json.load(io)\n",
    "    print(result)\n",
    "except:\n",
    "    print(r)"
   ]
  },
  {
   "cell_type": "code",
   "execution_count": null,
   "metadata": {
    "collapsed": true
   },
   "outputs": [],
   "source": [
    "# EditGood\n",
    "params = [{ 'id':'null',\n",
    "'name':'Еще шампунь',\n",
    "'price':1500.00,\n",
    "'state':'active'},\n",
    "{ 'id':'null',\n",
    "'name':'Еще Кока-кола',\n",
    "'price':1000.00,\n",
    "'state':'active'}]\n",
    "\n",
    "r = requests.post(base_url + 'EditGood/', json = params)\n",
    "\n",
    "try:\n",
    "    io = StringIO(r.text)\n",
    "    result = json.load(io)\n",
    "    print(result)\n",
    "except:\n",
    "    print(r)"
   ]
  },
  {
   "cell_type": "code",
   "execution_count": null,
   "metadata": {
    "collapsed": true
   },
   "outputs": [],
   "source": [
    "# EditService\n",
    "params = { 'id':'null',\n",
    "'name':'Стрижка для цисгендера',\n",
    "'prices': [{'category':1,'price':5000.00},{'category':2,'price':6000.00},{'category':3,'price':7000.00},{'category':4,'price':8000.00}],\n",
    "'state':'active'}\n",
    "\n",
    "r = requests.post(base_url + 'EditService/', json = params)\n",
    "\n",
    "try:\n",
    "    io = StringIO(r.text)\n",
    "    result = json.load(io)\n",
    "    print(result)\n",
    "except:\n",
    "    print(r)"
   ]
  },
  {
   "cell_type": "code",
   "execution_count": 2,
   "metadata": {},
   "outputs": [
    {
     "name": "stdout",
     "output_type": "stream",
     "text": [
      "{'id': 1, 'name': 'Стрижка мужская', 'state': 'active', 'prices': [{'price': '1000', 'category': 1}, {'price': '1000', 'category': 2}, {'price': '30000', 'category': 3}]}\n"
     ]
    }
   ],
   "source": [
    "# GetService\n",
    "\n",
    "params = {'id': 1}\n",
    "\n",
    "r = requests.post(base_url + 'GetService/', json = params)\n",
    "\n",
    "try:\n",
    "    io = StringIO(r.text)\n",
    "    result = json.load(io)\n",
    "    print(result)\n",
    "except:\n",
    "    print(r)"
   ]
  },
  {
   "cell_type": "code",
   "execution_count": null,
   "metadata": {
    "collapsed": true
   },
   "outputs": [],
   "source": [
    "# EditSpendType\n",
    "\n",
    "params = { 'id':4,\n",
    "'name':'Сигареты админу',\n",
    "'defaultSum':500000,\n",
    "'state':'active'}\n",
    "\n",
    "\n",
    "r = requests.post(base_url + 'EditSpendType/', json = params)\n",
    "\n",
    "try:\n",
    "    io = StringIO(r.text)\n",
    "    result = json.load(io)\n",
    "    print(result)\n",
    "except:\n",
    "    display(HTML(r.text))"
   ]
  }
 ],
 "metadata": {
  "kernelspec": {
   "display_name": "Python 3",
   "language": "python",
   "name": "python3"
  },
  "language_info": {
   "codemirror_mode": {
    "name": "ipython",
    "version": 3
   },
   "file_extension": ".py",
   "mimetype": "text/x-python",
   "name": "python",
   "nbconvert_exporter": "python",
   "pygments_lexer": "ipython3",
   "version": "3.6.8"
  }
 },
 "nbformat": 4,
 "nbformat_minor": 2
}
