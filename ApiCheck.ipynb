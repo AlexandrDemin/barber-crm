{
 "cells": [
  {
   "cell_type": "code",
   "execution_count": 2,
<<<<<<< HEAD
   "metadata": {},
=======
   "metadata": {
    "collapsed": true
   },
>>>>>>> a1ef52758dcff411172801ad47ff6af4482b5fb3
   "outputs": [],
   "source": [
    "import requests\n",
    "import json\n",
    "from io import StringIO\n",
    "from flask import Flask\n",
    "from flask import request\n",
    "import requests\n",
    "import json\n",
    "from io import StringIO\n",
    "import psycopg2\n",
    "from psycopg2.extras import RealDictCursor\n",
    "from werkzeug.wrappers import Request, Response\n",
    "from IPython.core.display import display, HTML\n",
    "\n",
    "base_url = 'http://localhost:5000/api/'"
   ]
  },
  {
   "cell_type": "code",
   "execution_count": null,
   "metadata": {
    "collapsed": true
   },
   "outputs": [],
   "source": [
    "# GetClients\n",
    "params = {'q':''}\n",
    "\n",
    "r = requests.post(base_url + 'GetClients/', json = params)\n",
    "\n",
    "try:\n",
    "    io = StringIO(r.text)\n",
    "    result = json.load(io)\n",
    "    print(result)\n",
    "except:\n",
    "    print(r)"
   ]
  },
  {
   "cell_type": "code",
   "execution_count": null,
   "metadata": {
    "collapsed": true
   },
   "outputs": [],
   "source": [
    "# GetUserData\n",
    "params = {'login':'login'}\n",
    "\n",
    "r = requests.post(base_url + 'GetUserData/', json = params)\n",
    "\n",
    "try:\n",
    "    io = StringIO(r.text)\n",
    "    result = json.load(io)\n",
    "    print(result)\n",
    "except:\n",
    "    print(r)"
   ]
  },
  {
   "cell_type": "code",
   "execution_count": null,
   "metadata": {
    "collapsed": true
   },
   "outputs": [],
   "source": [
    "# GetEmployees\n",
    "\n",
    "r = requests.post(base_url + 'GetEmployees/')\n",
    "\n",
    "try:\n",
    "    io = StringIO(r.text)\n",
    "    result = json.load(io)\n",
    "    print(result)\n",
    "except:\n",
    "    print(r)"
   ]
  },
  {
   "cell_type": "code",
   "execution_count": null,
   "metadata": {
    "collapsed": true
   },
   "outputs": [],
   "source": [
    "# GetEmployee\n",
    "\n",
    "params = {'id':1}\n",
    "\n",
    "r = requests.post(base_url + 'GetEmployee/', json = params)\n",
    "\n",
    "try:\n",
    "    io = StringIO(r.text)\n",
    "    result = json.load(io)\n",
    "    print(result)\n",
    "except:\n",
    "    print(r)"
   ]
  },
  {
   "cell_type": "code",
   "execution_count": null,
   "metadata": {
    "collapsed": true
   },
   "outputs": [],
   "source": [
    "# GetAdmins\n",
    "\n",
    "r = requests.post(base_url + 'GetAdmins/')\n",
    "\n",
    "try:\n",
    "    io = StringIO(r.text)\n",
    "    result = json.load(io)\n",
    "    print(result)\n",
    "except:\n",
    "    print(r)"
   ]
  },
  {
   "cell_type": "code",
   "execution_count": null,
   "metadata": {
    "collapsed": true
   },
   "outputs": [],
   "source": [
    "# GetMasters\n",
    "\n",
    "r = requests.post(base_url + 'GetMasters/')\n",
    "\n",
    "try:\n",
    "    io = StringIO(r.text)\n",
    "    result = json.load(io)\n",
    "    print(result)\n",
    "except:\n",
    "    print(r)"
   ]
  },
  {
   "cell_type": "code",
   "execution_count": null,
   "metadata": {
    "collapsed": true
   },
   "outputs": [],
   "source": [
    "# GetBarberCategories\n",
    "\n",
    "r = requests.post(base_url + 'GetBarberCategories/')\n",
    "\n",
    "try:\n",
    "    io = StringIO(r.text)\n",
    "    result = json.load(io)\n",
    "    print(result)\n",
    "except:\n",
    "    print(r)"
   ]
  },
  {
   "cell_type": "code",
   "execution_count": null,
   "metadata": {
    "collapsed": true
   },
   "outputs": [],
   "source": [
    "# GetBarberCategory\n",
    "\n",
    "params = {'id':1}\n",
    "\n",
    "r = requests.post(base_url + 'GetBarberCategory/', json = params)\n",
    "\n",
    "try:\n",
    "    io = StringIO(r.text)\n",
    "    result = json.load(io)\n",
    "    print(result)\n",
    "except:\n",
    "    print(r)"
   ]
  },
  {
   "cell_type": "code",
   "execution_count": null,
   "metadata": {
    "collapsed": true
   },
   "outputs": [],
   "source": [
    "# GetOffices\n",
    "\n",
    "r = requests.post(base_url + 'GetOffices/')\n",
    "\n",
    "try:\n",
    "    io = StringIO(r.text)\n",
    "    result = json.load(io)\n",
    "    print(result)\n",
    "except:\n",
    "    print(r)"
   ]
  },
  {
   "cell_type": "code",
   "execution_count": null,
   "metadata": {
    "collapsed": true
   },
   "outputs": [],
   "source": [
    "# GetOffice\n",
    "\n",
    "params = {'id':1}\n",
    "\n",
    "r = requests.post(base_url + 'GetOffice/', json = params)\n",
    "\n",
    "try:\n",
    "    io = StringIO(r.text)\n",
    "    result = json.load(io)\n",
    "    print(result)\n",
    "except:\n",
    "    print(r)"
   ]
  },
  {
   "cell_type": "code",
   "execution_count": null,
   "metadata": {
    "collapsed": true
   },
   "outputs": [],
   "source": [
    "# GetCurrentSession\n",
    "\n",
    "params = {'officeId':3, \"withOperations\": True}\n",
    "\n",
    "r = requests.post(base_url + 'GetCurrentSession/', json = params)\n",
    "\n",
    "try:\n",
    "    io = StringIO(r.text)\n",
    "    result = json.load(io)\n",
    "    print(result)\n",
    "except:\n",
    "    display(HTML(r.text))"
   ]
  },
  {
   "cell_type": "code",
   "execution_count": null,
   "metadata": {
    "collapsed": true
   },
   "outputs": [],
   "source": [
    "# GetSession\n",
    "\n",
    "params = {'id':3,\n",
    "          \"withOperations\": True\n",
    "         }\n",
    "\n",
    "r = requests.post(base_url + 'GetSession/', json = params)\n",
    "\n",
    "try:\n",
    "    io = StringIO(r.text)\n",
    "    result = json.load(io)\n",
    "    print(result)\n",
    "except:\n",
    "    print(r)"
   ]
  },
  {
   "cell_type": "code",
   "execution_count": 6,
   "metadata": {
    "scrolled": true
   },
   "outputs": [
    {
     "name": "stdout",
     "output_type": "stream",
     "text": [
      "[{'id': 4, 'dateOpened': '11.10.2019 09:00', 'dateClosed': '11.10.2019 23:00', 'employees': [{'userId': 3, 'starttime': '10:00', 'endtime': '18:00'}, {'userId': 4, 'starttime': '14:00', 'endtime': '22:00'}, {'userId': 1, 'starttime': '09:00', 'endtime': '23:00'}], 'officeId': 1, 'state': 'closed'}, {'id': 17, 'dateOpened': '30.10.2019 20:32', 'dateClosed': '30.10.2019 22:57', 'employees': [{'id': 7, 'role': 'officeAdmin', 'workHours': 6}, {'id': 4, 'role': 'master', 'workHours': 6}, {'id': 3, 'role': 'master', 'workHours': 6}], 'officeId': 2, 'state': 'closed'}, {'id': 18, 'dateOpened': '30.10.2019 22:59', 'dateClosed': '30.10.2019 23:06', 'employees': [{'id': 7, 'role': 'officeAdmin', 'workHours': 6}, {'id': 4, 'role': 'master', 'workHours': 6}], 'officeId': 3, 'state': 'closed'}, {'id': 3, 'dateOpened': '29.09.2019 10:10', 'dateClosed': '20.10.2019 20:15', 'employees': [{'id': 1, 'role': 'officeAdmin', 'workHours': 6}, {'id': 4, 'role': 'master', 'workHours': 6}], 'officeId': 1, 'state': 'closed'}, {'id': 2, 'dateOpened': '20.10.2019 00:00', 'dateClosed': '20.10.2019 00:00', 'employees': [{'id': 1, 'role': 'officeAdmin', 'workHours': 6}, {'id': 4, 'role': 'master', 'workHours': 6}], 'officeId': 2, 'state': 'closed'}, {'id': 19, 'dateOpened': '30.10.2019 23:08', 'dateClosed': '30.10.2019 23:08', 'employees': [{'id': 7, 'role': 'officeAdmin', 'workHours': 6}, {'id': 4, 'role': 'master', 'workHours': 6}], 'officeId': 3, 'state': 'closed'}, {'id': 8, 'dateOpened': '22.10.2019 14:26', 'dateClosed': '22.10.2019 21:15', 'employees': [{'id': 6, 'role': 'officeAdmin', 'workHours': 6}, {'id': 4, 'role': 'master', 'workHours': 6}, {'id': 6, 'role': 'officeAdmin', 'workHours': 6}], 'officeId': 3, 'state': 'closed'}, {'id': 9, 'dateOpened': '22.10.2019 18:25', 'dateClosed': '22.10.2019 21:28', 'employees': [{'id': 6, 'role': 'officeAdmin', 'workHours': 6}, {'id': 4, 'role': 'master', 'workHours': 6}], 'officeId': 3, 'state': 'closed'}, {'id': 6, 'dateOpened': '20.10.2019 17:22', 'dateClosed': '22.10.2019 21:34', 'employees': [{'id': 1, 'role': 'officeAdmin', 'workHours': 6}, {'id': 4, 'role': 'master', 'workHours': 6}], 'officeId': 2, 'state': 'closed'}, {'id': 7, 'dateOpened': '20.10.2019 14:25', 'dateClosed': '22.10.2019 22:02', 'employees': [{'id': 6, 'role': 'officeAdmin', 'workHours': 6}, {'id': 4, 'role': 'master', 'workHours': 6}], 'officeId': 2, 'state': 'closed'}, {'id': 10, 'dateOpened': '23.10.2019 18:12', 'dateClosed': '23.10.2019 22:15', 'employees': [{'id': 6, 'role': 'officeAdmin', 'workHours': 6}, {'id': 4, 'role': 'master', 'workHours': 6}], 'officeId': 3, 'state': 'closed'}, {'id': 11, 'dateOpened': '24.10.2019 18:28', 'dateClosed': '24.10.2019 22:01', 'employees': [{'id': 6, 'role': 'officeAdmin', 'workHours': 6}, {'id': 4, 'role': 'master', 'workHours': 6}], 'officeId': 1, 'state': 'closed'}, {'id': 12, 'dateOpened': '26.10.2019 17:52', 'dateClosed': '26.10.2019 22:40', 'employees': [{'id': 6, 'role': 'officeAdmin', 'workHours': 6}, {'id': 4, 'role': 'master', 'workHours': 6}], 'officeId': 3, 'state': 'closed'}, {'id': 13, 'dateOpened': '27.10.2019 07:34', 'dateClosed': '27.10.2019 22:49', 'employees': [{'id': 6, 'role': 'officeAdmin', 'workHours': 6}, {'id': 4, 'role': 'master', 'workHours': 6}], 'officeId': 3, 'state': 'closed'}, {'id': 14, 'dateOpened': '28.10.2019 20:45', 'dateClosed': '28.10.2019 23:31', 'employees': [{'id': 5, 'role': 'officeAdmin', 'workHours': 6}, {'id': 3, 'role': 'master', 'workHours': 6}], 'officeId': 3, 'state': 'closed'}, {'id': 20, 'dateOpened': '02.11.2019 09:46', 'dateClosed': '02.11.2019 09:48', 'employees': [{'id': 7, 'role': 'officeAdmin', 'workHours': 6}, {'id': 4, 'role': 'master', 'workHours': 6}], 'officeId': 2, 'state': 'closed'}, {'id': 1, 'dateOpened': '30.12.2018 09:00', 'dateClosed': '29.10.2019 14:16', 'employees': [{'userId': 3, 'starttime': '10:00', 'endtime': '18:00'}, {'userId': 4, 'starttime': '14:00', 'endtime': '22:00'}, {'userId': 1, 'starttime': '09:00', 'endtime': '23:00'}], 'officeId': 1, 'state': 'closed'}, {'id': 15, 'dateOpened': '29.10.2019 20:39', 'dateClosed': '29.10.2019 23:15', 'employees': [{'id': 5, 'role': 'officeAdmin', 'workHours': 6}, {'id': 3, 'role': 'master', 'workHours': 6}], 'officeId': 1, 'state': 'closed'}, {'id': 16, 'dateOpened': '29.10.2019 23:21', 'dateClosed': '29.10.2019 23:21', 'employees': [{'id': 7, 'role': 'officeAdmin', 'workHours': 6}, {'id': 4, 'role': 'master', 'workHours': 6}], 'officeId': 3, 'state': 'closed'}, {'id': 21, 'dateOpened': '02.11.2019 11:40', 'dateClosed': '02.11.2019 11:41', 'employees': [{'id': 4, 'role': 'master', 'workHours': 6}, {'id': 7, 'role': 'officeAdmin', 'workHours': 6}], 'officeId': 2, 'state': 'closed'}, {'id': 23, 'dateOpened': '02.11.2019 23:27', 'dateClosed': '03.11.2019 16:16', 'employees': [{'id': 5, 'role': 'officeAdmin', 'workHours': 6}, {'id': 4, 'role': 'master', 'workHours': 6}], 'officeId': 2, 'state': 'closed'}, {'id': 22, 'dateOpened': '02.11.2019 13:56', 'dateClosed': '04.11.2019 11:08', 'employees': [{'id': 5, 'role': 'officeAdmin', 'workHours': 6}, {'id': 4, 'role': 'master', 'workHours': 6}, {'id': 3, 'role': 'master', 'workHours': 6}], 'officeId': 3, 'state': 'closed'}]\n"
     ]
    }
   ],
   "source": [
    "# GetSessions\n",
    "\n",
    "params = {\n",
    "    \"dateFrom\": '01.01.2018',\n",
    "    \"dateTo\": '04.11.2019',\n",
    "    \"withOPerations\": False\n",
    "}\n",
    "\n",
    "r = requests.post(base_url + 'GetSessions/', json = params)\n",
    "\n",
    "try:\n",
    "    io = StringIO(r.text)\n",
    "    result = json.load(io)\n",
    "    print(result)\n",
    "except:\n",
    "    display(HTML(r.text))"
   ]
  },
  {
   "cell_type": "code",
   "execution_count": null,
   "metadata": {
    "collapsed": true
   },
   "outputs": [],
   "source": [
    "# GetServicesPrices\n",
    "\n",
    "r = requests.post(base_url + 'GetServicesPrices/')\n",
    "\n",
    "try:\n",
    "    io = StringIO(r.text)\n",
    "    result = json.load(io)\n",
    "    print(result)\n",
    "except:\n",
    "    print(r)"
   ]
  },
  {
   "cell_type": "code",
   "execution_count": null,
   "metadata": {
    "collapsed": true
   },
   "outputs": [],
   "source": [
    "# GetServiceOperation\n",
    "\n",
    "params = {'id':1}\n",
    "\n",
    "r = requests.post(base_url + 'GetServiceOperation/', json = params)\n",
    "\n",
    "try:\n",
    "    io = StringIO(r.text)\n",
    "    result = json.load(io)\n",
    "    print(result)\n",
    "except:\n",
    "    print(r)"
   ]
  },
  {
   "cell_type": "code",
   "execution_count": null,
   "metadata": {
    "collapsed": true
   },
   "outputs": [],
   "source": [
    "# GetGoods\n",
    "\n",
    "r = requests.post(base_url + 'GetGoods/')\n",
    "\n",
    "try:\n",
    "    io = StringIO(r.text)\n",
    "    result = json.load(io)\n",
    "    print(result)\n",
    "except:\n",
    "    print(r)"
   ]
  },
  {
   "cell_type": "code",
   "execution_count": null,
   "metadata": {
    "collapsed": true
   },
   "outputs": [],
   "source": [
    "# GetGood\n",
    "\n",
    "params = {'id':1}\n",
    "\n",
    "r = requests.post(base_url + 'GetGood/', json = params)\n",
    "\n",
    "try:\n",
    "    io = StringIO(r.text)\n",
    "    result = json.load(io)\n",
    "    print(result)\n",
    "except:\n",
    "    print(r)"
   ]
  },
  {
   "cell_type": "code",
   "execution_count": null,
   "metadata": {
    "collapsed": true
   },
   "outputs": [],
   "source": [
    "# GetGoodsOperation\n",
    "\n",
    "params = {'id':1}\n",
    "\n",
    "r = requests.post(base_url + 'GetGoodsOperation/', json = params)\n",
    "\n",
    "try:\n",
    "    io = StringIO(r.text)\n",
    "    result = json.load(io)\n",
    "    print(result)\n",
    "except:\n",
    "    print(r)"
   ]
  },
  {
   "cell_type": "code",
   "execution_count": null,
   "metadata": {
    "collapsed": true
   },
   "outputs": [],
   "source": [
    "# GetSpendTypes\n",
    "\n",
    "r = requests.post(base_url + 'GetSpendTypes/')\n",
    "\n",
    "try:\n",
    "    io = StringIO(r.text)\n",
    "    result = json.load(io)\n",
    "    print(result)\n",
    "except:\n",
    "    print(r)"
   ]
  },
  {
   "cell_type": "code",
   "execution_count": null,
   "metadata": {
    "collapsed": true
   },
   "outputs": [],
   "source": [
    "# GetSpendType\n",
    "\n",
    "params = {'id':1}\n",
    "\n",
    "r = requests.post(base_url + 'GetSpendType/', json = params)\n",
    "\n",
    "try:\n",
    "    io = StringIO(r.text)\n",
    "    result = json.load(io)\n",
    "    print(result)\n",
    "except:\n",
    "    print(r)"
   ]
  },
  {
   "cell_type": "code",
   "execution_count": null,
   "metadata": {
    "collapsed": true
   },
   "outputs": [],
   "source": [
    "# GetSpendOperation\n",
    "\n",
    "params = {'id':1}\n",
    "\n",
    "r = requests.post(base_url + 'GetSpendOperation/', json = params)\n",
    "\n",
    "try:\n",
    "    io = StringIO(r.text)\n",
    "    result = json.load(io)\n",
    "    print(result)\n",
    "except:\n",
    "    print(r)"
   ]
  },
  {
   "cell_type": "code",
   "execution_count": null,
   "metadata": {
    "collapsed": true
   },
   "outputs": [],
   "source": [
    "# GetEmployeePaymentTypes\n",
    "\n",
    "r = requests.post(base_url + 'GetEmployeePaymentTypes/')\n",
    "\n",
    "try:\n",
    "    io = StringIO(r.text)\n",
    "    result = json.load(io)\n",
    "    print(result)\n",
    "except:\n",
    "    print(r)"
   ]
  },
  {
   "cell_type": "code",
   "execution_count": null,
   "metadata": {
    "collapsed": true
   },
   "outputs": [],
   "source": [
    "# GetEmployeePaymentType\n",
    "\n",
    "params = {'id':1}\n",
    "\n",
    "r = requests.post(base_url + 'GetEmployeePaymentType/', json = params)\n",
    "\n",
    "try:\n",
    "    io = StringIO(r.text)\n",
    "    result = json.load(io)\n",
    "    print(result)\n",
    "except:\n",
    "    print(r)"
   ]
  },
  {
   "cell_type": "code",
   "execution_count": null,
   "metadata": {
    "collapsed": true
   },
   "outputs": [],
   "source": [
    "# GetEmployeePaymentOperation\n",
    "\n",
    "params = {'id':1}\n",
    "\n",
    "r = requests.post(base_url + 'GetEmployeePaymentOperation/', json = params)\n",
    "\n",
    "try:\n",
    "    io = StringIO(r.text)\n",
    "    result = json.load(io)\n",
    "    print(result)\n",
    "except:\n",
    "    print(r)"
   ]
  },
  {
   "cell_type": "code",
   "execution_count": null,
   "metadata": {
    "collapsed": true
   },
   "outputs": [],
   "source": [
    "# GetClient\n",
    "\n",
    "params = {'id':3}\n",
    "\n",
    "r = requests.post(base_url + 'GetClient/', json = params)\n",
    "\n",
    "try:\n",
    "    io = StringIO(r.text)\n",
    "    result = json.load(io)\n",
    "    print(result)\n",
    "except:\n",
    "    print(r)"
   ]
  },
  {
   "cell_type": "code",
   "execution_count": null,
   "metadata": {
    "collapsed": true
   },
   "outputs": [],
   "source": [
    "# GetClients\n",
    "\n",
    "params = {'q':'кли'}\n",
    "\n",
    "r = requests.post(base_url + 'GetClients/', json = params)\n",
    "\n",
    "try:\n",
    "    io = StringIO(r.text)\n",
    "    result = json.load(io)\n",
    "    print(result)\n",
    "except:\n",
    "    print(r)"
   ]
  },
  {
   "cell_type": "code",
<<<<<<< HEAD
   "execution_count": 50,
   "metadata": {
    "scrolled": true
   },
   "outputs": [
    {
     "name": "stdout",
     "output_type": "stream",
     "text": [
      "{'summary': [{'totalsalary': 200000.0, 'totalpaidsalary': 750500.0, 'totalpenalty': 0.0, 'totalunpaidsalary': -550500.0, 'totalservicecount': 10, 'totalrepeatingvisitscount': 1, 'totalservicebonus': 240.0, 'totalgoodsbonus': 1423.46, 'totalpaidbonus': 2490.38, 'totalunpaidbonus': -826.92, 'total_time': 54, 'estimatedworkhours': 16, 'meanworkload': 3.375}], 'byOffices': [{'officeId': 3, 'totalsalary': 200000.0, 'totalpaidsalary': 750500.0, 'totalpenalty': 0.0, 'totalunpaidsalary': -550500.0, 'totalservicecount': 8, 'totalrepeatingvisitscount': 1, 'totalservicebonus': 0.0, 'totalgoodsbonus': 0.0, 'totalpaidbonus': 1690.38, 'totalunpaidbonus': -1690.38, 'total_time': 18, 'estimatedworkhours': 16, 'meanworkload': 1.125}, {'officeId': 2, 'totalsalary': 100000.0, 'totalpaidsalary': 0.0, 'totalpenalty': 0.0, 'totalunpaidsalary': 100000.0, 'totalservicecount': 2, 'totalrepeatingvisitscount': 1, 'totalservicebonus': 240.0, 'totalgoodsbonus': 1423.46, 'totalpaidbonus': 800.0, 'totalunpaidbonus': 863.46, 'total_time': 36, 'estimatedworkhours': 16, 'meanworkload': 2.25}], 'byEmployees': [{'employeeId': None, 'employeeName': None, 'totalsalary': 0.0, 'totalpaidsalary': 0.0, 'totalpenalty': 0.0, 'totalunpaidsalary': 0.0, 'totalservicecount': 0, 'totalrepeatingvisitscount': 0, 'totalservicebonus': 0.0, 'totalgoodsbonus': 0.0, 'totalpaidbonus': 0.0, 'totalunpaidbonus': 0.0, 'total_time': 0, 'estimatedworkhours': 16, 'meanworkload': 0.0}, {'employeeId': 5, 'employeeName': 'Администратор Администраторович Кусь', 'totalsalary': 100000.0, 'totalpaidsalary': 200500.0, 'totalpenalty': 0.0, 'totalunpaidsalary': -100500.0, 'totalservicecount': 0, 'totalrepeatingvisitscount': 0, 'totalservicebonus': 100.0, 'totalgoodsbonus': 696.73, 'totalpaidbonus': 1893.46, 'totalunpaidbonus': -1096.73, 'total_time': 12, 'estimatedworkhours': 16, 'meanworkload': 0.75}, {'employeeId': 4, 'employeeName': 'Барберов Бородач Ножницевич', 'totalsalary': 50000.0, 'totalpaidsalary': 100000.0, 'totalpenalty': 0.0, 'totalunpaidsalary': -50000.0, 'totalservicecount': 2, 'totalrepeatingvisitscount': 1, 'totalservicebonus': 120.0, 'totalgoodsbonus': 706.73, 'totalpaidbonus': 2566.92, 'totalunpaidbonus': -1740.19, 'total_time': 24, 'estimatedworkhours': 16, 'meanworkload': 1.5}, {'employeeId': 1, 'employeeName': 'Иванов Диего Михайлович', 'totalsalary': 100000.0, 'totalpaidsalary': 100000.0, 'totalpenalty': 0.0, 'totalunpaidsalary': 0.0, 'totalservicecount': 0, 'totalrepeatingvisitscount': 0, 'totalservicebonus': 0.0, 'totalgoodsbonus': 0.0, 'totalpaidbonus': -500.0, 'totalunpaidbonus': 500.0, 'total_time': 0, 'estimatedworkhours': 16, 'meanworkload': 0.0}, {'employeeId': 6, 'employeeName': 'Внеочередной Владимир Барбершопович', 'totalsalary': 100000.0, 'totalpaidsalary': 100000.0, 'totalpenalty': 0.0, 'totalunpaidsalary': 0.0, 'totalservicecount': 0, 'totalrepeatingvisitscount': 0, 'totalservicebonus': 0.0, 'totalgoodsbonus': 0.0, 'totalpaidbonus': -500.0, 'totalunpaidbonus': 500.0, 'total_time': 0, 'estimatedworkhours': 16, 'meanworkload': 0.0}, {'employeeId': 3, 'employeeName': 'Морковная Светлана Егоровна', 'totalsalary': 50000.0, 'totalpaidsalary': 50000.0, 'totalpenalty': 0.0, 'totalunpaidsalary': 0.0, 'totalservicecount': 8, 'totalrepeatingvisitscount': 1, 'totalservicebonus': 0.0, 'totalgoodsbonus': 0.0, 'totalpaidbonus': -500.0, 'totalunpaidbonus': 500.0, 'total_time': 6, 'estimatedworkhours': 16, 'meanworkload': 0.375}, {'employeeId': 7, 'employeeName': 'admin', 'totalsalary': 0.0, 'totalpaidsalary': 0.0, 'totalpenalty': 0.0, 'totalunpaidsalary': 0.0, 'totalservicecount': 0, 'totalrepeatingvisitscount': 0, 'totalservicebonus': 20.0, 'totalgoodsbonus': 20.0, 'totalpaidbonus': 30.0, 'totalunpaidbonus': 10.0, 'total_time': 12, 'estimatedworkhours': 16, 'meanworkload': 0.75}, {'employeeId': 2, 'employeeName': 'Парикмахеров Парикмахер Парикмахерович', 'totalsalary': 200000.0, 'totalpaidsalary': 200000.0, 'totalpenalty': 0.0, 'totalunpaidsalary': 0.0, 'totalservicecount': 0, 'totalrepeatingvisitscount': 0, 'totalservicebonus': 0.0, 'totalgoodsbonus': 0.0, 'totalpaidbonus': -500.0, 'totalunpaidbonus': 500.0, 'total_time': 0, 'estimatedworkhours': 16, 'meanworkload': 0.0}], 'byOfficeAndEmployee': [{'employeeId': 3, 'employeeName': 'Морковная Светлана Егоровна', 'roles': ['master'], 'categoryId': 1, 'salary': 50000.0, 'state': 'working', 'officeId': 3, 'officename': 'Токио', 'repeatingvisitscount': 1, 'paidsalary': 50000.0, 'penalty': 0.0, 'servicecount': 8, 'servicebonus': 0.0, 'goodsbonus': 0.0, 'paidbonus': -500.0, 'unpaidbonus': 500.0, 'total_time': 6, 'estimatedworkhours': 16, 'workload': 0.375}, {'employeeId': 7, 'employeeName': 'admin', 'roles': ['master', 'officeAdmin', 'manager'], 'categoryId': 0, 'salary': 0.0, 'state': 'working', 'officeId': 2, 'officename': 'Нью-Йорк', 'repeatingvisitscount': None, 'paidsalary': 0.0, 'penalty': 0.0, 'servicecount': 0, 'servicebonus': 20.0, 'goodsbonus': 20.0, 'paidbonus': 0.0, 'unpaidbonus': 40.0, 'total_time': 12, 'estimatedworkhours': 16, 'workload': 0.75}, {'employeeId': 4, 'employeeName': 'Барберов Бородач Ножницевич', 'roles': ['master'], 'categoryId': 2, 'salary': 50000.0, 'state': 'working', 'officeId': 2, 'officename': 'Нью-Йорк', 'repeatingvisitscount': 1, 'paidsalary': 0.0, 'penalty': 0.0, 'servicecount': 2, 'servicebonus': 120.0, 'goodsbonus': 706.73, 'paidbonus': 800.0, 'unpaidbonus': 26.73, 'total_time': 18, 'estimatedworkhours': 16, 'workload': 1.125}, {'employeeId': 5, 'employeeName': 'Администратор Администраторович Кусь', 'roles': ['officeAdmin'], 'categoryId': None, 'salary': 100000.0, 'state': 'working', 'officeId': 2, 'officename': 'Нью-Йорк', 'repeatingvisitscount': None, 'paidsalary': 0.0, 'penalty': 0.0, 'servicecount': 0, 'servicebonus': 100.0, 'goodsbonus': 696.73, 'paidbonus': 0.0, 'unpaidbonus': 796.73, 'total_time': 6, 'estimatedworkhours': 16, 'workload': 0.375}, {'employeeId': 5, 'employeeName': 'Администратор Администраторович Кусь', 'roles': ['officeAdmin'], 'categoryId': None, 'salary': 100000.0, 'state': 'working', 'officeId': 3, 'officename': 'Токио', 'repeatingvisitscount': None, 'paidsalary': 200500.0, 'penalty': 0.0, 'servicecount': 0, 'servicebonus': 0.0, 'goodsbonus': 0.0, 'paidbonus': 1893.46, 'unpaidbonus': -1893.46, 'total_time': 6, 'estimatedworkhours': 16, 'workload': 0.375}, {'employeeId': 4, 'employeeName': 'Барберов Бородач Ножницевич', 'roles': ['master'], 'categoryId': 2, 'salary': 50000.0, 'state': 'working', 'officeId': 3, 'officename': 'Токио', 'repeatingvisitscount': 1, 'paidsalary': 100000.0, 'penalty': 0.0, 'servicecount': 0, 'servicebonus': 0.0, 'goodsbonus': 0.0, 'paidbonus': 1766.92, 'unpaidbonus': -1766.92, 'total_time': 6, 'estimatedworkhours': 16, 'workload': 0.375}, {'employeeId': 1, 'employeeName': 'Иванов Диего Михайлович', 'roles': ['officeAdmin'], 'categoryId': None, 'salary': 100000.0, 'state': 'working', 'officeId': 3, 'officename': 'Токио', 'repeatingvisitscount': None, 'paidsalary': 100000.0, 'penalty': 0.0, 'servicecount': 0, 'servicebonus': 0.0, 'goodsbonus': 0.0, 'paidbonus': -500.0, 'unpaidbonus': 500.0, 'total_time': 0, 'estimatedworkhours': 16, 'workload': 0.0}, {'employeeId': 7, 'employeeName': 'admin', 'roles': ['master', 'officeAdmin', 'manager'], 'categoryId': 0, 'salary': 0.0, 'state': 'working', 'officeId': 3, 'officename': 'Токио', 'repeatingvisitscount': None, 'paidsalary': 0.0, 'penalty': 0.0, 'servicecount': 0, 'servicebonus': 0.0, 'goodsbonus': 0.0, 'paidbonus': 30.0, 'unpaidbonus': -30.0, 'total_time': 0, 'estimatedworkhours': 16, 'workload': 0.0}, {'employeeId': 6, 'employeeName': 'Внеочередной Владимир Барбершопович', 'roles': ['officeAdmin'], 'categoryId': None, 'salary': 100000.0, 'state': 'working', 'officeId': 3, 'officename': 'Токио', 'repeatingvisitscount': None, 'paidsalary': 100000.0, 'penalty': 0.0, 'servicecount': 0, 'servicebonus': 0.0, 'goodsbonus': 0.0, 'paidbonus': -500.0, 'unpaidbonus': 500.0, 'total_time': 0, 'estimatedworkhours': 16, 'workload': 0.0}, {'employeeId': 2, 'employeeName': 'Парикмахеров Парикмахер Парикмахерович', 'roles': ['manager'], 'categoryId': None, 'salary': 200000.0, 'state': 'working', 'officeId': 3, 'officename': 'Токио', 'repeatingvisitscount': None, 'paidsalary': 200000.0, 'penalty': 0.0, 'servicecount': 0, 'servicebonus': 0.0, 'goodsbonus': 0.0, 'paidbonus': -500.0, 'unpaidbonus': 500.0, 'total_time': 0, 'estimatedworkhours': 16, 'workload': 0.0}, {'employeeId': None, 'employeeName': None, 'roles': None, 'categoryId': None, 'salary': None, 'state': None, 'officeId': 2, 'officename': 'Нью-Йорк', 'repeatingvisitscount': None, 'paidsalary': 0.0, 'penalty': 0.0, 'servicecount': 0, 'servicebonus': 0.0, 'goodsbonus': 0.0, 'paidbonus': 0.0, 'unpaidbonus': 0.0, 'total_time': 0, 'estimatedworkhours': 16, 'workload': 0.0}]}\n"
     ]
    }
   ],
=======
   "execution_count": null,
   "metadata": {
    "scrolled": true
   },
   "outputs": [],
>>>>>>> a1ef52758dcff411172801ad47ff6af4482b5fb3
   "source": [
    "# GenerateEmployeeReport\n",
    "\n",
    "params = {'period':'01.11.2019'}\n",
    "\n",
    "r = requests.post(base_url + 'GenerateEmployeeReport/', json = params)\n",
    "\n",
    "try:\n",
    "    io = StringIO(r.text)\n",
    "    result = json.load(io)\n",
    "    print(result)\n",
    "except:\n",
    "    print(r)"
   ]
  },
  {
   "cell_type": "code",
<<<<<<< HEAD
   "execution_count": 51,
   "metadata": {},
   "outputs": [
    {
     "data": {
      "text/plain": [
       "[{'employeeId': None,\n",
       "  'employeeName': None,\n",
       "  'totalsalary': 0.0,\n",
       "  'totalpaidsalary': 0.0,\n",
       "  'totalpenalty': 0.0,\n",
       "  'totalunpaidsalary': 0.0,\n",
       "  'totalservicecount': 0,\n",
       "  'totalrepeatingvisitscount': 0,\n",
       "  'totalservicebonus': 0.0,\n",
       "  'totalgoodsbonus': 0.0,\n",
       "  'totalpaidbonus': 0.0,\n",
       "  'totalunpaidbonus': 0.0,\n",
       "  'total_time': 0,\n",
       "  'estimatedworkhours': 16,\n",
       "  'meanworkload': 0.0},\n",
       " {'employeeId': 5,\n",
       "  'employeeName': 'Администратор Администраторович Кусь',\n",
       "  'totalsalary': 100000.0,\n",
       "  'totalpaidsalary': 200500.0,\n",
       "  'totalpenalty': 0.0,\n",
       "  'totalunpaidsalary': -100500.0,\n",
       "  'totalservicecount': 0,\n",
       "  'totalrepeatingvisitscount': 0,\n",
       "  'totalservicebonus': 100.0,\n",
       "  'totalgoodsbonus': 696.73,\n",
       "  'totalpaidbonus': 1893.46,\n",
       "  'totalunpaidbonus': -1096.73,\n",
       "  'total_time': 12,\n",
       "  'estimatedworkhours': 16,\n",
       "  'meanworkload': 0.75},\n",
       " {'employeeId': 4,\n",
       "  'employeeName': 'Барберов Бородач Ножницевич',\n",
       "  'totalsalary': 50000.0,\n",
       "  'totalpaidsalary': 100000.0,\n",
       "  'totalpenalty': 0.0,\n",
       "  'totalunpaidsalary': -50000.0,\n",
       "  'totalservicecount': 2,\n",
       "  'totalrepeatingvisitscount': 1,\n",
       "  'totalservicebonus': 120.0,\n",
       "  'totalgoodsbonus': 706.73,\n",
       "  'totalpaidbonus': 2566.92,\n",
       "  'totalunpaidbonus': -1740.19,\n",
       "  'total_time': 24,\n",
       "  'estimatedworkhours': 16,\n",
       "  'meanworkload': 1.5},\n",
       " {'employeeId': 1,\n",
       "  'employeeName': 'Иванов Диего Михайлович',\n",
       "  'totalsalary': 100000.0,\n",
       "  'totalpaidsalary': 100000.0,\n",
       "  'totalpenalty': 0.0,\n",
       "  'totalunpaidsalary': 0.0,\n",
       "  'totalservicecount': 0,\n",
       "  'totalrepeatingvisitscount': 0,\n",
       "  'totalservicebonus': 0.0,\n",
       "  'totalgoodsbonus': 0.0,\n",
       "  'totalpaidbonus': -500.0,\n",
       "  'totalunpaidbonus': 500.0,\n",
       "  'total_time': 0,\n",
       "  'estimatedworkhours': 16,\n",
       "  'meanworkload': 0.0},\n",
       " {'employeeId': 6,\n",
       "  'employeeName': 'Внеочередной Владимир Барбершопович',\n",
       "  'totalsalary': 100000.0,\n",
       "  'totalpaidsalary': 100000.0,\n",
       "  'totalpenalty': 0.0,\n",
       "  'totalunpaidsalary': 0.0,\n",
       "  'totalservicecount': 0,\n",
       "  'totalrepeatingvisitscount': 0,\n",
       "  'totalservicebonus': 0.0,\n",
       "  'totalgoodsbonus': 0.0,\n",
       "  'totalpaidbonus': -500.0,\n",
       "  'totalunpaidbonus': 500.0,\n",
       "  'total_time': 0,\n",
       "  'estimatedworkhours': 16,\n",
       "  'meanworkload': 0.0},\n",
       " {'employeeId': 3,\n",
       "  'employeeName': 'Морковная Светлана Егоровна',\n",
       "  'totalsalary': 50000.0,\n",
       "  'totalpaidsalary': 50000.0,\n",
       "  'totalpenalty': 0.0,\n",
       "  'totalunpaidsalary': 0.0,\n",
       "  'totalservicecount': 8,\n",
       "  'totalrepeatingvisitscount': 1,\n",
       "  'totalservicebonus': 0.0,\n",
       "  'totalgoodsbonus': 0.0,\n",
       "  'totalpaidbonus': -500.0,\n",
       "  'totalunpaidbonus': 500.0,\n",
       "  'total_time': 6,\n",
       "  'estimatedworkhours': 16,\n",
       "  'meanworkload': 0.375},\n",
       " {'employeeId': 7,\n",
       "  'employeeName': 'admin',\n",
       "  'totalsalary': 0.0,\n",
       "  'totalpaidsalary': 0.0,\n",
       "  'totalpenalty': 0.0,\n",
       "  'totalunpaidsalary': 0.0,\n",
       "  'totalservicecount': 0,\n",
       "  'totalrepeatingvisitscount': 0,\n",
       "  'totalservicebonus': 20.0,\n",
       "  'totalgoodsbonus': 20.0,\n",
       "  'totalpaidbonus': 30.0,\n",
       "  'totalunpaidbonus': 10.0,\n",
       "  'total_time': 12,\n",
       "  'estimatedworkhours': 16,\n",
       "  'meanworkload': 0.75},\n",
       " {'employeeId': 2,\n",
       "  'employeeName': 'Парикмахеров Парикмахер Парикмахерович',\n",
       "  'totalsalary': 200000.0,\n",
       "  'totalpaidsalary': 200000.0,\n",
       "  'totalpenalty': 0.0,\n",
       "  'totalunpaidsalary': 0.0,\n",
       "  'totalservicecount': 0,\n",
       "  'totalrepeatingvisitscount': 0,\n",
       "  'totalservicebonus': 0.0,\n",
       "  'totalgoodsbonus': 0.0,\n",
       "  'totalpaidbonus': -500.0,\n",
       "  'totalunpaidbonus': 500.0,\n",
       "  'total_time': 0,\n",
       "  'estimatedworkhours': 16,\n",
       "  'meanworkload': 0.0}]"
      ]
     },
     "execution_count": 51,
     "metadata": {},
     "output_type": "execute_result"
    }
   ],
   "source": [
    "result['byEmployees']"
   ]
  },
  {
   "cell_type": "code",
   "execution_count": 44,
   "metadata": {
    "scrolled": true
   },
   "outputs": [
    {
     "name": "stdout",
     "output_type": "stream",
     "text": [
      "{'summary': [{'totalcash': 22175.3, 'totalcashless': 0.0, 'totaldiscount': 0.0, 'totalservicesum': 9400.4, 'totalgoodssum': 12774.9, 'totalsum': 22175.3, 'totalvisitsduringperiod': 8}], 'byOffices': [{'officeId': 1, 'max': '29.10.2019', 'totalcash': 3100.0, 'totalcashless': 0.0, 'totaldiscount': 0.0, 'totalservicesum': 3000.0, 'totalgoodssum': 100.0, 'totalsum': 3100.0, 'totalvisitsduringperiod': 1}, {'officeId': 2, 'max': '02.11.2019', 'totalcash': 2500.0, 'totalcashless': 0.0, 'totaldiscount': 0.0, 'totalservicesum': 2400.0, 'totalgoodssum': 100.0, 'totalsum': 2500.0, 'totalvisitsduringperiod': 2}, {'officeId': 3, 'max': '28.10.2019', 'totalcash': 16575.3, 'totalcashless': 0.0, 'totaldiscount': 0.0, 'totalservicesum': 4000.4, 'totalgoodssum': 12574.9, 'totalsum': 16575.3, 'totalvisitsduringperiod': 5}], 'byClients': [{'clientId': 12, 'lastvisitdatetime': '30.10.2019', 'name': 'Олег', 'loyalty': 'likely loyal', 'newclient': True, 'totalcash': 900.0, 'totalcashless': 0.0, 'totaldiscount': 0.0, 'totalservicesum': 900.0, 'totalgoodssum': 0.0, 'totalsum': 900.0, 'totalvisitsduringperiod': 2, 'totalvisits': 2, 'lastndaysvisitscount': 2, 'yearmonth': '01.10.2019 00:00', 'mastervisits': [{'masterId': 4, 'name': 'Барберов Бородач Ножницевич', 'dailyvisitscount': 2}]}, {'clientId': 13, 'lastvisitdatetime': '02.11.2019', 'name': 'Олежа', 'loyalty': 'loyal', 'newclient': True, 'totalcash': 18875.3, 'totalcashless': 0.0, 'totaldiscount': 0.0, 'totalservicesum': 6100.4, 'totalgoodssum': 12774.9, 'totalsum': 18875.3, 'totalvisitsduringperiod': 3, 'totalvisits': 5, 'lastndaysvisitscount': 5, 'yearmonth': '01.10.2019 00:00', 'mastervisits': [{'masterId': 3, 'name': 'Морковная Светлана Егоровна', 'dailyvisitscount': 3}, {'masterId': 4, 'name': 'Барберов Бородач Ножницевич', 'dailyvisitscount': 2}]}, {'clientId': 14, 'lastvisitdatetime': '27.10.2019', 'name': '', 'loyalty': 'ambivalent', 'newclient': True, 'totalcash': 1000.0, 'totalcashless': 0.0, 'totaldiscount': 0.0, 'totalservicesum': 1000.0, 'totalgoodssum': 0.0, 'totalsum': 1000.0, 'totalvisitsduringperiod': 1, 'totalvisits': 1, 'lastndaysvisitscount': 1, 'yearmonth': '01.10.2019 00:00', 'mastervisits': [{'masterId': 4, 'name': 'Барберов Бородач Ножницевич', 'dailyvisitscount': 1}]}, {'clientId': 15, 'lastvisitdatetime': '27.10.2019', 'name': '', 'loyalty': 'ambivalent', 'newclient': True, 'totalcash': 200.0, 'totalcashless': 0.0, 'totaldiscount': 0.0, 'totalservicesum': 200.0, 'totalgoodssum': 0.0, 'totalsum': 200.0, 'totalvisitsduringperiod': 1, 'totalvisits': 1, 'lastndaysvisitscount': 1, 'yearmonth': '01.10.2019 00:00', 'mastervisits': [{'masterId': 4, 'name': 'Барберов Бородач Ножницевич', 'dailyvisitscount': 1}]}, {'clientId': 16, 'lastvisitdatetime': '27.10.2019', 'name': '', 'loyalty': 'ambivalent', 'newclient': True, 'totalcash': 200.0, 'totalcashless': 0.0, 'totaldiscount': 0.0, 'totalservicesum': 200.0, 'totalgoodssum': 0.0, 'totalsum': 200.0, 'totalvisitsduringperiod': 1, 'totalvisits': 1, 'lastndaysvisitscount': 1, 'yearmonth': '01.10.2019 00:00', 'mastervisits': [{'masterId': 4, 'name': 'Барберов Бородач Ножницевич', 'dailyvisitscount': 1}]}, {'clientId': None, 'lastvisitdatetime': None, 'name': None, 'loyalty': None, 'newclient': None, 'totalcash': 1000.0, 'totalcashless': 0.0, 'totaldiscount': 0.0, 'totalservicesum': 1000.0, 'totalgoodssum': 0.0, 'totalsum': 1000.0, 'totalvisitsduringperiod': None, 'totalvisits': None, 'lastndaysvisitscount': None, 'yearmonth': None, 'mastervisits': None}], 'byOfficeAndClient': [{'officeId': 3, 'clientId': 12, 'yearmonth': '01.10.2019 00:00', 'totalcash': 200.0, 'totalcashless': 0.0, 'totaldiscount': 0.0, 'totalservicesum': 200.0, 'totalgoodssum': 0.0, 'totalsum': 200.0, 'mastervisits': [{'masterId': 4, 'name': 'Барберов Бородач Ножницевич', 'dailyvisitscount': 1}], 'totalvisitsduringperiod': 1, 'name': 'Олег', 'totalvisits': 2, 'lastndaysvisitscount': 2, 'lastvisitdatetime': '30.10.2019', 'lastvisitdatetimeoffice': '27.10.2019', 'loyalty': 'likely loyal', 'newclient': True}, {'officeId': 2, 'clientId': 12, 'yearmonth': '01.10.2019 00:00', 'totalcash': 700.0, 'totalcashless': 0.0, 'totaldiscount': 0.0, 'totalservicesum': 700.0, 'totalgoodssum': 0.0, 'totalsum': 700.0, 'mastervisits': [{'masterId': 4, 'name': 'Барберов Бородач Ножницевич', 'dailyvisitscount': 1}], 'totalvisitsduringperiod': 1, 'name': 'Олег', 'totalvisits': 2, 'lastndaysvisitscount': 2, 'lastvisitdatetime': '30.10.2019', 'lastvisitdatetimeoffice': '30.10.2019', 'loyalty': 'likely loyal', 'newclient': True}, {'officeId': 3, 'clientId': 13, 'yearmonth': '01.10.2019 00:00', 'totalcash': 13975.3, 'totalcashless': 0.0, 'totaldiscount': 0.0, 'totalservicesum': 1400.4, 'totalgoodssum': 12574.9, 'totalsum': 13975.3, 'mastervisits': [{'masterId': 3, 'name': 'Морковная Светлана Егоровна', 'dailyvisitscount': 1}, {'masterId': 4, 'name': 'Барберов Бородач Ножницевич', 'dailyvisitscount': 1}], 'totalvisitsduringperiod': 1, 'name': 'Олежа', 'totalvisits': 5, 'lastndaysvisitscount': 5, 'lastvisitdatetime': '02.11.2019', 'lastvisitdatetimeoffice': '28.10.2019', 'loyalty': 'loyal', 'newclient': True}, {'officeId': 2, 'clientId': 13, 'yearmonth': '01.10.2019 00:00', 'totalcash': 1800.0, 'totalcashless': 0.0, 'totaldiscount': 0.0, 'totalservicesum': 1700.0, 'totalgoodssum': 100.0, 'totalsum': 1800.0, 'mastervisits': [{'masterId': 3, 'name': 'Морковная Светлана Егоровна', 'dailyvisitscount': 1}, {'masterId': 4, 'name': 'Барберов Бородач Ножницевич', 'dailyvisitscount': 1}], 'totalvisitsduringperiod': 1, 'name': 'Олежа', 'totalvisits': 5, 'lastndaysvisitscount': 5, 'lastvisitdatetime': '02.11.2019', 'lastvisitdatetimeoffice': '02.11.2019', 'loyalty': 'loyal', 'newclient': True}, {'officeId': 1, 'clientId': 13, 'yearmonth': '01.10.2019 00:00', 'totalcash': 3100.0, 'totalcashless': 0.0, 'totaldiscount': 0.0, 'totalservicesum': 3000.0, 'totalgoodssum': 100.0, 'totalsum': 3100.0, 'mastervisits': [{'masterId': 3, 'name': 'Морковная Светлана Егоровна', 'dailyvisitscount': 1}], 'totalvisitsduringperiod': 1, 'name': 'Олежа', 'totalvisits': 5, 'lastndaysvisitscount': 5, 'lastvisitdatetime': '02.11.2019', 'lastvisitdatetimeoffice': '29.10.2019', 'loyalty': 'loyal', 'newclient': True}, {'officeId': 3, 'clientId': 14, 'yearmonth': '01.10.2019 00:00', 'totalcash': 1000.0, 'totalcashless': 0.0, 'totaldiscount': 0.0, 'totalservicesum': 1000.0, 'totalgoodssum': 0.0, 'totalsum': 1000.0, 'mastervisits': [{'masterId': 4, 'name': 'Барберов Бородач Ножницевич', 'dailyvisitscount': 1}], 'totalvisitsduringperiod': 1, 'name': '', 'totalvisits': 1, 'lastndaysvisitscount': 1, 'lastvisitdatetime': '27.10.2019', 'lastvisitdatetimeoffice': '27.10.2019', 'loyalty': 'ambivalent', 'newclient': True}, {'officeId': 3, 'clientId': 15, 'yearmonth': '01.10.2019 00:00', 'totalcash': 200.0, 'totalcashless': 0.0, 'totaldiscount': 0.0, 'totalservicesum': 200.0, 'totalgoodssum': 0.0, 'totalsum': 200.0, 'mastervisits': [{'masterId': 4, 'name': 'Барберов Бородач Ножницевич', 'dailyvisitscount': 1}], 'totalvisitsduringperiod': 1, 'name': '', 'totalvisits': 1, 'lastndaysvisitscount': 1, 'lastvisitdatetime': '27.10.2019', 'lastvisitdatetimeoffice': '27.10.2019', 'loyalty': 'ambivalent', 'newclient': True}, {'officeId': 3, 'clientId': 16, 'yearmonth': '01.10.2019 00:00', 'totalcash': 200.0, 'totalcashless': 0.0, 'totaldiscount': 0.0, 'totalservicesum': 200.0, 'totalgoodssum': 0.0, 'totalsum': 200.0, 'mastervisits': [{'masterId': 4, 'name': 'Барберов Бородач Ножницевич', 'dailyvisitscount': 1}], 'totalvisitsduringperiod': 1, 'name': '', 'totalvisits': 1, 'lastndaysvisitscount': 1, 'lastvisitdatetime': '27.10.2019', 'lastvisitdatetimeoffice': '27.10.2019', 'loyalty': 'ambivalent', 'newclient': True}, {'officeId': 3, 'clientId': None, 'yearmonth': '01.10.2019 00:00', 'totalcash': 1000.0, 'totalcashless': 0.0, 'totaldiscount': 0.0, 'totalservicesum': 1000.0, 'totalgoodssum': 0.0, 'totalsum': 1000.0, 'mastervisits': None, 'totalvisitsduringperiod': None, 'name': None, 'totalvisits': None, 'lastndaysvisitscount': None, 'lastvisitdatetime': None, 'lastvisitdatetimeoffice': None, 'loyalty': None, 'newclient': None}]}\n"
     ]
    }
   ],
=======
   "execution_count": null,
   "metadata": {
    "scrolled": true
   },
   "outputs": [],
>>>>>>> a1ef52758dcff411172801ad47ff6af4482b5fb3
   "source": [
    "# GenerateClientReport\n",
    "\n",
    "params = {'period':'01.10.2019'}\n",
    "\n",
    "r = requests.post(base_url + 'GenerateClientReport/', json = params)\n",
    "\n",
    "try:\n",
    "    io = StringIO(r.text)\n",
    "    result = json.load(io)\n",
    "    print(result)\n",
    "except:\n",
    "    print(r)"
   ]
  },
  {
   "cell_type": "code",
<<<<<<< HEAD
   "execution_count": 45,
   "metadata": {},
   "outputs": [
    {
     "data": {
      "text/plain": [
       "[{'clientId': 12,\n",
       "  'lastvisitdatetime': '30.10.2019',\n",
       "  'name': 'Олег',\n",
       "  'loyalty': 'likely loyal',\n",
       "  'newclient': True,\n",
       "  'totalcash': 900.0,\n",
       "  'totalcashless': 0.0,\n",
       "  'totaldiscount': 0.0,\n",
       "  'totalservicesum': 900.0,\n",
       "  'totalgoodssum': 0.0,\n",
       "  'totalsum': 900.0,\n",
       "  'totalvisitsduringperiod': 2,\n",
       "  'totalvisits': 2,\n",
       "  'lastndaysvisitscount': 2,\n",
       "  'yearmonth': '01.10.2019 00:00',\n",
       "  'mastervisits': [{'masterId': 4,\n",
       "    'name': 'Барберов Бородач Ножницевич',\n",
       "    'dailyvisitscount': 2}]},\n",
       " {'clientId': 13,\n",
       "  'lastvisitdatetime': '02.11.2019',\n",
       "  'name': 'Олежа',\n",
       "  'loyalty': 'loyal',\n",
       "  'newclient': True,\n",
       "  'totalcash': 18875.3,\n",
       "  'totalcashless': 0.0,\n",
       "  'totaldiscount': 0.0,\n",
       "  'totalservicesum': 6100.4,\n",
       "  'totalgoodssum': 12774.9,\n",
       "  'totalsum': 18875.3,\n",
       "  'totalvisitsduringperiod': 3,\n",
       "  'totalvisits': 5,\n",
       "  'lastndaysvisitscount': 5,\n",
       "  'yearmonth': '01.10.2019 00:00',\n",
       "  'mastervisits': [{'masterId': 3,\n",
       "    'name': 'Морковная Светлана Егоровна',\n",
       "    'dailyvisitscount': 3},\n",
       "   {'masterId': 4,\n",
       "    'name': 'Барберов Бородач Ножницевич',\n",
       "    'dailyvisitscount': 2}]},\n",
       " {'clientId': 14,\n",
       "  'lastvisitdatetime': '27.10.2019',\n",
       "  'name': '',\n",
       "  'loyalty': 'ambivalent',\n",
       "  'newclient': True,\n",
       "  'totalcash': 1000.0,\n",
       "  'totalcashless': 0.0,\n",
       "  'totaldiscount': 0.0,\n",
       "  'totalservicesum': 1000.0,\n",
       "  'totalgoodssum': 0.0,\n",
       "  'totalsum': 1000.0,\n",
       "  'totalvisitsduringperiod': 1,\n",
       "  'totalvisits': 1,\n",
       "  'lastndaysvisitscount': 1,\n",
       "  'yearmonth': '01.10.2019 00:00',\n",
       "  'mastervisits': [{'masterId': 4,\n",
       "    'name': 'Барберов Бородач Ножницевич',\n",
       "    'dailyvisitscount': 1}]},\n",
       " {'clientId': 15,\n",
       "  'lastvisitdatetime': '27.10.2019',\n",
       "  'name': '',\n",
       "  'loyalty': 'ambivalent',\n",
       "  'newclient': True,\n",
       "  'totalcash': 200.0,\n",
       "  'totalcashless': 0.0,\n",
       "  'totaldiscount': 0.0,\n",
       "  'totalservicesum': 200.0,\n",
       "  'totalgoodssum': 0.0,\n",
       "  'totalsum': 200.0,\n",
       "  'totalvisitsduringperiod': 1,\n",
       "  'totalvisits': 1,\n",
       "  'lastndaysvisitscount': 1,\n",
       "  'yearmonth': '01.10.2019 00:00',\n",
       "  'mastervisits': [{'masterId': 4,\n",
       "    'name': 'Барберов Бородач Ножницевич',\n",
       "    'dailyvisitscount': 1}]},\n",
       " {'clientId': 16,\n",
       "  'lastvisitdatetime': '27.10.2019',\n",
       "  'name': '',\n",
       "  'loyalty': 'ambivalent',\n",
       "  'newclient': True,\n",
       "  'totalcash': 200.0,\n",
       "  'totalcashless': 0.0,\n",
       "  'totaldiscount': 0.0,\n",
       "  'totalservicesum': 200.0,\n",
       "  'totalgoodssum': 0.0,\n",
       "  'totalsum': 200.0,\n",
       "  'totalvisitsduringperiod': 1,\n",
       "  'totalvisits': 1,\n",
       "  'lastndaysvisitscount': 1,\n",
       "  'yearmonth': '01.10.2019 00:00',\n",
       "  'mastervisits': [{'masterId': 4,\n",
       "    'name': 'Барберов Бородач Ножницевич',\n",
       "    'dailyvisitscount': 1}]},\n",
       " {'clientId': None,\n",
       "  'lastvisitdatetime': None,\n",
       "  'name': None,\n",
       "  'loyalty': None,\n",
       "  'newclient': None,\n",
       "  'totalcash': 1000.0,\n",
       "  'totalcashless': 0.0,\n",
       "  'totaldiscount': 0.0,\n",
       "  'totalservicesum': 1000.0,\n",
       "  'totalgoodssum': 0.0,\n",
       "  'totalsum': 1000.0,\n",
       "  'totalvisitsduringperiod': None,\n",
       "  'totalvisits': None,\n",
       "  'lastndaysvisitscount': None,\n",
       "  'yearmonth': None,\n",
       "  'mastervisits': None}]"
      ]
     },
     "execution_count": 45,
     "metadata": {},
     "output_type": "execute_result"
    }
   ],
   "source": [
    "result['byClients']"
   ]
  },
  {
   "cell_type": "code",
   "execution_count": 47,
   "metadata": {},
   "outputs": [
    {
     "name": "stdout",
     "output_type": "stream",
     "text": [
      "{'summary': [{'operationcount': 105, 'serviceoperationcount': 53, 'goodsoperationcount': 12, 'spendoperationcount': 40, 'serviceincome': 30500.4, 'goodsincome': 14474.9, 'totalcash': 44975.3, 'totalcashless': 0.0, 'totalincome': 44975.2995986938, 'totalspend': 2326880.59960938, 'totalprofit': -2281905.30001068, 'totalemployees': 14, 'total_time': 192}], 'byOffices': [{'officeId': 1, 'yearmonth': '01.10.2019 00:00', 'operationcount': 8, 'serviceoperationcount': 6, 'goodsoperationcount': 2, 'spendoperationcount': 0, 'serviceincome': 7000.0, 'goodsincome': 200.0, 'totalcash': 7200.0, 'totalcashless': 0.0, 'totalincome': 7200.0, 'totalspend': 0.0, 'totalprofit': 7200.0, 'totalemployees': 4, 'total_time': 24}, {'officeId': 2, 'yearmonth': '01.10.2019 00:00', 'operationcount': 65, 'serviceoperationcount': 32, 'goodsoperationcount': 2, 'spendoperationcount': 31, 'serviceincome': 14300.0, 'goodsincome': 200.0, 'totalcash': 14500.0, 'totalcashless': 0.0, 'totalincome': 14500.0, 'totalspend': 488200.0, 'totalprofit': -473700.0, 'totalemployees': 5, 'total_time': 54}, {'officeId': 3, 'yearmonth': '01.10.2019 00:00', 'operationcount': 32, 'serviceoperationcount': 15, 'goodsoperationcount': 8, 'spendoperationcount': 9, 'serviceincome': 9200.4, 'goodsincome': 14074.9, 'totalcash': 23275.3, 'totalcashless': 0.0, 'totalincome': 23275.2995986938, 'totalspend': 1838680.59960938, 'totalprofit': -1815405.30001068, 'totalemployees': 5, 'total_time': 114}]}\n"
     ]
    }
   ],
=======
   "execution_count": null,
   "metadata": {},
   "outputs": [],
>>>>>>> a1ef52758dcff411172801ad47ff6af4482b5fb3
   "source": [
    "# GenerateFinanceReport\n",
    "\n",
    "params = {'period':'01.11.2019'}\n",
    "\n",
    "r = requests.post(base_url + 'GenerateFinanceReport/', json = params)\n",
    "\n",
    "try:\n",
    "    io = StringIO(r.text)\n",
    "    result = json.load(io)\n",
    "    print(result)\n",
    "except:\n",
    "    print(r)"
   ]
  },
  {
   "cell_type": "code",
   "execution_count": null,
   "metadata": {
    "collapsed": true
   },
   "outputs": [],
   "source": [
    "# EditOffice\n",
    "\n",
    "params = { 'id':3,\n",
    "'name':'Токио-777',\n",
    "'city':'Токио',\n",
    "'address':'г. Токио, ул. Демонстрации, 51',\n",
    "'coordinatex':0.2,\n",
    "'coordinatey':0.2,\n",
    "'state':'open'}\n",
    "\n",
    "r = requests.post(base_url + 'EditOffice/', json = params)\n",
    "\n",
    "try:\n",
    "    io = StringIO(r.text)\n",
    "    result = json.load(io)\n",
    "    print(result)\n",
    "except:\n",
    "    print(r)"
   ]
  },
  {
   "cell_type": "code",
   "execution_count": null,
   "metadata": {
    "collapsed": true
   },
   "outputs": [],
   "source": [
    "# EditSession\n",
    "\n",
    "params = {\"id\":2,\"dateOpened\":\"2019-10-20\",\"dateClosed\":\"2019-10-20\",\"employees\":[{\"id\":1,\"role\":\"officeAdmin\",\"workHours\":6},{\"id\":4,\"role\":\"master\",\"workHours\":6}],\"officeId\":2,\"state\":\"closed\",\"openCash\":0}\n",
    "\n",
    "r = requests.post(base_url + 'EditSession/', json = params)\n",
    "\n",
    "try:\n",
    "    io = StringIO(r.text)\n",
    "    result = json.load(io)\n",
    "    print(result)\n",
    "except:\n",
    "    print(r)"
   ]
  },
  {
   "cell_type": "code",
   "execution_count": null,
   "metadata": {
    "collapsed": true
   },
   "outputs": [],
   "source": [
    "# EditClient\n",
    "\n",
    "params = {\"id\":None,\"name\":\"Олег\",\"contacts\":[{\"type\":\"phone\",\"value\":\"123\"}]}\n",
    "r = requests.post(base_url + 'EditClient/', json = params)\n",
    "\n",
    "try:\n",
    "    io = StringIO(r.text)\n",
    "    result = json.load(io)\n",
    "    print(result)\n",
    "except:\n",
    "    print(r)"
   ]
  },
  {
   "cell_type": "code",
   "execution_count": null,
   "metadata": {
    "collapsed": true
   },
   "outputs": [],
   "source": [
    "# EditOperations\n",
    "params = [\n",
    "    {\n",
    "        \"id\":'null',\n",
    "        \"operationType\": 'serviceoperation',\n",
    "        \"officeId\": 3,\n",
    "        \"sessionId\": 3,\n",
    "        \"serviceId\": 3,\n",
    "        \"startDatetime\": '11.10.2019 11:11',\n",
    "        \"finishDatetime\": '11.10.2019 12:11',\n",
    "        \"adminId\": 2,\n",
    "        \"masterId\": 3,\n",
    "        \"clientId\": 2,\n",
    "        \"cashSum\": 100,\n",
    "        \"cashlessSum\": 100,\n",
    "        \"discountSum\": 100,\n",
    "        \"clientRating\": 10,\n",
    "        \"review\": 'Отзыв клиента',\n",
    "        \"comment\": 'Комментарий'\n",
    "    },\n",
    "    {\n",
    "        \"id\":'null',\n",
    "        \"operationType\": 'goodsoperation',\n",
    "        \"officeId\": 3,\n",
    "        \"sessionId\": 3,\n",
    "        \"goodsIds\": [1,2,3],\n",
    "        \"datetime\": '11.10.2019 12:11',\n",
    "        \"adminId\": 1,\n",
    "        \"masterId\": 4,\n",
    "        \"clientId\": 1,\n",
    "        \"cashSum\": 100,\n",
    "        \"cashlessSum\": 100,\n",
    "        \"discountSum\": 100,\n",
    "        \"comment\": 'Комментарий'\n",
    "    },\n",
    "    {\n",
    "        \"id\":'null',\n",
    "        \"operationType\": 'spendoperation',\n",
    "        \"officeId\": 3,\n",
    "        \"sessionId\": 3,\n",
    "        \"expenseTypeId\": 3,\n",
    "        \"datetime\": '11.10.2019 12:11',\n",
    "        \"sum\": 500,\n",
    "        \"comment\": 'Комментарий'\n",
    "    },\n",
    "    {\n",
    "        \"id\":'null',\n",
    "        \"operationType\": 'employeePayment',\n",
    "        \"officeId\": 3,\n",
    "        \"sessionId\": 3,\n",
    "        \"employeeId\": 3,\n",
    "        \"employeePaymentTypeId\": 1,\n",
    "        \"datetime\": '11.10.2019 12:11',\n",
    "        \"sum\": 1000,\n",
    "        \"comment\": 'Комментарий'\n",
    "    }\n",
    "]\n",
    "\n",
    "r = requests.post(base_url + 'EditOperations/', json = params)\n",
    "\n",
    "try:\n",
    "    io = StringIO(r.text)\n",
    "    result = json.load(io)\n",
    "    print(result)\n",
    "except:\n",
    "    print(r)"
   ]
  },
  {
   "cell_type": "code",
   "execution_count": null,
   "metadata": {
    "collapsed": true
   },
   "outputs": [],
   "source": [
    "# EditEmployee\n",
    "params = {\"id\":1,\n",
    "          \"name\":\"Иванов Диего Михайлович\",\n",
    "          \"roles\":[\"officeAdmin\"],\n",
    "          \"salary\":100000,\n",
    "          \"servicePercent\":0.1,\n",
    "          \"goodsPercent\":0.1,\n",
    "          \"categoryId\":2,\n",
    "          \"state\":\"active\",\n",
    "          \"clientRating\":None,\n",
    "          \"controlRating\":None,\n",
    "          \"login\":\"login\",\n",
    "          \"password\":\"password\",\n",
    "          \"contacts\":None,\n",
    "          \"photo\":None}\n",
    "\n",
    "r = requests.post(base_url + 'EditEmployee/', json = params)\n",
    "\n",
    "try:\n",
    "    io = StringIO(r.text)\n",
    "    result = json.load(io)\n",
    "    print(result)\n",
    "except:\n",
    "    print(r)"
   ]
  },
  {
   "cell_type": "code",
   "execution_count": null,
   "metadata": {
    "collapsed": true
   },
   "outputs": [],
   "source": [
    "# EditBarberCategory\n",
    "params = { 'id':1,\n",
    "'name':'Иисус-мастер',\n",
    "'state':'active'}\n",
    "\n",
    "r = requests.post(base_url + 'EditBarberCategory/', json = params)\n",
    "\n",
    "try:\n",
    "    io = StringIO(r.text)\n",
    "    result = json.load(io)\n",
    "    print(result)\n",
    "except:\n",
    "    print(r)"
   ]
  },
  {
   "cell_type": "code",
   "execution_count": null,
   "metadata": {
    "collapsed": true
   },
   "outputs": [],
   "source": [
    "# EditEmployeePaymentType\n",
    "params = { 'id':3,\n",
    "'name':'Похвала красаве',\n",
    "'defaultSum':500000,\n",
    "'state':'active'}\n",
    "\n",
    "r = requests.post(base_url + 'EditEmployeePaymentType/', json = params)\n",
    "\n",
    "try:\n",
    "    io = StringIO(r.text)\n",
    "    result = json.load(io)\n",
    "    print(result)\n",
    "except:\n",
    "    print(r)"
   ]
  },
  {
   "cell_type": "code",
   "execution_count": null,
   "metadata": {
    "collapsed": true
   },
   "outputs": [],
   "source": [
    "# EditGood\n",
    "params = [{ 'id':'null',\n",
    "'name':'Еще шампунь',\n",
    "'price':1500.00,\n",
    "'state':'active'},\n",
    "{ 'id':'null',\n",
    "'name':'Еще Кока-кола',\n",
    "'price':1000.00,\n",
    "'state':'active'}]\n",
    "\n",
    "r = requests.post(base_url + 'EditGood/', json = params)\n",
    "\n",
    "try:\n",
    "    io = StringIO(r.text)\n",
    "    result = json.load(io)\n",
    "    print(result)\n",
    "except:\n",
    "    print(r)"
   ]
  },
  {
   "cell_type": "code",
   "execution_count": null,
   "metadata": {
    "collapsed": true
   },
   "outputs": [],
   "source": [
    "# EditService\n",
    "params = { 'id':'null',\n",
    "'name':'Стрижка для цисгендера',\n",
    "'prices': [{'category':1,'price':5000.00},{'category':2,'price':6000.00},{'category':3,'price':7000.00},{'category':4,'price':8000.00}],\n",
    "'state':'active'}\n",
    "\n",
    "r = requests.post(base_url + 'EditService/', json = params)\n",
    "\n",
    "try:\n",
    "    io = StringIO(r.text)\n",
    "    result = json.load(io)\n",
    "    print(result)\n",
    "except:\n",
    "    print(r)"
   ]
  },
  {
   "cell_type": "code",
   "execution_count": null,
   "metadata": {
    "collapsed": true
   },
   "outputs": [],
   "source": [
    "# GetService\n",
    "\n",
    "params = {'id': 1}\n",
    "\n",
    "r = requests.post(base_url + 'GetService/', json = params)\n",
    "\n",
    "try:\n",
    "    io = StringIO(r.text)\n",
    "    result = json.load(io)\n",
    "    print(result)\n",
    "except:\n",
    "    print(r)"
   ]
  },
  {
   "cell_type": "code",
   "execution_count": null,
   "metadata": {
    "collapsed": true
   },
   "outputs": [],
   "source": [
    "# EditSpendType\n",
    "\n",
    "params = { 'id':4,\n",
    "'name':'Сигареты админу',\n",
    "'defaultSum':500000,\n",
    "'state':'active'}\n",
    "\n",
    "\n",
    "r = requests.post(base_url + 'EditSpendType/', json = params)\n",
    "\n",
    "try:\n",
    "    io = StringIO(r.text)\n",
    "    result = json.load(io)\n",
    "    print(result)\n",
    "except:\n",
    "    display(HTML(r.text))"
   ]
  }
 ],
 "metadata": {
  "kernelspec": {
   "display_name": "Python 3",
   "language": "python",
   "name": "python3"
  },
  "language_info": {
   "codemirror_mode": {
    "name": "ipython",
    "version": 3
   },
   "file_extension": ".py",
   "mimetype": "text/x-python",
   "name": "python",
   "nbconvert_exporter": "python",
   "pygments_lexer": "ipython3",
   "version": "3.6.0"
  }
 },
 "nbformat": 4,
 "nbformat_minor": 2
}
