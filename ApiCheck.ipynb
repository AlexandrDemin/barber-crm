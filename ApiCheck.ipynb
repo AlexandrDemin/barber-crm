{
 "cells": [
  {
   "cell_type": "code",
   "execution_count": 1,
   "metadata": {},
   "outputs": [],
   "source": [
    "import requests\n",
    "import json\n",
    "from io import StringIO\n",
    "from flask import Flask\n",
    "from flask import request\n",
    "import requests\n",
    "import json\n",
    "from io import StringIO\n",
    "import psycopg2\n",
    "from psycopg2.extras import RealDictCursor\n",
    "from werkzeug.wrappers import Request, Response"
   ]
  },
  {
   "cell_type": "code",
   "execution_count": 2,
   "metadata": {},
   "outputs": [
    {
     "name": "stdout",
     "output_type": "stream",
     "text": [
      "{'id': 2, 'name': 'Клиентов Клиент Клиентович', 'contacts': [{'vk': 'vk2.com', 'mail': 'mail2@mail.com', 'phone': '+79009009090'}], 'comment': None}\n"
     ]
    }
   ],
   "source": [
    "# GetClients\n",
    "params = {'q':'кли'}\n",
    "\n",
    "r = requests.post('http://127.0.0.1:9000/api/GetClients/', json = params)\n",
    "\n",
    "try:\n",
    "    io = StringIO(r.text)\n",
    "    result = json.load(io)\n",
    "    print(result)\n",
    "except:\n",
    "    print(r)"
   ]
  },
  {
   "cell_type": "code",
   "execution_count": 3,
   "metadata": {},
   "outputs": [
    {
     "name": "stdout",
     "output_type": "stream",
     "text": [
      "{'name': 'Иванов Диего Михайлович', 'pictureUrl': 'www.mysite.com', 'roles': ['officeAdmin']}\n"
     ]
    }
   ],
   "source": [
    "# GetUserData\n",
    "params = {'login':'login'}\n",
    "\n",
    "r = requests.post('http://127.0.0.1:9000/api/GetUserData/', json = params)\n",
    "\n",
    "try:\n",
    "    io = StringIO(r.text)\n",
    "    result = json.load(io)\n",
    "    print(result)\n",
    "except:\n",
    "    print(r)"
   ]
  },
  {
   "cell_type": "code",
   "execution_count": 4,
   "metadata": {},
   "outputs": [
    {
     "name": "stdout",
     "output_type": "stream",
     "text": [
      "[{'id': 1, 'name': 'Иванов Диего Михайлович', 'pictureUrl': 'www.mysite.com', 'roles': ['officeAdmin'], 'salary': 100000.0, 'servicePercent': 0.1, 'goodsPercent': 0.1, 'categoryId': None, 'state': 'working', 'clientRating': None, 'controlRating': None, 'login': 'login', 'password': 'password', 'contacts': None}, {'id': 2, 'name': 'Парикмахеров Парикмахер Парикмахерович', 'pictureUrl': 'www.wikipedia.org', 'roles': ['manager'], 'salary': 200000.0, 'servicePercent': 0.1, 'goodsPercent': 0.1, 'categoryId': None, 'state': 'working', 'clientRating': None, 'controlRating': None, 'login': 'login2', 'password': 'password2', 'contacts': None}, {'id': 3, 'name': 'Морковная Залупа Павловна', 'pictureUrl': 'www.vk.com', 'roles': ['master'], 'salary': 50000.0, 'servicePercent': 0.1, 'goodsPercent': 0.1, 'categoryId': 1, 'state': 'working', 'clientRating': 10.0, 'controlRating': 10.0, 'login': 'login3', 'password': 'password3', 'contacts': None}, {'id': 4, 'name': 'Барберов Бородач Ножницевич', 'pictureUrl': 'www.ingate.ru', 'roles': ['master'], 'salary': 50000.0, 'servicePercent': 0.1, 'goodsPercent': 0.1, 'categoryId': 2, 'state': 'working', 'clientRating': 10.0, 'controlRating': 10.0, 'login': 'login3', 'password': 'password3', 'contacts': None}]\n"
     ]
    }
   ],
   "source": [
    "# GetEmployees\n",
    "\n",
    "r = requests.post('http://127.0.0.1:9000/api/GetEmployees/')\n",
    "\n",
    "try:\n",
    "    io = StringIO(r.text)\n",
    "    result = json.load(io)\n",
    "    print(result)\n",
    "except:\n",
    "    print(r)"
   ]
  },
  {
   "cell_type": "code",
   "execution_count": 5,
   "metadata": {},
   "outputs": [
    {
     "name": "stdout",
     "output_type": "stream",
     "text": [
      "{'id': 1, 'name': 'Иванов Диего Михайлович', 'pictureUrl': 'www.mysite.com', 'roles': ['officeAdmin'], 'salary': 100000.0, 'servicePercent': 0.1, 'goodsPercent': 0.1, 'categoryId': None, 'state': 'working', 'clientRating': None, 'controlRating': None, 'login': 'login', 'password': 'password', 'contacts': None}\n"
     ]
    }
   ],
   "source": [
    "# GetEmployee\n",
    "\n",
    "params = {'id':1}\n",
    "\n",
    "r = requests.post('http://127.0.0.1:9000/api/GetEmployee/', json = params)\n",
    "\n",
    "try:\n",
    "    io = StringIO(r.text)\n",
    "    result = json.load(io)\n",
    "    print(result)\n",
    "except:\n",
    "    print(r)"
   ]
  },
  {
   "cell_type": "code",
   "execution_count": 6,
   "metadata": {},
   "outputs": [
    {
     "name": "stdout",
     "output_type": "stream",
     "text": [
      "{'id': 1, 'name': 'Иванов Диего Михайлович', 'pictureUrl': 'www.mysite.com', 'state': 'working', 'servicePercent': 0.1, 'goodsPercent': 0.1}\n"
     ]
    }
   ],
   "source": [
    "# GetAdmins\n",
    "\n",
    "r = requests.post('http://127.0.0.1:9000/api/GetAdmins/')\n",
    "\n",
    "try:\n",
    "    io = StringIO(r.text)\n",
    "    result = json.load(io)\n",
    "    print(result)\n",
    "except:\n",
    "    print(r)"
   ]
  },
  {
   "cell_type": "code",
   "execution_count": 7,
   "metadata": {},
   "outputs": [
    {
     "name": "stdout",
     "output_type": "stream",
     "text": [
      "[{'id': 4, 'name': 'Барберов Бородач Ножницевич', 'pictureUrl': 'www.ingate.ru', 'state': 'working', 'servicePercent': 0.1, 'goodsPercent': 0.1, 'masterServicePercent': 0.2}, {'id': 3, 'name': 'Морковная Залупа Павловна', 'pictureUrl': 'www.vk.com', 'state': 'working', 'servicePercent': 0.1, 'goodsPercent': 0.1, 'masterServicePercent': 0.5}]\n"
     ]
    }
   ],
   "source": [
    "# GetMasters\n",
    "\n",
    "r = requests.post('http://127.0.0.1:9000/api/GetMasters/')\n",
    "\n",
    "try:\n",
    "    io = StringIO(r.text)\n",
    "    result = json.load(io)\n",
    "    print(result)\n",
    "except:\n",
    "    print(r)"
   ]
  },
  {
   "cell_type": "code",
   "execution_count": 8,
   "metadata": {},
   "outputs": [
    {
     "name": "stdout",
     "output_type": "stream",
     "text": [
      "[{'id': 1, 'name': 'Старший мастер', 'servicePercent': 0.5, 'state': 'active'}, {'id': 2, 'name': 'Младший мастер', 'servicePercent': 0.2, 'state': 'active'}]\n"
     ]
    }
   ],
   "source": [
    "# GetBarberCategories\n",
    "\n",
    "r = requests.post('http://127.0.0.1:9000/api/GetBarberCategories/')\n",
    "\n",
    "try:\n",
    "    io = StringIO(r.text)\n",
    "    result = json.load(io)\n",
    "    print(result)\n",
    "except:\n",
    "    print(r)"
   ]
  },
  {
   "cell_type": "code",
   "execution_count": 9,
   "metadata": {},
   "outputs": [
    {
     "name": "stdout",
     "output_type": "stream",
     "text": [
      "{'id': 1, 'name': 'Старший мастер', 'servicePercent': 0.5, 'state': 'active'}\n"
     ]
    }
   ],
   "source": [
    "# GetBarberCategory\n",
    "\n",
    "params = {'id':1}\n",
    "\n",
    "r = requests.post('http://127.0.0.1:9000/api/GetBarberCategory/', json = params)\n",
    "\n",
    "try:\n",
    "    io = StringIO(r.text)\n",
    "    result = json.load(io)\n",
    "    print(result)\n",
    "except:\n",
    "    print(r)"
   ]
  },
  {
   "cell_type": "code",
   "execution_count": 23,
   "metadata": {},
   "outputs": [
    {
     "name": "stdout",
     "output_type": "stream",
     "text": [
      "[{'id': 1, 'name': 'Тула 1', 'state': 'open'}, {'id': 2, 'name': 'Воронеж 1', 'state': 'open'}, {'id': 3, 'name': 'Токио', 'state': 'open'}]\n"
     ]
    }
   ],
   "source": [
    "# GetOffices\n",
    "\n",
    "r = requests.post('http://127.0.0.1:9000/api/GetOffices/')\n",
    "\n",
    "try:\n",
    "    io = StringIO(r.text)\n",
    "    result = json.load(io)\n",
    "    print(result)\n",
    "except:\n",
    "    print(r)"
   ]
  },
  {
   "cell_type": "code",
   "execution_count": 22,
   "metadata": {},
   "outputs": [
    {
     "name": "stdout",
     "output_type": "stream",
     "text": [
      "{'id': 1, 'name': 'Тула 1', 'state': 'open'}\n"
     ]
    }
   ],
   "source": [
    "# GetOffice\n",
    "\n",
    "params = {'id':1}\n",
    "\n",
    "r = requests.post('http://127.0.0.1:9000/api/GetOffice/', json = params)\n",
    "\n",
    "try:\n",
    "    io = StringIO(r.text)\n",
    "    result = json.load(io)\n",
    "    print(result)\n",
    "except:\n",
    "    print(r)"
   ]
  },
  {
   "cell_type": "code",
   "execution_count": 32,
   "metadata": {},
   "outputs": [
    {
     "name": "stdout",
     "output_type": "stream",
     "text": [
      "[{'id': 1, 'dateOpened': '30.12.2018 09:00', 'dateClosed': '30.12.2018 23:00', 'employees': [{'userId': 3, 'starttime': '10:00', 'endtime': '18:00'}, {'userId': 4, 'starttime': '14:00', 'endtime': '22:00'}, {'userId': 1, 'starttime': '09:00', 'endtime': '23:00'}], 'officeId': 1, 'state': 'closed'}, {'id': 2, 'dateOpened': '31.12.2018 09:00', 'dateClosed': None, 'employees': [{'userId': 3, 'starttime': '10:00', 'endtime': '18:00'}, {'userId': 4, 'starttime': '14:00', 'endtime': '22:00'}, {'userId': 1, 'starttime': '09:00', 'endtime': '23:00'}], 'officeId': 1, 'state': 'open'}]\n"
     ]
    }
   ],
   "source": [
    "# GetCurrentSession\n",
    "\n",
    "params = {'officeId':1}\n",
    "\n",
    "r = requests.post('http://127.0.0.1:9000/api/GetCurrentSession/', json = params)\n",
    "\n",
    "try:\n",
    "    io = StringIO(r.text)\n",
    "    result = json.load(io)\n",
    "    print(result)\n",
    "except:\n",
    "    print(r)"
   ]
  },
  {
   "cell_type": "code",
   "execution_count": 28,
   "metadata": {},
   "outputs": [
    {
     "name": "stdout",
     "output_type": "stream",
     "text": [
      "{'id': 4, 'dateOpened': '11.10.2019 09:00', 'dateClosed': '11.10.2019 23:00', 'employees': [{'userId': 3, 'starttime': '10:00', 'endtime': '18:00'}, {'userId': 4, 'starttime': '14:00', 'endtime': '22:00'}, {'userId': 1, 'starttime': '09:00', 'endtime': '23:00'}], 'officeId': 1, 'state': 'closed', 'sessionId': None, 'Operations': None}\n"
     ]
    }
   ],
   "source": [
    "# GetSession\n",
    "\n",
    "params = {'id':4,\n",
    "          \"withOperations\": 'true'\n",
    "         }\n",
    "\n",
    "r = requests.post('http://127.0.0.1:9000/api/GetSession/', json = params)\n",
    "\n",
    "try:\n",
    "    io = StringIO(r.text)\n",
    "    result = json.load(io)\n",
    "    print(result)\n",
    "except:\n",
    "    print(r)"
   ]
  },
  {
   "cell_type": "code",
   "execution_count": 35,
   "metadata": {},
   "outputs": [
    {
     "name": "stdout",
     "output_type": "stream",
     "text": [
      "{'id': 1, 'dateOpened': '30.12.2018 09:00', 'dateClosed': '30.12.2018 23:00', 'officeId': 1, 'state': 'closed', 'employees': [{'userId': 4, 'starttime': '14:00', 'endtime': '22:00'}, {'userId': 1, 'starttime': '09:00', 'endtime': '23:00'}], 'sessionId': 1, 'Operations': [{'type': 'goodsoperation', 'operations': [{'id': 1, 'adminId': 1, 'cashSum': None, 'comment': None, 'bonusSum': None, 'clientId': 1, 'datetime': '2018-12-31T12:00:00', 'goodsIds': [1], 'masterId': 4, 'officeId': 1, 'sessionId': 1, 'cashlessSum': None, 'discountSum': None, 'totalRevenue': None}, {'id': 2, 'adminId': 1, 'cashSum': None, 'comment': None, 'bonusSum': None, 'clientId': 1, 'datetime': '2018-12-31T13:00:00', 'goodsIds': [1], 'masterId': 4, 'officeId': 1, 'sessionId': 1, 'cashlessSum': None, 'discountSum': None, 'totalRevenue': None}]}, {'type': 'serviceoperation', 'operations': [{'id': 1, 'review': None, 'adminId': 1, 'cashSum': None, 'comment': None, 'bonusSum': None, 'clientId': 1, 'masterId': 4, 'officeId': 1, 'photoUrls': ['www.ingate.ru'], 'serviceId': 1, 'sessionId': 1, 'cashlessSum': None, 'discountSum': None, 'clientRating': None, 'totalRevenue': None, 'controlRating': None, 'startDatetime': '2018-12-31T11:00:00', 'finishDatetime': '2018-12-31T12:00:00'}, {'id': 2, 'review': None, 'adminId': 1, 'cashSum': None, 'comment': None, 'bonusSum': None, 'clientId': 2, 'masterId': 3, 'officeId': 1, 'photoUrls': ['www.ingate.ru'], 'serviceId': 2, 'sessionId': 1, 'cashlessSum': None, 'discountSum': None, 'clientRating': 10, 'totalRevenue': None, 'controlRating': 10, 'startDatetime': '2018-12-31T12:00:00', 'finishDatetime': '2018-12-31T13:00:00'}]}]}\n"
     ]
    }
   ],
   "source": [
    "# GetSessionsWithOperations\n",
    "\n",
    "params = {\n",
    "    \"dateFrom\": '01.01.2018',\n",
    "    \"dateTo\": '01.01.2019',\n",
    "    \"operationType\": [1,2],\n",
    "    \"employeeIds\": [1,4],\n",
    "    \"clientIds\": [1,2]\n",
    "}\n",
    "\n",
    "r = requests.post('http://127.0.0.1:9000/api/GetSessionsWithOperations/', json = params)\n",
    "\n",
    "try:\n",
    "    io = StringIO(r.text)\n",
    "    result = json.load(io)\n",
    "    print(result)\n",
    "except:\n",
    "    print(r)"
   ]
  },
  {
   "cell_type": "code",
   "execution_count": 36,
   "metadata": {},
   "outputs": [
    {
     "name": "stdout",
     "output_type": "stream",
     "text": [
      "[{'id': 1, 'name': 'Стрижка мужская', 'prices': [{'price': 0, 'category': 0}]}, {'id': 2, 'name': 'Стрижка женская', 'prices': [{'price': 0, 'category': 0}]}]\n"
     ]
    }
   ],
   "source": [
    "# GetServicesPrices\n",
    "\n",
    "r = requests.post('http://127.0.0.1:9000/api/GetServicesPrices/')\n",
    "\n",
    "try:\n",
    "    io = StringIO(r.text)\n",
    "    result = json.load(io)\n",
    "    print(result)\n",
    "except:\n",
    "    print(r)"
   ]
  },
  {
   "cell_type": "code",
   "execution_count": 17,
   "metadata": {},
   "outputs": [
    {
     "name": "stdout",
     "output_type": "stream",
     "text": [
      "{'id': 1, 'officeId': 1, 'sessionId': 1, 'serviceId': 1, 'startDatetime': '31.12.2018 11:00', 'finishDatetime': '31.12.2018 12:00', 'adminId': 1, 'masterId': 4, 'clientId': 1, 'cashSum': None, 'cashlessSum': None, 'discountSum': None, 'bonusSum': None, 'totalRevenue': None, 'clientRating': None, 'review': None, 'photoUrls': ['www.ingate.ru'], 'comment': None, 'controlRating': None}\n"
     ]
    }
   ],
   "source": [
    "# GetServiceOperation\n",
    "\n",
    "params = {'id':1}\n",
    "\n",
    "r = requests.post('http://127.0.0.1:9000/api/GetServiceOperation/', json = params)\n",
    "\n",
    "try:\n",
    "    io = StringIO(r.text)\n",
    "    result = json.load(io)\n",
    "    print(result)\n",
    "except:\n",
    "    print(r)"
   ]
  },
  {
   "cell_type": "code",
   "execution_count": 18,
   "metadata": {},
   "outputs": [
    {
     "name": "stdout",
     "output_type": "stream",
     "text": [
      "[{'id': 1, 'name': 'Шампунь', 'price': 500.0, 'state': 'active'}, {'id': 2, 'name': 'Кока-кола', 'price': 100.0, 'state': 'active'}]\n"
     ]
    }
   ],
   "source": [
    "# GetGoods\n",
    "\n",
    "r = requests.post('http://127.0.0.1:9000/api/GetGoods/')\n",
    "\n",
    "try:\n",
    "    io = StringIO(r.text)\n",
    "    result = json.load(io)\n",
    "    print(result)\n",
    "except:\n",
    "    print(r)"
   ]
  },
  {
   "cell_type": "code",
   "execution_count": 19,
   "metadata": {},
   "outputs": [
    {
     "name": "stdout",
     "output_type": "stream",
     "text": [
      "{'id': 1, 'name': 'Шампунь', 'price': 500.0, 'state': 'active'}\n"
     ]
    }
   ],
   "source": [
    "# GetGood\n",
    "\n",
    "params = {'id':1}\n",
    "\n",
    "r = requests.post('http://127.0.0.1:9000/api/GetGood/', json = params)\n",
    "\n",
    "try:\n",
    "    io = StringIO(r.text)\n",
    "    result = json.load(io)\n",
    "    print(result)\n",
    "except:\n",
    "    print(r)"
   ]
  },
  {
   "cell_type": "code",
   "execution_count": 20,
   "metadata": {},
   "outputs": [
    {
     "name": "stdout",
     "output_type": "stream",
     "text": [
      "{'id': 1, 'officeId': 1, 'sessionId': 1, 'goodsIds': [1], 'datetime': '31.12.2018 12:00', 'adminId': 1, 'masterId': 4, 'clientId': 1, 'cashSum': None, 'cashlessSum': None, 'discountSum': None, 'bonusSum': None, 'totalRevenue': None, 'comment': None}\n"
     ]
    }
   ],
   "source": [
    "# GetGoodsOperation\n",
    "\n",
    "params = {'id':1}\n",
    "\n",
    "r = requests.post('http://127.0.0.1:9000/api/GetGoodsOperation/', json = params)\n",
    "\n",
    "try:\n",
    "    io = StringIO(r.text)\n",
    "    result = json.load(io)\n",
    "    print(result)\n",
    "except:\n",
    "    print(r)"
   ]
  },
  {
   "cell_type": "code",
   "execution_count": 40,
   "metadata": {},
   "outputs": [
    {
     "name": "stdout",
     "output_type": "stream",
     "text": [
      "[{'id': 1, 'name': 'Уборка', 'defaultSum': 5000.0, 'state': 'active'}, {'id': 2, 'name': 'Аренда', 'defaultSum': None, 'state': 'active'}, {'id': 3, 'name': 'Сигареты админу', 'defaultSum': 500000.0, 'state': 'active'}]\n"
     ]
    }
   ],
   "source": [
    "# GetSpendTypes\n",
    "\n",
    "r = requests.post('http://127.0.0.1:9000/api/GetSpendTypes/')\n",
    "\n",
    "try:\n",
    "    io = StringIO(r.text)\n",
    "    result = json.load(io)\n",
    "    print(result)\n",
    "except:\n",
    "    print(r)"
   ]
  },
  {
   "cell_type": "code",
   "execution_count": 22,
   "metadata": {},
   "outputs": [
    {
     "name": "stdout",
     "output_type": "stream",
     "text": [
      "{'id': 1, 'name': 'Уборка', 'defaultSum': 5000.0, 'state': 'active'}\n"
     ]
    }
   ],
   "source": [
    "# GetSpendType\n",
    "\n",
    "params = {'id':1}\n",
    "\n",
    "r = requests.post('http://127.0.0.1:9000/api/GetSpendType/', json = params)\n",
    "\n",
    "try:\n",
    "    io = StringIO(r.text)\n",
    "    result = json.load(io)\n",
    "    print(result)\n",
    "except:\n",
    "    print(r)"
   ]
  },
  {
   "cell_type": "code",
   "execution_count": 43,
   "metadata": {},
   "outputs": [
    {
     "name": "stdout",
     "output_type": "stream",
     "text": [
      "{'id': 1, 'officeId': 1, 'sessionId': 1, 'expenseTypeId': 1, 'datetime': '30.12.2018 09:00', 'sum': 5000.0, 'cashSum': 1000.0, 'cashlessSum': 4000, 'comment': None}\n"
     ]
    }
   ],
   "source": [
    "# GetSpendOperation\n",
    "\n",
    "params = {'id':1}\n",
    "\n",
    "r = requests.post('http://127.0.0.1:9000/api/GetSpendOperation/', json = params)\n",
    "\n",
    "try:\n",
    "    io = StringIO(r.text)\n",
    "    result = json.load(io)\n",
    "    print(result)\n",
    "except:\n",
    "    print(r)"
   ]
  },
  {
   "cell_type": "code",
   "execution_count": 24,
   "metadata": {},
   "outputs": [
    {
     "name": "stdout",
     "output_type": "stream",
     "text": [
      "[{'id': 1, 'name': 'НДФЛ', 'defaultSum': 5000.0, 'state': 'active'}, {'id': 2, 'name': 'Штраф', 'defaultSum': -500.0, 'state': 'active'}]\n"
     ]
    }
   ],
   "source": [
    "# GetEmployeePaymentTypes\n",
    "\n",
    "r = requests.post('http://127.0.0.1:9000/api/GetEmployeePaymentTypes/')\n",
    "\n",
    "try:\n",
    "    io = StringIO(r.text)\n",
    "    result = json.load(io)\n",
    "    print(result)\n",
    "except:\n",
    "    print(r)"
   ]
  },
  {
   "cell_type": "code",
   "execution_count": 25,
   "metadata": {},
   "outputs": [
    {
     "name": "stdout",
     "output_type": "stream",
     "text": [
      "{'id': 1, 'name': 'НДФЛ', 'defaultSum': 5000.0, 'state': 'active'}\n"
     ]
    }
   ],
   "source": [
    "# GetEmployeePaymentType\n",
    "\n",
    "params = {'id':1}\n",
    "\n",
    "r = requests.post('http://127.0.0.1:9000/api/GetEmployeePaymentType/', json = params)\n",
    "\n",
    "try:\n",
    "    io = StringIO(r.text)\n",
    "    result = json.load(io)\n",
    "    print(result)\n",
    "except:\n",
    "    print(r)"
   ]
  },
  {
   "cell_type": "code",
   "execution_count": 26,
   "metadata": {},
   "outputs": [
    {
     "name": "stdout",
     "output_type": "stream",
     "text": [
      "{'id': 1, 'officeId': 1, 'sessionId': 1, 'employeeId': 3, 'datetime': '30.12.2018 09:00', 'type': 'ndfl', 'sum': 1000.0, 'cashSum': None, 'cashlessSum': None, 'comment': None}\n"
     ]
    }
   ],
   "source": [
    "# GetEmployeePaymentOperation\n",
    "\n",
    "params = {'id':1}\n",
    "\n",
    "r = requests.post('http://127.0.0.1:9000/api/GetEmployeePaymentOperation/', json = params)\n",
    "\n",
    "try:\n",
    "    io = StringIO(r.text)\n",
    "    result = json.load(io)\n",
    "    print(result)\n",
    "except:\n",
    "    print(r)"
   ]
  },
  {
   "cell_type": "code",
   "execution_count": 30,
   "metadata": {},
   "outputs": [
    {
     "name": "stdout",
     "output_type": "stream",
     "text": [
      "{'id': 3, 'name': 'Клиентов Клиент Клиентович Старший', 'contacts': [{'vk': 'vk.com', 'mail': 'bitch@mail.com', 'phone': '+79997777777'}], 'comment': None}\n"
     ]
    }
   ],
   "source": [
    "# GetClient\n",
    "\n",
    "params = {'id':3}\n",
    "\n",
    "r = requests.post('http://127.0.0.1:9000/api/GetClient/', json = params)\n",
    "\n",
    "try:\n",
    "    io = StringIO(r.text)\n",
    "    result = json.load(io)\n",
    "    print(result)\n",
    "except:\n",
    "    print(r)"
   ]
  },
  {
   "cell_type": "code",
   "execution_count": 28,
   "metadata": {},
   "outputs": [
    {
     "name": "stdout",
     "output_type": "stream",
     "text": [
      "{'id': 2, 'name': 'Клиентов Клиент Клиентович', 'contacts': [{'vk': 'vk2.com', 'mail': 'mail2@mail.com', 'phone': '+79009009090'}], 'comment': None}\n"
     ]
    }
   ],
   "source": [
    "# GetClients\n",
    "\n",
    "params = {'q':'кли'}\n",
    "\n",
    "r = requests.post('http://127.0.0.1:9000/api/GetClients/', json = params)\n",
    "\n",
    "try:\n",
    "    io = StringIO(r.text)\n",
    "    result = json.load(io)\n",
    "    print(result)\n",
    "except:\n",
    "    print(r)"
   ]
  },
  {
   "cell_type": "code",
   "execution_count": 19,
   "metadata": {},
   "outputs": [
    {
     "name": "stdout",
     "output_type": "stream",
     "text": [
      "[{'officeId': None, 'totalsalary': 200000.0, 'totalpaidsalary': None, 'totalpenalty': None, 'totalunpaidsalary': None, 'totalservicecount': None, 'totalrepeatingvisitscount': None, 'totaltotalservicesum': None, 'totalservicebonus': None, 'totalgoodsbonus': None, 'totalpaidbonus': None, 'totalunpaidbonus': None, 'totalworkload': None}, {'officeId': 1, 'totalsalary': 200000.0, 'totalpaidsalary': None, 'totalpenalty': -300.0, 'totalunpaidsalary': None, 'totalservicecount': 2, 'totalrepeatingvisitscount': 0, 'totaltotalservicesum': None, 'totalservicebonus': None, 'totalgoodsbonus': None, 'totalpaidbonus': None, 'totalunpaidbonus': None, 'totalworkload': 3.75}]\n"
     ]
    }
   ],
   "source": [
    "# GenerateEmployeeReport\n",
    "\n",
    "params = {'period':'01.12.2018',\n",
    "         'groupingtype':'office'}\n",
    "\n",
    "r = requests.post('http://127.0.0.1:9000/api/GenerateEmployeeReport/', json = params)\n",
    "\n",
    "try:\n",
    "    io = StringIO(r.text)\n",
    "    result = json.load(io)\n",
    "    print(result)\n",
    "except:\n",
    "    print(r)"
   ]
  },
  {
   "cell_type": "code",
   "execution_count": 18,
   "metadata": {},
   "outputs": [
    {
     "name": "stdout",
     "output_type": "stream",
     "text": [
      "{'officeId': 1, 'totalcash': None, 'totalcashless': None, 'totaldiscount': None, 'totalservicesum': None, 'totalgoodssum': None, 'totalsum': None, 'totalvisitsduringperiod': 2}\n"
     ]
    }
   ],
   "source": [
    "# GenerateClientReport\n",
    "\n",
    "params = {'period':'01.12.2018',\n",
    "         'groupingtype':'office'}\n",
    "\n",
    "r = requests.post('http://127.0.0.1:9000/api/GenerateClientReport/', json = params)\n",
    "\n",
    "try:\n",
    "    io = StringIO(r.text)\n",
    "    result = json.load(io)\n",
    "    print(result)\n",
    "except:\n",
    "    print(r)"
   ]
  },
  {
   "cell_type": "code",
   "execution_count": 17,
   "metadata": {},
   "outputs": [
    {
     "name": "stdout",
     "output_type": "stream",
     "text": [
      "{'operationcount': 8, 'serviceoperationcount': 2, 'goodsoperationcount': 2, 'spendoperationcount': 4, 'serviceincome': None, 'goodsincome': None, 'totalcash': None, 'totalcashless': None, 'totalincome': None, 'totalspend': 15000.0, 'totalrevenue': None, 'totalemployees': 3, 'total_time': 60.0}\n"
     ]
    }
   ],
   "source": [
    "# GenerateFinanceReport\n",
    "\n",
    "params = {'period':'01.12.2018',\n",
    "         'groupingtype':'all'}\n",
    "\n",
    "r = requests.post('http://127.0.0.1:9000/api/GenerateFinanceReport/', json = params)\n",
    "\n",
    "try:\n",
    "    io = StringIO(r.text)\n",
    "    result = json.load(io)\n",
    "    print(result)\n",
    "except:\n",
    "    print(r)"
   ]
  },
  {
   "cell_type": "code",
   "execution_count": 21,
   "metadata": {},
   "outputs": [
    {
     "name": "stdout",
     "output_type": "stream",
     "text": [
      "[[{'id': 3}]]\n"
     ]
    }
   ],
   "source": [
    "# EditOffice\n",
    "\n",
    "params = { 'id':'null',\n",
    "'name':'Токио',\n",
    "'city':'Токио',\n",
    "'address':'г. Токио, ул. Демонстрации, 51',\n",
    "'coordinatex':0.2,\n",
    "'coordinatey':0.2,\n",
    "'state':'open'}\n",
    "\n",
    "r = requests.post('http://127.0.0.1:9000/api/EditOffice/', json = params)\n",
    "\n",
    "try:\n",
    "    io = StringIO(r.text)\n",
    "    result = json.load(io)\n",
    "    print(result)\n",
    "except:\n",
    "    print(r)"
   ]
  },
  {
   "cell_type": "code",
   "execution_count": 24,
   "metadata": {},
   "outputs": [
    {
     "name": "stdout",
     "output_type": "stream",
     "text": [
      "[[{'id': 4}]]\n"
     ]
    }
   ],
   "source": [
    "# EditSession\n",
    "\n",
    "params = { 'id':'null',\n",
    "'officeId':1,\n",
    "'dateOpened':'2019-10-11 09:00:00.00',\n",
    "'dateClosed':'2019-10-11 23:00:00.00',\n",
    "'state':'closed',\n",
    "'employees':[\n",
    "        {'userId':3,'starttime':'10:00','endtime':'18:00'},\n",
    "        {'userId':4,'starttime':'14:00','endtime':'22:00'},\n",
    "        {'userId':1,'starttime':'09:00','endtime':'23:00'}\n",
    "        ],\n",
    "'openCash':20000,\n",
    "'closeCash':30000 ,\n",
    "'totalIncomeCash':10000 ,\n",
    "'totalIncomeCashless':10000,\n",
    "'totalIncome':20000,\n",
    "'totalExpense':5000,\n",
    "'totalProfit':15000    \n",
    "}\n",
    "\n",
    "r = requests.post('http://127.0.0.1:9000/api/EditSession/', json = params)\n",
    "\n",
    "try:\n",
    "    io = StringIO(r.text)\n",
    "    result = json.load(io)\n",
    "    print(result)\n",
    "except:\n",
    "    print(r)"
   ]
  },
  {
   "cell_type": "code",
   "execution_count": 29,
   "metadata": {},
   "outputs": [
    {
     "name": "stdout",
     "output_type": "stream",
     "text": [
      "[[{'id': 3}]]\n"
     ]
    }
   ],
   "source": [
    "# EditClient\n",
    "\n",
    "params = { 'id':'null',\n",
    "    'name':'Клиентов Клиент Клиентович Старший',\n",
    "    'contacts':[{\n",
    "        'phone':'+79997777777',\n",
    "        'mail':'bitch@mail.com',\n",
    "        'vk':'vk.com'\n",
    "                }]}\n",
    "\n",
    "r = requests.post('http://127.0.0.1:9000/api/EditClient/', json = params)\n",
    "\n",
    "try:\n",
    "    io = StringIO(r.text)\n",
    "    result = json.load(io)\n",
    "    print(result)\n",
    "except:\n",
    "    print(r)"
   ]
  },
  {
   "cell_type": "code",
   "execution_count": 51,
   "metadata": {},
   "outputs": [
    {
     "name": "stdout",
     "output_type": "stream",
     "text": [
      "['[{\"id\": 9}]', '[{\"id\": 9}]', '[{\"id\": 9}]', '[{\"id\": 7}]']\n"
     ]
    }
   ],
   "source": [
    "# EditOperations\n",
    "params = [\n",
    "    {\n",
    "        \"id\":'null',\n",
    "        \"operationType\": 'serviceoperation',\n",
    "        \"officeId\": 3,\n",
    "        \"sessionId\": 3,\n",
    "        \"serviceId\": 3,\n",
    "        \"startDatetime\": '11.10.2019 11:11',\n",
    "        \"finishDatetime\": '11.10.2019 12:11',\n",
    "        \"adminId\": 2,\n",
    "        \"masterId\": 3,\n",
    "        \"clientId\": 2,\n",
    "        \"cashSum\": 100,\n",
    "        \"cashlessSum\": 100,\n",
    "        \"discountSum\": 100,\n",
    "        \"clientRating\": 10,\n",
    "        \"review\": 'Отзыв клиента',\n",
    "        \"comment\": 'Комментарий'\n",
    "    },\n",
    "    {\n",
    "        \"id\":'null',\n",
    "        \"operationType\": 'goodsoperation',\n",
    "        \"officeId\": 3,\n",
    "        \"sessionId\": 3,\n",
    "        \"goodsIds\": [1,2,3],\n",
    "        \"datetime\": '11.10.2019 12:11',\n",
    "        \"adminId\": 1,\n",
    "        \"masterId\": 4,\n",
    "        \"clientId\": 1,\n",
    "        \"cashSum\": 100,\n",
    "        \"cashlessSum\": 100,\n",
    "        \"discountSum\": 100,\n",
    "        \"comment\": 'Комментарий'\n",
    "    },\n",
    "    {\n",
    "        \"id\":'null',\n",
    "        \"operationType\": 'spendoperation',\n",
    "        \"officeId\": 3,\n",
    "        \"sessionId\": 3,\n",
    "        \"expenseTypeId\": 3,\n",
    "        \"datetime\": '11.10.2019 12:11',\n",
    "        \"sum\": 500,\n",
    "        \"comment\": 'Комментарий'\n",
    "    },\n",
    "    {\n",
    "        \"id\":'null',\n",
    "        \"operationType\": 'employeePayment',\n",
    "        \"officeId\": 3,\n",
    "        \"sessionId\": 3,\n",
    "        \"employeeId\": 3,\n",
    "        \"employeePaymentTypeId\": 1,\n",
    "        \"datetime\": '11.10.2019 12:11',\n",
    "        \"sum\": 1000,\n",
    "        \"comment\": 'Комментарий'\n",
    "    }\n",
    "]\n",
    "\n",
    "r = requests.post('http://127.0.0.1:9000/api/EditOperations/', json = params)\n",
    "\n",
    "try:\n",
    "    io = StringIO(r.text)\n",
    "    result = json.load(io)\n",
    "    print(result)\n",
    "except:\n",
    "    print(r)"
   ]
  },
  {
   "cell_type": "code",
   "execution_count": 49,
   "metadata": {},
   "outputs": [
    {
     "name": "stdout",
     "output_type": "stream",
     "text": [
      "[{'id': 6}]\n"
     ]
    }
   ],
   "source": [
    "# EditEmployee\n",
    "params = { 'id':'null',\n",
    "'name':'Очередное Хуйло',\n",
    "'pictureUrl':'www.ocherednoyehuylo.com',\n",
    "'roles':['officeAdmin'],\n",
    "'salary':100000,\n",
    "'servicePercent':0.1,\n",
    "'goodsPercent':0.1,\n",
    "'categoryId':'null',\n",
    "'state':'working',\n",
    "'clientRating':'null',\n",
    "'controlRating':'null',\n",
    "'login':'login',\n",
    "'password':'password'}\n",
    "\n",
    "r = requests.post('http://127.0.0.1:9000/api/EditEmployee/', json = params)\n",
    "\n",
    "try:\n",
    "    io = StringIO(r.text)\n",
    "    result = json.load(io)\n",
    "    print(result)\n",
    "except:\n",
    "    print(r)"
   ]
  },
  {
   "cell_type": "code",
   "execution_count": 32,
   "metadata": {},
   "outputs": [
    {
     "name": "stdout",
     "output_type": "stream",
     "text": [
      "[[{'id': 3}]]\n"
     ]
    }
   ],
   "source": [
    "# EditBarberCategory\n",
    "params = { 'id':'null',\n",
    "'name':'Иисус-мастер',\n",
    "'servicePercent': 0.9,\n",
    "'state':'active'}\n",
    "\n",
    "r = requests.post('http://127.0.0.1:9000/api/EditBarberCategory/', json = params)\n",
    "\n",
    "try:\n",
    "    io = StringIO(r.text)\n",
    "    result = json.load(io)\n",
    "    print(result)\n",
    "except:\n",
    "    print(r)"
   ]
  },
  {
   "cell_type": "code",
   "execution_count": 33,
   "metadata": {},
   "outputs": [
    {
     "name": "stdout",
     "output_type": "stream",
     "text": [
      "[[{'id': 3}]]\n"
     ]
    }
   ],
   "source": [
    "# EditEmployeePaymentType\n",
    "params = { 'id':'null',\n",
    "'name':'Похвала красаве',\n",
    "'defaultSum':500000,\n",
    "'state':'active'}\n",
    "\n",
    "r = requests.post('http://127.0.0.1:9000/api/EditEmployeePaymentType/', json = params)\n",
    "\n",
    "try:\n",
    "    io = StringIO(r.text)\n",
    "    result = json.load(io)\n",
    "    print(result)\n",
    "except:\n",
    "    print(r)"
   ]
  },
  {
   "cell_type": "code",
   "execution_count": 34,
   "metadata": {},
   "outputs": [
    {
     "name": "stdout",
     "output_type": "stream",
     "text": [
      "[[{'id': 3}], [{'id': 4}]]\n"
     ]
    }
   ],
   "source": [
    "# EditGood\n",
    "params = [{ 'id':'null',\n",
    "'name':'Еще шампунь',\n",
    "'price':1500.00,\n",
    "'state':'active'},\n",
    "{ 'id':'null',\n",
    "'name':'Еще Кока-кола',\n",
    "'price':1000.00,\n",
    "'state':'active'}]\n",
    "\n",
    "r = requests.post('http://127.0.0.1:9000/api/EditGood/', json = params)\n",
    "\n",
    "try:\n",
    "    io = StringIO(r.text)\n",
    "    result = json.load(io)\n",
    "    print(result)\n",
    "except:\n",
    "    print(r)"
   ]
  },
  {
   "cell_type": "code",
   "execution_count": 37,
   "metadata": {},
   "outputs": [
    {
     "name": "stdout",
     "output_type": "stream",
     "text": [
      "[[{'id': 3}]]\n"
     ]
    }
   ],
   "source": [
    "# EditService\n",
    "params = { 'id':'null',\n",
    "'name':'Стрижка для цисгендера',\n",
    "'prices': [{'category':1,'price':5000.00},{'category':2,'price':6000.00},{'category':3,'price':7000.00},{'category':4,'price':8000.00}],\n",
    "'state':'active'}\n",
    "\n",
    "r = requests.post('http://127.0.0.1:9000/api/EditService/', json = params)\n",
    "\n",
    "try:\n",
    "    io = StringIO(r.text)\n",
    "    result = json.load(io)\n",
    "    print(result)\n",
    "except:\n",
    "    print(r)"
   ]
  },
  {
   "cell_type": "code",
   "execution_count": 39,
   "metadata": {},
   "outputs": [
    {
     "name": "stdout",
     "output_type": "stream",
     "text": [
      "[[{'id': 3}]]\n"
     ]
    }
   ],
   "source": [
    "# EditSpendtype\n",
    "params = { 'id':'null',\n",
    "'name':'Сигареты админу',\n",
    "'defaultSum':500000,\n",
    "'state':'active'}\n",
    "\n",
    "r = requests.post('http://127.0.0.1:9000/api/EditSpendtype/', json = params)\n",
    "\n",
    "try:\n",
    "    io = StringIO(r.text)\n",
    "    result = json.load(io)\n",
    "    print(result)\n",
    "except:\n",
    "    print(r)"
   ]
  }
 ],
 "metadata": {
  "kernelspec": {
   "display_name": "Python 3",
   "language": "python",
   "name": "python3"
  },
  "language_info": {
   "codemirror_mode": {
    "name": "ipython",
    "version": 3
   },
   "file_extension": ".py",
   "mimetype": "text/x-python",
   "name": "python",
   "nbconvert_exporter": "python",
   "pygments_lexer": "ipython3",
   "version": "3.6.8"
  }
 },
 "nbformat": 4,
 "nbformat_minor": 2
}
