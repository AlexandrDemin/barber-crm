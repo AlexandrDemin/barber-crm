{
 "cells": [
  {
   "cell_type": "code",
   "execution_count": 1,
   "metadata": {
    "collapsed": true
   },
   "outputs": [],
   "source": [
    "import requests\n",
    "import json\n",
    "from io import StringIO\n",
    "from flask import Flask\n",
    "from flask import request\n",
    "import requests\n",
    "import json\n",
    "from io import StringIO\n",
    "import psycopg2\n",
    "from psycopg2.extras import RealDictCursor\n",
    "from werkzeug.wrappers import Request, Response\n",
    "from IPython.core.display import display, HTML\n",
    "\n",
    "base_url = 'http://146.185.179.193:5000/api/'"
   ]
  },
  {
   "cell_type": "code",
   "execution_count": null,
   "metadata": {},
   "outputs": [],
   "source": [
    "# GetClients\n",
    "params = {'q':''}\n",
    "\n",
    "r = requests.post(base_url + 'GetClients/', json = params)\n",
    "\n",
    "try:\n",
    "    io = StringIO(r.text)\n",
    "    result = json.load(io)\n",
    "    print(result)\n",
    "except:\n",
    "    print(r)"
   ]
  },
  {
   "cell_type": "code",
   "execution_count": null,
   "metadata": {},
   "outputs": [],
   "source": [
    "# GetUserData\n",
    "params = {'login':'login'}\n",
    "\n",
    "r = requests.post(base_url + 'GetUserData/', json = params)\n",
    "\n",
    "try:\n",
    "    io = StringIO(r.text)\n",
    "    result = json.load(io)\n",
    "    print(result)\n",
    "except:\n",
    "    print(r)"
   ]
  },
  {
   "cell_type": "code",
   "execution_count": null,
   "metadata": {},
   "outputs": [],
   "source": [
    "# GetEmployees\n",
    "\n",
    "r = requests.post(base_url + 'GetEmployees/')\n",
    "\n",
    "try:\n",
    "    io = StringIO(r.text)\n",
    "    result = json.load(io)\n",
    "    print(result)\n",
    "except:\n",
    "    print(r)"
   ]
  },
  {
   "cell_type": "code",
   "execution_count": 8,
   "metadata": {},
   "outputs": [
    {
     "name": "stdout",
     "output_type": "stream",
     "text": [
      "{'id': 1, 'name': 'Иванов Диего Михайлович', 'roles': ['officeAdmin'], 'salary': 100000.0, 'servicePercent': 0.1, 'goodsPercent': 0.1, 'categoryId': None, 'state': 'working', 'clientRating': None, 'controlRating': None, 'login': 'admin', 'password': 'admin', 'contacts': None, 'photo': None}\n"
     ]
    }
   ],
   "source": [
    "# GetEmployee\n",
    "\n",
    "params = {'id':1}\n",
    "\n",
    "r = requests.post(base_url + 'GetEmployee/', json = params)\n",
    "\n",
    "try:\n",
    "    io = StringIO(r.text)\n",
    "    result = json.load(io)\n",
    "    print(result)\n",
    "except:\n",
    "    print(r)"
   ]
  },
  {
   "cell_type": "code",
   "execution_count": null,
   "metadata": {},
   "outputs": [],
   "source": [
    "# GetAdmins\n",
    "\n",
    "r = requests.post(base_url + 'GetAdmins/')\n",
    "\n",
    "try:\n",
    "    io = StringIO(r.text)\n",
    "    result = json.load(io)\n",
    "    print(result)\n",
    "except:\n",
    "    print(r)"
   ]
  },
  {
   "cell_type": "code",
   "execution_count": null,
   "metadata": {},
   "outputs": [],
   "source": [
    "# GetMasters\n",
    "\n",
    "r = requests.post(base_url + 'GetMasters/')\n",
    "\n",
    "try:\n",
    "    io = StringIO(r.text)\n",
    "    result = json.load(io)\n",
    "    print(result)\n",
    "except:\n",
    "    print(r)"
   ]
  },
  {
   "cell_type": "code",
   "execution_count": null,
   "metadata": {},
   "outputs": [],
   "source": [
    "# GetBarberCategories\n",
    "\n",
    "r = requests.post(base_url + 'GetBarberCategories/')\n",
    "\n",
    "try:\n",
    "    io = StringIO(r.text)\n",
    "    result = json.load(io)\n",
    "    print(result)\n",
    "except:\n",
    "    print(r)"
   ]
  },
  {
   "cell_type": "code",
   "execution_count": null,
   "metadata": {},
   "outputs": [],
   "source": [
    "# GetBarberCategory\n",
    "\n",
    "params = {'id':1}\n",
    "\n",
    "r = requests.post(base_url + 'GetBarberCategory/', json = params)\n",
    "\n",
    "try:\n",
    "    io = StringIO(r.text)\n",
    "    result = json.load(io)\n",
    "    print(result)\n",
    "except:\n",
    "    print(r)"
   ]
  },
  {
   "cell_type": "code",
   "execution_count": null,
   "metadata": {},
   "outputs": [],
   "source": [
    "# GetOffices\n",
    "\n",
    "r = requests.post(base_url + 'GetOffices/')\n",
    "\n",
    "try:\n",
    "    io = StringIO(r.text)\n",
    "    result = json.load(io)\n",
    "    print(result)\n",
    "except:\n",
    "    print(r)"
   ]
  },
  {
   "cell_type": "code",
   "execution_count": null,
   "metadata": {},
   "outputs": [],
   "source": [
    "# GetOffice\n",
    "\n",
    "params = {'id':1}\n",
    "\n",
    "r = requests.post(base_url + 'GetOffice/', json = params)\n",
    "\n",
    "try:\n",
    "    io = StringIO(r.text)\n",
    "    result = json.load(io)\n",
    "    print(result)\n",
    "except:\n",
    "    print(r)"
   ]
  },
  {
   "cell_type": "code",
   "execution_count": 20,
   "metadata": {},
   "outputs": [
    {
     "name": "stdout",
     "output_type": "stream",
     "text": [
      "{'id': 13, 'dateOpened': '27.10.2019 10:34', 'dateClosed': None, 'employees': [{'id': 6, 'role': 'officeAdmin', 'workHours': 6}, {'id': 4, 'role': 'master', 'workHours': 6}], 'officeId': 3, 'state': 'open'}\n"
     ]
    }
   ],
   "source": [
    "# GetCurrentSession\n",
    "\n",
    "params = {'officeId':3, \"withOperations\": True}\n",
    "\n",
    "r = requests.post(base_url + 'GetCurrentSession/', json = params)\n",
    "\n",
    "try:\n",
    "    io = StringIO(r.text)\n",
    "    result = json.load(io)\n",
    "    print(result)\n",
    "except:\n",
    "    display(HTML(r.text))"
   ]
  },
  {
   "cell_type": "code",
   "execution_count": null,
   "metadata": {},
   "outputs": [],
   "source": [
    "# GetSession\n",
    "\n",
    "params = {'id':3,\n",
    "          \"withOperations\": True\n",
    "         }\n",
    "\n",
    "r = requests.post(base_url + 'GetSession/', json = params)\n",
    "\n",
    "try:\n",
    "    io = StringIO(r.text)\n",
    "    result = json.load(io)\n",
    "    print(result)\n",
    "except:\n",
    "    print(r)"
   ]
  },
  {
   "cell_type": "code",
   "execution_count": null,
   "metadata": {},
   "outputs": [],
   "source": [
    "# GetSessionsWithOperations\n",
    "\n",
    "params = {\n",
    "    \"dateFrom\": '01.01.2018',\n",
    "    \"dateTo\": '01.01.2019',\n",
    "    \"operationType\": [1,2],\n",
    "    \"employeeIds\": [1,4],\n",
    "    \"clientIds\": [1,2]\n",
    "}\n",
    "\n",
    "r = requests.post(base_url + 'GetSessionsWithOperations/', json = params)\n",
    "\n",
    "try:\n",
    "    io = StringIO(r.text)\n",
    "    result = json.load(io)\n",
    "    print(result)\n",
    "except:\n",
    "    display(HTML(r.text))"
   ]
  },
  {
   "cell_type": "code",
   "execution_count": 7,
   "metadata": {},
   "outputs": [
    {
     "name": "stdout",
     "output_type": "stream",
     "text": [
      "[{'id': 1, 'name': 'Стрижка мужская', 'prices': [{'price': '1000', 'category': 1}, {'price': '1000', 'category': 2}, {'price': '30000', 'category': 3}]}, {'id': 2, 'name': 'Стрижка женская', 'prices': [{'price': '200', 'category': 2}, {'price': '3333', 'category': 3}, {'price': '500', 'category': 1}]}, {'id': 3, 'name': 'Стрижка трансгендера', 'prices': [{'price': '100.4', 'category': 2}, {'price': '7000', 'category': 3}, {'price': '100', 'category': 1}]}]\n"
     ]
    }
   ],
   "source": [
    "# GetServicesPrices\n",
    "\n",
    "r = requests.post(base_url + 'GetServicesPrices/')\n",
    "\n",
    "try:\n",
    "    io = StringIO(r.text)\n",
    "    result = json.load(io)\n",
    "    print(result)\n",
    "except:\n",
    "    print(r)"
   ]
  },
  {
   "cell_type": "code",
   "execution_count": 3,
   "metadata": {},
   "outputs": [
    {
     "name": "stdout",
     "output_type": "stream",
     "text": [
      "{'id': 1, 'officeId': 1, 'sessionId': 1, 'serviceId': 1, 'startDatetime': '31.12.2018 11:00', 'finishDatetime': '31.12.2018 12:00', 'adminId': 1, 'masterId': 4, 'clientId': 1, 'cashSum': None, 'cashlessSum': None, 'discountSum': None, 'adminBonusSum': None, 'totalRevenue': None, 'clientRating': None, 'review': None, 'comment': None, 'controlRating': None, 'photos': None, 'masterBonusSum': None}\n"
     ]
    }
   ],
   "source": [
    "# GetServiceOperation\n",
    "\n",
    "params = {'id':1}\n",
    "\n",
    "r = requests.post(base_url + 'GetServiceOperation/', json = params)\n",
    "\n",
    "try:\n",
    "    io = StringIO(r.text)\n",
    "    result = json.load(io)\n",
    "    print(result)\n",
    "except:\n",
    "    print(r)"
   ]
  },
  {
   "cell_type": "code",
   "execution_count": null,
   "metadata": {},
   "outputs": [],
   "source": [
    "# GetGoods\n",
    "\n",
    "r = requests.post(base_url + 'GetGoods/')\n",
    "\n",
    "try:\n",
    "    io = StringIO(r.text)\n",
    "    result = json.load(io)\n",
    "    print(result)\n",
    "except:\n",
    "    print(r)"
   ]
  },
  {
   "cell_type": "code",
   "execution_count": 9,
   "metadata": {},
   "outputs": [
    {
     "name": "stdout",
     "output_type": "stream",
     "text": [
      "{'id': 1, 'name': 'Шампунь', 'price': 5000.0, 'state': 'active'}\n"
     ]
    }
   ],
   "source": [
    "# GetGood\n",
    "\n",
    "params = {'id':1}\n",
    "\n",
    "r = requests.post(base_url + 'GetGood/', json = params)\n",
    "\n",
    "try:\n",
    "    io = StringIO(r.text)\n",
    "    result = json.load(io)\n",
    "    print(result)\n",
    "except:\n",
    "    print(r)"
   ]
  },
  {
   "cell_type": "code",
   "execution_count": 4,
   "metadata": {},
   "outputs": [
    {
     "name": "stdout",
     "output_type": "stream",
     "text": [
      "{'id': 1, 'officeId': 1, 'sessionId': 1, 'goodsIds': [1], 'datetime': '31.12.2018 12:00', 'adminId': 1, 'masterId': 4, 'clientId': 1, 'cashSum': None, 'cashlessSum': None, 'discountSum': None, 'adminBonusSum': None, 'totalRevenue': None, 'comment': None, 'masterBonusSum': None}\n"
     ]
    }
   ],
   "source": [
    "# GetGoodsOperation\n",
    "\n",
    "params = {'id':1}\n",
    "\n",
    "r = requests.post(base_url + 'GetGoodsOperation/', json = params)\n",
    "\n",
    "try:\n",
    "    io = StringIO(r.text)\n",
    "    result = json.load(io)\n",
    "    print(result)\n",
    "except:\n",
    "    print(r)"
   ]
  },
  {
   "cell_type": "code",
   "execution_count": null,
   "metadata": {},
   "outputs": [],
   "source": [
    "# GetSpendTypes\n",
    "\n",
    "r = requests.post(base_url + 'GetSpendTypes/')\n",
    "\n",
    "try:\n",
    "    io = StringIO(r.text)\n",
    "    result = json.load(io)\n",
    "    print(result)\n",
    "except:\n",
    "    print(r)"
   ]
  },
  {
   "cell_type": "code",
   "execution_count": null,
   "metadata": {},
   "outputs": [],
   "source": [
    "# GetSpendType\n",
    "\n",
    "params = {'id':1}\n",
    "\n",
    "r = requests.post(base_url + 'GetSpendType/', json = params)\n",
    "\n",
    "try:\n",
    "    io = StringIO(r.text)\n",
    "    result = json.load(io)\n",
    "    print(result)\n",
    "except:\n",
    "    print(r)"
   ]
  },
  {
   "cell_type": "code",
   "execution_count": 5,
   "metadata": {},
   "outputs": [
    {
     "name": "stdout",
     "output_type": "stream",
     "text": [
      "{'id': 1, 'officeId': 1, 'sessionId': 1, 'expenseTypeId': 1, 'datetime': '30.12.2018 09:00', 'sum': 5000.0, 'cashSum': 1000.0, 'cashlessSum': 4000, 'comment': None}\n"
     ]
    }
   ],
   "source": [
    "# GetSpendOperation\n",
    "\n",
    "params = {'id':1}\n",
    "\n",
    "r = requests.post(base_url + 'GetSpendOperation/', json = params)\n",
    "\n",
    "try:\n",
    "    io = StringIO(r.text)\n",
    "    result = json.load(io)\n",
    "    print(result)\n",
    "except:\n",
    "    print(r)"
   ]
  },
  {
   "cell_type": "code",
   "execution_count": null,
   "metadata": {},
   "outputs": [],
   "source": [
    "# GetEmployeePaymentTypes\n",
    "\n",
    "r = requests.post(base_url + 'GetEmployeePaymentTypes/')\n",
    "\n",
    "try:\n",
    "    io = StringIO(r.text)\n",
    "    result = json.load(io)\n",
    "    print(result)\n",
    "except:\n",
    "    print(r)"
   ]
  },
  {
   "cell_type": "code",
   "execution_count": null,
   "metadata": {},
   "outputs": [],
   "source": [
    "# GetEmployeePaymentType\n",
    "\n",
    "params = {'id':1}\n",
    "\n",
    "r = requests.post(base_url + 'GetEmployeePaymentType/', json = params)\n",
    "\n",
    "try:\n",
    "    io = StringIO(r.text)\n",
    "    result = json.load(io)\n",
    "    print(result)\n",
    "except:\n",
    "    print(r)"
   ]
  },
  {
   "cell_type": "code",
   "execution_count": 6,
   "metadata": {},
   "outputs": [
    {
     "name": "stdout",
     "output_type": "stream",
     "text": [
      "{'id': 1, 'officeId': 1, 'sessionId': 1, 'employeeId': 3, 'datetime': '30.12.2018 09:00', 'sum': 1000.0, 'cashSum': None, 'cashlessSum': None, 'comment': None, 'employeePaymentTypeId': 1}\n"
     ]
    }
   ],
   "source": [
    "# GetEmployeePaymentOperation\n",
    "\n",
    "params = {'id':1}\n",
    "\n",
    "r = requests.post(base_url + 'GetEmployeePaymentOperation/', json = params)\n",
    "\n",
    "try:\n",
    "    io = StringIO(r.text)\n",
    "    result = json.load(io)\n",
    "    print(result)\n",
    "except:\n",
    "    print(r)"
   ]
  },
  {
   "cell_type": "code",
   "execution_count": 10,
   "metadata": {},
   "outputs": [
    {
     "name": "stdout",
     "output_type": "stream",
     "text": [
      "{'id': 3, 'name': 'Клиентов Клиент Клиентович Старший', 'contacts': [{'type': 'phone', 'value': '+1111'}], 'comment': None, 'photo': None, 'Operations': None}\n"
     ]
    }
   ],
   "source": [
    "# GetClient\n",
    "\n",
    "params = {'id':3}\n",
    "\n",
    "r = requests.post(base_url + 'GetClient/', json = params)\n",
    "\n",
    "try:\n",
    "    io = StringIO(r.text)\n",
    "    result = json.load(io)\n",
    "    print(result)\n",
    "except:\n",
    "    print(r)"
   ]
  },
  {
   "cell_type": "code",
   "execution_count": null,
   "metadata": {},
   "outputs": [],
   "source": [
    "# GetClients\n",
    "\n",
    "params = {'q':'кли'}\n",
    "\n",
    "r = requests.post(base_url + 'GetClients/', json = params)\n",
    "\n",
    "try:\n",
    "    io = StringIO(r.text)\n",
    "    result = json.load(io)\n",
    "    print(result)\n",
    "except:\n",
    "    print(r)"
   ]
  },
  {
   "cell_type": "code",
   "execution_count": null,
   "metadata": {},
   "outputs": [],
   "source": [
    "# GenerateEmployeeReport\n",
    "\n",
    "params = {'period':'01.12.2018',\n",
    "         'groupingtype':'office'}\n",
    "\n",
    "r = requests.post(base_url + 'GenerateEmployeeReport/', json = params)\n",
    "\n",
    "try:\n",
    "    io = StringIO(r.text)\n",
    "    result = json.load(io)\n",
    "    print(result)\n",
    "except:\n",
    "    print(r)"
   ]
  },
  {
   "cell_type": "code",
   "execution_count": null,
   "metadata": {},
   "outputs": [],
   "source": [
    "# GenerateClientReport\n",
    "\n",
    "params = {'period':'01.12.2018',\n",
    "         'groupingtype':'office'}\n",
    "\n",
    "r = requests.post(base_url + 'GenerateClientReport/', json = params)\n",
    "\n",
    "try:\n",
    "    io = StringIO(r.text)\n",
    "    result = json.load(io)\n",
    "    print(result)\n",
    "except:\n",
    "    print(r)"
   ]
  },
  {
   "cell_type": "code",
   "execution_count": null,
   "metadata": {},
   "outputs": [],
   "source": [
    "# GenerateFinanceReport\n",
    "\n",
    "params = {'period':'01.12.2018',\n",
    "         'groupingtype':'all'}\n",
    "\n",
    "r = requests.post(base_url + 'GenerateFinanceReport/', json = params)\n",
    "\n",
    "try:\n",
    "    io = StringIO(r.text)\n",
    "    result = json.load(io)\n",
    "    print(result)\n",
    "except:\n",
    "    print(r)"
   ]
  },
  {
   "cell_type": "code",
   "execution_count": null,
   "metadata": {},
   "outputs": [],
   "source": [
    "# EditOffice\n",
    "\n",
    "params = { 'id':3,\n",
    "'name':'Токио',\n",
    "'city':'Токио',\n",
    "'address':'г. Токио, ул. Демонстрации, 51',\n",
    "'coordinatex':0.2,\n",
    "'coordinatey':0.2,\n",
    "'state':'open'}\n",
    "\n",
    "r = requests.post(base_url + 'EditOffice/', json = params)\n",
    "\n",
    "try:\n",
    "    io = StringIO(r.text)\n",
    "    result = json.load(io)\n",
    "    print(result)\n",
    "except:\n",
    "    print(r)"
   ]
  },
  {
   "cell_type": "code",
   "execution_count": null,
   "metadata": {},
   "outputs": [],
   "source": [
    "# EditSession\n",
    "\n",
    "params = {\"id\":2,\"dateOpened\":\"2019-10-20\",\"dateClosed\":\"2019-10-20\",\"employees\":[{\"id\":1,\"role\":\"officeAdmin\",\"workHours\":6},{\"id\":4,\"role\":\"master\",\"workHours\":6}],\"officeId\":2,\"state\":\"closed\",\"openCash\":0}\n",
    "\n",
    "r = requests.post(base_url + 'EditSession/', json = params)\n",
    "\n",
    "try:\n",
    "    io = StringIO(r.text)\n",
    "    result = json.load(io)\n",
    "    print(result)\n",
    "except:\n",
    "    print(r)"
   ]
  },
  {
   "cell_type": "code",
   "execution_count": 13,
   "metadata": {},
   "outputs": [
    {
     "name": "stdout",
     "output_type": "stream",
     "text": [
      "{'id': 12}\n"
     ]
    }
   ],
   "source": [
    "# EditClient\n",
    "\n",
    "params = {\"id\":None,\"name\":\"Олег\",\"contacts\":[{\"type\":\"phone\",\"value\":\"123\"}]}\n",
    "r = requests.post(base_url + 'EditClient/', json = params)\n",
    "\n",
    "try:\n",
    "    io = StringIO(r.text)\n",
    "    result = json.load(io)\n",
    "    print(result)\n",
    "except:\n",
    "    print(r)"
   ]
  },
  {
   "cell_type": "code",
   "execution_count": null,
   "metadata": {},
   "outputs": [],
   "source": [
    "# EditOperations\n",
    "params = [\n",
    "    {\n",
    "        \"id\":'null',\n",
    "        \"operationType\": 'serviceoperation',\n",
    "        \"officeId\": 3,\n",
    "        \"sessionId\": 3,\n",
    "        \"serviceId\": 3,\n",
    "        \"startDatetime\": '11.10.2019 11:11',\n",
    "        \"finishDatetime\": '11.10.2019 12:11',\n",
    "        \"adminId\": 2,\n",
    "        \"masterId\": 3,\n",
    "        \"clientId\": 2,\n",
    "        \"cashSum\": 100,\n",
    "        \"cashlessSum\": 100,\n",
    "        \"discountSum\": 100,\n",
    "        \"clientRating\": 10,\n",
    "        \"review\": 'Отзыв клиента',\n",
    "        \"comment\": 'Комментарий'\n",
    "    },\n",
    "    {\n",
    "        \"id\":'null',\n",
    "        \"operationType\": 'goodsoperation',\n",
    "        \"officeId\": 3,\n",
    "        \"sessionId\": 3,\n",
    "        \"goodsIds\": [1,2,3],\n",
    "        \"datetime\": '11.10.2019 12:11',\n",
    "        \"adminId\": 1,\n",
    "        \"masterId\": 4,\n",
    "        \"clientId\": 1,\n",
    "        \"cashSum\": 100,\n",
    "        \"cashlessSum\": 100,\n",
    "        \"discountSum\": 100,\n",
    "        \"comment\": 'Комментарий'\n",
    "    },\n",
    "    {\n",
    "        \"id\":'null',\n",
    "        \"operationType\": 'spendoperation',\n",
    "        \"officeId\": 3,\n",
    "        \"sessionId\": 3,\n",
    "        \"expenseTypeId\": 3,\n",
    "        \"datetime\": '11.10.2019 12:11',\n",
    "        \"sum\": 500,\n",
    "        \"comment\": 'Комментарий'\n",
    "    },\n",
    "    {\n",
    "        \"id\":'null',\n",
    "        \"operationType\": 'employeePayment',\n",
    "        \"officeId\": 3,\n",
    "        \"sessionId\": 3,\n",
    "        \"employeeId\": 3,\n",
    "        \"employeePaymentTypeId\": 1,\n",
    "        \"datetime\": '11.10.2019 12:11',\n",
    "        \"sum\": 1000,\n",
    "        \"comment\": 'Комментарий'\n",
    "    }\n",
    "]\n",
    "\n",
    "r = requests.post(base_url + 'EditOperations/', json = params)\n",
    "\n",
    "try:\n",
    "    io = StringIO(r.text)\n",
    "    result = json.load(io)\n",
    "    print(result)\n",
    "except:\n",
    "    print(r)"
   ]
  },
  {
   "cell_type": "code",
   "execution_count": null,
   "metadata": {},
   "outputs": [],
   "source": [
    "# EditEmployee\n",
    "params = {\"id\":1,\n",
    "          \"name\":\"Иванов Диего Михайлович\",\n",
    "          \"roles\":[\"officeAdmin\"],\n",
    "          \"salary\":100000,\n",
    "          \"servicePercent\":0.1,\n",
    "          \"goodsPercent\":0.1,\n",
    "          \"categoryId\":2,\n",
    "          \"state\":\"active\",\n",
    "          \"clientRating\":None,\n",
    "          \"controlRating\":None,\n",
    "          \"login\":\"login\",\n",
    "          \"password\":\"password\",\n",
    "          \"contacts\":None,\n",
    "          \"photo\":None}\n",
    "\n",
    "r = requests.post(base_url + 'EditEmployee/', json = params)\n",
    "\n",
    "try:\n",
    "    io = StringIO(r.text)\n",
    "    result = json.load(io)\n",
    "    print(result)\n",
    "except:\n",
    "    print(r)"
   ]
  },
  {
   "cell_type": "code",
   "execution_count": null,
   "metadata": {},
   "outputs": [],
   "source": [
    "# EditBarberCategory\n",
    "params = { 'id':1,\n",
    "'name':'Иисус-мастер',\n",
    "'state':'active'}\n",
    "\n",
    "r = requests.post(base_url + 'EditBarberCategory/', json = params)\n",
    "\n",
    "try:\n",
    "    io = StringIO(r.text)\n",
    "    result = json.load(io)\n",
    "    print(result)\n",
    "except:\n",
    "    print(r)"
   ]
  },
  {
   "cell_type": "code",
   "execution_count": null,
   "metadata": {},
   "outputs": [],
   "source": [
    "# EditEmployeePaymentType\n",
    "params = { 'id':3,\n",
    "'name':'Похвала красаве',\n",
    "'defaultSum':500000,\n",
    "'state':'active'}\n",
    "\n",
    "r = requests.post(base_url + 'EditEmployeePaymentType/', json = params)\n",
    "\n",
    "try:\n",
    "    io = StringIO(r.text)\n",
    "    result = json.load(io)\n",
    "    print(result)\n",
    "except:\n",
    "    print(r)"
   ]
  },
  {
   "cell_type": "code",
   "execution_count": null,
   "metadata": {},
   "outputs": [],
   "source": [
    "# EditGood\n",
    "params = [{ 'id':'null',\n",
    "'name':'Еще шампунь',\n",
    "'price':1500.00,\n",
    "'state':'active'},\n",
    "{ 'id':'null',\n",
    "'name':'Еще Кока-кола',\n",
    "'price':1000.00,\n",
    "'state':'active'}]\n",
    "\n",
    "r = requests.post(base_url + 'EditGood/', json = params)\n",
    "\n",
    "try:\n",
    "    io = StringIO(r.text)\n",
    "    result = json.load(io)\n",
    "    print(result)\n",
    "except:\n",
    "    print(r)"
   ]
  },
  {
   "cell_type": "code",
   "execution_count": null,
   "metadata": {},
   "outputs": [],
   "source": [
    "# EditService\n",
    "params = { 'id':'null',\n",
    "'name':'Стрижка для цисгендера',\n",
    "'prices': [{'category':1,'price':5000.00},{'category':2,'price':6000.00},{'category':3,'price':7000.00},{'category':4,'price':8000.00}],\n",
    "'state':'active'}\n",
    "\n",
    "r = requests.post(base_url + 'EditService/', json = params)\n",
    "\n",
    "try:\n",
    "    io = StringIO(r.text)\n",
    "    result = json.load(io)\n",
    "    print(result)\n",
    "except:\n",
    "    print(r)"
   ]
  },
  {
   "cell_type": "code",
   "execution_count": 2,
   "metadata": {},
   "outputs": [
    {
     "name": "stdout",
     "output_type": "stream",
     "text": [
      "{'id': 1, 'name': 'Стрижка мужская', 'state': 'active', 'prices': [{'price': '1000', 'category': 1}, {'price': '1000', 'category': 2}, {'price': '30000', 'category': 3}]}\n"
     ]
    }
   ],
   "source": [
    "# GetService\n",
    "\n",
    "params = {'id': 1}\n",
    "\n",
    "r = requests.post(base_url + 'GetService/', json = params)\n",
    "\n",
    "try:\n",
    "    io = StringIO(r.text)\n",
    "    result = json.load(io)\n",
    "    print(result)\n",
    "except:\n",
    "    print(r)"
   ]
  },
  {
   "cell_type": "code",
   "execution_count": null,
   "metadata": {},
   "outputs": [],
   "source": [
    "# EditSpendType\n",
    "\n",
    "params = { 'id':4,\n",
    "'name':'Сигареты админу',\n",
    "'defaultSum':500000,\n",
    "'state':'active'}\n",
    "\n",
    "\n",
    "r = requests.post(base_url + 'EditSpendType/', json = params)\n",
    "\n",
    "try:\n",
    "    io = StringIO(r.text)\n",
    "    result = json.load(io)\n",
    "    print(result)\n",
    "except:\n",
    "    display(HTML(r.text))"
   ]
  }
 ],
 "metadata": {
  "kernelspec": {
   "display_name": "Python 3",
   "language": "python",
   "name": "python3"
  },
  "language_info": {
   "codemirror_mode": {
    "name": "ipython",
    "version": 3
   },
   "file_extension": ".py",
   "mimetype": "text/x-python",
   "name": "python",
   "nbconvert_exporter": "python",
   "pygments_lexer": "ipython3",
   "version": "3.6.0"
  }
 },
 "nbformat": 4,
 "nbformat_minor": 2
}
