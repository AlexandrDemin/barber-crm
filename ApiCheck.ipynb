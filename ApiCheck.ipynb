{
 "cells": [
  {
   "cell_type": "code",
   "execution_count": 1,
   "metadata": {},
   "outputs": [],
   "source": [
    "import requests\n",
    "import json\n",
    "from io import StringIO\n",
    "from flask import Flask\n",
    "from flask import request\n",
    "import requests\n",
    "import json\n",
    "from io import StringIO\n",
    "import psycopg2\n",
    "from psycopg2.extras import RealDictCursor\n",
    "from werkzeug.wrappers import Request, Response"
   ]
  },
  {
   "cell_type": "code",
   "execution_count": 5,
   "metadata": {},
   "outputs": [
    {
     "name": "stdout",
     "output_type": "stream",
     "text": [
      "<Response [200]>\n"
     ]
    }
   ],
   "source": [
    "# GetClients\n",
    "params = {'login':'login',\n",
    "'password':'password'}\n",
    "\n",
    "r0 = requests.post('http://127.0.0.1:9000/api/Login/', json = params)\n",
    "\n",
    "try:\n",
    "    io = StringIO(r.text)\n",
    "    result = json.load(io)\n",
    "    print(result)\n",
    "except:\n",
    "    print(r0)"
   ]
  },
  {
   "cell_type": "code",
   "execution_count": 7,
   "metadata": {},
   "outputs": [
    {
     "name": "stdout",
     "output_type": "stream",
     "text": [
      "<Response [200]>\n"
     ]
    }
   ],
   "source": [
    "r = requests.post('http://127.0.0.1:9000/api/Logout/',cookies=r0.cookies)\n",
    "\n",
    "try:\n",
    "    io = StringIO(r.text)\n",
    "    result = json.load(io)\n",
    "    print(result)\n",
    "except:\n",
    "    print(r)"
   ]
  },
  {
   "cell_type": "code",
   "execution_count": 8,
   "metadata": {},
   "outputs": [
    {
     "name": "stdout",
     "output_type": "stream",
     "text": [
      "[{'id': 2, 'name': 'Клиентов Клиент Клиентович', 'contacts': [{'type': 'phone', 'value': '+11111'}], 'comment': None, 'photo': None}, {'id': 3, 'name': 'Клиентов Клиент Клиентович Старший', 'contacts': [{'type': 'phone', 'value': '+1111'}], 'comment': None, 'photo': None}, {'id': 7, 'name': 'Новый клиент', 'contacts': [{'type': 'phone', 'value': '1'}], 'comment': '', 'photo': None}, {'id': 8, 'name': 'Новый клиент', 'contacts': [{'type': 'phone', 'value': '2'}], 'comment': '', 'photo': None}, {'id': 9, 'name': 'Новый клиент', 'contacts': [{'type': 'phone', 'value': '2'}], 'comment': 'Это комментарий', 'photo': None}]\n"
     ]
    }
   ],
   "source": [
    "# GetClients\n",
    "params = {'q':'кли'}\n",
    "\n",
    "r = requests.post('http://127.0.0.1:9000/api/GetClients/', json = params, cookies=r0.cookies)\n",
    "\n",
    "try:\n",
    "    io = StringIO(r.text)\n",
    "    result = json.load(io)\n",
    "    print(result)\n",
    "except:\n",
    "    print(r)"
   ]
  },
  {
   "cell_type": "code",
   "execution_count": 21,
   "metadata": {},
   "outputs": [
    {
     "name": "stdout",
     "output_type": "stream",
     "text": [
      "{'error': 'operator does not exist: text = integer\\nLINE 2:     where \"login\" = 1\\n                          ^\\nHINT:  No operator matches the given name and argument type(s). You might need to add explicit type casts.\\n', 'stacktrace': 'Traceback (most recent call last):\\n  File \"/home/malashenko/Barbers/db_provider.py\", line 638, in goToBase\\n    cur.execute(query)\\n  File \"/usr/local/lib/python3.6/dist-packages/psycopg2/extras.py\", line 243, in execute\\n    return super(RealDictCursor, self).execute(query, vars)\\npsycopg2.errors.UndefinedFunction: operator does not exist: text = integer\\nLINE 2:     where \"login\" = 1\\n                          ^\\nHINT:  No operator matches the given name and argument type(s). You might need to add explicit type casts.\\n\\n'}\n"
     ]
    }
   ],
   "source": [
    "# GetUserData\n",
    "params = {'login':1}\n",
    "\n",
    "r = requests.post('http://127.0.0.1:9000/api/GetUserData/', json = params, cookies=r0.cookies)\n",
    "\n",
    "try:\n",
    "    io = StringIO(r.text)\n",
    "    result = json.load(io)\n",
    "    print(result)\n",
    "except:\n",
    "    print(r)"
   ]
  },
  {
   "cell_type": "code",
   "execution_count": 22,
   "metadata": {},
   "outputs": [
    {
     "data": {
      "text/plain": [
       "<Response [500]>"
      ]
     },
     "execution_count": 22,
     "metadata": {},
     "output_type": "execute_result"
    }
   ],
   "source": [
    "r"
   ]
  },
  {
   "cell_type": "code",
   "execution_count": null,
   "metadata": {},
   "outputs": [],
   "source": [
    "# GetEmployees\n",
    "\n",
    "r = requests.post('http://127.0.0.1:9000/api/GetEmployees/', cookies=r0.cookies)\n",
    "\n",
    "try:\n",
    "    io = StringIO(r.text)\n",
    "    result = json.load(io)\n",
    "    print(result)\n",
    "except:\n",
    "    print(r)"
   ]
  },
  {
   "cell_type": "code",
   "execution_count": null,
   "metadata": {},
   "outputs": [],
   "source": []
  },
  {
   "cell_type": "code",
   "execution_count": null,
   "metadata": {},
   "outputs": [],
   "source": [
    "# GetEmployee\n",
    "\n",
    "params = {'id':1}\n",
    "\n",
    "r = requests.post('http://127.0.0.1:9000/api/GetEmployee/', json = params, cookies=r0.cookies)\n",
    "\n",
    "try:\n",
    "    io = StringIO(r.text)\n",
    "    result = json.load(io)\n",
    "    print(result)\n",
    "except:\n",
    "    print(r)"
   ]
  },
  {
   "cell_type": "code",
   "execution_count": null,
   "metadata": {},
   "outputs": [],
   "source": [
    "# GetAdmins\n",
    "\n",
    "r = requests.post('http://127.0.0.1:9000/api/GetAdmins/', cookies=r0.cookies)\n",
    "\n",
    "try:\n",
    "    io = StringIO(r.text)\n",
    "    result = json.load(io)\n",
    "    print(result)\n",
    "except:\n",
    "    print(r)"
   ]
  },
  {
   "cell_type": "code",
   "execution_count": null,
   "metadata": {},
   "outputs": [],
   "source": [
    "# GetMasters\n",
    "\n",
    "r = requests.post('http://127.0.0.1:9000/api/GetMasters/', cookies=r0.cookies)\n",
    "\n",
    "try:\n",
    "    io = StringIO(r.text)\n",
    "    result = json.load(io)\n",
    "    print(result)\n",
    "except:\n",
    "    print(r)"
   ]
  },
  {
   "cell_type": "code",
   "execution_count": null,
   "metadata": {},
   "outputs": [],
   "source": [
    "# GetBarberCategories\n",
    "\n",
    "r = requests.post('http://127.0.0.1:9000/api/GetBarberCategories/', cookies=r0.cookies)\n",
    "\n",
    "try:\n",
    "    io = StringIO(r.text)\n",
    "    result = json.load(io)\n",
    "    print(result)\n",
    "except:\n",
    "    print(r)"
   ]
  },
  {
   "cell_type": "code",
   "execution_count": null,
   "metadata": {},
   "outputs": [],
   "source": [
    "# GetBarberCategory\n",
    "\n",
    "params = {'id':1}\n",
    "\n",
    "r = requests.post('http://127.0.0.1:9000/api/GetBarberCategory/', json = params, cookies=r0.cookies)\n",
    "\n",
    "try:\n",
    "    io = StringIO(r.text)\n",
    "    result = json.load(io)\n",
    "    print(result)\n",
    "except:\n",
    "    print(r)"
   ]
  },
  {
   "cell_type": "code",
   "execution_count": null,
   "metadata": {},
   "outputs": [],
   "source": [
    "# GetOffices\n",
    "\n",
    "r = requests.post('http://127.0.0.1:9000/api/GetOffices/', cookies=r0.cookies)\n",
    "\n",
    "try:\n",
    "    io = StringIO(r.text)\n",
    "    result = json.load(io)\n",
    "    print(result)\n",
    "except:\n",
    "    print(r)"
   ]
  },
  {
   "cell_type": "code",
   "execution_count": null,
   "metadata": {},
   "outputs": [],
   "source": [
    "# GetOffice\n",
    "\n",
    "params = {'id':1}\n",
    "\n",
    "r = requests.post('http://127.0.0.1:9000/api/GetOffice/', json = params, cookies=r0.cookies)\n",
    "\n",
    "try:\n",
    "    io = StringIO(r.text)\n",
    "    result = json.load(io)\n",
    "    print(result)\n",
    "except:\n",
    "    print(r)"
   ]
  },
  {
   "cell_type": "code",
   "execution_count": null,
   "metadata": {},
   "outputs": [],
   "source": [
    "# GetCurrentSession\n",
    "\n",
    "params = {'officeId':1}\n",
    "\n",
    "r = requests.post('http://127.0.0.1:9000/api/GetCurrentSession/', json = params, cookies=r0.cookies)\n",
    "\n",
    "try:\n",
    "    io = StringIO(r.text)\n",
    "    result = json.load(io)\n",
    "    print(result)\n",
    "except:\n",
    "    print(r)"
   ]
  },
  {
   "cell_type": "code",
   "execution_count": null,
   "metadata": {},
   "outputs": [],
   "source": [
    "# GetSession\n",
    "\n",
    "params = {'id':2,\n",
    "          'employeeIds':[1,2],\n",
    "          \"withOperations\": 'false'\n",
    "         }\n",
    "\n",
    "r = requests.post('http://127.0.0.1:9000/api/GetSession/', json = params, cookies=r0.cookies)\n",
    "\n",
    "try:\n",
    "    io = StringIO(r.text)\n",
    "    result = json.load(io)\n",
    "    print(result)\n",
    "except:\n",
    "    print(r)"
   ]
  },
  {
   "cell_type": "code",
   "execution_count": 17,
   "metadata": {},
   "outputs": [
    {
     "name": "stdout",
     "output_type": "stream",
     "text": [
      "[{'id': 1, 'dateOpened': '30.12.2018 09:00', 'dateClosed': '30.12.2018 23:00', 'employees': [{'userId': 3, 'starttime': '10:00', 'endtime': '18:00'}, {'userId': 4, 'starttime': '14:00', 'endtime': '22:00'}, {'userId': 1, 'starttime': '09:00', 'endtime': '23:00'}], 'officeId': 1, 'state': 'closed', 'operations': [{'id': 1, 'type': 'serviceoperation', 'photos': None, 'review': None, 'adminId': 1, 'cashSum': None, 'comment': None, 'bonusSum': None, 'clientId': 1, 'masterId': 4, 'officeId': 1, 'serviceId': 1, 'cashlessSum': None, 'discountSum': None, 'clientRating': None, 'totalRevenue': None, 'controlRating': None, 'startDatetime': '2018-12-31T11:00:00', 'finishDatetime': '2018-12-31T12:00:00'}, {'id': 2, 'type': 'serviceoperation', 'photos': None, 'review': None, 'adminId': 1, 'cashSum': None, 'comment': None, 'bonusSum': None, 'clientId': 2, 'masterId': 3, 'officeId': 1, 'serviceId': 2, 'cashlessSum': None, 'discountSum': None, 'clientRating': 10, 'totalRevenue': None, 'controlRating': 10, 'startDatetime': '2018-12-31T12:00:00', 'finishDatetime': '2018-12-31T13:00:00'}, {'id': 1, 'type': 'goodsoperation', 'adminId': 1, 'cashSum': None, 'comment': None, 'bonusSum': None, 'clientId': 1, 'datetime': '2018-12-31T12:00:00', 'goodsIds': [1], 'masterId': 4, 'officeId': 1, 'cashlessSum': None, 'discountSum': None, 'totalRevenue': None}, {'id': 2, 'type': 'goodsoperation', 'adminId': 1, 'cashSum': None, 'comment': None, 'bonusSum': None, 'clientId': 1, 'datetime': '2018-12-31T13:00:00', 'goodsIds': [1], 'masterId': 4, 'officeId': 1, 'cashlessSum': None, 'discountSum': None, 'totalRevenue': None}, {'id': 1, 'sum': 5000, 'type': 'spendoperation', 'cashSum': 1000, 'comment': None, 'datetime': '2018-12-30T09:00:00', 'officeId': 1, 'cashlessSum': 4000, 'expenseTypeId': 1}, {'id': 2, 'sum': 10000, 'type': 'spendoperation', 'cashSum': 5000, 'comment': None, 'datetime': '2018-12-30T09:00:00', 'officeId': 1, 'cashlessSum': 5000, 'expenseTypeId': 1}, {'id': 1, 'sum': 1000, 'type': 'employeepayment', 'cashSum': None, 'comment': None, 'datetime': '2018-12-30T09:00:00', 'officeId': 1, 'employeeId': 3, 'cashlessSum': None, 'employeePaymentTypeId': 1}, {'id': 2, 'sum': -300, 'type': 'employeepayment', 'cashSum': None, 'comment': 'Сломал ножницы', 'datetime': '2018-12-30T09:00:00', 'officeId': 1, 'employeeId': 4, 'cashlessSum': None, 'employeePaymentTypeId': 1}]}, {'id': 4, 'dateOpened': '11.10.2019 09:00', 'dateClosed': '11.10.2019 23:00', 'employees': [{'userId': 3, 'starttime': '10:00', 'endtime': '18:00'}, {'userId': 4, 'starttime': '14:00', 'endtime': '22:00'}, {'userId': 1, 'starttime': '09:00', 'endtime': '23:00'}], 'officeId': 1, 'state': 'closed', 'operations': None}, {'id': 3, 'dateOpened': '29.09.2019 10:10', 'dateClosed': '20.10.2019 20:15', 'employees': [{'id': 1, 'role': 'officeAdmin', 'workHours': 6}, {'id': 4, 'role': 'master', 'workHours': 6}], 'officeId': 1, 'state': 'closed', 'operations': [{'id': 3, 'type': 'serviceoperation', 'photos': None, 'review': 'Отзыв клиента', 'adminId': 2, 'cashSum': 100, 'comment': 'Комментарий', 'bonusSum': None, 'clientId': 2, 'masterId': 3, 'officeId': 3, 'serviceId': 3, 'cashlessSum': 100, 'discountSum': 100, 'clientRating': 10, 'totalRevenue': None, 'controlRating': None, 'startDatetime': '2019-11-10T11:11:00', 'finishDatetime': '2019-11-10T12:11:00'}, {'id': 4, 'type': 'serviceoperation', 'photos': None, 'review': 'Отзыв клиента', 'adminId': 2, 'cashSum': 100, 'comment': 'Комментарий', 'bonusSum': None, 'clientId': 2, 'masterId': 3, 'officeId': 3, 'serviceId': 3, 'cashlessSum': 100, 'discountSum': 100, 'clientRating': 10, 'totalRevenue': None, 'controlRating': None, 'startDatetime': '2019-11-10T11:11:00', 'finishDatetime': '2019-11-10T12:11:00'}, {'id': 5, 'type': 'serviceoperation', 'photos': None, 'review': 'Отзыв клиента', 'adminId': 2, 'cashSum': 100, 'comment': 'Комментарий', 'bonusSum': None, 'clientId': 2, 'masterId': 3, 'officeId': 3, 'serviceId': 3, 'cashlessSum': 100, 'discountSum': 100, 'clientRating': 10, 'totalRevenue': None, 'controlRating': None, 'startDatetime': '2019-11-10T11:11:00', 'finishDatetime': '2019-11-10T12:11:00'}, {'id': 6, 'type': 'serviceoperation', 'photos': None, 'review': 'Отзыв клиента', 'adminId': 2, 'cashSum': 100, 'comment': 'Комментарий', 'bonusSum': None, 'clientId': 2, 'masterId': 3, 'officeId': 3, 'serviceId': 3, 'cashlessSum': 100, 'discountSum': 100, 'clientRating': 10, 'totalRevenue': None, 'controlRating': None, 'startDatetime': '2019-11-10T11:11:00', 'finishDatetime': '2019-11-10T12:11:00'}, {'id': 7, 'type': 'serviceoperation', 'photos': None, 'review': 'Отзыв клиента', 'adminId': 2, 'cashSum': 100, 'comment': 'Комментарий', 'bonusSum': None, 'clientId': 2, 'masterId': 3, 'officeId': 3, 'serviceId': 3, 'cashlessSum': 100, 'discountSum': 100, 'clientRating': 10, 'totalRevenue': None, 'controlRating': None, 'startDatetime': '2019-11-10T11:11:00', 'finishDatetime': '2019-11-10T12:11:00'}, {'id': 8, 'type': 'serviceoperation', 'photos': None, 'review': 'Отзыв клиента', 'adminId': 2, 'cashSum': 100, 'comment': 'Комментарий', 'bonusSum': None, 'clientId': 2, 'masterId': 3, 'officeId': 3, 'serviceId': 3, 'cashlessSum': 100, 'discountSum': 100, 'clientRating': 10, 'totalRevenue': None, 'controlRating': None, 'startDatetime': '2019-11-10T11:11:00', 'finishDatetime': '2019-11-10T12:11:00'}, {'id': 9, 'type': 'serviceoperation', 'photos': None, 'review': 'Отзыв клиента', 'adminId': 2, 'cashSum': 100, 'comment': 'Комментарий', 'bonusSum': None, 'clientId': 2, 'masterId': 3, 'officeId': 3, 'serviceId': 3, 'cashlessSum': 100, 'discountSum': 100, 'clientRating': 10, 'totalRevenue': None, 'controlRating': None, 'startDatetime': '2019-11-10T11:11:00', 'finishDatetime': '2019-11-10T12:11:00'}, {'id': 10, 'type': 'serviceoperation', 'photos': None, 'review': 'Отзыв клиента', 'adminId': 2, 'cashSum': 100, 'comment': 'Комментарий', 'bonusSum': None, 'clientId': 2, 'masterId': 3, 'officeId': 3, 'serviceId': 3, 'cashlessSum': 100, 'discountSum': 100, 'clientRating': 10, 'totalRevenue': None, 'controlRating': None, 'startDatetime': '2019-11-10T11:11:00', 'finishDatetime': '2019-11-10T12:11:00'}, {'id': 3, 'type': 'goodsoperation', 'adminId': 1, 'cashSum': 100, 'comment': 'Комментарий', 'bonusSum': None, 'clientId': 1, 'datetime': '2019-11-10T12:11:00', 'goodsIds': [1, 2, 3], 'masterId': 4, 'officeId': 3, 'cashlessSum': 100, 'discountSum': 100, 'totalRevenue': None}, {'id': 4, 'type': 'goodsoperation', 'adminId': 1, 'cashSum': 100, 'comment': 'Комментарий', 'bonusSum': None, 'clientId': 1, 'datetime': '2019-11-10T12:11:00', 'goodsIds': [1, 2, 3], 'masterId': 4, 'officeId': 3, 'cashlessSum': 100, 'discountSum': 100, 'totalRevenue': None}, {'id': 5, 'type': 'goodsoperation', 'adminId': 1, 'cashSum': 100, 'comment': 'Комментарий', 'bonusSum': None, 'clientId': 1, 'datetime': '2019-11-10T12:11:00', 'goodsIds': [1, 2, 3], 'masterId': 4, 'officeId': 3, 'cashlessSum': 100, 'discountSum': 100, 'totalRevenue': None}, {'id': 6, 'type': 'goodsoperation', 'adminId': 1, 'cashSum': 100, 'comment': 'Комментарий', 'bonusSum': None, 'clientId': 1, 'datetime': '2019-11-10T12:11:00', 'goodsIds': [1, 2, 3], 'masterId': 4, 'officeId': 3, 'cashlessSum': 100, 'discountSum': 100, 'totalRevenue': None}, {'id': 7, 'type': 'goodsoperation', 'adminId': 1, 'cashSum': 100, 'comment': 'Комментарий', 'bonusSum': None, 'clientId': 1, 'datetime': '2019-11-10T12:11:00', 'goodsIds': [1, 2, 3], 'masterId': 4, 'officeId': 3, 'cashlessSum': 100, 'discountSum': 100, 'totalRevenue': None}, {'id': 8, 'type': 'goodsoperation', 'adminId': 1, 'cashSum': 100, 'comment': 'Комментарий', 'bonusSum': None, 'clientId': 1, 'datetime': '2019-11-10T12:11:00', 'goodsIds': [1, 2, 3], 'masterId': 4, 'officeId': 3, 'cashlessSum': 100, 'discountSum': 100, 'totalRevenue': None}, {'id': 9, 'type': 'goodsoperation', 'adminId': 1, 'cashSum': 100, 'comment': 'Комментарий', 'bonusSum': None, 'clientId': 1, 'datetime': '2019-11-10T12:11:00', 'goodsIds': [1, 2, 3], 'masterId': 4, 'officeId': 3, 'cashlessSum': 100, 'discountSum': 100, 'totalRevenue': None}, {'id': 10, 'type': 'goodsoperation', 'adminId': 1, 'cashSum': 100, 'comment': 'Комментарий', 'bonusSum': None, 'clientId': 1, 'datetime': '2019-11-10T12:11:00', 'goodsIds': [1, 2, 3], 'masterId': 4, 'officeId': 3, 'cashlessSum': 100, 'discountSum': 100, 'totalRevenue': None}, {'id': 3, 'sum': 500, 'type': 'spendoperation', 'cashSum': None, 'comment': 'Комментарий', 'datetime': '2019-11-10T12:11:00', 'officeId': 3, 'cashlessSum': None, 'expenseTypeId': 3}, {'id': 4, 'sum': 500, 'type': 'spendoperation', 'cashSum': None, 'comment': 'Комментарий', 'datetime': '2019-11-10T12:11:00', 'officeId': 3, 'cashlessSum': None, 'expenseTypeId': 3}, {'id': 5, 'sum': 500, 'type': 'spendoperation', 'cashSum': None, 'comment': 'Комментарий', 'datetime': '2019-11-10T12:11:00', 'officeId': 3, 'cashlessSum': None, 'expenseTypeId': 3}, {'id': 6, 'sum': 500, 'type': 'spendoperation', 'cashSum': None, 'comment': 'Комментарий', 'datetime': '2019-11-10T12:11:00', 'officeId': 3, 'cashlessSum': None, 'expenseTypeId': 3}, {'id': 7, 'sum': 500, 'type': 'spendoperation', 'cashSum': None, 'comment': 'Комментарий', 'datetime': '2019-11-10T12:11:00', 'officeId': 3, 'cashlessSum': None, 'expenseTypeId': 3}, {'id': 8, 'sum': 500, 'type': 'spendoperation', 'cashSum': None, 'comment': 'Комментарий', 'datetime': '2019-11-10T12:11:00', 'officeId': 3, 'cashlessSum': None, 'expenseTypeId': 3}, {'id': 9, 'sum': 500, 'type': 'spendoperation', 'cashSum': None, 'comment': 'Комментарий', 'datetime': '2019-11-10T12:11:00', 'officeId': 3, 'cashlessSum': None, 'expenseTypeId': 3}, {'id': 10, 'sum': 500, 'type': 'spendoperation', 'cashSum': None, 'comment': 'Комментарий', 'datetime': '2019-11-10T12:11:00', 'officeId': 3, 'cashlessSum': None, 'expenseTypeId': 3}, {'id': 3, 'sum': 1000, 'type': 'employeepayment', 'cashSum': None, 'comment': 'Комментарий', 'datetime': '2019-11-10T12:11:00', 'officeId': 3, 'employeeId': 3, 'cashlessSum': None, 'employeePaymentTypeId': 1}, {'id': 4, 'sum': 1000, 'type': 'employeepayment', 'cashSum': None, 'comment': 'Комментарий', 'datetime': '2019-11-10T12:11:00', 'officeId': 3, 'employeeId': 3, 'cashlessSum': None, 'employeePaymentTypeId': 1}, {'id': 5, 'sum': 1000, 'type': 'employeepayment', 'cashSum': None, 'comment': 'Комментарий', 'datetime': '2019-11-10T12:11:00', 'officeId': 3, 'employeeId': 3, 'cashlessSum': None, 'employeePaymentTypeId': 1}, {'id': 6, 'sum': 1000, 'type': 'employeepayment', 'cashSum': None, 'comment': 'Комментарий', 'datetime': '2019-11-10T12:11:00', 'officeId': 3, 'employeeId': 3, 'cashlessSum': None, 'employeePaymentTypeId': 1}, {'id': 7, 'sum': 1000, 'type': 'employeepayment', 'cashSum': None, 'comment': 'Комментарий', 'datetime': '2019-11-10T12:11:00', 'officeId': 3, 'employeeId': 3, 'cashlessSum': None, 'employeePaymentTypeId': 1}, {'id': 8, 'sum': 1000, 'type': 'employeepayment', 'cashSum': None, 'comment': 'Комментарий', 'datetime': '2019-11-10T12:11:00', 'officeId': 3, 'employeeId': 3, 'cashlessSum': None, 'employeePaymentTypeId': 1}]}, {'id': 2, 'dateOpened': '20.10.2019 00:00', 'dateClosed': '20.10.2019 00:00', 'employees': [{'id': 1, 'role': 'officeAdmin', 'workHours': 6}, {'id': 4, 'role': 'master', 'workHours': 6}], 'officeId': 2, 'state': 'closed', 'operations': None}, {'id': 6, 'dateOpened': '20.10.2019 20:22', 'dateClosed': None, 'employees': [{'id': 1, 'role': 'officeAdmin', 'workHours': 6}, {'id': 4, 'role': 'master', 'workHours': 6}], 'officeId': 2, 'state': 'open', 'operations': None}, {'id': 7, 'dateOpened': '20.10.2019 20:25', 'dateClosed': None, 'employees': [{'id': 1, 'role': 'officeAdmin', 'workHours': 6}, {'id': 4, 'role': 'master', 'workHours': 6}], 'officeId': 2, 'state': 'open', 'operations': None}]\n"
     ]
    }
   ],
   "source": [
    "# GetSessions\n",
    "\n",
    "params = {\n",
    "    \"dateFrom\": '01.01.2018',\n",
    "    \"dateTo\": '01.01.2020',\n",
    "    \"operationType\":['serviceoperation','goodsoperation',\"spendoperation\",\"employeepayment\"]\n",
    "}\n",
    "\n",
    "r = requests.post('http://127.0.0.1:9000/api/GetSessions/', json = params, cookies=r0.cookies)\n",
    "\n",
    "try:\n",
    "    io = StringIO(r.text)\n",
    "    result = json.load(io)\n",
    "    print(result)\n",
    "except:\n",
    "    print(r)"
   ]
  },
  {
   "cell_type": "code",
   "execution_count": null,
   "metadata": {},
   "outputs": [],
   "source": [
    "# GetServicesPrices\n",
    "\n",
    "r = requests.post('http://127.0.0.1:9000/api/GetServicesPrices/', cookies=r0.cookies)\n",
    "\n",
    "try:\n",
    "    io = StringIO(r.text)\n",
    "    result = json.load(io)\n",
    "    print(result)\n",
    "except:\n",
    "    print(r)"
   ]
  },
  {
   "cell_type": "code",
   "execution_count": null,
   "metadata": {},
   "outputs": [],
   "source": [
    "# GetServiceOperation\n",
    "\n",
    "params = {'id':1}\n",
    "\n",
    "r = requests.post('http://127.0.0.1:9000/api/GetServiceOperation/', json = params, cookies=r0.cookies)\n",
    "\n",
    "try:\n",
    "    io = StringIO(r.text)\n",
    "    result = json.load(io)\n",
    "    print(result)\n",
    "except:\n",
    "    print(r)"
   ]
  },
  {
   "cell_type": "code",
   "execution_count": null,
   "metadata": {},
   "outputs": [],
   "source": [
    "# GetGoods\n",
    "\n",
    "r = requests.post('http://127.0.0.1:9000/api/GetGoods/', cookies=r0.cookies)\n",
    "\n",
    "try:\n",
    "    io = StringIO(r.text)\n",
    "    result = json.load(io)\n",
    "    print(result)\n",
    "except:\n",
    "    print(r)"
   ]
  },
  {
   "cell_type": "code",
   "execution_count": null,
   "metadata": {},
   "outputs": [],
   "source": [
    "# GetGood\n",
    "\n",
    "params = {'id':1}\n",
    "\n",
    "r = requests.post('http://127.0.0.1:9000/api/GetGood/', json = params, cookies=r0.cookies)\n",
    "\n",
    "try:\n",
    "    io = StringIO(r.text)\n",
    "    result = json.load(io)\n",
    "    print(result)\n",
    "except:\n",
    "    print(r)"
   ]
  },
  {
   "cell_type": "code",
   "execution_count": null,
   "metadata": {},
   "outputs": [],
   "source": [
    "# GetGoodsOperation\n",
    "\n",
    "params = {'id':1}\n",
    "\n",
    "r = requests.post('http://127.0.0.1:9000/api/GetGoodsOperation/', json = params, cookies=r0.cookies)\n",
    "\n",
    "try:\n",
    "    io = StringIO(r.text)\n",
    "    result = json.load(io)\n",
    "    print(result)\n",
    "except:\n",
    "    print(r)"
   ]
  },
  {
   "cell_type": "code",
   "execution_count": null,
   "metadata": {},
   "outputs": [],
   "source": [
    "# GetSpendTypes\n",
    "\n",
    "r = requests.post('http://127.0.0.1:9000/api/GetSpendTypes/', cookies=r0.cookies)\n",
    "\n",
    "try:\n",
    "    io = StringIO(r.text)\n",
    "    result = json.load(io)\n",
    "    print(result)\n",
    "except:\n",
    "    print(r)"
   ]
  },
  {
   "cell_type": "code",
   "execution_count": null,
   "metadata": {},
   "outputs": [],
   "source": [
    "# GetSpendType\n",
    "\n",
    "params = {'id':1}\n",
    "\n",
    "r = requests.post('http://127.0.0.1:9000/api/GetSpendType/', json = params, cookies=r0.cookies)\n",
    "\n",
    "try:\n",
    "    io = StringIO(r.text)\n",
    "    result = json.load(io)\n",
    "    print(result)\n",
    "except:\n",
    "    print(r)"
   ]
  },
  {
   "cell_type": "code",
   "execution_count": null,
   "metadata": {},
   "outputs": [],
   "source": [
    "# GetSpendOperation\n",
    "\n",
    "params = {'id':1}\n",
    "\n",
    "r = requests.post('http://127.0.0.1:9000/api/GetSpendOperation/', json = params, cookies=r0.cookies)\n",
    "\n",
    "try:\n",
    "    io = StringIO(r.text)\n",
    "    result = json.load(io)\n",
    "    print(result)\n",
    "except:\n",
    "    print(r)"
   ]
  },
  {
   "cell_type": "code",
   "execution_count": null,
   "metadata": {},
   "outputs": [],
   "source": [
    "# GetEmployeePaymentTypes\n",
    "\n",
    "r = requests.post('http://127.0.0.1:9000/api/GetEmployeePaymentTypes/', cookies=r0.cookies)\n",
    "\n",
    "try:\n",
    "    io = StringIO(r.text)\n",
    "    result = json.load(io)\n",
    "    print(result)\n",
    "except:\n",
    "    print(r)"
   ]
  },
  {
   "cell_type": "code",
   "execution_count": 2,
   "metadata": {},
   "outputs": [
    {
     "name": "stdout",
     "output_type": "stream",
     "text": [
      "{'id': 1, 'name': 'НДФЛ', 'defaultSum': 5000.0}\n"
     ]
    }
   ],
   "source": [
    "# GetEmployeePaymentType\n",
    "\n",
    "params = {'id':1}\n",
    "\n",
    "r = requests.post('http://127.0.0.1:9000/api/GetEmployeePaymentType/', json = params, cookies=r0.cookies)\n",
    "\n",
    "try:\n",
    "    io = StringIO(r.text)\n",
    "    result = json.load(io)\n",
    "    print(result)\n",
    "except:\n",
    "    print(r)"
   ]
  },
  {
   "cell_type": "code",
   "execution_count": null,
   "metadata": {},
   "outputs": [],
   "source": [
    "# GetEmployeePaymentOperation\n",
    "\n",
    "params = {'id':1}\n",
    "\n",
    "r = requests.post('http://127.0.0.1:9000/api/GetEmployeePaymentOperation/', json = params, cookies=r0.cookies)\n",
    "\n",
    "try:\n",
    "    io = StringIO(r.text)\n",
    "    result = json.load(io)\n",
    "    print(result)\n",
    "except:\n",
    "    print(r)"
   ]
  },
  {
   "cell_type": "code",
   "execution_count": null,
   "metadata": {},
   "outputs": [],
   "source": [
    "# GetClient\n",
    "\n",
    "params = {'id':1}\n",
    "\n",
    "r = requests.post('http://127.0.0.1:9000/api/GetClient/', json = params, cookies=r0.cookies)\n",
    "\n",
    "try:\n",
    "    io = StringIO(r.text)\n",
    "    result = json.load(io)\n",
    "    print(result)\n",
    "except:\n",
    "    print(r)"
   ]
  },
  {
   "cell_type": "code",
   "execution_count": null,
   "metadata": {},
   "outputs": [],
   "source": [
    "# GetClients\n",
    "\n",
    "params = {'q':'кли'}\n",
    "\n",
    "r = requests.post('http://127.0.0.1:9000/api/GetClients/', json = params, cookies=r0.cookies)\n",
    "\n",
    "try:\n",
    "    io = StringIO(r.text)\n",
    "    result = json.load(io)\n",
    "    print(result)\n",
    "except:\n",
    "    print(r)"
   ]
  },
  {
   "cell_type": "code",
   "execution_count": null,
   "metadata": {},
   "outputs": [],
   "source": [
    "{\"type\": \"serviceoperation\", \"operations\": [{\"id\": 2, \"review\": null, \"adminId\": 1, \"cashSum\": null, \"comment\": null, \"bonusSum\": null, \"clientId\": 2, \"masterId\": 3, \"officeId\": 1, \"photoUrls\": [\"www.ingate.ru\"], \"serviceId\": 2, \"sessionId\": 1, \"cashlessSum\": null, \"discountSum\": null, \"clientRating\": 10, \"totalRevenue\": null, \"controlRating\": 10, \"startDatetime\": \"2018-12-31T12:00:00\", \"finishDatetime\": \"2018-12-31T13:00:00\"}]}"
   ]
  },
  {
   "cell_type": "code",
   "execution_count": null,
   "metadata": {},
   "outputs": [],
   "source": [
    "# GenerateEmployeeReport\n",
    "\n",
    "params = {'period':'01.12.2018',\n",
    "         'groupingtype':'office'}\n",
    "\n",
    "r = requests.post('http://127.0.0.1:9000/api/GenerateEmployeeReport/', json = params, cookies=r0.cookies)\n",
    "\n",
    "try:\n",
    "    io = StringIO(r.text)\n",
    "    result = json.load(io)\n",
    "    print(result)\n",
    "except:\n",
    "    print(r)"
   ]
  },
  {
   "cell_type": "code",
   "execution_count": null,
   "metadata": {},
   "outputs": [],
   "source": [
    "# GenerateClientReport\n",
    "\n",
    "params = {'period':'01.12.2018',\n",
    "         'groupingtype':'office'}\n",
    "\n",
    "r = requests.post('http://127.0.0.1:9000/api/GenerateClientReport/', json = params, cookies=r0.cookies)\n",
    "\n",
    "try:\n",
    "    io = StringIO(r.text)\n",
    "    result = json.load(io)\n",
    "    print(result)\n",
    "except:\n",
    "    print(r)"
   ]
  },
  {
   "cell_type": "code",
   "execution_count": 34,
   "metadata": {},
   "outputs": [
    {
     "name": "stdout",
     "output_type": "stream",
     "text": [
      "{'officeId': 1, 'yearmonth': '01.12.2018 00:00', 'operationcount': 8, 'serviceoperationcount': 2, 'goodsoperationcount': 2, 'spendoperationcount': 4, 'serviceincome': None, 'goodsincome': None, 'totalcash': None, 'totalcashless': None, 'totalincome': None, 'totalspend': 15000.0, 'totalrevenue': None, 'totalemployees': 3, 'total_time': None}\n"
     ]
    }
   ],
   "source": [
    "# GenerateFinanceReport\n",
    "\n",
    "params = {'period':'01.12.2018',\n",
    "         'groupingtype':'-'}\n",
    "\n",
    "r = requests.post('http://127.0.0.1:9000/api/GenerateFinanceReport/', json = params, cookies=r0.cookies)\n",
    "\n",
    "try:\n",
    "    io = StringIO(r.text)\n",
    "    result = json.load(io)\n",
    "    print(result)\n",
    "except:\n",
    "    print(r)"
   ]
  },
  {
   "cell_type": "code",
   "execution_count": 37,
   "metadata": {},
   "outputs": [
    {
     "name": "stdout",
     "output_type": "stream",
     "text": [
      "{'filename': '2019-10-17-09-43_4efe2bf2021c493381a83631efea61ba.xlsx'}\n"
     ]
    }
   ],
   "source": [
    "r = requests.post('http://127.0.0.1:9000/api/DownloadReport/', json = result, cookies=r0.cookies)\n",
    "\n",
    "try:\n",
    "    io = StringIO(r.text)\n",
    "    result = json.load(io)\n",
    "    print(result)\n",
    "except:\n",
    "    print(r)"
   ]
  },
  {
   "cell_type": "code",
   "execution_count": null,
   "metadata": {},
   "outputs": [],
   "source": [
    "# EditOffice\n",
    "\n",
    "params = { 'id':'null',\n",
    "'name':'Токио',\n",
    "'city':'Токио',\n",
    "'address':'г. Токио, ул. Демонстрации, 51',\n",
    "'coordinatex':0.2,\n",
    "'coordinatey':0.2,\n",
    "'state':'open'}\n",
    "\n",
    "r = requests.post('http://127.0.0.1:9000/api/EditOffice/', json = params, cookies=r0.cookies)\n",
    "\n",
    "try:\n",
    "    io = StringIO(r.text)\n",
    "    result = json.load(io)\n",
    "    print(result)\n",
    "except:\n",
    "    print(r)"
   ]
  },
  {
   "cell_type": "code",
   "execution_count": 5,
   "metadata": {},
   "outputs": [
    {
     "name": "stdout",
     "output_type": "stream",
     "text": [
      "{'id': 7}\n"
     ]
    }
   ],
   "source": [
    "# EditSession\n",
    "\n",
    "params = {\"dateClosed\": None,\n",
    "\"dateOpened\": \"2019-10-20T20:25:37.566Z\",\n",
    "\"employees\": [{\"id\": 1, \"role\": \"officeAdmin\", \"workHours\": 6}, {\"id\": 4, \"role\": \"master\", \"workHours\": 6}],\n",
    "\"id\": None,\n",
    "\"officeId\": 2,\n",
    "\"openCash\": 0,\n",
    "\"state\": \"open\"}\n",
    "\n",
    "r = requests.post('http://127.0.0.1:9000/api/EditSession/', json = params, cookies=r0.cookies)\n",
    "\n",
    "try:\n",
    "    io = StringIO(r.text)\n",
    "    result = json.load(io)\n",
    "    print(result)\n",
    "except:\n",
    "    print(r)"
   ]
  },
  {
   "cell_type": "code",
   "execution_count": null,
   "metadata": {},
   "outputs": [],
   "source": [
    "# EditClient\n",
    "\n",
    "params = [\n",
    "    {'id':1,\n",
    "    'contacts':[\n",
    "        {\"type\": \"phone\",\n",
    "         \"value\": \"+12345\"}\n",
    "    ]},\n",
    "    { 'id':2,\n",
    "    'contacts':[\n",
    "        {\"type\": \"phone\",\n",
    "        \"value\": \"+11111\"}]},\n",
    "    { 'id':3,\n",
    "    'contacts':[\n",
    "        {\n",
    "            \"type\": \"phone\",\n",
    "            \"value\": \"+1111\"\n",
    "        }\n",
    "    ]}\n",
    "]\n",
    "\n",
    "\n",
    "\n",
    "\n",
    "\n",
    "r = requests.post('http://127.0.0.1:9000/api/EditClient/', json = params, cookies=r0.cookies)\n",
    "\n",
    "try:\n",
    "    io = StringIO(r.text)\n",
    "    result = json.load(io)\n",
    "    print(result)\n",
    "except:\n",
    "    print(r)"
   ]
  },
  {
   "cell_type": "code",
   "execution_count": null,
   "metadata": {},
   "outputs": [],
   "source": [
    "# EditOperations\n",
    "params = [\n",
    "    {\n",
    "        \"id\":'null',\n",
    "        \"operationType\": 'serviceoperation',\n",
    "        \"officeId\": 3,\n",
    "        \"sessionId\": 3,\n",
    "        \"serviceId\": 3,\n",
    "        \"startDatetime\": '11.10.2019 11:11',\n",
    "        \"finishDatetime\": '11.10.2019 12:11',\n",
    "        \"adminId\": 2,\n",
    "        \"masterId\": 3,\n",
    "        \"clientId\": 2,\n",
    "        \"cashSum\": 100,\n",
    "        \"cashlessSum\": 100,\n",
    "        \"discountSum\": 100,\n",
    "        \"clientRating\": 10,\n",
    "        \"review\": 'Отзыв клиента',\n",
    "        \"comment\": 'Комментарий'\n",
    "    },\n",
    "    {\n",
    "        \"id\":'null',\n",
    "        \"operationType\": 'goodsoperation',\n",
    "        \"officeId\": 3,\n",
    "        \"sessionId\": 3,\n",
    "        \"goodsIds\": [1,2,3],\n",
    "        \"datetime\": '11.10.2019 12:11',\n",
    "        \"adminId\": 1,\n",
    "        \"masterId\": 4,\n",
    "        \"clientId\": 1,\n",
    "        \"cashSum\": 100,\n",
    "        \"cashlessSum\": 100,\n",
    "        \"discountSum\": 100,\n",
    "        \"comment\": 'Комментарий'\n",
    "    },\n",
    "    {\n",
    "        \"id\":'null',\n",
    "        \"operationType\": 'spendoperation',\n",
    "        \"officeId\": 3,\n",
    "        \"sessionId\": 3,\n",
    "        \"expenseTypeId\": 3,\n",
    "        \"datetime\": '11.10.2019 12:11',\n",
    "        \"sum\": 500,\n",
    "        \"comment\": 'Комментарий'\n",
    "    },\n",
    "    {\n",
    "        \"id\":'null',\n",
    "        \"operationType\": 'employeePayment',\n",
    "        \"officeId\": 3,\n",
    "        \"sessionId\": 3,\n",
    "        \"employeeId\": 3,\n",
    "        \"employeePaymentTypeId\": 1,\n",
    "        \"datetime\": '11.10.2019 12:11',\n",
    "        \"sum\": 1000,\n",
    "        \"comment\": 'Комментарий'\n",
    "    }\n",
    "]\n",
    "\n",
    "r = requests.post('http://127.0.0.1:9000/api/EditOperations/', json = params, cookies=r0.cookies)\n",
    "\n",
    "try:\n",
    "    io = StringIO(r.text)\n",
    "    result = json.load(io)\n",
    "    print(result)\n",
    "except:\n",
    "    print(r)"
   ]
  },
  {
   "cell_type": "code",
   "execution_count": null,
   "metadata": {},
   "outputs": [],
   "source": [
    "# EditEmployee\n",
    "params = [{'id': 3, 'name': 'Морковная Светлана Павловна'},\n",
    "{'id': 6, 'name': 'Очередной Владимир Барбершопович'},\n",
    "{'id': 5, 'name': 'Администраторов Администратор Администраторович'}]\n",
    "\n",
    "r = requests.post('http://127.0.0.1:9000/api/EditEmployee/', json = params, cookies=r0.cookies)\n",
    "\n",
    "try:\n",
    "    io = StringIO(r.text)\n",
    "    result = json.load(io)\n",
    "    print(result)\n",
    "except:\n",
    "    print(r)"
   ]
  },
  {
   "cell_type": "code",
   "execution_count": null,
   "metadata": {},
   "outputs": [],
   "source": [
    "# EditBarberCategory\n",
    "params = { 'id':'null',\n",
    "'name':'Иисус-мастер',\n",
    "'servicePercent': 0.9,\n",
    "'state':'active'}\n",
    "\n",
    "r = requests.post('http://127.0.0.1:9000/api/EditBarberCategory/', json = params, cookies=r0.cookies)\n",
    "\n",
    "try:\n",
    "    io = StringIO(r.text)\n",
    "    result = json.load(io)\n",
    "    print(result)\n",
    "except:\n",
    "    print(r)"
   ]
  },
  {
   "cell_type": "code",
   "execution_count": 21,
   "metadata": {},
   "outputs": [
    {
     "name": "stdout",
     "output_type": "stream",
     "text": [
      "{'error': 'column \"hello\" does not exist\\nLINE 3:     where id = hello\\n                       ^\\n', 'stacktrace': 'Traceback (most recent call last):\\n  File \"/home/malashenko/Barbers/db_provider.py\", line 641, in goToBase\\n    cur.execute(query)\\n  File \"/usr/local/lib/python3.6/dist-packages/psycopg2/extras.py\", line 243, in execute\\n    return super(RealDictCursor, self).execute(query, vars)\\npsycopg2.errors.UndefinedColumn: column \"hello\" does not exist\\nLINE 3:     where id = hello\\n                       ^\\n\\n'}\n"
     ]
    }
   ],
   "source": [
    "# EditEmployeePaymentType\n",
    "params = { 'id':'hello',\n",
    "'defaultSum':6}\n",
    "\n",
    "r = requests.post('http://127.0.0.1:9000/api/EditEmployeePaymentType/', json = params, cookies=r0.cookies)\n",
    "\n",
    "try:\n",
    "    io = StringIO(r.text)\n",
    "    result = json.load(io)\n",
    "    print(result)\n",
    "except:\n",
    "    print(r)"
   ]
  },
  {
   "cell_type": "code",
   "execution_count": null,
   "metadata": {},
   "outputs": [],
   "source": [
    "# EditGood\n",
    "params = [{ 'id':'null',\n",
    "'name':'Еще шампунь',\n",
    "'price':1500.00,\n",
    "'state':'active'},\n",
    "{ 'id':'null',\n",
    "'name':'Еще Кока-кола',\n",
    "'price':1000.00}]\n",
    "\n",
    "r = requests.post('http://127.0.0.1:9000/api/EditGood/', json = params, cookies=r0.cookies)\n",
    "\n",
    "try:\n",
    "    io = StringIO(r.text)\n",
    "    result = json.load(io)\n",
    "    print(result)\n",
    "except:\n",
    "    print(r)"
   ]
  },
  {
   "cell_type": "code",
   "execution_count": null,
   "metadata": {},
   "outputs": [],
   "source": [
    "# EditService\n",
    "params = { 'id':'null',\n",
    "'name':'Стрижка для цисгендера',\n",
    "'prices': [{'category':1,'price':5000.00},{'category':2,'price':6000.00},{'category':3,'price':7000.00},{'category':4,'price':8000.00}],\n",
    "'state':'active'}\n",
    "\n",
    "r = requests.post('http://127.0.0.1:9000/api/EditService/', json = params, cookies=r0.cookies)\n",
    "\n",
    "try:\n",
    "    io = StringIO(r.text)\n",
    "    result = json.load(io)\n",
    "    print(result)\n",
    "except:\n",
    "    print(r)"
   ]
  },
  {
   "cell_type": "code",
   "execution_count": 15,
   "metadata": {},
   "outputs": [
    {
     "name": "stdout",
     "output_type": "stream",
     "text": [
      "{'id': 6}\n"
     ]
    }
   ],
   "source": [
    "# EditSpendtype\n",
    "params = { 'id':6,\n",
    "'name':'Порадовать человека'}\n",
    "\n",
    "r = requests.post('http://127.0.0.1:9000/api/EditSpendType/', json = params, cookies=r0.cookies)\n",
    "\n",
    "try:\n",
    "    io = StringIO(r.text)\n",
    "    result = json.load(io)\n",
    "    print(result)\n",
    "except:\n",
    "    print(r)"
   ]
  },
  {
   "cell_type": "code",
   "execution_count": null,
   "metadata": {},
   "outputs": [],
   "source": []
  }
 ],
 "metadata": {
  "kernelspec": {
   "display_name": "Python 3",
   "language": "python",
   "name": "python3"
  },
  "language_info": {
   "codemirror_mode": {
    "name": "ipython",
    "version": 3
   },
   "file_extension": ".py",
   "mimetype": "text/x-python",
   "name": "python",
   "nbconvert_exporter": "python",
   "pygments_lexer": "ipython3",
   "version": "3.6.8"
  }
 },
 "nbformat": 4,
 "nbformat_minor": 2
}
