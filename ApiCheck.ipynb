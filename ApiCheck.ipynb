{
 "cells": [
  {
   "cell_type": "code",
   "execution_count": 1,
   "metadata": {
    "collapsed": true
   },
   "outputs": [],
   "source": [
    "import requests\n",
    "import json\n",
    "from io import StringIO\n",
    "from flask import Flask\n",
    "from flask import request\n",
    "import requests\n",
    "import json\n",
    "from io import StringIO\n",
    "import psycopg2\n",
    "from psycopg2.extras import RealDictCursor\n",
    "from werkzeug.wrappers import Request, Response"
   ]
  },
  {
   "cell_type": "code",
   "execution_count": 10,
   "metadata": {},
   "outputs": [
    {
     "name": "stdout",
     "output_type": "stream",
     "text": [
      "Success\n"
     ]
    }
   ],
   "source": [
    "# Login\n",
    "params = {'login':'login',\n",
    "'password':'password'}\n",
    "\n",
    "r0 = requests.post('http://127.0.0.1:9000/api/Login/', json = params)\n",
    "\n",
    "try:\n",
    "    io = StringIO(r.text)\n",
    "    result = json.load(io)\n",
    "    print(result)\n",
    "except:\n",
    "    print(r0.text)"
   ]
  },
  {
   "cell_type": "code",
   "execution_count": null,
   "metadata": {
    "collapsed": true
   },
   "outputs": [],
   "source": [
    "r = requests.post('http://127.0.0.1:9000/api/Logout/',cookies=r0.cookies)\n",
    "\n",
    "try:\n",
    "    io = StringIO(r.text)\n",
    "    result = json.load(io)\n",
    "    print(result)\n",
    "except:\n",
    "    print(r)"
   ]
  },
  {
   "cell_type": "code",
   "execution_count": null,
   "metadata": {
    "collapsed": true
   },
   "outputs": [],
   "source": [
    "# GetClients\n",
    "params = {'q':'кли'}\n",
    "\n",
    "r = requests.post('http://127.0.0.1:9000/api/GetClients/', json = params, cookies=r0.cookies)\n",
    "\n",
    "try:\n",
    "    io = StringIO(r.text)\n",
    "    result = json.load(io)\n",
    "    print(result)\n",
    "except:\n",
    "    print(r)"
   ]
  },
  {
   "cell_type": "code",
   "execution_count": null,
   "metadata": {
    "collapsed": true
   },
   "outputs": [],
   "source": [
    "# GetUserData\n",
    "params = {'login':1}\n",
    "\n",
    "r = requests.post('http://127.0.0.1:9000/api/GetUserData/', json = params, cookies=r0.cookies)\n",
    "\n",
    "try:\n",
    "    io = StringIO(r.text)\n",
    "    result = json.load(io)\n",
    "    print(result)\n",
    "except:\n",
    "    print(r)"
   ]
  },
  {
   "cell_type": "code",
   "execution_count": null,
   "metadata": {
    "collapsed": true
   },
   "outputs": [],
   "source": [
    "r"
   ]
  },
  {
   "cell_type": "code",
   "execution_count": null,
   "metadata": {
    "collapsed": true
   },
   "outputs": [],
   "source": [
    "# GetEmployees\n",
    "\n",
    "r = requests.post('http://127.0.0.1:9000/api/GetEmployees/', cookies=r0.cookies)\n",
    "\n",
    "try:\n",
    "    io = StringIO(r.text)\n",
    "    result = json.load(io)\n",
    "    print(result)\n",
    "except:\n",
    "    print(r)"
   ]
  },
  {
   "cell_type": "code",
   "execution_count": null,
   "metadata": {
    "collapsed": true
   },
   "outputs": [],
   "source": []
  },
  {
   "cell_type": "code",
   "execution_count": null,
   "metadata": {
    "collapsed": true
   },
   "outputs": [],
   "source": [
    "# GetEmployee\n",
    "\n",
    "params = {'id':1}\n",
    "\n",
    "r = requests.post('http://127.0.0.1:9000/api/GetEmployee/', json = params, cookies=r0.cookies)\n",
    "\n",
    "try:\n",
    "    io = StringIO(r.text)\n",
    "    result = json.load(io)\n",
    "    print(result)\n",
    "except:\n",
    "    print(r)"
   ]
  },
  {
   "cell_type": "code",
   "execution_count": null,
   "metadata": {
    "collapsed": true
   },
   "outputs": [],
   "source": [
    "# GetAdmins\n",
    "\n",
    "r = requests.post('http://127.0.0.1:9000/api/GetAdmins/', cookies=r0.cookies)\n",
    "\n",
    "try:\n",
    "    io = StringIO(r.text)\n",
    "    result = json.load(io)\n",
    "    print(result)\n",
    "except:\n",
    "    print(r)"
   ]
  },
  {
   "cell_type": "code",
   "execution_count": null,
   "metadata": {
    "collapsed": true
   },
   "outputs": [],
   "source": [
    "# GetMasters\n",
    "\n",
    "r = requests.post('http://127.0.0.1:9000/api/GetMasters/', cookies=r0.cookies)\n",
    "\n",
    "try:\n",
    "    io = StringIO(r.text)\n",
    "    result = json.load(io)\n",
    "    print(result)\n",
    "except:\n",
    "    print(r)"
   ]
  },
  {
   "cell_type": "code",
   "execution_count": null,
   "metadata": {
    "collapsed": true
   },
   "outputs": [],
   "source": [
    "# GetBarberCategories\n",
    "\n",
    "r = requests.post('http://127.0.0.1:9000/api/GetBarberCategories/', cookies=r0.cookies)\n",
    "\n",
    "try:\n",
    "    io = StringIO(r.text)\n",
    "    result = json.load(io)\n",
    "    print(result)\n",
    "except:\n",
    "    print(r)"
   ]
  },
  {
   "cell_type": "code",
   "execution_count": null,
   "metadata": {
    "collapsed": true
   },
   "outputs": [],
   "source": [
    "# GetBarberCategory\n",
    "\n",
    "params = {'id':1}\n",
    "\n",
    "r = requests.post('http://127.0.0.1:9000/api/GetBarberCategory/', json = params, cookies=r0.cookies)\n",
    "\n",
    "try:\n",
    "    io = StringIO(r.text)\n",
    "    result = json.load(io)\n",
    "    print(result)\n",
    "except:\n",
    "    print(r)"
   ]
  },
  {
   "cell_type": "code",
   "execution_count": null,
   "metadata": {
    "collapsed": true
   },
   "outputs": [],
   "source": [
    "# GetOffices\n",
    "\n",
    "r = requests.post('http://127.0.0.1:9000/api/GetOffices/', cookies=r0.cookies)\n",
    "\n",
    "try:\n",
    "    io = StringIO(r.text)\n",
    "    result = json.load(io)\n",
    "    print(result)\n",
    "except:\n",
    "    print(r)"
   ]
  },
  {
   "cell_type": "code",
   "execution_count": null,
   "metadata": {
    "collapsed": true
   },
   "outputs": [],
   "source": [
    "# GetOffice\n",
    "\n",
    "params = {'id':1}\n",
    "\n",
    "r = requests.post('http://127.0.0.1:9000/api/GetOffice/', json = params, cookies=r0.cookies)\n",
    "\n",
    "try:\n",
    "    io = StringIO(r.text)\n",
    "    result = json.load(io)\n",
    "    print(result)\n",
    "except:\n",
    "    print(r)"
   ]
  },
  {
   "cell_type": "code",
   "execution_count": null,
   "metadata": {
    "collapsed": true
   },
   "outputs": [],
   "source": [
    "# GetCurrentSession\n",
    "\n",
    "params = {'officeId':1}\n",
    "\n",
    "r = requests.post('http://127.0.0.1:9000/api/GetCurrentSession/', json = params, cookies=r0.cookies)\n",
    "\n",
    "try:\n",
    "    io = StringIO(r.text)\n",
    "    result = json.load(io)\n",
    "    print(result)\n",
    "except:\n",
    "    print(r)"
   ]
  },
  {
   "cell_type": "code",
   "execution_count": null,
   "metadata": {
    "collapsed": true
   },
   "outputs": [],
   "source": [
    "# GetSession\n",
    "\n",
    "params = {'id':2,\n",
    "          'employeeIds':[1,2],\n",
    "          \"withOperations\": 'false'\n",
    "         }\n",
    "\n",
    "r = requests.post('http://127.0.0.1:9000/api/GetSession/', json = params, cookies=r0.cookies)\n",
    "\n",
    "try:\n",
    "    io = StringIO(r.text)\n",
    "    result = json.load(io)\n",
    "    print(result)\n",
    "except:\n",
    "    print(r)"
   ]
  },
  {
   "cell_type": "code",
   "execution_count": null,
   "metadata": {
    "collapsed": true
   },
   "outputs": [],
   "source": [
    "# GetSessions\n",
    "\n",
    "params = {\n",
    "    \"dateFrom\": '01.01.2018',\n",
    "    \"dateTo\": '01.01.2020',\n",
    "    \"operationType\":['serviceoperation','goodsoperation',\"spendoperation\",\"employeepayment\"]\n",
    "}\n",
    "\n",
    "r = requests.post('http://127.0.0.1:9000/api/GetSessions/', json = params, cookies=r0.cookies)\n",
    "\n",
    "try:\n",
    "    io = StringIO(r.text)\n",
    "    result = json.load(io)\n",
    "    print(result)\n",
    "except:\n",
    "    print(r)"
   ]
  },
  {
   "cell_type": "code",
   "execution_count": null,
   "metadata": {
    "collapsed": true
   },
   "outputs": [],
   "source": [
    "# GetService\n",
    "\n",
    "r = requests.post('http://127.0.0.1:9000/api/GetService/', cookies=r0.cookies)\n",
    "\n",
    "try:\n",
    "    io = StringIO(r.text)\n",
    "    result = json.load(io)\n",
    "    print(result)\n",
    "except:\n",
    "    print(r)"
   ]
  },
  {
   "cell_type": "code",
   "execution_count": null,
   "metadata": {
    "collapsed": true
   },
   "outputs": [],
   "source": [
    "# GetServicesPrices\n",
    "\n",
    "r = requests.post('http://127.0.0.1:9000/api/GetServicesPrices/', cookies=r0.cookies)\n",
    "\n",
    "try:\n",
    "    io = StringIO(r.text)\n",
    "    result = json.load(io)\n",
    "    print(result)\n",
    "except:\n",
    "    print(r)"
   ]
  },
  {
   "cell_type": "code",
   "execution_count": null,
   "metadata": {
    "collapsed": true
   },
   "outputs": [],
   "source": [
    "# GetServiceOperation\n",
    "\n",
    "params = {'id':1}\n",
    "\n",
    "r = requests.post('http://127.0.0.1:9000/api/GetServiceOperation/', json = params, cookies=r0.cookies)\n",
    "\n",
    "try:\n",
    "    io = StringIO(r.text)\n",
    "    result = json.load(io)\n",
    "    print(result)\n",
    "except:\n",
    "    print(r)"
   ]
  },
  {
   "cell_type": "code",
   "execution_count": null,
   "metadata": {
    "collapsed": true
   },
   "outputs": [],
   "source": [
    "# GetGoods\n",
    "\n",
    "r = requests.post('http://127.0.0.1:9000/api/GetGoods/', cookies=r0.cookies)\n",
    "\n",
    "try:\n",
    "    io = StringIO(r.text)\n",
    "    result = json.load(io)\n",
    "    print(result)\n",
    "except:\n",
    "    print(r)"
   ]
  },
  {
   "cell_type": "code",
   "execution_count": null,
   "metadata": {
    "collapsed": true
   },
   "outputs": [],
   "source": [
    "# GetGood\n",
    "\n",
    "params = {'id':1}\n",
    "\n",
    "r = requests.post('http://127.0.0.1:9000/api/GetGood/', json = params, cookies=r0.cookies)\n",
    "\n",
    "try:\n",
    "    io = StringIO(r.text)\n",
    "    result = json.load(io)\n",
    "    print(result)\n",
    "except:\n",
    "    print(r)"
   ]
  },
  {
   "cell_type": "code",
   "execution_count": null,
   "metadata": {
    "collapsed": true
   },
   "outputs": [],
   "source": [
    "# GetGoodsOperation\n",
    "\n",
    "params = {'id':1}\n",
    "\n",
    "r = requests.post('http://127.0.0.1:9000/api/GetGoodsOperation/', json = params, cookies=r0.cookies)\n",
    "\n",
    "try:\n",
    "    io = StringIO(r.text)\n",
    "    result = json.load(io)\n",
    "    print(result)\n",
    "except:\n",
    "    print(r)"
   ]
  },
  {
   "cell_type": "code",
   "execution_count": null,
   "metadata": {
    "collapsed": true
   },
   "outputs": [],
   "source": [
    "# GetSpendTypes\n",
    "\n",
    "r = requests.post('http://127.0.0.1:9000/api/GetSpendTypes/', cookies=r0.cookies)\n",
    "\n",
    "try:\n",
    "    io = StringIO(r.text)\n",
    "    result = json.load(io)\n",
    "    print(result)\n",
    "except:\n",
    "    print(r)"
   ]
  },
  {
   "cell_type": "code",
   "execution_count": null,
   "metadata": {
    "collapsed": true
   },
   "outputs": [],
   "source": [
    "# GetSpendType\n",
    "\n",
    "params = {'id':1}\n",
    "\n",
    "r = requests.post('http://127.0.0.1:9000/api/GetSpendType/', json = params, cookies=r0.cookies)\n",
    "\n",
    "try:\n",
    "    io = StringIO(r.text)\n",
    "    result = json.load(io)\n",
    "    print(result)\n",
    "except:\n",
    "    print(r)"
   ]
  },
  {
   "cell_type": "code",
   "execution_count": null,
   "metadata": {
    "collapsed": true
   },
   "outputs": [],
   "source": [
    "# GetSpendOperation\n",
    "\n",
    "params = {'id':1}\n",
    "\n",
    "r = requests.post('http://127.0.0.1:9000/api/GetSpendOperation/', json = params, cookies=r0.cookies)\n",
    "\n",
    "try:\n",
    "    io = StringIO(r.text)\n",
    "    result = json.load(io)\n",
    "    print(result)\n",
    "except:\n",
    "    print(r)"
   ]
  },
  {
   "cell_type": "code",
   "execution_count": null,
   "metadata": {
    "collapsed": true
   },
   "outputs": [],
   "source": [
    "# GetEmployeePaymentTypes\n",
    "\n",
    "r = requests.post('http://127.0.0.1:9000/api/GetEmployeePaymentTypes/', cookies=r0.cookies)\n",
    "\n",
    "try:\n",
    "    io = StringIO(r.text)\n",
    "    result = json.load(io)\n",
    "    print(result)\n",
    "except:\n",
    "    print(r)"
   ]
  },
  {
   "cell_type": "code",
   "execution_count": null,
   "metadata": {
    "collapsed": true
   },
   "outputs": [],
   "source": [
    "# GetEmployeePaymentType\n",
    "\n",
    "params = {'id':1}\n",
    "\n",
    "r = requests.post('http://127.0.0.1:9000/api/GetEmployeePaymentType/', json = params, cookies=r0.cookies)\n",
    "\n",
    "try:\n",
    "    io = StringIO(r.text)\n",
    "    result = json.load(io)\n",
    "    print(result)\n",
    "except:\n",
    "    print(r)"
   ]
  },
  {
   "cell_type": "code",
   "execution_count": null,
   "metadata": {
    "collapsed": true
   },
   "outputs": [],
   "source": [
    "# GetEmployeePaymentOperation\n",
    "\n",
    "params = {'id':1}\n",
    "\n",
    "r = requests.post('http://127.0.0.1:9000/api/GetEmployeePaymentOperation/', json = params, cookies=r0.cookies)\n",
    "\n",
    "try:\n",
    "    io = StringIO(r.text)\n",
    "    result = json.load(io)\n",
    "    print(result)\n",
    "except:\n",
    "    print(r)"
   ]
  },
  {
   "cell_type": "code",
   "execution_count": null,
   "metadata": {
    "collapsed": true
   },
   "outputs": [],
   "source": [
    "# GetClient\n",
    "\n",
    "params = {'id':1}\n",
    "\n",
    "r = requests.post('http://127.0.0.1:9000/api/GetClient/', json = params, cookies=r0.cookies)\n",
    "\n",
    "try:\n",
    "    io = StringIO(r.text)\n",
    "    result = json.load(io)\n",
    "    print(result)\n",
    "except:\n",
    "    print(r)"
   ]
  },
  {
   "cell_type": "code",
   "execution_count": null,
   "metadata": {
    "collapsed": true
   },
   "outputs": [],
   "source": [
    "# GetClients\n",
    "\n",
    "params = {'q':'кли'}\n",
    "\n",
    "r = requests.post('http://127.0.0.1:9000/api/GetClients/', json = params, cookies=r0.cookies)\n",
    "\n",
    "try:\n",
    "    io = StringIO(r.text)\n",
    "    result = json.load(io)\n",
    "    print(result)\n",
    "except:\n",
    "    print(r)"
   ]
  },
  {
   "cell_type": "code",
   "execution_count": null,
   "metadata": {
    "collapsed": true
   },
   "outputs": [],
   "source": [
    "{\"type\": \"serviceoperation\", \"operations\": [{\"id\": 2, \"review\": null, \"adminId\": 1, \"cashSum\": null, \"comment\": null, \"bonusSum\": null, \"clientId\": 2, \"masterId\": 3, \"officeId\": 1, \"photoUrls\": [\"www.ingate.ru\"], \"serviceId\": 2, \"sessionId\": 1, \"cashlessSum\": null, \"discountSum\": null, \"clientRating\": 10, \"totalRevenue\": null, \"controlRating\": 10, \"startDatetime\": \"2018-12-31T12:00:00\", \"finishDatetime\": \"2018-12-31T13:00:00\"}]}"
   ]
  },
  {
   "cell_type": "code",
   "execution_count": null,
   "metadata": {
    "collapsed": true
   },
   "outputs": [],
   "source": [
    "# GenerateEmployeeReport\n",
    "\n",
    "params = {'period':'01.12.2018',\n",
    "         'groupingtype':'office'}\n",
    "\n",
    "r = requests.post('http://127.0.0.1:9000/api/GenerateEmployeeReport/', json = params, cookies=r0.cookies)\n",
    "\n",
    "try:\n",
    "    io = StringIO(r.text)\n",
    "    result = json.load(io)\n",
    "    print(result)\n",
    "except:\n",
    "    print(r)"
   ]
  },
  {
   "cell_type": "code",
   "execution_count": null,
   "metadata": {
    "collapsed": true
   },
   "outputs": [],
   "source": [
    "# GenerateClientReport\n",
    "\n",
    "params = {'period':'01.12.2018',\n",
    "         'groupingtype':'office'}\n",
    "\n",
    "r = requests.post('http://127.0.0.1:9000/api/GenerateClientReport/', json = params, cookies=r0.cookies)\n",
    "\n",
    "try:\n",
    "    io = StringIO(r.text)\n",
    "    result = json.load(io)\n",
    "    print(result)\n",
    "except:\n",
    "    print(r)"
   ]
  },
  {
   "cell_type": "code",
   "execution_count": null,
   "metadata": {
    "collapsed": true
   },
   "outputs": [],
   "source": [
    "# GenerateFinanceReport\n",
    "\n",
    "params = {'period':'01.12.2018',\n",
    "         'groupingtype':'-'}\n",
    "\n",
    "r = requests.post('http://127.0.0.1:9000/api/GenerateFinanceReport/', json = params, cookies=r0.cookies)\n",
    "\n",
    "try:\n",
    "    io = StringIO(r.text)\n",
    "    result = json.load(io)\n",
    "    print(result)\n",
    "except:\n",
    "    print(r)"
   ]
  },
  {
   "cell_type": "code",
   "execution_count": null,
   "metadata": {
    "collapsed": true
   },
   "outputs": [],
   "source": [
    "r = requests.post('http://127.0.0.1:9000/api/DownloadReport/', json = result, cookies=r0.cookies)\n",
    "\n",
    "try:\n",
    "    io = StringIO(r.text)\n",
    "    result = json.load(io)\n",
    "    print(result)\n",
    "except:\n",
    "    print(r)"
   ]
  },
  {
   "cell_type": "code",
   "execution_count": null,
   "metadata": {
    "collapsed": true
   },
   "outputs": [],
   "source": [
    "# EditOffice\n",
    "\n",
    "params = { 'id':'null',\n",
    "'name':'Токио',\n",
    "'city':'Токио',\n",
    "'address':'г. Токио, ул. Демонстрации, 51',\n",
    "'coordinatex':0.2,\n",
    "'coordinatey':0.2,\n",
    "'state':'open'}\n",
    "\n",
    "r = requests.post('http://127.0.0.1:9000/api/EditOffice/', json = params, cookies=r0.cookies)\n",
    "\n",
    "try:\n",
    "    io = StringIO(r.text)\n",
    "    result = json.load(io)\n",
    "    print(result)\n",
    "except:\n",
    "    print(r)"
   ]
  },
  {
   "cell_type": "code",
   "execution_count": null,
   "metadata": {
    "collapsed": true
   },
   "outputs": [],
   "source": [
    "# EditSession\n",
    "\n",
    "params = {\"dateClosed\": None,\n",
    "\"dateOpened\": \"2019-10-20T20:25:37.566Z\",\n",
    "\"employees\": [{\"id\": 1, \"role\": \"officeAdmin\", \"workHours\": 6}, {\"id\": 4, \"role\": \"master\", \"workHours\": 6}],\n",
    "\"id\": None,\n",
    "\"officeId\": 2,\n",
    "\"openCash\": 0,\n",
    "\"state\": \"open\"}\n",
    "\n",
    "r = requests.post('http://127.0.0.1:9000/api/EditSession/', json = params, cookies=r0.cookies)\n",
    "\n",
    "try:\n",
    "    io = StringIO(r.text)\n",
    "    result = json.load(io)\n",
    "    print(result)\n",
    "except:\n",
    "    print(r)"
   ]
  },
  {
   "cell_type": "code",
   "execution_count": null,
   "metadata": {
    "collapsed": true
   },
   "outputs": [],
   "source": [
    "# EditClient\n",
    "\n",
    "params = [\n",
    "    {'id':1,\n",
    "    'contacts':[\n",
    "        {\"type\": \"phone\",\n",
    "         \"value\": \"+12345\"}\n",
    "    ]},\n",
    "    { 'id':2,\n",
    "    'contacts':[\n",
    "        {\"type\": \"phone\",\n",
    "        \"value\": \"+11111\"}]},\n",
    "    { 'id':3,\n",
    "    'contacts':[\n",
    "        {\n",
    "            \"type\": \"phone\",\n",
    "            \"value\": \"+1111\"\n",
    "        }\n",
    "    ]}\n",
    "]\n",
    "\n",
    "\n",
    "\n",
    "\n",
    "\n",
    "r = requests.post('http://127.0.0.1:9000/api/EditClient/', json = params, cookies=r0.cookies)\n",
    "\n",
    "try:\n",
    "    io = StringIO(r.text)\n",
    "    result = json.load(io)\n",
    "    print(result)\n",
    "except:\n",
    "    print(r)"
   ]
  },
  {
   "cell_type": "code",
   "execution_count": null,
   "metadata": {
    "collapsed": true
   },
   "outputs": [],
   "source": [
    "# EditOperations\n",
    "params = [\n",
    "    {\n",
    "        \"id\":'null',\n",
    "        \"operationType\": 'serviceoperation',\n",
    "        \"officeId\": 3,\n",
    "        \"sessionId\": 3,\n",
    "        \"serviceId\": 3,\n",
    "        \"startDatetime\": '11.10.2019 11:11',\n",
    "        \"finishDatetime\": '11.10.2019 12:11',\n",
    "        \"adminId\": 2,\n",
    "        \"masterId\": 3,\n",
    "        \"clientId\": 2,\n",
    "        \"cashSum\": 100,\n",
    "        \"cashlessSum\": 100,\n",
    "        \"discountSum\": 100,\n",
    "        \"clientRating\": 10,\n",
    "        \"review\": 'Отзыв клиента',\n",
    "        \"comment\": 'Комментарий'\n",
    "    },\n",
    "    {\n",
    "        \"id\":'null',\n",
    "        \"operationType\": 'goodsoperation',\n",
    "        \"officeId\": 3,\n",
    "        \"sessionId\": 3,\n",
    "        \"goodsIds\": [1,2,3],\n",
    "        \"datetime\": '11.10.2019 12:11',\n",
    "        \"adminId\": 1,\n",
    "        \"masterId\": 4,\n",
    "        \"clientId\": 1,\n",
    "        \"cashSum\": 100,\n",
    "        \"cashlessSum\": 100,\n",
    "        \"discountSum\": 100,\n",
    "        \"comment\": 'Комментарий'\n",
    "    },\n",
    "    {\n",
    "        \"id\":'null',\n",
    "        \"operationType\": 'spendoperation',\n",
    "        \"officeId\": 3,\n",
    "        \"sessionId\": 3,\n",
    "        \"expenseTypeId\": 3,\n",
    "        \"datetime\": '11.10.2019 12:11',\n",
    "        \"sum\": 500,\n",
    "        \"comment\": 'Комментарий'\n",
    "    },\n",
    "    {\n",
    "        \"id\":'null',\n",
    "        \"operationType\": 'employeePayment',\n",
    "        \"officeId\": 3,\n",
    "        \"sessionId\": 3,\n",
    "        \"employeeId\": 3,\n",
    "        \"employeePaymentTypeId\": 1,\n",
    "        \"datetime\": '11.10.2019 12:11',\n",
    "        \"sum\": 1000,\n",
    "        \"comment\": 'Комментарий'\n",
    "    }\n",
    "]\n",
    "\n",
    "r = requests.post('http://127.0.0.1:9000/api/EditOperations/', json = params, cookies=r0.cookies)\n",
    "\n",
    "try:\n",
    "    io = StringIO(r.text)\n",
    "    result = json.load(io)\n",
    "    print(result)\n",
    "except:\n",
    "    print(r)"
   ]
  },
  {
   "cell_type": "code",
   "execution_count": 11,
   "metadata": {},
   "outputs": [
    {
     "name": "stdout",
     "output_type": "stream",
     "text": [
      "<!DOCTYPE html>\n",
      "<html>\n",
      "  <head>\n",
      "    <meta charset=\"UTF-8\">\n",
      "    <meta name=\"viewport\" content=\"width=device-width,initial-scale=1.0\">\n",
      "    <link href=\"https://fonts.googleapis.com/css?family=Roboto:300,400,900&display=swap&subset=cyrillic\" rel=\"stylesheet\">\n",
      "    <link rel=\"stylesheet\" href=\"/static/foundation.css\">\n",
      "    <link rel=\"stylesheet\" href=\"/static/app.css\">\n",
      "    <link rel=\"shortcut icon\" href=\"/static/favicon.ico\"/>\n",
      "    <title>Вход</title>\n",
      "  </head>\n",
      "  <body>\n",
      "    <style>\n",
      "      .login-back {\n",
      "        background: url('/static/big-logo-transparent.svg');\n",
      "        background-position: 0 100px;\n",
      "        animation-duration: 20s;\n",
      "        animation-name: scroll;\n",
      "        animation-iteration-count: infinite;\n",
      "        animation-timing-function: linear;\n",
      "      }\n",
      "      @keyframes scroll {\n",
      "        from {\n",
      "          background-position: 0 100px;\n",
      "        }\n",
      "\n",
      "        to {\n",
      "          background-position: 200px 100px;\n",
      "        }\n",
      "      }\n",
      "    </style>\n",
      "    <div class=\"grid-x align-center-middle grid-padding-x content-no-menu login-back\">\n",
      "      <form action=\"/login\" method=\"post\" class=\"card cell shrink text-center greeting-card login-card\">\n",
      "        <label for=\"login\">Логин</label>\n",
      "        <input type=\"text\" name=\"login\" id=\"login\" autofocus=\"autofocus\">\n",
      "        <label for=\"password\">Пароль</label>\n",
      "        <input type=\"password\" name=\"password\" id=\"password\">\n",
      "        <button type=\"submit\" class=\"button primary\">Войти</button>\n",
      "      </form>\n",
      "    </div>\n",
      "  </body>\n",
      "</html>\n"
     ]
    }
   ],
   "source": [
    "# EditEmployee\n",
    "params = {'id': 'null', 'name': 'admin'}\n",
    "\n",
    "r = requests.post('http://146.185.179.193:5000/api/EditEmployee/', json = params, cookies=r0.cookies)\n",
    "\n",
    "try:\n",
    "    io = StringIO(r.text)\n",
    "    result = json.load(io)\n",
    "    print(result.json())\n",
    "except:\n",
    "    print(r.text)"
   ]
  },
  {
   "cell_type": "code",
   "execution_count": null,
   "metadata": {
    "collapsed": true
   },
   "outputs": [],
   "source": [
    "# EditBarberCategory\n",
    "params = { 'id':'null',\n",
    "'name':'Иисус-мастер',\n",
    "'servicePercent': 0.9,\n",
    "'state':'active'}\n",
    "\n",
    "r = requests.post('http://127.0.0.1:9000/api/EditBarberCategory/', json = params, cookies=r0.cookies)\n",
    "\n",
    "try:\n",
    "    io = StringIO(r.text)\n",
    "    result = json.load(io)\n",
    "    print(result)\n",
    "except:\n",
    "    print(r)"
   ]
  },
  {
   "cell_type": "code",
   "execution_count": null,
   "metadata": {
    "collapsed": true
   },
   "outputs": [],
   "source": [
    "# EditEmployeePaymentType\n",
    "params = { 'id':'hello',\n",
    "'defaultSum':6}\n",
    "\n",
    "r = requests.post('http://127.0.0.1:9000/api/EditEmployeePaymentType/', json = params, cookies=r0.cookies)\n",
    "\n",
    "try:\n",
    "    io = StringIO(r.text)\n",
    "    result = json.load(io)\n",
    "    print(result)\n",
    "except:\n",
    "    print(r)"
   ]
  },
  {
   "cell_type": "code",
   "execution_count": null,
   "metadata": {
    "collapsed": true
   },
   "outputs": [],
   "source": [
    "# EditGood\n",
    "params = [{ 'id':'null',\n",
    "'name':'Еще шампунь',\n",
    "'price':1500.00,\n",
    "'state':'active'},\n",
    "{ 'id':'null',\n",
    "'name':'Еще Кока-кола',\n",
    "'price':1000.00}]\n",
    "\n",
    "r = requests.post('http://127.0.0.1:9000/api/EditGood/', json = params, cookies=r0.cookies)\n",
    "\n",
    "try:\n",
    "    io = StringIO(r.text)\n",
    "    result = json.load(io)\n",
    "    print(result)\n",
    "except:\n",
    "    print(r)"
   ]
  },
  {
   "cell_type": "code",
   "execution_count": null,
   "metadata": {
    "collapsed": true
   },
   "outputs": [],
   "source": [
    "# EditService\n",
    "params = { 'id':'null',\n",
    "'name':'Стрижка для цисгендера',\n",
    "'prices': [{'category':1,'price':5000.00},{'category':2,'price':6000.00},{'category':3,'price':7000.00},{'category':4,'price':8000.00}],\n",
    "'state':'active'}\n",
    "\n",
    "r = requests.post('http://127.0.0.1:9000/api/EditService/', json = params, cookies=r0.cookies)\n",
    "\n",
    "try:\n",
    "    io = StringIO(r.text)\n",
    "    result = json.load(io)\n",
    "    print(result)\n",
    "except:\n",
    "    print(r)"
   ]
  },
  {
   "cell_type": "code",
   "execution_count": null,
   "metadata": {
    "collapsed": true
   },
   "outputs": [],
   "source": [
    "# EditSpendtype\n",
    "params = { 'id':6,\n",
    "'name':'Порадовать человека'}\n",
    "\n",
    "r = requests.post('http://127.0.0.1:9000/api/EditSpendType/', json = params, cookies=r0.cookies)\n",
    "\n",
    "try:\n",
    "    io = StringIO(r.text)\n",
    "    result = json.load(io)\n",
    "    print(result)\n",
    "except:\n",
    "    print(r)"
   ]
  },
  {
   "cell_type": "code",
   "execution_count": null,
   "metadata": {
    "collapsed": true
   },
   "outputs": [],
   "source": []
  }
 ],
 "metadata": {
  "kernelspec": {
   "display_name": "Python 3",
   "language": "python",
   "name": "python3"
  },
  "language_info": {
   "codemirror_mode": {
    "name": "ipython",
    "version": 3
   },
   "file_extension": ".py",
   "mimetype": "text/x-python",
   "name": "python",
   "nbconvert_exporter": "python",
   "pygments_lexer": "ipython3",
   "version": "3.6.0"
  }
 },
 "nbformat": 4,
 "nbformat_minor": 2
}
