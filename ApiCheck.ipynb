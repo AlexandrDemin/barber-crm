{
 "cells": [
  {
   "cell_type": "code",
   "execution_count": 5,
   "metadata": {
    "collapsed": true
   },
   "outputs": [],
   "source": [
    "import requests\n",
    "import json\n",
    "from io import StringIO\n",
    "from flask import Flask\n",
    "from flask import request\n",
    "import requests\n",
    "import json\n",
    "from io import StringIO\n",
    "import psycopg2\n",
    "from psycopg2.extras import RealDictCursor\n",
    "from werkzeug.wrappers import Request, Response\n",
    "\n",
    "base_url = 'http://146.185.179.193:5000/api/'"
   ]
  },
  {
   "cell_type": "code",
   "execution_count": 21,
   "metadata": {},
   "outputs": [
    {
     "name": "stdout",
     "output_type": "stream",
     "text": [
      "[{'id': 10, 'name': 'Алексей', 'contacts': [{'type': 'phone', 'value': '23'}], 'comment': '', 'photo': None}, {'id': 6, 'name': 'Валентина', 'contacts': [{'type': 'phone', 'value': '1323'}], 'comment': '', 'photo': None}, {'id': 11, 'name': 'Валера', 'contacts': [{'type': 'phone', 'value': '5'}], 'comment': '', 'photo': None}, {'id': 4, 'name': 'Иван', 'contacts': [{'type': 'phone', 'value': '1234'}], 'comment': '', 'photo': None}, {'id': 5, 'name': 'Иван', 'contacts': [{'type': 'phone', 'value': '23'}], 'comment': '', 'photo': None}, {'id': 1, 'name': 'Какой-то Человек Человекович', 'contacts': [{'type': 'phone', 'value': '+12345'}], 'comment': None, 'photo': None}, {'id': 2, 'name': 'Клиентов Клиент Клиентович', 'contacts': [{'type': 'phone', 'value': '+11111'}], 'comment': None, 'photo': None}, {'id': 3, 'name': 'Клиентов Клиент Клиентович Старший', 'contacts': [{'type': 'phone', 'value': '+1111'}], 'comment': None, 'photo': None}, {'id': 7, 'name': 'Новый клиент', 'contacts': [{'type': 'phone', 'value': '1'}], 'comment': '', 'photo': None}, {'id': 8, 'name': 'Новый клиент', 'contacts': [{'type': 'phone', 'value': '2'}], 'comment': '', 'photo': None}, {'id': 9, 'name': 'Новый клиент', 'contacts': [{'type': 'phone', 'value': '2'}], 'comment': 'Это комментарий', 'photo': None}]\n"
     ]
    }
   ],
   "source": [
    "# GetClients\n",
    "params = {'q':''}\n",
    "\n",
    "r = requests.post(base_url + 'GetClients/', json = params)\n",
    "\n",
    "try:\n",
    "    io = StringIO(r.text)\n",
    "    result = json.load(io)\n",
    "    print(result)\n",
    "except:\n",
    "    print(r)"
   ]
  },
  {
   "cell_type": "code",
   "execution_count": 3,
   "metadata": {},
   "outputs": [
    {
     "name": "stdout",
     "output_type": "stream",
     "text": [
      "{'name': 'Иванов Диего Михайлович', 'pictureUrl': 'www.mysite.com', 'roles': ['officeAdmin']}\n"
     ]
    }
   ],
   "source": [
    "# GetUserData\n",
    "params = {'login':'login'}\n",
    "\n",
    "r = requests.post(base_url + 'GetUserData/', json = params)\n",
    "\n",
    "try:\n",
    "    io = StringIO(r.text)\n",
    "    result = json.load(io)\n",
    "    print(result)\n",
    "except:\n",
    "    print(r)"
   ]
  },
  {
   "cell_type": "code",
   "execution_count": 22,
   "metadata": {},
   "outputs": [
    {
     "name": "stdout",
     "output_type": "stream",
     "text": [
      "[{'name': 'Иванов Диего Михайлович', 'photo': None, 'roles': ['officeAdmin']}, {'name': 'Парикмахеров Парикмахер Парикмахерович', 'photo': None, 'roles': ['manager']}, {'name': 'Морковная Залупа Павловна', 'photo': None, 'roles': ['master']}, {'name': 'Барберов Бородач Ножницевич', 'photo': None, 'roles': ['master']}, {'name': 'Очередное Хуйло', 'photo': None, 'roles': ['officeAdmin']}, {'name': 'Очередное Хуйло', 'photo': None, 'roles': ['officeAdmin']}]\n"
     ]
    }
   ],
   "source": [
    "# GetEmployees\n",
    "\n",
    "r = requests.post(base_url + 'GetEmployees/')\n",
    "\n",
    "try:\n",
    "    io = StringIO(r.text)\n",
    "    result = json.load(io)\n",
    "    print(result)\n",
    "except:\n",
    "    print(r)"
   ]
  },
  {
   "cell_type": "code",
   "execution_count": 5,
   "metadata": {},
   "outputs": [
    {
     "name": "stdout",
     "output_type": "stream",
     "text": [
      "{'id': 1, 'name': 'Иванов Диего Михайлович', 'pictureUrl': 'www.mysite.com', 'roles': ['officeAdmin'], 'salary': 100000.0, 'servicePercent': 0.1, 'goodsPercent': 0.1, 'categoryId': None, 'state': 'working', 'clientRating': None, 'controlRating': None, 'login': 'login', 'password': 'password', 'contacts': None}\n"
     ]
    }
   ],
   "source": [
    "# GetEmployee\n",
    "\n",
    "params = {'id':1}\n",
    "\n",
    "r = requests.post(base_url + 'GetEmployee/', json = params)\n",
    "\n",
    "try:\n",
    "    io = StringIO(r.text)\n",
    "    result = json.load(io)\n",
    "    print(result)\n",
    "except:\n",
    "    print(r)"
   ]
  },
  {
   "cell_type": "code",
   "execution_count": 6,
   "metadata": {},
   "outputs": [
    {
     "name": "stdout",
     "output_type": "stream",
     "text": [
      "{'id': 1, 'name': 'Иванов Диего Михайлович', 'pictureUrl': 'www.mysite.com', 'state': 'working', 'servicePercent': 0.1, 'goodsPercent': 0.1}\n"
     ]
    }
   ],
   "source": [
    "# GetAdmins\n",
    "\n",
    "r = requests.post(base_url + 'GetAdmins/')\n",
    "\n",
    "try:\n",
    "    io = StringIO(r.text)\n",
    "    result = json.load(io)\n",
    "    print(result)\n",
    "except:\n",
    "    print(r)"
   ]
  },
  {
   "cell_type": "code",
   "execution_count": 7,
   "metadata": {},
   "outputs": [
    {
     "name": "stdout",
     "output_type": "stream",
     "text": [
      "[{'id': 4, 'name': 'Барберов Бородач Ножницевич', 'pictureUrl': 'www.ingate.ru', 'state': 'working', 'servicePercent': 0.1, 'goodsPercent': 0.1, 'masterServicePercent': 0.2}, {'id': 3, 'name': 'Морковная Залупа Павловна', 'pictureUrl': 'www.vk.com', 'state': 'working', 'servicePercent': 0.1, 'goodsPercent': 0.1, 'masterServicePercent': 0.5}]\n"
     ]
    }
   ],
   "source": [
    "# GetMasters\n",
    "\n",
    "r = requests.post(base_url + 'GetMasters/')\n",
    "\n",
    "try:\n",
    "    io = StringIO(r.text)\n",
    "    result = json.load(io)\n",
    "    print(result)\n",
    "except:\n",
    "    print(r)"
   ]
  },
  {
   "cell_type": "code",
   "execution_count": 8,
   "metadata": {},
   "outputs": [
    {
     "name": "stdout",
     "output_type": "stream",
     "text": [
      "[{'id': 1, 'name': 'Старший мастер', 'servicePercent': 0.5, 'state': 'active'}, {'id': 2, 'name': 'Младший мастер', 'servicePercent': 0.2, 'state': 'active'}]\n"
     ]
    }
   ],
   "source": [
    "# GetBarberCategories\n",
    "\n",
    "r = requests.post(base_url + 'GetBarberCategories/')\n",
    "\n",
    "try:\n",
    "    io = StringIO(r.text)\n",
    "    result = json.load(io)\n",
    "    print(result)\n",
    "except:\n",
    "    print(r)"
   ]
  },
  {
   "cell_type": "code",
   "execution_count": 9,
   "metadata": {},
   "outputs": [
    {
     "name": "stdout",
     "output_type": "stream",
     "text": [
      "{'id': 1, 'name': 'Старший мастер', 'servicePercent': 0.5, 'state': 'active'}\n"
     ]
    }
   ],
   "source": [
    "# GetBarberCategory\n",
    "\n",
    "params = {'id':1}\n",
    "\n",
    "r = requests.post(base_url + 'GetBarberCategory/', json = params)\n",
    "\n",
    "try:\n",
    "    io = StringIO(r.text)\n",
    "    result = json.load(io)\n",
    "    print(result)\n",
    "except:\n",
    "    print(r)"
   ]
  },
  {
   "cell_type": "code",
   "execution_count": 3,
   "metadata": {},
   "outputs": [
    {
     "name": "stdout",
     "output_type": "stream",
     "text": [
      "[{'id': 1, 'name': 'Тула 1', 'state': 'open'}, {'id': 2, 'name': 'Воронеж 1', 'state': 'open'}, {'id': 3, 'name': 'Токио', 'state': 'open'}]\n"
     ]
    }
   ],
   "source": [
    "# GetOffices\n",
    "\n",
    "r = requests.post(base_url + 'GetOffices/')\n",
    "\n",
    "try:\n",
    "    io = StringIO(r.text)\n",
    "    result = json.load(io)\n",
    "    print(result)\n",
    "except:\n",
    "    print(r)"
   ]
  },
  {
   "cell_type": "code",
   "execution_count": 22,
   "metadata": {},
   "outputs": [
    {
     "name": "stdout",
     "output_type": "stream",
     "text": [
      "{'id': 1, 'name': 'Тула 1', 'state': 'open'}\n"
     ]
    }
   ],
   "source": [
    "# GetOffice\n",
    "\n",
    "params = {'id':1}\n",
    "\n",
    "r = requests.post(base_url + 'GetOffice/', json = params)\n",
    "\n",
    "try:\n",
    "    io = StringIO(r.text)\n",
    "    result = json.load(io)\n",
    "    print(result)\n",
    "except:\n",
    "    print(r)"
   ]
  },
  {
   "cell_type": "code",
   "execution_count": 20,
   "metadata": {},
   "outputs": [
    {
     "name": "stdout",
     "output_type": "stream",
     "text": [
      "{'id': 2, 'dateOpened': '31.12.2018 09:00', 'dateClosed': None, 'employees': [{'userId': 3, 'starttime': '10:00', 'endtime': '18:00'}, {'userId': 4, 'starttime': '14:00', 'endtime': '22:00'}, {'userId': 1, 'starttime': '09:00', 'endtime': '23:00'}], 'officeId': 1, 'state': 'open', 'sessionId': None, 'operations': None}\n"
     ]
    }
   ],
   "source": [
    "# GetCurrentSession\n",
    "\n",
    "params = {'officeId':1, \"withOperations\": 'true'}\n",
    "\n",
    "r = requests.post(base_url + 'GetCurrentSession/', json = params)\n",
    "\n",
    "try:\n",
    "    io = StringIO(r.text)\n",
    "    result = json.load(io)\n",
    "    print(result)\n",
    "except:\n",
    "    print(r)"
   ]
  },
  {
   "cell_type": "code",
   "execution_count": 17,
   "metadata": {},
   "outputs": [
    {
     "name": "stdout",
     "output_type": "stream",
     "text": [
      "{'id': 4, 'dateOpened': '11.10.2019 09:00', 'dateClosed': '11.10.2019 23:00', 'employees': [{'userId': 3, 'starttime': '10:00', 'endtime': '18:00'}, {'userId': 4, 'starttime': '14:00', 'endtime': '22:00'}, {'userId': 1, 'starttime': '09:00', 'endtime': '23:00'}], 'officeId': 1, 'state': 'closed'}\n"
     ]
    }
   ],
   "source": [
    "# GetSession\n",
    "\n",
    "params = {'id':4,\n",
    "          \"withOperations\": True\n",
    "         }\n",
    "\n",
    "r = requests.post(base_url + 'GetSession/', json = params)\n",
    "\n",
    "try:\n",
    "    io = StringIO(r.text)\n",
    "    result = json.load(io)\n",
    "    print(result)\n",
    "except:\n",
    "    print(r)"
   ]
  },
  {
   "cell_type": "code",
   "execution_count": 4,
   "metadata": {},
   "outputs": [
    {
     "name": "stdout",
     "output_type": "stream",
     "text": [
      "{'id': 1, 'dateOpened': '30.12.2018 09:00', 'dateClosed': '30.12.2018 23:00', 'officeId': 1, 'state': 'closed', 'employees': [{'userId': 4, 'starttime': '14:00', 'endtime': '22:00'}, {'userId': 1, 'starttime': '09:00', 'endtime': '23:00'}], 'sessionId': 1, 'Operations': [{'type': 'goodsoperation', 'operations': [{'id': 2, 'adminId': 1, 'cashSum': None, 'comment': None, 'bonusSum': None, 'clientId': 1, 'datetime': '2018-12-31T13:00:00', 'goodsIds': [1], 'masterId': 4, 'officeId': 1, 'sessionId': 1, 'cashlessSum': None, 'discountSum': None, 'totalRevenue': None}, {'id': 1, 'adminId': 1, 'cashSum': None, 'comment': None, 'bonusSum': None, 'clientId': 1, 'datetime': '2018-12-31T12:00:00', 'goodsIds': [1], 'masterId': 4, 'officeId': 1, 'sessionId': 1, 'cashlessSum': None, 'discountSum': None, 'totalRevenue': None}]}, {'type': 'serviceoperation', 'operations': [{'id': 1, 'review': None, 'adminId': 1, 'cashSum': None, 'comment': None, 'bonusSum': None, 'clientId': 1, 'masterId': 4, 'officeId': 1, 'photoUrls': ['www.ingate.ru'], 'serviceId': 1, 'sessionId': 1, 'cashlessSum': None, 'discountSum': None, 'clientRating': None, 'totalRevenue': None, 'controlRating': None, 'startDatetime': '2018-12-31T11:00:00', 'finishDatetime': '2018-12-31T12:00:00'}, {'id': 2, 'review': None, 'adminId': 1, 'cashSum': None, 'comment': None, 'bonusSum': None, 'clientId': 2, 'masterId': 3, 'officeId': 1, 'photoUrls': ['www.ingate.ru'], 'serviceId': 2, 'sessionId': 1, 'cashlessSum': None, 'discountSum': None, 'clientRating': 10, 'totalRevenue': None, 'controlRating': 10, 'startDatetime': '2018-12-31T12:00:00', 'finishDatetime': '2018-12-31T13:00:00'}]}]}\n"
     ]
    }
   ],
   "source": [
    "# GetSessionsWithOperations\n",
    "\n",
    "params = {\n",
    "    \"dateFrom\": '01.01.2018',\n",
    "    \"dateTo\": '01.01.2019',\n",
    "    \"operationType\": [1,2],\n",
    "    \"employeeIds\": [1,4],\n",
    "    \"clientIds\": [1,2]\n",
    "}\n",
    "\n",
    "r = requests.post(base_url + 'GetSessionsWithOperations/', json = params)\n",
    "\n",
    "try:\n",
    "    io = StringIO(r.text)\n",
    "    result = json.load(io)\n",
    "    print(result)\n",
    "except:\n",
    "    print(r)"
   ]
  },
  {
   "cell_type": "code",
   "execution_count": 21,
   "metadata": {},
   "outputs": [
    {
     "name": "stdout",
     "output_type": "stream",
     "text": [
      "[{'id': 1, 'name': 'Стрижка мужская', 'prices': [{'price': 0, 'category': 0}]}, {'id': 2, 'name': 'Стрижка женская', 'prices': [{'price': 0, 'category': 0}]}, {'id': 3, 'name': 'Стрижка для цисгендера', 'prices': [{'price': 5000.0, 'category': 1}, {'price': 6000.0, 'category': 2}, {'price': 7000.0, 'category': 3}, {'price': 8000.0, 'category': 4}]}]\n"
     ]
    }
   ],
   "source": [
    "# GetServicesPrices\n",
    "\n",
    "r = requests.post(base_url + 'GetServicesPrices/')\n",
    "\n",
    "try:\n",
    "    io = StringIO(r.text)\n",
    "    result = json.load(io)\n",
    "    print(result)\n",
    "except:\n",
    "    print(r)"
   ]
  },
  {
   "cell_type": "code",
   "execution_count": 17,
   "metadata": {},
   "outputs": [
    {
     "name": "stdout",
     "output_type": "stream",
     "text": [
      "{'id': 1, 'officeId': 1, 'sessionId': 1, 'serviceId': 1, 'startDatetime': '31.12.2018 11:00', 'finishDatetime': '31.12.2018 12:00', 'adminId': 1, 'masterId': 4, 'clientId': 1, 'cashSum': None, 'cashlessSum': None, 'discountSum': None, 'bonusSum': None, 'totalRevenue': None, 'clientRating': None, 'review': None, 'photoUrls': ['www.ingate.ru'], 'comment': None, 'controlRating': None}\n"
     ]
    }
   ],
   "source": [
    "# GetServiceOperation\n",
    "\n",
    "params = {'id':1}\n",
    "\n",
    "r = requests.post(base_url + 'GetServiceOperation/', json = params)\n",
    "\n",
    "try:\n",
    "    io = StringIO(r.text)\n",
    "    result = json.load(io)\n",
    "    print(result)\n",
    "except:\n",
    "    print(r)"
   ]
  },
  {
   "cell_type": "code",
   "execution_count": 18,
   "metadata": {},
   "outputs": [
    {
     "name": "stdout",
     "output_type": "stream",
     "text": [
      "[{'id': 1, 'name': 'Шампунь', 'price': 500.0, 'state': 'active'}, {'id': 2, 'name': 'Кока-кола', 'price': 100.0, 'state': 'active'}]\n"
     ]
    }
   ],
   "source": [
    "# GetGoods\n",
    "\n",
    "r = requests.post(base_url + 'GetGoods/')\n",
    "\n",
    "try:\n",
    "    io = StringIO(r.text)\n",
    "    result = json.load(io)\n",
    "    print(result)\n",
    "except:\n",
    "    print(r)"
   ]
  },
  {
   "cell_type": "code",
   "execution_count": 19,
   "metadata": {},
   "outputs": [
    {
     "name": "stdout",
     "output_type": "stream",
     "text": [
      "{'id': 1, 'name': 'Шампунь', 'price': 500.0, 'state': 'active'}\n"
     ]
    }
   ],
   "source": [
    "# GetGood\n",
    "\n",
    "params = {'id':1}\n",
    "\n",
    "r = requests.post(base_url + 'GetGood/', json = params)\n",
    "\n",
    "try:\n",
    "    io = StringIO(r.text)\n",
    "    result = json.load(io)\n",
    "    print(result)\n",
    "except:\n",
    "    print(r)"
   ]
  },
  {
   "cell_type": "code",
   "execution_count": 20,
   "metadata": {},
   "outputs": [
    {
     "name": "stdout",
     "output_type": "stream",
     "text": [
      "{'id': 1, 'officeId': 1, 'sessionId': 1, 'goodsIds': [1], 'datetime': '31.12.2018 12:00', 'adminId': 1, 'masterId': 4, 'clientId': 1, 'cashSum': None, 'cashlessSum': None, 'discountSum': None, 'bonusSum': None, 'totalRevenue': None, 'comment': None}\n"
     ]
    }
   ],
   "source": [
    "# GetGoodsOperation\n",
    "\n",
    "params = {'id':1}\n",
    "\n",
    "r = requests.post(base_url + 'GetGoodsOperation/', json = params)\n",
    "\n",
    "try:\n",
    "    io = StringIO(r.text)\n",
    "    result = json.load(io)\n",
    "    print(result)\n",
    "except:\n",
    "    print(r)"
   ]
  },
  {
   "cell_type": "code",
   "execution_count": 40,
   "metadata": {},
   "outputs": [
    {
     "name": "stdout",
     "output_type": "stream",
     "text": [
      "[{'id': 1, 'name': 'Уборка', 'defaultSum': 5000.0, 'state': 'active'}, {'id': 2, 'name': 'Аренда', 'defaultSum': None, 'state': 'active'}, {'id': 3, 'name': 'Сигареты админу', 'defaultSum': 500000.0, 'state': 'active'}]\n"
     ]
    }
   ],
   "source": [
    "# GetSpendTypes\n",
    "\n",
    "r = requests.post(base_url + 'GetSpendTypes/')\n",
    "\n",
    "try:\n",
    "    io = StringIO(r.text)\n",
    "    result = json.load(io)\n",
    "    print(result)\n",
    "except:\n",
    "    print(r)"
   ]
  },
  {
   "cell_type": "code",
   "execution_count": 22,
   "metadata": {},
   "outputs": [
    {
     "name": "stdout",
     "output_type": "stream",
     "text": [
      "{'id': 1, 'name': 'Уборка', 'defaultSum': 5000.0, 'state': 'active'}\n"
     ]
    }
   ],
   "source": [
    "# GetSpendType\n",
    "\n",
    "params = {'id':1}\n",
    "\n",
    "r = requests.post(base_url + 'GetSpendType/', json = params)\n",
    "\n",
    "try:\n",
    "    io = StringIO(r.text)\n",
    "    result = json.load(io)\n",
    "    print(result)\n",
    "except:\n",
    "    print(r)"
   ]
  },
  {
   "cell_type": "code",
   "execution_count": 43,
   "metadata": {},
   "outputs": [
    {
     "name": "stdout",
     "output_type": "stream",
     "text": [
      "{'id': 1, 'officeId': 1, 'sessionId': 1, 'expenseTypeId': 1, 'datetime': '30.12.2018 09:00', 'sum': 5000.0, 'cashSum': 1000.0, 'cashlessSum': 4000, 'comment': None}\n"
     ]
    }
   ],
   "source": [
    "# GetSpendOperation\n",
    "\n",
    "params = {'id':1}\n",
    "\n",
    "r = requests.post(base_url + 'GetSpendOperation/', json = params)\n",
    "\n",
    "try:\n",
    "    io = StringIO(r.text)\n",
    "    result = json.load(io)\n",
    "    print(result)\n",
    "except:\n",
    "    print(r)"
   ]
  },
  {
   "cell_type": "code",
   "execution_count": 24,
   "metadata": {},
   "outputs": [
    {
     "name": "stdout",
     "output_type": "stream",
     "text": [
      "[{'id': 1, 'name': 'НДФЛ', 'defaultSum': 5000.0, 'state': 'active'}, {'id': 2, 'name': 'Штраф', 'defaultSum': -500.0, 'state': 'active'}]\n"
     ]
    }
   ],
   "source": [
    "# GetEmployeePaymentTypes\n",
    "\n",
    "r = requests.post(base_url + 'GetEmployeePaymentTypes/')\n",
    "\n",
    "try:\n",
    "    io = StringIO(r.text)\n",
    "    result = json.load(io)\n",
    "    print(result)\n",
    "except:\n",
    "    print(r)"
   ]
  },
  {
   "cell_type": "code",
   "execution_count": 25,
   "metadata": {},
   "outputs": [
    {
     "name": "stdout",
     "output_type": "stream",
     "text": [
      "{'id': 1, 'name': 'НДФЛ', 'defaultSum': 5000.0, 'state': 'active'}\n"
     ]
    }
   ],
   "source": [
    "# GetEmployeePaymentType\n",
    "\n",
    "params = {'id':1}\n",
    "\n",
    "r = requests.post(base_url + 'GetEmployeePaymentType/', json = params)\n",
    "\n",
    "try:\n",
    "    io = StringIO(r.text)\n",
    "    result = json.load(io)\n",
    "    print(result)\n",
    "except:\n",
    "    print(r)"
   ]
  },
  {
   "cell_type": "code",
   "execution_count": 26,
   "metadata": {},
   "outputs": [
    {
     "name": "stdout",
     "output_type": "stream",
     "text": [
      "{'id': 1, 'officeId': 1, 'sessionId': 1, 'employeeId': 3, 'datetime': '30.12.2018 09:00', 'type': 'ndfl', 'sum': 1000.0, 'cashSum': None, 'cashlessSum': None, 'comment': None}\n"
     ]
    }
   ],
   "source": [
    "# GetEmployeePaymentOperation\n",
    "\n",
    "params = {'id':1}\n",
    "\n",
    "r = requests.post(base_url + 'GetEmployeePaymentOperation/', json = params)\n",
    "\n",
    "try:\n",
    "    io = StringIO(r.text)\n",
    "    result = json.load(io)\n",
    "    print(result)\n",
    "except:\n",
    "    print(r)"
   ]
  },
  {
   "cell_type": "code",
   "execution_count": 3,
   "metadata": {},
   "outputs": [
    {
     "name": "stdout",
     "output_type": "stream",
     "text": [
      "{'id': 3, 'name': 'Клиентов Клиент Клиентович Старший', 'contacts': [{'type': 'phone', 'value': '+1111'}], 'comment': None, 'photo': None}\n"
     ]
    }
   ],
   "source": [
    "# GetClient\n",
    "\n",
    "params = {'id':3}\n",
    "\n",
    "r = requests.post(base_url + 'GetClient/', json = params)\n",
    "\n",
    "try:\n",
    "    io = StringIO(r.text)\n",
    "    result = json.load(io)\n",
    "    print(result)\n",
    "except:\n",
    "    print(r)"
   ]
  },
  {
   "cell_type": "code",
   "execution_count": 28,
   "metadata": {},
   "outputs": [
    {
     "name": "stdout",
     "output_type": "stream",
     "text": [
      "{'id': 2, 'name': 'Клиентов Клиент Клиентович', 'contacts': [{'vk': 'vk2.com', 'mail': 'mail2@mail.com', 'phone': '+79009009090'}], 'comment': None}\n"
     ]
    }
   ],
   "source": [
    "# GetClients\n",
    "\n",
    "params = {'q':'кли'}\n",
    "\n",
    "r = requests.post(base_url + 'GetClients/', json = params)\n",
    "\n",
    "try:\n",
    "    io = StringIO(r.text)\n",
    "    result = json.load(io)\n",
    "    print(result)\n",
    "except:\n",
    "    print(r)"
   ]
  },
  {
   "cell_type": "code",
   "execution_count": 19,
   "metadata": {},
   "outputs": [
    {
     "name": "stdout",
     "output_type": "stream",
     "text": [
      "[{'officeId': None, 'totalsalary': 200000.0, 'totalpaidsalary': None, 'totalpenalty': None, 'totalunpaidsalary': None, 'totalservicecount': None, 'totalrepeatingvisitscount': None, 'totaltotalservicesum': None, 'totalservicebonus': None, 'totalgoodsbonus': None, 'totalpaidbonus': None, 'totalunpaidbonus': None, 'totalworkload': None}, {'officeId': 1, 'totalsalary': 200000.0, 'totalpaidsalary': None, 'totalpenalty': -300.0, 'totalunpaidsalary': None, 'totalservicecount': 2, 'totalrepeatingvisitscount': 0, 'totaltotalservicesum': None, 'totalservicebonus': None, 'totalgoodsbonus': None, 'totalpaidbonus': None, 'totalunpaidbonus': None, 'totalworkload': 3.75}]\n"
     ]
    }
   ],
   "source": [
    "# GenerateEmployeeReport\n",
    "\n",
    "params = {'period':'01.12.2018',\n",
    "         'groupingtype':'office'}\n",
    "\n",
    "r = requests.post(base_url + 'GenerateEmployeeReport/', json = params)\n",
    "\n",
    "try:\n",
    "    io = StringIO(r.text)\n",
    "    result = json.load(io)\n",
    "    print(result)\n",
    "except:\n",
    "    print(r)"
   ]
  },
  {
   "cell_type": "code",
   "execution_count": 18,
   "metadata": {},
   "outputs": [
    {
     "name": "stdout",
     "output_type": "stream",
     "text": [
      "{'officeId': 1, 'totalcash': None, 'totalcashless': None, 'totaldiscount': None, 'totalservicesum': None, 'totalgoodssum': None, 'totalsum': None, 'totalvisitsduringperiod': 2}\n"
     ]
    }
   ],
   "source": [
    "# GenerateClientReport\n",
    "\n",
    "params = {'period':'01.12.2018',\n",
    "         'groupingtype':'office'}\n",
    "\n",
    "r = requests.post(base_url + 'GenerateClientReport/', json = params)\n",
    "\n",
    "try:\n",
    "    io = StringIO(r.text)\n",
    "    result = json.load(io)\n",
    "    print(result)\n",
    "except:\n",
    "    print(r)"
   ]
  },
  {
   "cell_type": "code",
   "execution_count": 17,
   "metadata": {},
   "outputs": [
    {
     "name": "stdout",
     "output_type": "stream",
     "text": [
      "{'operationcount': 8, 'serviceoperationcount': 2, 'goodsoperationcount': 2, 'spendoperationcount': 4, 'serviceincome': None, 'goodsincome': None, 'totalcash': None, 'totalcashless': None, 'totalincome': None, 'totalspend': 15000.0, 'totalrevenue': None, 'totalemployees': 3, 'total_time': 60.0}\n"
     ]
    }
   ],
   "source": [
    "# GenerateFinanceReport\n",
    "\n",
    "params = {'period':'01.12.2018',\n",
    "         'groupingtype':'all'}\n",
    "\n",
    "r = requests.post(base_url + 'GenerateFinanceReport/', json = params)\n",
    "\n",
    "try:\n",
    "    io = StringIO(r.text)\n",
    "    result = json.load(io)\n",
    "    print(result)\n",
    "except:\n",
    "    print(r)"
   ]
  },
  {
   "cell_type": "code",
   "execution_count": 21,
   "metadata": {},
   "outputs": [
    {
     "name": "stdout",
     "output_type": "stream",
     "text": [
      "[[{'id': 3}]]\n"
     ]
    }
   ],
   "source": [
    "# EditOffice\n",
    "\n",
    "params = { 'id':'null',\n",
    "'name':'Токио',\n",
    "'city':'Токио',\n",
    "'address':'г. Токио, ул. Демонстрации, 51',\n",
    "'coordinatex':0.2,\n",
    "'coordinatey':0.2,\n",
    "'state':'open'}\n",
    "\n",
    "r = requests.post(base_url + 'EditOffice/', json = params)\n",
    "\n",
    "try:\n",
    "    io = StringIO(r.text)\n",
    "    result = json.load(io)\n",
    "    print(result)\n",
    "except:\n",
    "    print(r)"
   ]
  },
  {
   "cell_type": "code",
   "execution_count": 24,
   "metadata": {},
   "outputs": [
    {
     "name": "stdout",
     "output_type": "stream",
     "text": [
      "[[{'id': 4}]]\n"
     ]
    }
   ],
   "source": [
    "# EditSession\n",
    "\n",
    "params = {'id': 3, 'dateOpened': '29.09.2019 22:57', 'dateClosed': '29.09.2019 22:57', 'employees': None, 'officeId': None, 'state': 'open'}\n",
    "\n",
    "r = requests.post(base_url + 'EditSession/', json = params)\n",
    "\n",
    "try:\n",
    "    io = StringIO(r.text)\n",
    "    result = json.load(io)\n",
    "    print(result)\n",
    "except:\n",
    "    print(r)"
   ]
  },
  {
   "cell_type": "code",
   "execution_count": 19,
   "metadata": {},
   "outputs": [
    {
     "name": "stdout",
     "output_type": "stream",
     "text": [
      "{'id': 6}\n"
     ]
    }
   ],
   "source": [
    "# EditClient\n",
    "\n",
    "params = {\"id\":6,\"name\":\"Валентина\",\"contacts\":[{\"type\":\"phone\",\"value\":\"213\"}],\"comment\":\"null\",\"photo\":\"null\"}\n",
    "r = requests.post(base_url + 'EditClient/', json = params)\n",
    "\n",
    "try:\n",
    "    io = StringIO(r.text)\n",
    "    result = json.load(io)\n",
    "    print(result)\n",
    "except:\n",
    "    print(r)"
   ]
  },
  {
   "cell_type": "code",
   "execution_count": 51,
   "metadata": {},
   "outputs": [
    {
     "name": "stdout",
     "output_type": "stream",
     "text": [
      "['[{\"id\": 9}]', '[{\"id\": 9}]', '[{\"id\": 9}]', '[{\"id\": 7}]']\n"
     ]
    }
   ],
   "source": [
    "# EditOperations\n",
    "params = [\n",
    "    {\n",
    "        \"id\":'null',\n",
    "        \"operationType\": 'serviceoperation',\n",
    "        \"officeId\": 3,\n",
    "        \"sessionId\": 3,\n",
    "        \"serviceId\": 3,\n",
    "        \"startDatetime\": '11.10.2019 11:11',\n",
    "        \"finishDatetime\": '11.10.2019 12:11',\n",
    "        \"adminId\": 2,\n",
    "        \"masterId\": 3,\n",
    "        \"clientId\": 2,\n",
    "        \"cashSum\": 100,\n",
    "        \"cashlessSum\": 100,\n",
    "        \"discountSum\": 100,\n",
    "        \"clientRating\": 10,\n",
    "        \"review\": 'Отзыв клиента',\n",
    "        \"comment\": 'Комментарий'\n",
    "    },\n",
    "    {\n",
    "        \"id\":'null',\n",
    "        \"operationType\": 'goodsoperation',\n",
    "        \"officeId\": 3,\n",
    "        \"sessionId\": 3,\n",
    "        \"goodsIds\": [1,2,3],\n",
    "        \"datetime\": '11.10.2019 12:11',\n",
    "        \"adminId\": 1,\n",
    "        \"masterId\": 4,\n",
    "        \"clientId\": 1,\n",
    "        \"cashSum\": 100,\n",
    "        \"cashlessSum\": 100,\n",
    "        \"discountSum\": 100,\n",
    "        \"comment\": 'Комментарий'\n",
    "    },\n",
    "    {\n",
    "        \"id\":'null',\n",
    "        \"operationType\": 'spendoperation',\n",
    "        \"officeId\": 3,\n",
    "        \"sessionId\": 3,\n",
    "        \"expenseTypeId\": 3,\n",
    "        \"datetime\": '11.10.2019 12:11',\n",
    "        \"sum\": 500,\n",
    "        \"comment\": 'Комментарий'\n",
    "    },\n",
    "    {\n",
    "        \"id\":'null',\n",
    "        \"operationType\": 'employeePayment',\n",
    "        \"officeId\": 3,\n",
    "        \"sessionId\": 3,\n",
    "        \"employeeId\": 3,\n",
    "        \"employeePaymentTypeId\": 1,\n",
    "        \"datetime\": '11.10.2019 12:11',\n",
    "        \"sum\": 1000,\n",
    "        \"comment\": 'Комментарий'\n",
    "    }\n",
    "]\n",
    "\n",
    "r = requests.post(base_url + 'EditOperations/', json = params)\n",
    "\n",
    "try:\n",
    "    io = StringIO(r.text)\n",
    "    result = json.load(io)\n",
    "    print(result)\n",
    "except:\n",
    "    print(r)"
   ]
  },
  {
   "cell_type": "code",
   "execution_count": 49,
   "metadata": {},
   "outputs": [
    {
     "name": "stdout",
     "output_type": "stream",
     "text": [
      "[{'id': 6}]\n"
     ]
    }
   ],
   "source": [
    "# EditEmployee\n",
    "params = { 'id':'null',\n",
    "'name':'Очередное Хуйло',\n",
    "'pictureUrl':'www.ocherednoyehuylo.com',\n",
    "'roles':['officeAdmin'],\n",
    "'salary':100000,\n",
    "'servicePercent':0.1,\n",
    "'goodsPercent':0.1,\n",
    "'categoryId':'null',\n",
    "'state':'working',\n",
    "'clientRating':'null',\n",
    "'controlRating':'null',\n",
    "'login':'login',\n",
    "'password':'password'}\n",
    "\n",
    "r = requests.post(base_url + 'EditEmployee/', json = params)\n",
    "\n",
    "try:\n",
    "    io = StringIO(r.text)\n",
    "    result = json.load(io)\n",
    "    print(result)\n",
    "except:\n",
    "    print(r)"
   ]
  },
  {
   "cell_type": "code",
   "execution_count": 32,
   "metadata": {},
   "outputs": [
    {
     "name": "stdout",
     "output_type": "stream",
     "text": [
      "[[{'id': 3}]]\n"
     ]
    }
   ],
   "source": [
    "# EditBarberCategory\n",
    "params = { 'id':'null',\n",
    "'name':'Иисус-мастер',\n",
    "'servicePercent': 0.9,\n",
    "'state':'active'}\n",
    "\n",
    "r = requests.post(base_url + 'EditBarberCategory/', json = params)\n",
    "\n",
    "try:\n",
    "    io = StringIO(r.text)\n",
    "    result = json.load(io)\n",
    "    print(result)\n",
    "except:\n",
    "    print(r)"
   ]
  },
  {
   "cell_type": "code",
   "execution_count": 33,
   "metadata": {},
   "outputs": [
    {
     "name": "stdout",
     "output_type": "stream",
     "text": [
      "[[{'id': 3}]]\n"
     ]
    }
   ],
   "source": [
    "# EditEmployeePaymentType\n",
    "params = { 'id':'null',\n",
    "'name':'Похвала красаве',\n",
    "'defaultSum':500000,\n",
    "'state':'active'}\n",
    "\n",
    "r = requests.post(base_url + 'EditEmployeePaymentType/', json = params)\n",
    "\n",
    "try:\n",
    "    io = StringIO(r.text)\n",
    "    result = json.load(io)\n",
    "    print(result)\n",
    "except:\n",
    "    print(r)"
   ]
  },
  {
   "cell_type": "code",
   "execution_count": 34,
   "metadata": {},
   "outputs": [
    {
     "name": "stdout",
     "output_type": "stream",
     "text": [
      "[[{'id': 3}], [{'id': 4}]]\n"
     ]
    }
   ],
   "source": [
    "# EditGood\n",
    "params = [{ 'id':'null',\n",
    "'name':'Еще шампунь',\n",
    "'price':1500.00,\n",
    "'state':'active'},\n",
    "{ 'id':'null',\n",
    "'name':'Еще Кока-кола',\n",
    "'price':1000.00,\n",
    "'state':'active'}]\n",
    "\n",
    "r = requests.post(base_url + 'EditGood/', json = params)\n",
    "\n",
    "try:\n",
    "    io = StringIO(r.text)\n",
    "    result = json.load(io)\n",
    "    print(result)\n",
    "except:\n",
    "    print(r)"
   ]
  },
  {
   "cell_type": "code",
   "execution_count": 37,
   "metadata": {},
   "outputs": [
    {
     "name": "stdout",
     "output_type": "stream",
     "text": [
      "[[{'id': 3}]]\n"
     ]
    }
   ],
   "source": [
    "# EditService\n",
    "params = { 'id':'null',\n",
    "'name':'Стрижка для цисгендера',\n",
    "'prices': [{'category':1,'price':5000.00},{'category':2,'price':6000.00},{'category':3,'price':7000.00},{'category':4,'price':8000.00}],\n",
    "'state':'active'}\n",
    "\n",
    "r = requests.post(base_url + 'EditService/', json = params)\n",
    "\n",
    "try:\n",
    "    io = StringIO(r.text)\n",
    "    result = json.load(io)\n",
    "    print(result)\n",
    "except:\n",
    "    print(r)"
   ]
  },
  {
   "cell_type": "code",
   "execution_count": 4,
   "metadata": {},
   "outputs": [
    {
     "name": "stdout",
     "output_type": "stream",
     "text": [
      "<Response [405]>\n"
     ]
    }
   ],
   "source": [
    "# GetService\n",
    "\n",
    "params = {'id': 1}\n",
    "\n",
    "r = requests.post(base_url + 'GetService/', json = params)\n",
    "\n",
    "try:\n",
    "    io = StringIO(r.text)\n",
    "    result = json.load(io)\n",
    "    print(result)\n",
    "except:\n",
    "    print(r)"
   ]
  },
  {
   "cell_type": "code",
   "execution_count": 39,
   "metadata": {},
   "outputs": [
    {
     "name": "stdout",
     "output_type": "stream",
     "text": [
      "[[{'id': 3}]]\n"
     ]
    }
   ],
   "source": [
    "# EditSpendtype\n",
    "params = { 'id':'null',\n",
    "'name':'Сигареты админу',\n",
    "'defaultSum':500000,\n",
    "'state':'active'}\n",
    "\n",
    "r = requests.post(base_url + 'EditSpendtype/', json = params)\n",
    "\n",
    "try:\n",
    "    io = StringIO(r.text)\n",
    "    result = json.load(io)\n",
    "    print(result)\n",
    "except:\n",
    "    print(r)"
   ]
  }
 ],
 "metadata": {
  "kernelspec": {
   "display_name": "Python 3",
   "language": "python",
   "name": "python3"
  },
  "language_info": {
   "codemirror_mode": {
    "name": "ipython",
    "version": 3
   },
   "file_extension": ".py",
   "mimetype": "text/x-python",
   "name": "python",
   "nbconvert_exporter": "python",
   "pygments_lexer": "ipython3",
   "version": "3.6.0"
  }
 },
 "nbformat": 4,
 "nbformat_minor": 2
}
