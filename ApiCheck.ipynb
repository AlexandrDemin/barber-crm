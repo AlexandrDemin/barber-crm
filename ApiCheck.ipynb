{
 "cells": [
  {
   "cell_type": "code",
   "execution_count": 1,
   "metadata": {},
   "outputs": [],
   "source": [
    "import requests\n",
    "import json\n",
    "from io import StringIO\n",
    "from flask import Flask\n",
    "from flask import request\n",
    "import requests\n",
    "import json\n",
    "from io import StringIO\n",
    "import psycopg2\n",
    "from psycopg2.extras import RealDictCursor\n",
    "from werkzeug.wrappers import Request, Response\n",
    "from IPython.core.display import display, HTML\n",
    "\n",
    "base_url = 'http://localhost:9000/api/'"
   ]
  },
  {
   "cell_type": "code",
   "execution_count": null,
   "metadata": {
    "collapsed": true
   },
   "outputs": [],
   "source": [
    "# GetClients\n",
    "params = {'q':''}\n",
    "\n",
    "r = requests.post(base_url + 'GetClients/', json = params)\n",
    "\n",
    "try:\n",
    "    io = StringIO(r.text)\n",
    "    result = json.load(io)\n",
    "    print(result)\n",
    "except:\n",
    "    print(r)"
   ]
  },
  {
   "cell_type": "code",
   "execution_count": null,
   "metadata": {
    "collapsed": true
   },
   "outputs": [],
   "source": [
    "# GetUserData\n",
    "params = {'login':'login'}\n",
    "\n",
    "r = requests.post(base_url + 'GetUserData/', json = params)\n",
    "\n",
    "try:\n",
    "    io = StringIO(r.text)\n",
    "    result = json.load(io)\n",
    "    print(result)\n",
    "except:\n",
    "    print(r)"
   ]
  },
  {
   "cell_type": "code",
   "execution_count": null,
   "metadata": {
    "collapsed": true
   },
   "outputs": [],
   "source": [
    "# GetEmployees\n",
    "\n",
    "r = requests.post(base_url + 'GetEmployees/')\n",
    "\n",
    "try:\n",
    "    io = StringIO(r.text)\n",
    "    result = json.load(io)\n",
    "    print(result)\n",
    "except:\n",
    "    print(r)"
   ]
  },
  {
   "cell_type": "code",
   "execution_count": null,
   "metadata": {
    "collapsed": true
   },
   "outputs": [],
   "source": [
    "# GetEmployee\n",
    "\n",
    "params = {'id':1}\n",
    "\n",
    "r = requests.post(base_url + 'GetEmployee/', json = params)\n",
    "\n",
    "try:\n",
    "    io = StringIO(r.text)\n",
    "    result = json.load(io)\n",
    "    print(result)\n",
    "except:\n",
    "    print(r)"
   ]
  },
  {
   "cell_type": "code",
   "execution_count": null,
   "metadata": {
    "collapsed": true
   },
   "outputs": [],
   "source": [
    "# GetAdmins\n",
    "\n",
    "r = requests.post(base_url + 'GetAdmins/')\n",
    "\n",
    "try:\n",
    "    io = StringIO(r.text)\n",
    "    result = json.load(io)\n",
    "    print(result)\n",
    "except:\n",
    "    print(r)"
   ]
  },
  {
   "cell_type": "code",
   "execution_count": null,
   "metadata": {
    "collapsed": true
   },
   "outputs": [],
   "source": [
    "# GetMasters\n",
    "\n",
    "r = requests.post(base_url + 'GetMasters/')\n",
    "\n",
    "try:\n",
    "    io = StringIO(r.text)\n",
    "    result = json.load(io)\n",
    "    print(result)\n",
    "except:\n",
    "    print(r)"
   ]
  },
  {
   "cell_type": "code",
   "execution_count": null,
   "metadata": {
    "collapsed": true
   },
   "outputs": [],
   "source": [
    "# GetBarberCategories\n",
    "\n",
    "r = requests.post(base_url + 'GetBarberCategories/')\n",
    "\n",
    "try:\n",
    "    io = StringIO(r.text)\n",
    "    result = json.load(io)\n",
    "    print(result)\n",
    "except:\n",
    "    print(r)"
   ]
  },
  {
   "cell_type": "code",
   "execution_count": null,
   "metadata": {
    "collapsed": true
   },
   "outputs": [],
   "source": [
    "# GetBarberCategory\n",
    "\n",
    "params = {'id':1}\n",
    "\n",
    "r = requests.post(base_url + 'GetBarberCategory/', json = params)\n",
    "\n",
    "try:\n",
    "    io = StringIO(r.text)\n",
    "    result = json.load(io)\n",
    "    print(result)\n",
    "except:\n",
    "    print(r)"
   ]
  },
  {
   "cell_type": "code",
   "execution_count": null,
   "metadata": {
    "collapsed": true
   },
   "outputs": [],
   "source": [
    "# GetOffices\n",
    "\n",
    "r = requests.post(base_url + 'GetOffices/')\n",
    "\n",
    "try:\n",
    "    io = StringIO(r.text)\n",
    "    result = json.load(io)\n",
    "    print(result)\n",
    "except:\n",
    "    print(r)"
   ]
  },
  {
   "cell_type": "code",
   "execution_count": null,
   "metadata": {
    "collapsed": true
   },
   "outputs": [],
   "source": [
    "# GetOffice\n",
    "\n",
    "params = {'id':1}\n",
    "\n",
    "r = requests.post(base_url + 'GetOffice/', json = params)\n",
    "\n",
    "try:\n",
    "    io = StringIO(r.text)\n",
    "    result = json.load(io)\n",
    "    print(result)\n",
    "except:\n",
    "    print(r)"
   ]
  },
  {
   "cell_type": "code",
   "execution_count": null,
   "metadata": {
    "collapsed": true
   },
   "outputs": [],
   "source": [
    "# GetCurrentSession\n",
    "\n",
    "params = {'officeId':3, \"withOperations\": True}\n",
    "\n",
    "r = requests.post(base_url + 'GetCurrentSession/', json = params)\n",
    "\n",
    "try:\n",
    "    io = StringIO(r.text)\n",
    "    result = json.load(io)\n",
    "    print(result)\n",
    "except:\n",
    "    display(HTML(r.text))"
   ]
  },
  {
   "cell_type": "code",
   "execution_count": null,
   "metadata": {
    "collapsed": true
   },
   "outputs": [],
   "source": [
    "# GetSession\n",
    "\n",
    "params = {'id':3,\n",
    "          \"withOperations\": True\n",
    "         }\n",
    "\n",
    "r = requests.post(base_url + 'GetSession/', json = params)\n",
    "\n",
    "try:\n",
    "    io = StringIO(r.text)\n",
    "    result = json.load(io)\n",
    "    print(result)\n",
    "except:\n",
    "    print(r)"
   ]
  },
  {
   "cell_type": "code",
   "execution_count": 19,
   "metadata": {
    "scrolled": true
   },
   "outputs": [
    {
     "name": "stdout",
     "output_type": "stream",
     "text": [
      "[{'id': 4, 'dateOpened': '11.10.2019 09:00', 'dateClosed': '11.10.2019 23:00', 'employees': [{'userId': 3, 'starttime': '10:00', 'endtime': '18:00'}, {'userId': 4, 'starttime': '14:00', 'endtime': '22:00'}, {'userId': 1, 'starttime': '09:00', 'endtime': '23:00'}], 'officeId': 1, 'state': 'closed'}, {'id': 17, 'dateOpened': '30.10.2019 20:32', 'dateClosed': '30.10.2019 22:57', 'employees': [{'id': 7, 'role': 'officeAdmin', 'workHours': 6}, {'id': 4, 'role': 'master', 'workHours': 6}, {'id': 3, 'role': 'master', 'workHours': 6}], 'officeId': 2, 'state': 'closed'}, {'id': 18, 'dateOpened': '30.10.2019 22:59', 'dateClosed': '30.10.2019 23:06', 'employees': [{'id': 7, 'role': 'officeAdmin', 'workHours': 6}, {'id': 4, 'role': 'master', 'workHours': 6}], 'officeId': 3, 'state': 'closed'}, {'id': 3, 'dateOpened': '29.09.2019 10:10', 'dateClosed': '20.10.2019 20:15', 'employees': [{'id': 1, 'role': 'officeAdmin', 'workHours': 6}, {'id': 4, 'role': 'master', 'workHours': 6}], 'officeId': 1, 'state': 'closed'}, {'id': 2, 'dateOpened': '20.10.2019 00:00', 'dateClosed': '20.10.2019 00:00', 'employees': [{'id': 1, 'role': 'officeAdmin', 'workHours': 6}, {'id': 4, 'role': 'master', 'workHours': 6}], 'officeId': 2, 'state': 'closed'}, {'id': 19, 'dateOpened': '30.10.2019 23:08', 'dateClosed': '30.10.2019 23:08', 'employees': [{'id': 7, 'role': 'officeAdmin', 'workHours': 6}, {'id': 4, 'role': 'master', 'workHours': 6}], 'officeId': 3, 'state': 'closed'}, {'id': 8, 'dateOpened': '22.10.2019 14:26', 'dateClosed': '22.10.2019 21:15', 'employees': [{'id': 6, 'role': 'officeAdmin', 'workHours': 6}, {'id': 4, 'role': 'master', 'workHours': 6}, {'id': 6, 'role': 'officeAdmin', 'workHours': 6}], 'officeId': 3, 'state': 'closed'}, {'id': 9, 'dateOpened': '22.10.2019 18:25', 'dateClosed': '22.10.2019 21:28', 'employees': [{'id': 6, 'role': 'officeAdmin', 'workHours': 6}, {'id': 4, 'role': 'master', 'workHours': 6}], 'officeId': 3, 'state': 'closed'}, {'id': 6, 'dateOpened': '20.10.2019 17:22', 'dateClosed': '22.10.2019 21:34', 'employees': [{'id': 1, 'role': 'officeAdmin', 'workHours': 6}, {'id': 4, 'role': 'master', 'workHours': 6}], 'officeId': 2, 'state': 'closed'}, {'id': 7, 'dateOpened': '20.10.2019 14:25', 'dateClosed': '22.10.2019 22:02', 'employees': [{'id': 6, 'role': 'officeAdmin', 'workHours': 6}, {'id': 4, 'role': 'master', 'workHours': 6}], 'officeId': 2, 'state': 'closed'}, {'id': 10, 'dateOpened': '23.10.2019 18:12', 'dateClosed': '23.10.2019 22:15', 'employees': [{'id': 6, 'role': 'officeAdmin', 'workHours': 6}, {'id': 4, 'role': 'master', 'workHours': 6}], 'officeId': 3, 'state': 'closed'}, {'id': 11, 'dateOpened': '24.10.2019 18:28', 'dateClosed': '24.10.2019 22:01', 'employees': [{'id': 6, 'role': 'officeAdmin', 'workHours': 6}, {'id': 4, 'role': 'master', 'workHours': 6}], 'officeId': 1, 'state': 'closed'}, {'id': 12, 'dateOpened': '26.10.2019 17:52', 'dateClosed': '26.10.2019 22:40', 'employees': [{'id': 6, 'role': 'officeAdmin', 'workHours': 6}, {'id': 4, 'role': 'master', 'workHours': 6}], 'officeId': 3, 'state': 'closed'}, {'id': 13, 'dateOpened': '27.10.2019 07:34', 'dateClosed': '27.10.2019 22:49', 'employees': [{'id': 6, 'role': 'officeAdmin', 'workHours': 6}, {'id': 4, 'role': 'master', 'workHours': 6}], 'officeId': 3, 'state': 'closed'}, {'id': 14, 'dateOpened': '28.10.2019 20:45', 'dateClosed': '28.10.2019 23:31', 'employees': [{'id': 5, 'role': 'officeAdmin', 'workHours': 6}, {'id': 3, 'role': 'master', 'workHours': 6}], 'officeId': 3, 'state': 'closed'}, {'id': 20, 'dateOpened': '02.11.2019 09:46', 'dateClosed': '02.11.2019 09:48', 'employees': [{'id': 7, 'role': 'officeAdmin', 'workHours': 6}, {'id': 4, 'role': 'master', 'workHours': 6}], 'officeId': 2, 'state': 'closed'}, {'id': 1, 'dateOpened': '30.12.2018 09:00', 'dateClosed': '29.10.2019 14:16', 'employees': [{'userId': 3, 'starttime': '10:00', 'endtime': '18:00'}, {'userId': 4, 'starttime': '14:00', 'endtime': '22:00'}, {'userId': 1, 'starttime': '09:00', 'endtime': '23:00'}], 'officeId': 1, 'state': 'closed'}, {'id': 15, 'dateOpened': '29.10.2019 20:39', 'dateClosed': '29.10.2019 23:15', 'employees': [{'id': 5, 'role': 'officeAdmin', 'workHours': 6}, {'id': 3, 'role': 'master', 'workHours': 6}], 'officeId': 1, 'state': 'closed'}, {'id': 16, 'dateOpened': '29.10.2019 23:21', 'dateClosed': '29.10.2019 23:21', 'employees': [{'id': 7, 'role': 'officeAdmin', 'workHours': 6}, {'id': 4, 'role': 'master', 'workHours': 6}], 'officeId': 3, 'state': 'closed'}, {'id': 21, 'dateOpened': '02.11.2019 11:40', 'dateClosed': '02.11.2019 11:41', 'employees': [{'id': 4, 'role': 'master', 'workHours': 6}, {'id': 7, 'role': 'officeAdmin', 'workHours': 6}], 'officeId': 2, 'state': 'closed'}, {'id': 23, 'dateOpened': '02.11.2019 23:27', 'dateClosed': '03.11.2019 16:16', 'employees': [{'id': 5, 'role': 'officeAdmin', 'workHours': 6}, {'id': 4, 'role': 'master', 'workHours': 6}], 'officeId': 2, 'state': 'closed'}, {'id': 22, 'dateOpened': '02.11.2019 13:56', 'dateClosed': '04.11.2019 11:08', 'employees': [{'id': 5, 'role': 'officeAdmin', 'workHours': 6}, {'id': 4, 'role': 'master', 'workHours': 6}, {'id': 3, 'role': 'master', 'workHours': 6}], 'officeId': 3, 'state': 'closed'}]\n"
     ]
    }
   ],
   "source": [
    "# GetSessions\n",
    "\n",
    "params = {\n",
    "    \"dateFrom\": '01.01.2018',\n",
    "    \"dateTo\": '04.11.2019',\n",
    "    \"withOPerations\": False\n",
    "}\n",
    "\n",
    "r = requests.post(base_url + 'GetSessions/', json = params)\n",
    "\n",
    "try:\n",
    "    io = StringIO(r.text)\n",
    "    result = json.load(io)\n",
    "    print(result)\n",
    "except:\n",
    "    display(HTML(r.text))"
   ]
  },
  {
   "cell_type": "code",
   "execution_count": null,
   "metadata": {
    "collapsed": true
   },
   "outputs": [],
   "source": [
    "# GetServicesPrices\n",
    "\n",
    "r = requests.post(base_url + 'GetServicesPrices/')\n",
    "\n",
    "try:\n",
    "    io = StringIO(r.text)\n",
    "    result = json.load(io)\n",
    "    print(result)\n",
    "except:\n",
    "    print(r)"
   ]
  },
  {
   "cell_type": "code",
   "execution_count": null,
   "metadata": {
    "collapsed": true
   },
   "outputs": [],
   "source": [
    "# GetServiceOperation\n",
    "\n",
    "params = {'id':1}\n",
    "\n",
    "r = requests.post(base_url + 'GetServiceOperation/', json = params)\n",
    "\n",
    "try:\n",
    "    io = StringIO(r.text)\n",
    "    result = json.load(io)\n",
    "    print(result)\n",
    "except:\n",
    "    print(r)"
   ]
  },
  {
   "cell_type": "code",
   "execution_count": null,
   "metadata": {
    "collapsed": true
   },
   "outputs": [],
   "source": [
    "# GetGoods\n",
    "\n",
    "r = requests.post(base_url + 'GetGoods/')\n",
    "\n",
    "try:\n",
    "    io = StringIO(r.text)\n",
    "    result = json.load(io)\n",
    "    print(result)\n",
    "except:\n",
    "    print(r)"
   ]
  },
  {
   "cell_type": "code",
   "execution_count": null,
   "metadata": {
    "collapsed": true
   },
   "outputs": [],
   "source": [
    "# GetGood\n",
    "\n",
    "params = {'id':1}\n",
    "\n",
    "r = requests.post(base_url + 'GetGood/', json = params)\n",
    "\n",
    "try:\n",
    "    io = StringIO(r.text)\n",
    "    result = json.load(io)\n",
    "    print(result)\n",
    "except:\n",
    "    print(r)"
   ]
  },
  {
   "cell_type": "code",
   "execution_count": null,
   "metadata": {
    "collapsed": true
   },
   "outputs": [],
   "source": [
    "# GetGoodsOperation\n",
    "\n",
    "params = {'id':1}\n",
    "\n",
    "r = requests.post(base_url + 'GetGoodsOperation/', json = params)\n",
    "\n",
    "try:\n",
    "    io = StringIO(r.text)\n",
    "    result = json.load(io)\n",
    "    print(result)\n",
    "except:\n",
    "    print(r)"
   ]
  },
  {
   "cell_type": "code",
   "execution_count": null,
   "metadata": {
    "collapsed": true
   },
   "outputs": [],
   "source": [
    "# GetSpendTypes\n",
    "\n",
    "r = requests.post(base_url + 'GetSpendTypes/')\n",
    "\n",
    "try:\n",
    "    io = StringIO(r.text)\n",
    "    result = json.load(io)\n",
    "    print(result)\n",
    "except:\n",
    "    print(r)"
   ]
  },
  {
   "cell_type": "code",
   "execution_count": null,
   "metadata": {
    "collapsed": true
   },
   "outputs": [],
   "source": [
    "# GetSpendType\n",
    "\n",
    "params = {'id':1}\n",
    "\n",
    "r = requests.post(base_url + 'GetSpendType/', json = params)\n",
    "\n",
    "try:\n",
    "    io = StringIO(r.text)\n",
    "    result = json.load(io)\n",
    "    print(result)\n",
    "except:\n",
    "    print(r)"
   ]
  },
  {
   "cell_type": "code",
   "execution_count": null,
   "metadata": {
    "collapsed": true
   },
   "outputs": [],
   "source": [
    "# GetSpendOperation\n",
    "\n",
    "params = {'id':1}\n",
    "\n",
    "r = requests.post(base_url + 'GetSpendOperation/', json = params)\n",
    "\n",
    "try:\n",
    "    io = StringIO(r.text)\n",
    "    result = json.load(io)\n",
    "    print(result)\n",
    "except:\n",
    "    print(r)"
   ]
  },
  {
   "cell_type": "code",
   "execution_count": null,
   "metadata": {
    "collapsed": true
   },
   "outputs": [],
   "source": [
    "# GetEmployeePaymentTypes\n",
    "\n",
    "r = requests.post(base_url + 'GetEmployeePaymentTypes/')\n",
    "\n",
    "try:\n",
    "    io = StringIO(r.text)\n",
    "    result = json.load(io)\n",
    "    print(result)\n",
    "except:\n",
    "    print(r)"
   ]
  },
  {
   "cell_type": "code",
   "execution_count": null,
   "metadata": {
    "collapsed": true
   },
   "outputs": [],
   "source": [
    "# GetEmployeePaymentType\n",
    "\n",
    "params = {'id':1}\n",
    "\n",
    "r = requests.post(base_url + 'GetEmployeePaymentType/', json = params)\n",
    "\n",
    "try:\n",
    "    io = StringIO(r.text)\n",
    "    result = json.load(io)\n",
    "    print(result)\n",
    "except:\n",
    "    print(r)"
   ]
  },
  {
   "cell_type": "code",
   "execution_count": null,
   "metadata": {
    "collapsed": true
   },
   "outputs": [],
   "source": [
    "# GetEmployeePaymentOperation\n",
    "\n",
    "params = {'id':1}\n",
    "\n",
    "r = requests.post(base_url + 'GetEmployeePaymentOperation/', json = params)\n",
    "\n",
    "try:\n",
    "    io = StringIO(r.text)\n",
    "    result = json.load(io)\n",
    "    print(result)\n",
    "except:\n",
    "    print(r)"
   ]
  },
  {
   "cell_type": "code",
   "execution_count": 8,
   "metadata": {},
   "outputs": [
    {
     "name": "stdout",
     "output_type": "stream",
     "text": [
      "{'id': 3, 'name': 'Клиентов Клиент Клиентович Старший', 'contacts': [{'type': 'phone', 'value': '+1111'}], 'comment': None, 'photo': None, 'operations': None}\n"
     ]
    }
   ],
   "source": [
    "# GetClient\n",
    "\n",
    "params = {'id':3}\n",
    "\n",
    "r = requests.post(base_url + 'GetClient/', json = params)\n",
    "\n",
    "try:\n",
    "    io = StringIO(r.text)\n",
    "    result = json.load(io)\n",
    "    print(result)\n",
    "except:\n",
    "    print(r)"
   ]
  },
  {
   "cell_type": "code",
   "execution_count": 9,
   "metadata": {},
   "outputs": [
    {
     "data": {
      "text/plain": [
       "dict"
      ]
     },
     "execution_count": 9,
     "metadata": {},
     "output_type": "execute_result"
    }
   ],
   "source": [
    "type(result)"
   ]
  },
  {
   "cell_type": "code",
   "execution_count": null,
   "metadata": {
    "collapsed": true
   },
   "outputs": [],
   "source": [
    "# GetClients\n",
    "\n",
    "params = {'q':'кли'}\n",
    "\n",
    "r = requests.post(base_url + 'GetClients/', json = params)\n",
    "\n",
    "try:\n",
    "    io = StringIO(r.text)\n",
    "    result = json.load(io)\n",
    "    print(result)\n",
    "except:\n",
    "    print(r)"
   ]
  },
  {
   "cell_type": "code",
   "execution_count": null,
   "metadata": {
    "scrolled": true
   },
   "outputs": [],
   "source": [
    "# GenerateEmployeeReport\n",
    "\n",
    "params = {'period':'01.11.2019'}\n",
    "\n",
    "r = requests.post(base_url + 'GenerateEmployeeReport/', json = params)\n",
    "\n",
    "try:\n",
    "    io = StringIO(r.text)\n",
    "    result = json.load(io)\n",
    "    print(result)\n",
    "except:\n",
    "    print(r)"
   ]
  },
  {
   "cell_type": "code",
   "execution_count": 20,
   "metadata": {
    "scrolled": true
   },
   "outputs": [
    {
     "name": "stdout",
     "output_type": "stream",
     "text": [
      "{'summary': [{'totalcash': 9767.3, 'totalcashless': 800.0, 'totaldiscount': 800.0, 'totalservicesum': 2800.0, 'totalgoodssum': 7767.3, 'totalsum': 10567.3, 'totalvisitsduringperiod': 5}], 'byOffices': [{'officeId': 2, 'max': '08.11.2019', 'totalcash': 8967.3, 'totalcashless': 0.0, 'totaldiscount': 0.0, 'totalservicesum': 1200.0, 'totalgoodssum': 7767.3, 'totalsum': 8967.3, 'totalvisitsduringperiod': 4}, {'officeId': 3, 'max': '10.11.2019', 'totalcash': 800.0, 'totalcashless': 800.0, 'totaldiscount': 800.0, 'totalservicesum': 1600.0, 'totalgoodssum': 0.0, 'totalsum': 1600.0, 'totalvisitsduringperiod': 1}], 'byClients': [{'clientId': 2, 'lastvisitdatetime': '10.11.2019', 'name': 'Клиентов Клиент Клиентович', 'loyalty': 'ambivalent', 'newclient': False, 'totalcash': 800.0, 'totalcashless': 800.0, 'totaldiscount': 800.0, 'totalservicesum': 1600.0, 'totalgoodssum': 0.0, 'totalsum': 1600.0, 'totalvisitsduringperiod': 1, 'totalvisits': 2, 'lastndaysvisitscount': 1, 'yearmonth': '01.11.2019 00:00', 'mastervisits': [{'masterId': 3, 'name': 'Морковная Светлана Егоровна', 'dailyvisitscount': 1}]}, {'clientId': 6, 'lastvisitdatetime': '02.11.2019', 'name': 'Валентина', 'loyalty': 'ambivalent', 'newclient': True, 'totalcash': 7067.3, 'totalcashless': 0.0, 'totaldiscount': 0.0, 'totalservicesum': 1000.0, 'totalgoodssum': 6067.3, 'totalsum': 7067.3, 'totalvisitsduringperiod': 1, 'totalvisits': 1, 'lastndaysvisitscount': 1, 'yearmonth': '01.11.2019 00:00', 'mastervisits': [{'masterId': 4, 'name': 'Барберов Бородач Ножницевич', 'dailyvisitscount': 1}]}, {'clientId': 13, 'lastvisitdatetime': '08.11.2019', 'name': 'Олежа', 'loyalty': 'loyal', 'newclient': True, 'totalcash': 1900.0, 'totalcashless': 0.0, 'totaldiscount': 0.0, 'totalservicesum': 200.0, 'totalgoodssum': 1700.0, 'totalsum': 1900.0, 'totalvisitsduringperiod': 3, 'totalvisits': 7, 'lastndaysvisitscount': 7, 'yearmonth': '01.11.2019 00:00', 'mastervisits': [{'masterId': 4, 'name': 'Барберов Бородач Ножницевич', 'dailyvisitscount': 1}]}], 'byOfficeAndClient': [{'officeId': 3, 'clientId': 2, 'yearmonth': '01.11.2019 00:00', 'totalcash': 800.0, 'totalcashless': 800.0, 'totaldiscount': 800.0, 'totalservicesum': 1600.0, 'totalgoodssum': 0.0, 'totalsum': 1600.0, 'mastervisits': [{'masterId': 3, 'name': 'Морковная Светлана Егоровна', 'dailyvisitscount': 1}], 'totalvisitsduringperiod': 1, 'name': 'Клиентов Клиент Клиентович', 'totalvisits': 2, 'lastndaysvisitscount': 1, 'lastvisitdatetime': '10.11.2019', 'lastvisitdatetimeoffice': '10.11.2019', 'loyalty': 'ambivalent', 'newclient': False}, {'officeId': 2, 'clientId': 6, 'yearmonth': '01.11.2019 00:00', 'totalcash': 7067.3, 'totalcashless': 0.0, 'totaldiscount': 0.0, 'totalservicesum': 1000.0, 'totalgoodssum': 6067.3, 'totalsum': 7067.3, 'mastervisits': [{'masterId': 4, 'name': 'Барберов Бородач Ножницевич', 'dailyvisitscount': 1}], 'totalvisitsduringperiod': 1, 'name': 'Валентина', 'totalvisits': 1, 'lastndaysvisitscount': 1, 'lastvisitdatetime': '02.11.2019', 'lastvisitdatetimeoffice': '02.11.2019', 'loyalty': 'ambivalent', 'newclient': True}, {'officeId': 2, 'clientId': 13, 'yearmonth': '01.11.2019 00:00', 'totalcash': 1900.0, 'totalcashless': 0.0, 'totaldiscount': 0.0, 'totalservicesum': 200.0, 'totalgoodssum': 1700.0, 'totalsum': 1900.0, 'mastervisits': [{'masterId': 4, 'name': 'Барберов Бородач Ножницевич', 'dailyvisitscount': 1}], 'totalvisitsduringperiod': 3, 'name': 'Олежа', 'totalvisits': 7, 'lastndaysvisitscount': 7, 'lastvisitdatetime': '08.11.2019', 'lastvisitdatetimeoffice': '08.11.2019', 'loyalty': 'loyal', 'newclient': True}]}\n"
     ]
    }
   ],
   "source": [
    "# GenerateClientReport\n",
    "\n",
    "params = {'period':'01.11.2019'}\n",
    "\n",
    "r = requests.post(base_url + 'GenerateClientReport/', json = params)\n",
    "\n",
    "try:\n",
    "    io = StringIO(r.text)\n",
    "    result = json.load(io)\n",
    "    print(result)\n",
    "except:\n",
    "    print(r)"
   ]
  },
  {
   "cell_type": "code",
   "execution_count": 22,
   "metadata": {},
   "outputs": [
    {
     "data": {
      "text/plain": [
       "[{'totalcash': 9767.3,\n",
       "  'totalcashless': 800.0,\n",
       "  'totaldiscount': 800.0,\n",
       "  'totalservicesum': 2800.0,\n",
       "  'totalgoodssum': 7767.3,\n",
       "  'totalsum': 10567.3,\n",
       "  'totalvisitsduringperiod': 5}]"
      ]
     },
     "execution_count": 22,
     "metadata": {},
     "output_type": "execute_result"
    }
   ],
   "source": [
    "result['summary']"
   ]
  },
  {
   "cell_type": "code",
   "execution_count": null,
   "metadata": {},
   "outputs": [],
   "source": []
  },
  {
   "cell_type": "code",
   "execution_count": null,
   "metadata": {},
   "outputs": [],
   "source": []
  },
  {
   "cell_type": "code",
   "execution_count": 23,
   "metadata": {},
   "outputs": [
    {
     "name": "stdout",
     "output_type": "stream",
     "text": [
      "{'summary': [{'operationcount': 64, 'serviceoperationcount': 10, 'goodsoperationcount': 21, 'spendoperationcount': 33, 'serviceincome': 2800.0, 'goodsincome': 7767.3, 'totalcash': 9767.3, 'totalcashless': 800.0, 'totalincome': 10567.299987793, 'totalspend': 752990.379882812, 'totalprofit': -742423.07989502, 'totalemployees': 6, 'total_time': 90}], 'byOffices': [{'officeId': 2, 'yearmonth': '01.11.2019 00:00', 'operationcount': 27, 'serviceoperationcount': 2, 'goodsoperationcount': 21, 'spendoperationcount': 4, 'serviceincome': 1200.0, 'goodsincome': 7767.3, 'totalcash': 8967.3, 'totalcashless': 0.0, 'totalincome': 8967.29998779297, 'totalspend': 800.0, 'totalprofit': 8167.29998779297, 'totalemployees': 3, 'total_time': 72}, {'officeId': 3, 'yearmonth': '01.11.2019 00:00', 'operationcount': 37, 'serviceoperationcount': 8, 'goodsoperationcount': 0, 'spendoperationcount': 29, 'serviceincome': 1600.0, 'goodsincome': None, 'totalcash': 800.0, 'totalcashless': 800.0, 'totalincome': 1600.0, 'totalspend': 752190.379882812, 'totalprofit': -750590.379882812, 'totalemployees': 3, 'total_time': 18}]}\n"
     ]
    }
   ],
   "source": [
    "# GenerateFinanceReport\n",
    "\n",
    "params = {'period':'01.11.2019'}\n",
    "\n",
    "r = requests.post(base_url + 'GenerateFinanceReport/', json = params)\n",
    "\n",
    "try:\n",
    "    io = StringIO(r.text)\n",
    "    result = json.load(io)\n",
    "    print(result)\n",
    "except:\n",
    "    print(r)"
   ]
  },
  {
   "cell_type": "code",
   "execution_count": 24,
   "metadata": {},
   "outputs": [
    {
     "data": {
      "text/plain": [
       "[{'operationcount': 64,\n",
       "  'serviceoperationcount': 10,\n",
       "  'goodsoperationcount': 21,\n",
       "  'spendoperationcount': 33,\n",
       "  'serviceincome': 2800.0,\n",
       "  'goodsincome': 7767.3,\n",
       "  'totalcash': 9767.3,\n",
       "  'totalcashless': 800.0,\n",
       "  'totalincome': 10567.299987793,\n",
       "  'totalspend': 752990.379882812,\n",
       "  'totalprofit': -742423.07989502,\n",
       "  'totalemployees': 6,\n",
       "  'total_time': 90}]"
      ]
     },
     "execution_count": 24,
     "metadata": {},
     "output_type": "execute_result"
    }
   ],
   "source": [
    "result['summary']"
   ]
  },
  {
   "cell_type": "code",
   "execution_count": 2,
   "metadata": {},
   "outputs": [
    {
     "name": "stdout",
     "output_type": "stream",
     "text": [
      "{\"id\": 3}\n"
     ]
    }
   ],
   "source": [
    "# EditOffice\n",
    "\n",
    "params = { 'id':3,\n",
    "'name':'ТокиоААА',\n",
    "'city':'Токио',\n",
    "'address':'г. Токио, ул. Демонстрации, 51',\n",
    "'coordinatex':0.2,\n",
    "'coordinatey':0.2,\n",
    "'state':'open'}\n",
    "\n",
    "r = requests.post(base_url + 'EditOffice/', json = params)\n",
    "\n",
    "try:\n",
    "    io = StringIO(r.text)\n",
    "    result = json.load(io)\n",
    "    print(result)\n",
    "except:\n",
    "    print(r)"
   ]
  },
  {
   "cell_type": "code",
   "execution_count": null,
   "metadata": {
    "collapsed": true
   },
   "outputs": [],
   "source": [
    "# EditSession\n",
    "\n",
    "params = {\"id\":2,\"dateOpened\":\"2019-10-20\",\"dateClosed\":\"2019-10-20\",\"employees\":[{\"id\":1,\"role\":\"officeAdmin\",\"workHours\":6},{\"id\":4,\"role\":\"master\",\"workHours\":6}],\"officeId\":2,\"state\":\"closed\",\"openCash\":0}\n",
    "\n",
    "r = requests.post(base_url + 'EditSession/', json = params)\n",
    "\n",
    "try:\n",
    "    io = StringIO(r.text)\n",
    "    result = json.load(io)\n",
    "    print(result)\n",
    "except:\n",
    "    print(r)"
   ]
  },
  {
   "cell_type": "code",
   "execution_count": 11,
   "metadata": {},
   "outputs": [
    {
     "name": "stdout",
     "output_type": "stream",
     "text": [
      "{'id': 4}\n"
     ]
    }
   ],
   "source": [
    "# EditClient\n",
    "\n",
    "params = {\"id\":4,\"name\":\"Бамбузлоооооооу\",\"contacts\":[{\"type\":\"phone\",\"value\":\"123\"}]}\n",
    "r = requests.post(base_url + 'EditClient/', json = params)\n",
    "\n",
    "try:\n",
    "    io = StringIO(r.text)\n",
    "    result = json.load(io)\n",
    "    print(result)\n",
    "except:\n",
    "    print(r)"
   ]
  },
  {
   "cell_type": "code",
   "execution_count": 7,
   "metadata": {},
   "outputs": [
    {
     "data": {
      "text/plain": [
       "str"
      ]
     },
     "execution_count": 7,
     "metadata": {},
     "output_type": "execute_result"
    }
   ],
   "source": [
    "a = (result)\n",
    "type(a)"
   ]
  },
  {
   "cell_type": "code",
   "execution_count": 10,
   "metadata": {},
   "outputs": [
    {
     "name": "stdout",
     "output_type": "stream",
     "text": [
      "[{'id': 46}]\n"
     ]
    }
   ],
   "source": [
    "# EditOperations\n",
    "params = [{'adminBonusSum': 10,\n",
    "'adminId': 7,\n",
    "'amount': 1,\n",
    "'cashSum': 100,\n",
    "'cashlessSum': 0,\n",
    "'clientId': 13,\n",
    "'comment': \"\",\n",
    "'datetime': \"2019-11-07T22:14:00.000Z\",\n",
    "'discountSum': 0,\n",
    "'employeeBonusSum': 10,\n",
    "'employeeId': 4,\n",
    "'goodsId': 3,\n",
    "'id': None,\n",
    "'officeId': 2,\n",
    "'sessionId': 25,\n",
    "'type': \"goodsoperation\"}\n",
    "]\n",
    "\n",
    "r = requests.post(base_url + 'EditOperations/', json = params)\n",
    "\n",
    "try:\n",
    "    io = StringIO(r.text)\n",
    "    result = json.load(io)\n",
    "    print(result)\n",
    "except:\n",
    "    print(r)"
   ]
  },
  {
   "cell_type": "code",
   "execution_count": null,
   "metadata": {
    "collapsed": true
   },
   "outputs": [],
   "source": [
    "# EditEmployee\n",
    "params = {\"id\":1,\n",
    "          \"name\":\"Иванов Диего Михайлович\",\n",
    "          \"roles\":[\"officeAdmin\"],\n",
    "          \"salary\":100000,\n",
    "          \"servicePercent\":0.1,\n",
    "          \"goodsPercent\":0.1,\n",
    "          \"categoryId\":2,\n",
    "          \"state\":\"active\",\n",
    "          \"clientRating\":None,\n",
    "          \"controlRating\":None,\n",
    "          \"login\":\"login\",\n",
    "          \"password\":\"password\",\n",
    "          \"contacts\":None,\n",
    "          \"photo\":None}\n",
    "\n",
    "r = requests.post(base_url + 'EditEmployee/', json = params)\n",
    "\n",
    "try:\n",
    "    io = StringIO(r.text)\n",
    "    result = json.load(io)\n",
    "    print(result)\n",
    "except:\n",
    "    print(r)"
   ]
  },
  {
   "cell_type": "code",
   "execution_count": null,
   "metadata": {
    "collapsed": true
   },
   "outputs": [],
   "source": [
    "# EditBarberCategory\n",
    "params = { 'id':1,\n",
    "'name':'Иисус-мастер',\n",
    "'state':'active'}\n",
    "\n",
    "r = requests.post(base_url + 'EditBarberCategory/', json = params)\n",
    "\n",
    "try:\n",
    "    io = StringIO(r.text)\n",
    "    result = json.load(io)\n",
    "    print(result)\n",
    "except:\n",
    "    print(r)"
   ]
  },
  {
   "cell_type": "code",
   "execution_count": null,
   "metadata": {
    "collapsed": true
   },
   "outputs": [],
   "source": [
    "# EditEmployeePaymentType\n",
    "params = { 'id':3,\n",
    "'name':'Похвала красаве',\n",
    "'defaultSum':500000,\n",
    "'state':'active'}\n",
    "\n",
    "r = requests.post(base_url + 'EditEmployeePaymentType/', json = params)\n",
    "\n",
    "try:\n",
    "    io = StringIO(r.text)\n",
    "    result = json.load(io)\n",
    "    print(result)\n",
    "except:\n",
    "    print(r)"
   ]
  },
  {
   "cell_type": "code",
   "execution_count": null,
   "metadata": {
    "collapsed": true
   },
   "outputs": [],
   "source": [
    "# EditGood\n",
    "params = [{ 'id':'null',\n",
    "'name':'Еще шампунь',\n",
    "'price':1500.00,\n",
    "'state':'active'},\n",
    "{ 'id':'null',\n",
    "'name':'Еще Кока-кола',\n",
    "'price':1000.00,\n",
    "'state':'active'}]\n",
    "\n",
    "r = requests.post(base_url + 'EditGood/', json = params)\n",
    "\n",
    "try:\n",
    "    io = StringIO(r.text)\n",
    "    result = json.load(io)\n",
    "    print(result)\n",
    "except:\n",
    "    print(r)"
   ]
  },
  {
   "cell_type": "code",
   "execution_count": null,
   "metadata": {
    "collapsed": true
   },
   "outputs": [],
   "source": [
    "# EditService\n",
    "params = { 'id':'null',\n",
    "'name':'Стрижка для цисгендера',\n",
    "'prices': [{'category':1,'price':5000.00},{'category':2,'price':6000.00},{'category':3,'price':7000.00},{'category':4,'price':8000.00}],\n",
    "'state':'active'}\n",
    "\n",
    "r = requests.post(base_url + 'EditService/', json = params)\n",
    "\n",
    "try:\n",
    "    io = StringIO(r.text)\n",
    "    result = json.load(io)\n",
    "    print(result)\n",
    "except:\n",
    "    print(r)"
   ]
  },
  {
   "cell_type": "code",
   "execution_count": null,
   "metadata": {
    "collapsed": true
   },
   "outputs": [],
   "source": [
    "# GetService\n",
    "\n",
    "params = {'id': 1}\n",
    "\n",
    "r = requests.post(base_url + 'GetService/', json = params)\n",
    "\n",
    "try:\n",
    "    io = StringIO(r.text)\n",
    "    result = json.load(io)\n",
    "    print(result)\n",
    "except:\n",
    "    print(r)"
   ]
  },
  {
   "cell_type": "code",
   "execution_count": null,
   "metadata": {
    "collapsed": true
   },
   "outputs": [],
   "source": [
    "# EditSpendType\n",
    "\n",
    "params = { 'id':4,\n",
    "'name':'Сигареты админу',\n",
    "'defaultSum':500000,\n",
    "'state':'active'}\n",
    "\n",
    "\n",
    "r = requests.post(base_url + 'EditSpendType/', json = params)\n",
    "\n",
    "try:\n",
    "    io = StringIO(r.text)\n",
    "    result = json.load(io)\n",
    "    print(result)\n",
    "except:\n",
    "    display(HTML(r.text))"
   ]
  }
 ],
 "metadata": {
  "kernelspec": {
   "display_name": "Python 3",
   "language": "python",
   "name": "python3"
  },
  "language_info": {
   "codemirror_mode": {
    "name": "ipython",
    "version": 3
   },
   "file_extension": ".py",
   "mimetype": "text/x-python",
   "name": "python",
   "nbconvert_exporter": "python",
   "pygments_lexer": "ipython3",
   "version": "3.6.8"
  }
 },
 "nbformat": 4,
 "nbformat_minor": 2
}
