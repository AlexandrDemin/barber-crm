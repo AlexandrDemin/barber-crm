{
 "cells": [
  {
   "cell_type": "code",
<<<<<<< HEAD
   "execution_count": 1,
   "metadata": {},
=======
   "execution_count": 2,
   "metadata": {
    "collapsed": true
   },
>>>>>>> 7de66f0f0d772cddaebae60123b40077d8c2d58d
   "outputs": [],
   "source": [
    "import requests\n",
    "import json\n",
    "from io import StringIO\n",
    "from flask import Flask\n",
    "from flask import request\n",
    "import requests\n",
    "import json\n",
    "from io import StringIO\n",
    "import psycopg2\n",
    "from psycopg2.extras import RealDictCursor\n",
    "from werkzeug.wrappers import Request, Response\n",
    "from IPython.core.display import display, HTML\n",
    "\n",
    "base_url = 'http://localhost:5000/api/'"
   ]
  },
  {
   "cell_type": "code",
   "execution_count": null,
   "metadata": {
    "collapsed": true
   },
   "outputs": [],
   "source": [
    "# GetClients\n",
    "params = {'q':''}\n",
    "\n",
    "r = requests.post(base_url + 'GetClients/', json = params)\n",
    "\n",
    "try:\n",
    "    io = StringIO(r.text)\n",
    "    result = json.load(io)\n",
    "    print(result)\n",
    "except:\n",
    "    print(r)"
   ]
  },
  {
   "cell_type": "code",
   "execution_count": null,
   "metadata": {
    "collapsed": true
   },
   "outputs": [],
   "source": [
    "# GetUserData\n",
    "params = {'login':'login'}\n",
    "\n",
    "r = requests.post(base_url + 'GetUserData/', json = params)\n",
    "\n",
    "try:\n",
    "    io = StringIO(r.text)\n",
    "    result = json.load(io)\n",
    "    print(result)\n",
    "except:\n",
    "    print(r)"
   ]
  },
  {
   "cell_type": "code",
   "execution_count": null,
   "metadata": {
    "collapsed": true
   },
   "outputs": [],
   "source": [
    "# GetEmployees\n",
    "\n",
    "r = requests.post(base_url + 'GetEmployees/')\n",
    "\n",
    "try:\n",
    "    io = StringIO(r.text)\n",
    "    result = json.load(io)\n",
    "    print(result)\n",
    "except:\n",
    "    print(r)"
   ]
  },
  {
   "cell_type": "code",
   "execution_count": null,
   "metadata": {
    "collapsed": true
   },
   "outputs": [],
   "source": [
    "# GetEmployee\n",
    "\n",
    "params = {'id':1}\n",
    "\n",
    "r = requests.post(base_url + 'GetEmployee/', json = params)\n",
    "\n",
    "try:\n",
    "    io = StringIO(r.text)\n",
    "    result = json.load(io)\n",
    "    print(result)\n",
    "except:\n",
    "    print(r)"
   ]
  },
  {
   "cell_type": "code",
   "execution_count": null,
   "metadata": {
    "collapsed": true
   },
   "outputs": [],
   "source": [
    "# GetAdmins\n",
    "\n",
    "r = requests.post(base_url + 'GetAdmins/')\n",
    "\n",
    "try:\n",
    "    io = StringIO(r.text)\n",
    "    result = json.load(io)\n",
    "    print(result)\n",
    "except:\n",
    "    print(r)"
   ]
  },
  {
   "cell_type": "code",
   "execution_count": null,
   "metadata": {
    "collapsed": true
   },
   "outputs": [],
   "source": [
    "# GetMasters\n",
    "\n",
    "r = requests.post(base_url + 'GetMasters/')\n",
    "\n",
    "try:\n",
    "    io = StringIO(r.text)\n",
    "    result = json.load(io)\n",
    "    print(result)\n",
    "except:\n",
    "    print(r)"
   ]
  },
  {
   "cell_type": "code",
   "execution_count": null,
   "metadata": {
    "collapsed": true
   },
   "outputs": [],
   "source": [
    "# GetBarberCategories\n",
    "\n",
    "r = requests.post(base_url + 'GetBarberCategories/')\n",
    "\n",
    "try:\n",
    "    io = StringIO(r.text)\n",
    "    result = json.load(io)\n",
    "    print(result)\n",
    "except:\n",
    "    print(r)"
   ]
  },
  {
   "cell_type": "code",
   "execution_count": null,
   "metadata": {
    "collapsed": true
   },
   "outputs": [],
   "source": [
    "# GetBarberCategory\n",
    "\n",
    "params = {'id':1}\n",
    "\n",
    "r = requests.post(base_url + 'GetBarberCategory/', json = params)\n",
    "\n",
    "try:\n",
    "    io = StringIO(r.text)\n",
    "    result = json.load(io)\n",
    "    print(result)\n",
    "except:\n",
    "    print(r)"
   ]
  },
  {
   "cell_type": "code",
   "execution_count": null,
   "metadata": {
    "collapsed": true
   },
   "outputs": [],
   "source": [
    "# GetOffices\n",
    "\n",
    "r = requests.post(base_url + 'GetOffices/')\n",
    "\n",
    "try:\n",
    "    io = StringIO(r.text)\n",
    "    result = json.load(io)\n",
    "    print(result)\n",
    "except:\n",
    "    print(r)"
   ]
  },
  {
   "cell_type": "code",
   "execution_count": null,
   "metadata": {
    "collapsed": true
   },
   "outputs": [],
   "source": [
    "# GetOffice\n",
    "\n",
    "params = {'id':1}\n",
    "\n",
    "r = requests.post(base_url + 'GetOffice/', json = params)\n",
    "\n",
    "try:\n",
    "    io = StringIO(r.text)\n",
    "    result = json.load(io)\n",
    "    print(result)\n",
    "except:\n",
    "    print(r)"
   ]
  },
  {
   "cell_type": "code",
   "execution_count": null,
   "metadata": {
    "collapsed": true
   },
   "outputs": [],
   "source": [
    "# GetCurrentSession\n",
    "\n",
    "params = {'officeId':3, \"withOperations\": True}\n",
    "\n",
    "r = requests.post(base_url + 'GetCurrentSession/', json = params)\n",
    "\n",
    "try:\n",
    "    io = StringIO(r.text)\n",
    "    result = json.load(io)\n",
    "    print(result)\n",
    "except:\n",
    "    display(HTML(r.text))"
   ]
  },
  {
   "cell_type": "code",
   "execution_count": null,
   "metadata": {
    "collapsed": true
   },
   "outputs": [],
   "source": [
    "# GetSession\n",
    "\n",
    "params = {'id':3,\n",
    "          \"withOperations\": True\n",
    "         }\n",
    "\n",
    "r = requests.post(base_url + 'GetSession/', json = params)\n",
    "\n",
    "try:\n",
    "    io = StringIO(r.text)\n",
    "    result = json.load(io)\n",
    "    print(result)\n",
    "except:\n",
    "    print(r)"
   ]
  },
  {
   "cell_type": "code",
   "execution_count": 6,
   "metadata": {
    "scrolled": true
   },
   "outputs": [
    {
     "name": "stdout",
     "output_type": "stream",
     "text": [
      "[{'id': 4, 'dateOpened': '11.10.2019 09:00', 'dateClosed': '11.10.2019 23:00', 'employees': [{'userId': 3, 'starttime': '10:00', 'endtime': '18:00'}, {'userId': 4, 'starttime': '14:00', 'endtime': '22:00'}, {'userId': 1, 'starttime': '09:00', 'endtime': '23:00'}], 'officeId': 1, 'state': 'closed'}, {'id': 17, 'dateOpened': '30.10.2019 20:32', 'dateClosed': '30.10.2019 22:57', 'employees': [{'id': 7, 'role': 'officeAdmin', 'workHours': 6}, {'id': 4, 'role': 'master', 'workHours': 6}, {'id': 3, 'role': 'master', 'workHours': 6}], 'officeId': 2, 'state': 'closed'}, {'id': 18, 'dateOpened': '30.10.2019 22:59', 'dateClosed': '30.10.2019 23:06', 'employees': [{'id': 7, 'role': 'officeAdmin', 'workHours': 6}, {'id': 4, 'role': 'master', 'workHours': 6}], 'officeId': 3, 'state': 'closed'}, {'id': 3, 'dateOpened': '29.09.2019 10:10', 'dateClosed': '20.10.2019 20:15', 'employees': [{'id': 1, 'role': 'officeAdmin', 'workHours': 6}, {'id': 4, 'role': 'master', 'workHours': 6}], 'officeId': 1, 'state': 'closed'}, {'id': 2, 'dateOpened': '20.10.2019 00:00', 'dateClosed': '20.10.2019 00:00', 'employees': [{'id': 1, 'role': 'officeAdmin', 'workHours': 6}, {'id': 4, 'role': 'master', 'workHours': 6}], 'officeId': 2, 'state': 'closed'}, {'id': 19, 'dateOpened': '30.10.2019 23:08', 'dateClosed': '30.10.2019 23:08', 'employees': [{'id': 7, 'role': 'officeAdmin', 'workHours': 6}, {'id': 4, 'role': 'master', 'workHours': 6}], 'officeId': 3, 'state': 'closed'}, {'id': 8, 'dateOpened': '22.10.2019 14:26', 'dateClosed': '22.10.2019 21:15', 'employees': [{'id': 6, 'role': 'officeAdmin', 'workHours': 6}, {'id': 4, 'role': 'master', 'workHours': 6}, {'id': 6, 'role': 'officeAdmin', 'workHours': 6}], 'officeId': 3, 'state': 'closed'}, {'id': 9, 'dateOpened': '22.10.2019 18:25', 'dateClosed': '22.10.2019 21:28', 'employees': [{'id': 6, 'role': 'officeAdmin', 'workHours': 6}, {'id': 4, 'role': 'master', 'workHours': 6}], 'officeId': 3, 'state': 'closed'}, {'id': 6, 'dateOpened': '20.10.2019 17:22', 'dateClosed': '22.10.2019 21:34', 'employees': [{'id': 1, 'role': 'officeAdmin', 'workHours': 6}, {'id': 4, 'role': 'master', 'workHours': 6}], 'officeId': 2, 'state': 'closed'}, {'id': 7, 'dateOpened': '20.10.2019 14:25', 'dateClosed': '22.10.2019 22:02', 'employees': [{'id': 6, 'role': 'officeAdmin', 'workHours': 6}, {'id': 4, 'role': 'master', 'workHours': 6}], 'officeId': 2, 'state': 'closed'}, {'id': 10, 'dateOpened': '23.10.2019 18:12', 'dateClosed': '23.10.2019 22:15', 'employees': [{'id': 6, 'role': 'officeAdmin', 'workHours': 6}, {'id': 4, 'role': 'master', 'workHours': 6}], 'officeId': 3, 'state': 'closed'}, {'id': 11, 'dateOpened': '24.10.2019 18:28', 'dateClosed': '24.10.2019 22:01', 'employees': [{'id': 6, 'role': 'officeAdmin', 'workHours': 6}, {'id': 4, 'role': 'master', 'workHours': 6}], 'officeId': 1, 'state': 'closed'}, {'id': 12, 'dateOpened': '26.10.2019 17:52', 'dateClosed': '26.10.2019 22:40', 'employees': [{'id': 6, 'role': 'officeAdmin', 'workHours': 6}, {'id': 4, 'role': 'master', 'workHours': 6}], 'officeId': 3, 'state': 'closed'}, {'id': 13, 'dateOpened': '27.10.2019 07:34', 'dateClosed': '27.10.2019 22:49', 'employees': [{'id': 6, 'role': 'officeAdmin', 'workHours': 6}, {'id': 4, 'role': 'master', 'workHours': 6}], 'officeId': 3, 'state': 'closed'}, {'id': 14, 'dateOpened': '28.10.2019 20:45', 'dateClosed': '28.10.2019 23:31', 'employees': [{'id': 5, 'role': 'officeAdmin', 'workHours': 6}, {'id': 3, 'role': 'master', 'workHours': 6}], 'officeId': 3, 'state': 'closed'}, {'id': 20, 'dateOpened': '02.11.2019 09:46', 'dateClosed': '02.11.2019 09:48', 'employees': [{'id': 7, 'role': 'officeAdmin', 'workHours': 6}, {'id': 4, 'role': 'master', 'workHours': 6}], 'officeId': 2, 'state': 'closed'}, {'id': 1, 'dateOpened': '30.12.2018 09:00', 'dateClosed': '29.10.2019 14:16', 'employees': [{'userId': 3, 'starttime': '10:00', 'endtime': '18:00'}, {'userId': 4, 'starttime': '14:00', 'endtime': '22:00'}, {'userId': 1, 'starttime': '09:00', 'endtime': '23:00'}], 'officeId': 1, 'state': 'closed'}, {'id': 15, 'dateOpened': '29.10.2019 20:39', 'dateClosed': '29.10.2019 23:15', 'employees': [{'id': 5, 'role': 'officeAdmin', 'workHours': 6}, {'id': 3, 'role': 'master', 'workHours': 6}], 'officeId': 1, 'state': 'closed'}, {'id': 16, 'dateOpened': '29.10.2019 23:21', 'dateClosed': '29.10.2019 23:21', 'employees': [{'id': 7, 'role': 'officeAdmin', 'workHours': 6}, {'id': 4, 'role': 'master', 'workHours': 6}], 'officeId': 3, 'state': 'closed'}, {'id': 21, 'dateOpened': '02.11.2019 11:40', 'dateClosed': '02.11.2019 11:41', 'employees': [{'id': 4, 'role': 'master', 'workHours': 6}, {'id': 7, 'role': 'officeAdmin', 'workHours': 6}], 'officeId': 2, 'state': 'closed'}, {'id': 23, 'dateOpened': '02.11.2019 23:27', 'dateClosed': '03.11.2019 16:16', 'employees': [{'id': 5, 'role': 'officeAdmin', 'workHours': 6}, {'id': 4, 'role': 'master', 'workHours': 6}], 'officeId': 2, 'state': 'closed'}, {'id': 22, 'dateOpened': '02.11.2019 13:56', 'dateClosed': '04.11.2019 11:08', 'employees': [{'id': 5, 'role': 'officeAdmin', 'workHours': 6}, {'id': 4, 'role': 'master', 'workHours': 6}, {'id': 3, 'role': 'master', 'workHours': 6}], 'officeId': 3, 'state': 'closed'}]\n"
     ]
    }
   ],
   "source": [
    "# GetSessions\n",
    "\n",
    "params = {\n",
    "    \"dateFrom\": '01.01.2018',\n",
    "    \"dateTo\": '04.11.2019',\n",
    "    \"withOPerations\": False\n",
    "}\n",
    "\n",
    "r = requests.post(base_url + 'GetSessions/', json = params)\n",
    "\n",
    "try:\n",
    "    io = StringIO(r.text)\n",
    "    result = json.load(io)\n",
    "    print(result)\n",
    "except:\n",
    "    display(HTML(r.text))"
   ]
  },
  {
   "cell_type": "code",
   "execution_count": null,
   "metadata": {
    "collapsed": true
   },
   "outputs": [],
   "source": [
    "# GetServicesPrices\n",
    "\n",
    "r = requests.post(base_url + 'GetServicesPrices/')\n",
    "\n",
    "try:\n",
    "    io = StringIO(r.text)\n",
    "    result = json.load(io)\n",
    "    print(result)\n",
    "except:\n",
    "    print(r)"
   ]
  },
  {
   "cell_type": "code",
   "execution_count": null,
   "metadata": {
    "collapsed": true
   },
   "outputs": [],
   "source": [
    "# GetServiceOperation\n",
    "\n",
    "params = {'id':1}\n",
    "\n",
    "r = requests.post(base_url + 'GetServiceOperation/', json = params)\n",
    "\n",
    "try:\n",
    "    io = StringIO(r.text)\n",
    "    result = json.load(io)\n",
    "    print(result)\n",
    "except:\n",
    "    print(r)"
   ]
  },
  {
   "cell_type": "code",
   "execution_count": null,
   "metadata": {
    "collapsed": true
   },
   "outputs": [],
   "source": [
    "# GetGoods\n",
    "\n",
    "r = requests.post(base_url + 'GetGoods/')\n",
    "\n",
    "try:\n",
    "    io = StringIO(r.text)\n",
    "    result = json.load(io)\n",
    "    print(result)\n",
    "except:\n",
    "    print(r)"
   ]
  },
  {
   "cell_type": "code",
   "execution_count": null,
   "metadata": {
    "collapsed": true
   },
   "outputs": [],
   "source": [
    "# GetGood\n",
    "\n",
    "params = {'id':1}\n",
    "\n",
    "r = requests.post(base_url + 'GetGood/', json = params)\n",
    "\n",
    "try:\n",
    "    io = StringIO(r.text)\n",
    "    result = json.load(io)\n",
    "    print(result)\n",
    "except:\n",
    "    print(r)"
   ]
  },
  {
   "cell_type": "code",
   "execution_count": null,
   "metadata": {
    "collapsed": true
   },
   "outputs": [],
   "source": [
    "# GetGoodsOperation\n",
    "\n",
    "params = {'id':1}\n",
    "\n",
    "r = requests.post(base_url + 'GetGoodsOperation/', json = params)\n",
    "\n",
    "try:\n",
    "    io = StringIO(r.text)\n",
    "    result = json.load(io)\n",
    "    print(result)\n",
    "except:\n",
    "    print(r)"
   ]
  },
  {
   "cell_type": "code",
   "execution_count": null,
   "metadata": {
    "collapsed": true
   },
   "outputs": [],
   "source": [
    "# GetSpendTypes\n",
    "\n",
    "r = requests.post(base_url + 'GetSpendTypes/')\n",
    "\n",
    "try:\n",
    "    io = StringIO(r.text)\n",
    "    result = json.load(io)\n",
    "    print(result)\n",
    "except:\n",
    "    print(r)"
   ]
  },
  {
   "cell_type": "code",
   "execution_count": null,
   "metadata": {
    "collapsed": true
   },
   "outputs": [],
   "source": [
    "# GetSpendType\n",
    "\n",
    "params = {'id':1}\n",
    "\n",
    "r = requests.post(base_url + 'GetSpendType/', json = params)\n",
    "\n",
    "try:\n",
    "    io = StringIO(r.text)\n",
    "    result = json.load(io)\n",
    "    print(result)\n",
    "except:\n",
    "    print(r)"
   ]
  },
  {
   "cell_type": "code",
   "execution_count": null,
   "metadata": {
    "collapsed": true
   },
   "outputs": [],
   "source": [
    "# GetSpendOperation\n",
    "\n",
    "params = {'id':1}\n",
    "\n",
    "r = requests.post(base_url + 'GetSpendOperation/', json = params)\n",
    "\n",
    "try:\n",
    "    io = StringIO(r.text)\n",
    "    result = json.load(io)\n",
    "    print(result)\n",
    "except:\n",
    "    print(r)"
   ]
  },
  {
   "cell_type": "code",
   "execution_count": null,
   "metadata": {
    "collapsed": true
   },
   "outputs": [],
   "source": [
    "# GetEmployeePaymentTypes\n",
    "\n",
    "r = requests.post(base_url + 'GetEmployeePaymentTypes/')\n",
    "\n",
    "try:\n",
    "    io = StringIO(r.text)\n",
    "    result = json.load(io)\n",
    "    print(result)\n",
    "except:\n",
    "    print(r)"
   ]
  },
  {
   "cell_type": "code",
   "execution_count": null,
   "metadata": {
    "collapsed": true
   },
   "outputs": [],
   "source": [
    "# GetEmployeePaymentType\n",
    "\n",
    "params = {'id':1}\n",
    "\n",
    "r = requests.post(base_url + 'GetEmployeePaymentType/', json = params)\n",
    "\n",
    "try:\n",
    "    io = StringIO(r.text)\n",
    "    result = json.load(io)\n",
    "    print(result)\n",
    "except:\n",
    "    print(r)"
   ]
  },
  {
   "cell_type": "code",
   "execution_count": null,
   "metadata": {
    "collapsed": true
   },
   "outputs": [],
   "source": [
    "# GetEmployeePaymentOperation\n",
    "\n",
    "params = {'id':1}\n",
    "\n",
    "r = requests.post(base_url + 'GetEmployeePaymentOperation/', json = params)\n",
    "\n",
    "try:\n",
    "    io = StringIO(r.text)\n",
    "    result = json.load(io)\n",
    "    print(result)\n",
    "except:\n",
    "    print(r)"
   ]
  },
  {
   "cell_type": "code",
   "execution_count": null,
   "metadata": {
    "collapsed": true
   },
   "outputs": [],
   "source": [
    "# GetClient\n",
    "\n",
    "params = {'id':3}\n",
    "\n",
    "r = requests.post(base_url + 'GetClient/', json = params)\n",
    "\n",
    "try:\n",
    "    io = StringIO(r.text)\n",
    "    result = json.load(io)\n",
    "    print(result)\n",
    "except:\n",
    "    print(r)"
   ]
  },
  {
   "cell_type": "code",
   "execution_count": null,
   "metadata": {
    "collapsed": true
   },
   "outputs": [],
   "source": [
    "# GetClients\n",
    "\n",
    "params = {'q':'кли'}\n",
    "\n",
    "r = requests.post(base_url + 'GetClients/', json = params)\n",
    "\n",
    "try:\n",
    "    io = StringIO(r.text)\n",
    "    result = json.load(io)\n",
    "    print(result)\n",
    "except:\n",
    "    print(r)"
   ]
  },
  {
   "cell_type": "code",
<<<<<<< HEAD
   "execution_count": 2,
=======
   "execution_count": null,
>>>>>>> 7de66f0f0d772cddaebae60123b40077d8c2d58d
   "metadata": {
    "scrolled": true
   },
   "outputs": [],
   "source": [
    "# GenerateEmployeeReport\n",
    "\n",
    "params = {'period':'01.11.2019'}\n",
    "\n",
    "r = requests.post(base_url + 'GenerateEmployeeReport/', json = params)\n",
    "\n",
    "try:\n",
    "    io = StringIO(r.text)\n",
    "    result = json.load(io)\n",
    "    print(result)\n",
    "except:\n",
    "    print(r)"
   ]
  },
  {
   "cell_type": "code",
<<<<<<< HEAD
   "execution_count": 25,
   "metadata": {},
   "outputs": [
    {
     "data": {
      "text/plain": [
       "[{'officeId': None,\n",
       "  'totalsalary': 200000.0,\n",
       "  'totalpaidsalary': None,\n",
       "  'totalpenalty': None,\n",
       "  'totalunpaidsalary': None,\n",
       "  'totalservicecount': None,\n",
       "  'totalrepeatingvisitscount': None,\n",
       "  'totalservicebonus': None,\n",
       "  'totalgoodsbonus': None,\n",
       "  'totalpaidbonus': None,\n",
       "  'totalunpaidbonus': None,\n",
       "  'total_time': None,\n",
       "  'estimatedworkhours': 32,\n",
       "  'meanworkload': None},\n",
       " {'officeId': 3,\n",
       "  'totalsalary': 1150000.0,\n",
       "  'totalpaidsalary': 0.0,\n",
       "  'totalpenalty': -42500.0,\n",
       "  'totalunpaidsalary': 1107500.0,\n",
       "  'totalservicecount': 29,\n",
       "  'totalrepeatingvisitscount': 17,\n",
       "  'totalservicebonus': 8520.12,\n",
       "  'totalgoodsbonus': 3305.17,\n",
       "  'totalpaidbonus': 505400.0,\n",
       "  'totalunpaidbonus': -493575.0,\n",
       "  'total_time': 342,\n",
       "  'estimatedworkhours': 640,\n",
       "  'meanworkload': 0.534375},\n",
       " {'officeId': 2,\n",
       "  'totalsalary': 850000.0,\n",
       "  'totalpaidsalary': 0.0,\n",
       "  'totalpenalty': -42500.0,\n",
       "  'totalunpaidsalary': 807500.0,\n",
       "  'totalservicecount': 29,\n",
       "  'totalrepeatingvisitscount': 17,\n",
       "  'totalservicebonus': 5720.12,\n",
       "  'totalgoodsbonus': 770.19,\n",
       "  'totalpaidbonus': 505400.0,\n",
       "  'totalunpaidbonus': -498910.0,\n",
       "  'total_time': 180,\n",
       "  'estimatedworkhours': 544,\n",
       "  'meanworkload': 0.33088235294117646},\n",
       " {'officeId': 1,\n",
       "  'totalsalary': 1150000.0,\n",
       "  'totalpaidsalary': 0.0,\n",
       "  'totalpenalty': -41500.0,\n",
       "  'totalunpaidsalary': 1108500.0,\n",
       "  'totalservicecount': 29,\n",
       "  'totalrepeatingvisitscount': 17,\n",
       "  'totalservicebonus': 8180.12,\n",
       "  'totalgoodsbonus': 3285.17,\n",
       "  'totalpaidbonus': 5400.0,\n",
       "  'totalunpaidbonus': 6065.29,\n",
       "  'total_time': 108,\n",
       "  'estimatedworkhours': 576,\n",
       "  'meanworkload': 0.1875}]"
      ]
     },
     "execution_count": 25,
     "metadata": {},
     "output_type": "execute_result"
    }
   ],
   "source": [
    "result['byOffices']"
   ]
  },
  {
   "cell_type": "code",
   "execution_count": 3,
=======
   "execution_count": null,
>>>>>>> 7de66f0f0d772cddaebae60123b40077d8c2d58d
   "metadata": {
    "scrolled": true
   },
   "outputs": [],
   "source": [
    "# GenerateClientReport\n",
    "\n",
    "params = {'period':'01.10.2019'}\n",
    "\n",
    "r = requests.post(base_url + 'GenerateClientReport/', json = params)\n",
    "\n",
    "try:\n",
    "    io = StringIO(r.text)\n",
    "    result = json.load(io)\n",
    "    print(result)\n",
    "except:\n",
    "    print(r)"
   ]
  },
  {
   "cell_type": "code",
<<<<<<< HEAD
   "execution_count": 32,
   "metadata": {},
   "outputs": [
    {
     "data": {
      "text/plain": [
       "[{'officeId': 3,\n",
       "  'clientId': 12,\n",
       "  'yearmonth': '01.10.2019 00:00',\n",
       "  'totalcash': 200.0,\n",
       "  'totalcashless': 0.0,\n",
       "  'totaldiscount': 0.0,\n",
       "  'totalservicesum': 200.0,\n",
       "  'totalgoodssum': 0.0,\n",
       "  'totalsum': 200.0,\n",
       "  'mastervisits': [{'masterId': 4,\n",
       "    'name': 'Барберов Бородач Ножницевич',\n",
       "    'count': 1}],\n",
       "  'totalvisitsduringperiod': 1,\n",
       "  'name': 'Олег',\n",
       "  'totalvisits': 2,\n",
       "  'lastndaysvisitscount': 2,\n",
       "  'lastvisitdatetime': '30.10.2019',\n",
       "  'lastvisitdatetimeoffice': '27.10.2019',\n",
       "  'loyalty': 'likely loyal',\n",
       "  'newclient': True},\n",
       " {'officeId': 2,\n",
       "  'clientId': 12,\n",
       "  'yearmonth': '01.10.2019 00:00',\n",
       "  'totalcash': 700.0,\n",
       "  'totalcashless': 0.0,\n",
       "  'totaldiscount': 0.0,\n",
       "  'totalservicesum': 700.0,\n",
       "  'totalgoodssum': 0.0,\n",
       "  'totalsum': 700.0,\n",
       "  'mastervisits': [{'masterId': 4,\n",
       "    'name': 'Барберов Бородач Ножницевич',\n",
       "    'count': 4}],\n",
       "  'totalvisitsduringperiod': 1,\n",
       "  'name': 'Олег',\n",
       "  'totalvisits': 2,\n",
       "  'lastndaysvisitscount': 2,\n",
       "  'lastvisitdatetime': '30.10.2019',\n",
       "  'lastvisitdatetimeoffice': '30.10.2019',\n",
       "  'loyalty': 'likely loyal',\n",
       "  'newclient': True},\n",
       " {'officeId': 3,\n",
       "  'clientId': 13,\n",
       "  'yearmonth': '01.10.2019 00:00',\n",
       "  'totalcash': 13975.3,\n",
       "  'totalcashless': 0.0,\n",
       "  'totaldiscount': 0.0,\n",
       "  'totalservicesum': 1400.4,\n",
       "  'totalgoodssum': 12574.9,\n",
       "  'totalsum': 13975.3,\n",
       "  'mastervisits': [{'masterId': 3,\n",
       "    'name': 'Морковная Светлана Егоровна',\n",
       "    'count': 3},\n",
       "   {'masterId': 4, 'name': 'Барберов Бородач Ножницевич', 'count': 4}],\n",
       "  'totalvisitsduringperiod': 1,\n",
       "  'name': 'Олежа',\n",
       "  'totalvisits': 5,\n",
       "  'lastndaysvisitscount': 5,\n",
       "  'lastvisitdatetime': '02.11.2019',\n",
       "  'lastvisitdatetimeoffice': '28.10.2019',\n",
       "  'loyalty': 'loyal',\n",
       "  'newclient': True},\n",
       " {'officeId': 2,\n",
       "  'clientId': 13,\n",
       "  'yearmonth': '01.10.2019 00:00',\n",
       "  'totalcash': 1800.0,\n",
       "  'totalcashless': 0.0,\n",
       "  'totaldiscount': 0.0,\n",
       "  'totalservicesum': 1700.0,\n",
       "  'totalgoodssum': 100.0,\n",
       "  'totalsum': 1800.0,\n",
       "  'mastervisits': [{'masterId': 3,\n",
       "    'name': 'Морковная Светлана Егоровна',\n",
       "    'count': 3},\n",
       "   {'masterId': 4, 'name': 'Барберов Бородач Ножницевич', 'count': 25}],\n",
       "  'totalvisitsduringperiod': 1,\n",
       "  'name': 'Олежа',\n",
       "  'totalvisits': 5,\n",
       "  'lastndaysvisitscount': 5,\n",
       "  'lastvisitdatetime': '02.11.2019',\n",
       "  'lastvisitdatetimeoffice': '02.11.2019',\n",
       "  'loyalty': 'loyal',\n",
       "  'newclient': True},\n",
       " {'officeId': 1,\n",
       "  'clientId': 13,\n",
       "  'yearmonth': '01.10.2019 00:00',\n",
       "  'totalcash': 3100.0,\n",
       "  'totalcashless': 0.0,\n",
       "  'totaldiscount': 0.0,\n",
       "  'totalservicesum': 3000.0,\n",
       "  'totalgoodssum': 100.0,\n",
       "  'totalsum': 3100.0,\n",
       "  'mastervisits': [{'masterId': 3,\n",
       "    'name': 'Морковная Светлана Егоровна',\n",
       "    'count': 6}],\n",
       "  'totalvisitsduringperiod': 1,\n",
       "  'name': 'Олежа',\n",
       "  'totalvisits': 5,\n",
       "  'lastndaysvisitscount': 5,\n",
       "  'lastvisitdatetime': '02.11.2019',\n",
       "  'lastvisitdatetimeoffice': '29.10.2019',\n",
       "  'loyalty': 'loyal',\n",
       "  'newclient': True},\n",
       " {'officeId': 3,\n",
       "  'clientId': 14,\n",
       "  'yearmonth': '01.10.2019 00:00',\n",
       "  'totalcash': 1000.0,\n",
       "  'totalcashless': 0.0,\n",
       "  'totaldiscount': 0.0,\n",
       "  'totalservicesum': 1000.0,\n",
       "  'totalgoodssum': 0.0,\n",
       "  'totalsum': 1000.0,\n",
       "  'mastervisits': [{'masterId': 4,\n",
       "    'name': 'Барберов Бородач Ножницевич',\n",
       "    'count': 1}],\n",
       "  'totalvisitsduringperiod': 1,\n",
       "  'name': '',\n",
       "  'totalvisits': 1,\n",
       "  'lastndaysvisitscount': 1,\n",
       "  'lastvisitdatetime': '27.10.2019',\n",
       "  'lastvisitdatetimeoffice': '27.10.2019',\n",
       "  'loyalty': 'ambivalent',\n",
       "  'newclient': True},\n",
       " {'officeId': 3,\n",
       "  'clientId': 15,\n",
       "  'yearmonth': '01.10.2019 00:00',\n",
       "  'totalcash': 200.0,\n",
       "  'totalcashless': 0.0,\n",
       "  'totaldiscount': 0.0,\n",
       "  'totalservicesum': 200.0,\n",
       "  'totalgoodssum': 0.0,\n",
       "  'totalsum': 200.0,\n",
       "  'mastervisits': [{'masterId': 4,\n",
       "    'name': 'Барберов Бородач Ножницевич',\n",
       "    'count': 1}],\n",
       "  'totalvisitsduringperiod': 1,\n",
       "  'name': '',\n",
       "  'totalvisits': 1,\n",
       "  'lastndaysvisitscount': 1,\n",
       "  'lastvisitdatetime': '27.10.2019',\n",
       "  'lastvisitdatetimeoffice': '27.10.2019',\n",
       "  'loyalty': 'ambivalent',\n",
       "  'newclient': True},\n",
       " {'officeId': 3,\n",
       "  'clientId': 16,\n",
       "  'yearmonth': '01.10.2019 00:00',\n",
       "  'totalcash': 200.0,\n",
       "  'totalcashless': 0.0,\n",
       "  'totaldiscount': 0.0,\n",
       "  'totalservicesum': 200.0,\n",
       "  'totalgoodssum': 0.0,\n",
       "  'totalsum': 200.0,\n",
       "  'mastervisits': [{'masterId': 4,\n",
       "    'name': 'Барберов Бородач Ножницевич',\n",
       "    'count': 1}],\n",
       "  'totalvisitsduringperiod': 1,\n",
       "  'name': '',\n",
       "  'totalvisits': 1,\n",
       "  'lastndaysvisitscount': 1,\n",
       "  'lastvisitdatetime': '27.10.2019',\n",
       "  'lastvisitdatetimeoffice': '27.10.2019',\n",
       "  'loyalty': 'ambivalent',\n",
       "  'newclient': True},\n",
       " {'officeId': 3,\n",
       "  'clientId': None,\n",
       "  'yearmonth': '01.10.2019 00:00',\n",
       "  'totalcash': 1000.0,\n",
       "  'totalcashless': 0.0,\n",
       "  'totaldiscount': 0.0,\n",
       "  'totalservicesum': 1000.0,\n",
       "  'totalgoodssum': 0.0,\n",
       "  'totalsum': 1000.0,\n",
       "  'mastervisits': None,\n",
       "  'totalvisitsduringperiod': None,\n",
       "  'name': None,\n",
       "  'totalvisits': None,\n",
       "  'lastndaysvisitscount': None,\n",
       "  'lastvisitdatetime': None,\n",
       "  'lastvisitdatetimeoffice': None,\n",
       "  'loyalty': None,\n",
       "  'newclient': None}]"
      ]
     },
     "execution_count": 32,
     "metadata": {},
     "output_type": "execute_result"
    }
   ],
   "source": [
    "result['byOfficeAndClient']"
   ]
  },
  {
   "cell_type": "code",
   "execution_count": 4,
=======
   "execution_count": null,
>>>>>>> 7de66f0f0d772cddaebae60123b40077d8c2d58d
   "metadata": {},
   "outputs": [],
   "source": [
    "# GenerateFinanceReport\n",
    "\n",
    "params = {'period':'01.11.2019'}\n",
    "\n",
    "r = requests.post(base_url + 'GenerateFinanceReport/', json = params)\n",
    "\n",
    "try:\n",
    "    io = StringIO(r.text)\n",
    "    result = json.load(io)\n",
    "    print(result)\n",
    "except:\n",
    "    print(r)"
   ]
  },
  {
   "cell_type": "code",
   "execution_count": null,
   "metadata": {
    "collapsed": true
   },
   "outputs": [],
   "source": [
    "# EditOffice\n",
    "\n",
    "params = { 'id':3,\n",
    "'name':'Токио-777',\n",
    "'city':'Токио',\n",
    "'address':'г. Токио, ул. Демонстрации, 51',\n",
    "'coordinatex':0.2,\n",
    "'coordinatey':0.2,\n",
    "'state':'open'}\n",
    "\n",
    "r = requests.post(base_url + 'EditOffice/', json = params)\n",
    "\n",
    "try:\n",
    "    io = StringIO(r.text)\n",
    "    result = json.load(io)\n",
    "    print(result)\n",
    "except:\n",
    "    print(r)"
   ]
  },
  {
   "cell_type": "code",
   "execution_count": null,
   "metadata": {
    "collapsed": true
   },
   "outputs": [],
   "source": [
    "# EditSession\n",
    "\n",
    "params = {\"id\":2,\"dateOpened\":\"2019-10-20\",\"dateClosed\":\"2019-10-20\",\"employees\":[{\"id\":1,\"role\":\"officeAdmin\",\"workHours\":6},{\"id\":4,\"role\":\"master\",\"workHours\":6}],\"officeId\":2,\"state\":\"closed\",\"openCash\":0}\n",
    "\n",
    "r = requests.post(base_url + 'EditSession/', json = params)\n",
    "\n",
    "try:\n",
    "    io = StringIO(r.text)\n",
    "    result = json.load(io)\n",
    "    print(result)\n",
    "except:\n",
    "    print(r)"
   ]
  },
  {
   "cell_type": "code",
   "execution_count": null,
   "metadata": {
    "collapsed": true
   },
   "outputs": [],
   "source": [
    "# EditClient\n",
    "\n",
    "params = {\"id\":None,\"name\":\"Олег\",\"contacts\":[{\"type\":\"phone\",\"value\":\"123\"}]}\n",
    "r = requests.post(base_url + 'EditClient/', json = params)\n",
    "\n",
    "try:\n",
    "    io = StringIO(r.text)\n",
    "    result = json.load(io)\n",
    "    print(result)\n",
    "except:\n",
    "    print(r)"
   ]
  },
  {
   "cell_type": "code",
   "execution_count": null,
   "metadata": {
    "collapsed": true
   },
   "outputs": [],
   "source": [
    "# EditOperations\n",
    "params = [\n",
    "    {\n",
    "        \"id\":'null',\n",
    "        \"operationType\": 'serviceoperation',\n",
    "        \"officeId\": 3,\n",
    "        \"sessionId\": 3,\n",
    "        \"serviceId\": 3,\n",
    "        \"startDatetime\": '11.10.2019 11:11',\n",
    "        \"finishDatetime\": '11.10.2019 12:11',\n",
    "        \"adminId\": 2,\n",
    "        \"masterId\": 3,\n",
    "        \"clientId\": 2,\n",
    "        \"cashSum\": 100,\n",
    "        \"cashlessSum\": 100,\n",
    "        \"discountSum\": 100,\n",
    "        \"clientRating\": 10,\n",
    "        \"review\": 'Отзыв клиента',\n",
    "        \"comment\": 'Комментарий'\n",
    "    },\n",
    "    {\n",
    "        \"id\":'null',\n",
    "        \"operationType\": 'goodsoperation',\n",
    "        \"officeId\": 3,\n",
    "        \"sessionId\": 3,\n",
    "        \"goodsIds\": [1,2,3],\n",
    "        \"datetime\": '11.10.2019 12:11',\n",
    "        \"adminId\": 1,\n",
    "        \"masterId\": 4,\n",
    "        \"clientId\": 1,\n",
    "        \"cashSum\": 100,\n",
    "        \"cashlessSum\": 100,\n",
    "        \"discountSum\": 100,\n",
    "        \"comment\": 'Комментарий'\n",
    "    },\n",
    "    {\n",
    "        \"id\":'null',\n",
    "        \"operationType\": 'spendoperation',\n",
    "        \"officeId\": 3,\n",
    "        \"sessionId\": 3,\n",
    "        \"expenseTypeId\": 3,\n",
    "        \"datetime\": '11.10.2019 12:11',\n",
    "        \"sum\": 500,\n",
    "        \"comment\": 'Комментарий'\n",
    "    },\n",
    "    {\n",
    "        \"id\":'null',\n",
    "        \"operationType\": 'employeePayment',\n",
    "        \"officeId\": 3,\n",
    "        \"sessionId\": 3,\n",
    "        \"employeeId\": 3,\n",
    "        \"employeePaymentTypeId\": 1,\n",
    "        \"datetime\": '11.10.2019 12:11',\n",
    "        \"sum\": 1000,\n",
    "        \"comment\": 'Комментарий'\n",
    "    }\n",
    "]\n",
    "\n",
    "r = requests.post(base_url + 'EditOperations/', json = params)\n",
    "\n",
    "try:\n",
    "    io = StringIO(r.text)\n",
    "    result = json.load(io)\n",
    "    print(result)\n",
    "except:\n",
    "    print(r)"
   ]
  },
  {
   "cell_type": "code",
   "execution_count": null,
   "metadata": {
    "collapsed": true
   },
   "outputs": [],
   "source": [
    "# EditEmployee\n",
    "params = {\"id\":1,\n",
    "          \"name\":\"Иванов Диего Михайлович\",\n",
    "          \"roles\":[\"officeAdmin\"],\n",
    "          \"salary\":100000,\n",
    "          \"servicePercent\":0.1,\n",
    "          \"goodsPercent\":0.1,\n",
    "          \"categoryId\":2,\n",
    "          \"state\":\"active\",\n",
    "          \"clientRating\":None,\n",
    "          \"controlRating\":None,\n",
    "          \"login\":\"login\",\n",
    "          \"password\":\"password\",\n",
    "          \"contacts\":None,\n",
    "          \"photo\":None}\n",
    "\n",
    "r = requests.post(base_url + 'EditEmployee/', json = params)\n",
    "\n",
    "try:\n",
    "    io = StringIO(r.text)\n",
    "    result = json.load(io)\n",
    "    print(result)\n",
    "except:\n",
    "    print(r)"
   ]
  },
  {
   "cell_type": "code",
   "execution_count": null,
   "metadata": {
    "collapsed": true
   },
   "outputs": [],
   "source": [
    "# EditBarberCategory\n",
    "params = { 'id':1,\n",
    "'name':'Иисус-мастер',\n",
    "'state':'active'}\n",
    "\n",
    "r = requests.post(base_url + 'EditBarberCategory/', json = params)\n",
    "\n",
    "try:\n",
    "    io = StringIO(r.text)\n",
    "    result = json.load(io)\n",
    "    print(result)\n",
    "except:\n",
    "    print(r)"
   ]
  },
  {
   "cell_type": "code",
   "execution_count": null,
   "metadata": {
    "collapsed": true
   },
   "outputs": [],
   "source": [
    "# EditEmployeePaymentType\n",
    "params = { 'id':3,\n",
    "'name':'Похвала красаве',\n",
    "'defaultSum':500000,\n",
    "'state':'active'}\n",
    "\n",
    "r = requests.post(base_url + 'EditEmployeePaymentType/', json = params)\n",
    "\n",
    "try:\n",
    "    io = StringIO(r.text)\n",
    "    result = json.load(io)\n",
    "    print(result)\n",
    "except:\n",
    "    print(r)"
   ]
  },
  {
   "cell_type": "code",
   "execution_count": null,
   "metadata": {
    "collapsed": true
   },
   "outputs": [],
   "source": [
    "# EditGood\n",
    "params = [{ 'id':'null',\n",
    "'name':'Еще шампунь',\n",
    "'price':1500.00,\n",
    "'state':'active'},\n",
    "{ 'id':'null',\n",
    "'name':'Еще Кока-кола',\n",
    "'price':1000.00,\n",
    "'state':'active'}]\n",
    "\n",
    "r = requests.post(base_url + 'EditGood/', json = params)\n",
    "\n",
    "try:\n",
    "    io = StringIO(r.text)\n",
    "    result = json.load(io)\n",
    "    print(result)\n",
    "except:\n",
    "    print(r)"
   ]
  },
  {
   "cell_type": "code",
   "execution_count": null,
   "metadata": {
    "collapsed": true
   },
   "outputs": [],
   "source": [
    "# EditService\n",
    "params = { 'id':'null',\n",
    "'name':'Стрижка для цисгендера',\n",
    "'prices': [{'category':1,'price':5000.00},{'category':2,'price':6000.00},{'category':3,'price':7000.00},{'category':4,'price':8000.00}],\n",
    "'state':'active'}\n",
    "\n",
    "r = requests.post(base_url + 'EditService/', json = params)\n",
    "\n",
    "try:\n",
    "    io = StringIO(r.text)\n",
    "    result = json.load(io)\n",
    "    print(result)\n",
    "except:\n",
    "    print(r)"
   ]
  },
  {
   "cell_type": "code",
   "execution_count": null,
   "metadata": {
    "collapsed": true
   },
   "outputs": [],
   "source": [
    "# GetService\n",
    "\n",
    "params = {'id': 1}\n",
    "\n",
    "r = requests.post(base_url + 'GetService/', json = params)\n",
    "\n",
    "try:\n",
    "    io = StringIO(r.text)\n",
    "    result = json.load(io)\n",
    "    print(result)\n",
    "except:\n",
    "    print(r)"
   ]
  },
  {
   "cell_type": "code",
   "execution_count": null,
   "metadata": {
    "collapsed": true
   },
   "outputs": [],
   "source": [
    "# EditSpendType\n",
    "\n",
    "params = { 'id':4,\n",
    "'name':'Сигареты админу',\n",
    "'defaultSum':500000,\n",
    "'state':'active'}\n",
    "\n",
    "\n",
    "r = requests.post(base_url + 'EditSpendType/', json = params)\n",
    "\n",
    "try:\n",
    "    io = StringIO(r.text)\n",
    "    result = json.load(io)\n",
    "    print(result)\n",
    "except:\n",
    "    display(HTML(r.text))"
   ]
  }
 ],
 "metadata": {
  "kernelspec": {
   "display_name": "Python 3",
   "language": "python",
   "name": "python3"
  },
  "language_info": {
   "codemirror_mode": {
    "name": "ipython",
    "version": 3
   },
   "file_extension": ".py",
   "mimetype": "text/x-python",
   "name": "python",
   "nbconvert_exporter": "python",
   "pygments_lexer": "ipython3",
   "version": "3.6.0"
  }
 },
 "nbformat": 4,
 "nbformat_minor": 2
}
