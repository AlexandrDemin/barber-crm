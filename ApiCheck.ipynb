{
 "cells": [
  {
   "cell_type": "code",
   "execution_count": 1,
   "metadata": {},
   "outputs": [],
   "source": [
    "import requests\n",
    "import json\n",
    "from io import StringIO\n",
    "from flask import Flask\n",
    "from flask import request\n",
    "import requests\n",
    "import json\n",
    "from io import StringIO\n",
    "import psycopg2\n",
    "from psycopg2.extras import RealDictCursor\n",
    "from werkzeug.wrappers import Request, Response\n",
    "from IPython.core.display import display, HTML\n",
    "\n",
    "base_url = 'http://localhost:9000/api/'"
   ]
  },
  {
   "cell_type": "code",
   "execution_count": 2,
   "metadata": {},
   "outputs": [
    {
     "name": "stdout",
     "output_type": "stream",
     "text": [
      "[{'id': 18, 'name': '', 'contacts': [{'type': 'phone', 'value': ''}], 'comment': None, 'photo': None}, {'id': 17, 'name': '', 'contacts': [{'type': 'phone', 'value': ''}], 'comment': None, 'photo': None}, {'id': 16, 'name': '', 'contacts': [{'type': 'phone', 'value': ''}], 'comment': None, 'photo': None}, {'id': 15, 'name': '', 'contacts': [{'type': 'phone', 'value': ''}], 'comment': None, 'photo': None}, {'id': 14, 'name': '', 'contacts': [{'type': 'phone', 'value': ''}], 'comment': None, 'photo': None}, {'id': 10, 'name': 'Алексей', 'contacts': [{'type': 'phone', 'value': '23'}], 'comment': '', 'photo': None}, {'id': 6, 'name': 'Валентина', 'contacts': [{'type': 'phone', 'value': '1323'}], 'comment': '', 'photo': None}, {'id': 11, 'name': 'Валера', 'contacts': [{'type': 'phone', 'value': '5'}], 'comment': '', 'photo': None}, {'id': 4, 'name': 'Иван', 'contacts': [{'type': 'phone', 'value': '1234'}], 'comment': '', 'photo': None}, {'id': 5, 'name': 'Иван', 'contacts': [{'type': 'phone', 'value': '23'}], 'comment': '', 'photo': None}, {'id': 1, 'name': 'Какой-то Человек Человекович', 'contacts': [{'type': 'phone', 'value': '+12345'}], 'comment': None, 'photo': None}, {'id': 2, 'name': 'Клиентов Клиент Клиентович', 'contacts': [{'type': 'phone', 'value': '+11111'}], 'comment': None, 'photo': None}, {'id': 3, 'name': 'Клиентов Клиент Клиентович Старший', 'contacts': [{'type': 'phone', 'value': '+1111'}], 'comment': None, 'photo': None}, {'id': 9, 'name': 'Новый клиент', 'contacts': [{'type': 'phone', 'value': '2'}], 'comment': 'Это комментарий', 'photo': None}, {'id': 8, 'name': 'Новый клиент', 'contacts': [{'type': 'phone', 'value': '2'}], 'comment': '', 'photo': None}, {'id': 7, 'name': 'Новый клиент', 'contacts': [{'type': 'phone', 'value': '1'}], 'comment': '', 'photo': None}, {'id': 12, 'name': 'Олег', 'contacts': [{'type': 'phone', 'value': '123'}], 'comment': None, 'photo': None}, {'id': 13, 'name': 'Олежа', 'contacts': [{'type': 'phone', 'value': '123'}], 'comment': None, 'photo': None}]\n"
     ]
    }
   ],
   "source": [
    "# GetClients\n",
    "params = {'q':''}\n",
    "\n",
    "r = requests.post(base_url + 'GetClients/', json = params)\n",
    "\n",
    "try:\n",
    "    io = StringIO(r.text)\n",
    "    result = json.load(io)\n",
    "    print(result)\n",
    "except:\n",
    "    print(r)"
   ]
  },
  {
   "cell_type": "code",
   "execution_count": null,
   "metadata": {
    "collapsed": true
   },
   "outputs": [],
   "source": [
    "# GetUserData\n",
    "params = {'login':'login'}\n",
    "\n",
    "r = requests.post(base_url + 'GetUserData/', json = params)\n",
    "\n",
    "try:\n",
    "    io = StringIO(r.text)\n",
    "    result = json.load(io)\n",
    "    print(result)\n",
    "except:\n",
    "    print(r)"
   ]
  },
  {
   "cell_type": "code",
   "execution_count": 3,
   "metadata": {},
   "outputs": [
    {
     "name": "stdout",
     "output_type": "stream",
     "text": [
      "[{'id': 2, 'name': 'Парикмахеров Парикмахер Парикмахерович', 'roles': ['manager'], 'salary': 200000.0, 'servicePercent': 0.1, 'goodsPercent': 0.1, 'categoryId': None, 'state': 'working', 'clientRating': None, 'controlRating': None, 'login': 'login2', 'password': 'password2', 'contacts': None, 'photo': None}, {'id': 4, 'name': 'Барберов Бородач Ножницевич', 'roles': ['master'], 'salary': 50000.0, 'servicePercent': 0.1, 'goodsPercent': 0.1, 'categoryId': 2, 'state': 'working', 'clientRating': 10.0, 'controlRating': 10.0, 'login': 'login3', 'password': 'password3', 'contacts': None, 'photo': None}, {'id': 7, 'name': 'admin', 'roles': ['master', 'officeAdmin', 'manager'], 'salary': 0.0, 'servicePercent': 0.1, 'goodsPercent': 0.1, 'categoryId': 0, 'state': 'working', 'clientRating': None, 'controlRating': None, 'login': 'admin', 'password': 'admin', 'contacts': None, 'photo': None}, {'id': 1, 'name': 'Иванов Диего Михайлович', 'roles': ['officeAdmin'], 'salary': 100000.0, 'servicePercent': 0.1, 'goodsPercent': 0.1, 'categoryId': None, 'state': 'working', 'clientRating': None, 'controlRating': None, 'login': 'admin', 'password': 'admin', 'contacts': None, 'photo': None}, {'id': 3, 'name': 'Морковная Светлана Егоровна', 'roles': ['master'], 'salary': 50000.0, 'servicePercent': 0.1, 'goodsPercent': 0.1, 'categoryId': 1, 'state': 'working', 'clientRating': 10.0, 'controlRating': 10.0, 'login': 'login3', 'password': 'password3', 'contacts': None, 'photo': None}, {'id': 6, 'name': 'Внеочередной Владимир Барбершопович', 'roles': ['officeAdmin'], 'salary': 100000.0, 'servicePercent': 0.1, 'goodsPercent': 0.1, 'categoryId': None, 'state': 'working', 'clientRating': None, 'controlRating': None, 'login': 'login', 'password': 'password', 'contacts': None, 'photo': None}, {'id': 5, 'name': 'Администратор Администраторович Кусь', 'roles': ['officeAdmin'], 'salary': 100000.0, 'servicePercent': 0.1, 'goodsPercent': 0.1, 'categoryId': None, 'state': 'working', 'clientRating': None, 'controlRating': None, 'login': 'login', 'password': 'password', 'contacts': None, 'photo': None}]\n"
     ]
    }
   ],
   "source": [
    "# GetEmployees\n",
    "\n",
    "r = requests.post(base_url + 'GetEmployees/')\n",
    "\n",
    "try:\n",
    "    io = StringIO(r.text)\n",
    "    result = json.load(io)\n",
    "    print(result)\n",
    "except:\n",
    "    print(r)"
   ]
  },
  {
   "cell_type": "code",
   "execution_count": 3,
   "metadata": {},
   "outputs": [
    {
     "name": "stdout",
     "output_type": "stream",
     "text": [
      "{'id': 1, 'name': 'Иванов Диего Михайлович', 'roles': ['officeAdmin'], 'salary': 100000.0, 'servicePercent': 0.1, 'goodsPercent': 0.1, 'categoryId': None, 'state': 'working', 'clientRating': None, 'controlRating': None, 'login': 'admin', 'password': 'admin', 'contacts': None, 'photo': None}\n"
     ]
    }
   ],
   "source": [
    "# GetEmployee\n",
    "\n",
    "params = {'id':1}\n",
    "\n",
    "r = requests.post(base_url + 'GetEmployee/', json = params)\n",
    "\n",
    "try:\n",
    "    io = StringIO(r.text)\n",
    "    result = json.load(io)\n",
    "    print(result)\n",
    "except:\n",
    "    print(r)"
   ]
  },
  {
   "cell_type": "code",
   "execution_count": null,
   "metadata": {
    "collapsed": true
   },
   "outputs": [],
   "source": [
    "# GetAdmins\n",
    "\n",
    "r = requests.post(base_url + 'GetAdmins/')\n",
    "\n",
    "try:\n",
    "    io = StringIO(r.text)\n",
    "    result = json.load(io)\n",
    "    print(result)\n",
    "except:\n",
    "    print(r)"
   ]
  },
  {
   "cell_type": "code",
   "execution_count": null,
   "metadata": {
    "collapsed": true
   },
   "outputs": [],
   "source": [
    "# GetMasters\n",
    "\n",
    "r = requests.post(base_url + 'GetMasters/')\n",
    "\n",
    "try:\n",
    "    io = StringIO(r.text)\n",
    "    result = json.load(io)\n",
    "    print(result)\n",
    "except:\n",
    "    print(r)"
   ]
  },
  {
   "cell_type": "code",
   "execution_count": null,
   "metadata": {
    "collapsed": true
   },
   "outputs": [],
   "source": [
    "# GetBarberCategories\n",
    "\n",
    "r = requests.post(base_url + 'GetBarberCategories/')\n",
    "\n",
    "try:\n",
    "    io = StringIO(r.text)\n",
    "    result = json.load(io)\n",
    "    print(result)\n",
    "except:\n",
    "    print(r)"
   ]
  },
  {
   "cell_type": "code",
   "execution_count": null,
   "metadata": {
    "collapsed": true
   },
   "outputs": [],
   "source": [
    "# GetBarberCategory\n",
    "\n",
    "params = {'id':1}\n",
    "\n",
    "r = requests.post(base_url + 'GetBarberCategory/', json = params)\n",
    "\n",
    "try:\n",
    "    io = StringIO(r.text)\n",
    "    result = json.load(io)\n",
    "    print(result)\n",
    "except:\n",
    "    print(r)"
   ]
  },
  {
   "cell_type": "code",
   "execution_count": null,
   "metadata": {
    "collapsed": true
   },
   "outputs": [],
   "source": [
    "# GetOffices\n",
    "\n",
    "r = requests.post(base_url + 'GetOffices/')\n",
    "\n",
    "try:\n",
    "    io = StringIO(r.text)\n",
    "    result = json.load(io)\n",
    "    print(result)\n",
    "except:\n",
    "    print(r)"
   ]
  },
  {
   "cell_type": "code",
   "execution_count": null,
   "metadata": {
    "collapsed": true
   },
   "outputs": [],
   "source": [
    "# GetOffice\n",
    "\n",
    "params = {'id':1}\n",
    "\n",
    "r = requests.post(base_url + 'GetOffice/', json = params)\n",
    "\n",
    "try:\n",
    "    io = StringIO(r.text)\n",
    "    result = json.load(io)\n",
    "    print(result)\n",
    "except:\n",
    "    print(r)"
   ]
  },
  {
   "cell_type": "code",
   "execution_count": 20,
   "metadata": {},
   "outputs": [
    {
     "name": "stdout",
     "output_type": "stream",
     "text": [
      "{'id': 13, 'dateOpened': '27.10.2019 10:34', 'dateClosed': None, 'employees': [{'id': 6, 'role': 'officeAdmin', 'workHours': 6}, {'id': 4, 'role': 'master', 'workHours': 6}], 'officeId': 3, 'state': 'open'}\n"
     ]
    }
   ],
   "source": [
    "# GetCurrentSession\n",
    "\n",
    "params = {'officeId':3, \"withOperations\": True}\n",
    "\n",
    "r = requests.post(base_url + 'GetCurrentSession/', json = params)\n",
    "\n",
    "try:\n",
    "    io = StringIO(r.text)\n",
    "    result = json.load(io)\n",
    "    print(result)\n",
    "except:\n",
    "    display(HTML(r.text))"
   ]
  },
  {
   "cell_type": "code",
   "execution_count": null,
   "metadata": {
    "collapsed": true
   },
   "outputs": [],
   "source": [
    "# GetSession\n",
    "\n",
    "params = {'id':3,\n",
    "          \"withOperations\": True\n",
    "         }\n",
    "\n",
    "r = requests.post(base_url + 'GetSession/', json = params)\n",
    "\n",
    "try:\n",
    "    io = StringIO(r.text)\n",
    "    result = json.load(io)\n",
    "    print(result)\n",
    "except:\n",
    "    print(r)"
   ]
  },
  {
   "cell_type": "code",
   "execution_count": null,
   "metadata": {
    "collapsed": true
   },
   "outputs": [],
   "source": [
    "# GetSessionsWithOperations\n",
    "\n",
    "params = {\n",
    "    \"dateFrom\": '01.01.2018',\n",
    "    \"dateTo\": '01.01.2019',\n",
    "    \"operationType\": [1,2],\n",
    "    \"employeeIds\": [1,4],\n",
    "    \"clientIds\": [1,2]\n",
    "}\n",
    "\n",
    "r = requests.post(base_url + 'GetSessionsWithOperations/', json = params)\n",
    "\n",
    "try:\n",
    "    io = StringIO(r.text)\n",
    "    result = json.load(io)\n",
    "    print(result)\n",
    "except:\n",
    "    display(HTML(r.text))"
   ]
  },
  {
   "cell_type": "code",
   "execution_count": 7,
   "metadata": {},
   "outputs": [
    {
     "name": "stdout",
     "output_type": "stream",
     "text": [
      "[{'id': 1, 'name': 'Стрижка мужская', 'prices': [{'price': '1000', 'category': 1}, {'price': '1000', 'category': 2}, {'price': '30000', 'category': 3}]}, {'id': 2, 'name': 'Стрижка женская', 'prices': [{'price': '200', 'category': 2}, {'price': '3333', 'category': 3}, {'price': '500', 'category': 1}]}, {'id': 3, 'name': 'Стрижка трансгендера', 'prices': [{'price': '100.4', 'category': 2}, {'price': '7000', 'category': 3}, {'price': '100', 'category': 1}]}]\n"
     ]
    }
   ],
   "source": [
    "# GetServicesPrices\n",
    "\n",
    "r = requests.post(base_url + 'GetServicesPrices/')\n",
    "\n",
    "try:\n",
    "    io = StringIO(r.text)\n",
    "    result = json.load(io)\n",
    "    print(result)\n",
    "except:\n",
    "    print(r)"
   ]
  },
  {
   "cell_type": "code",
   "execution_count": 3,
   "metadata": {},
   "outputs": [
    {
     "name": "stdout",
     "output_type": "stream",
     "text": [
      "{'id': 1, 'officeId': 1, 'sessionId': 1, 'serviceId': 1, 'startDatetime': '31.12.2018 11:00', 'finishDatetime': '31.12.2018 12:00', 'adminId': 1, 'masterId': 4, 'clientId': 1, 'cashSum': None, 'cashlessSum': None, 'discountSum': None, 'adminBonusSum': None, 'totalRevenue': None, 'clientRating': None, 'review': None, 'comment': None, 'controlRating': None, 'photos': None, 'masterBonusSum': None}\n"
     ]
    }
   ],
   "source": [
    "# GetServiceOperation\n",
    "\n",
    "params = {'id':1}\n",
    "\n",
    "r = requests.post(base_url + 'GetServiceOperation/', json = params)\n",
    "\n",
    "try:\n",
    "    io = StringIO(r.text)\n",
    "    result = json.load(io)\n",
    "    print(result)\n",
    "except:\n",
    "    print(r)"
   ]
  },
  {
   "cell_type": "code",
   "execution_count": null,
   "metadata": {
    "collapsed": true
   },
   "outputs": [],
   "source": [
    "# GetGoods\n",
    "\n",
    "r = requests.post(base_url + 'GetGoods/')\n",
    "\n",
    "try:\n",
    "    io = StringIO(r.text)\n",
    "    result = json.load(io)\n",
    "    print(result)\n",
    "except:\n",
    "    print(r)"
   ]
  },
  {
   "cell_type": "code",
   "execution_count": 9,
   "metadata": {},
   "outputs": [
    {
     "name": "stdout",
     "output_type": "stream",
     "text": [
      "{'id': 1, 'name': 'Шампунь', 'price': 5000.0, 'state': 'active'}\n"
     ]
    }
   ],
   "source": [
    "# GetGood\n",
    "\n",
    "params = {'id':1}\n",
    "\n",
    "r = requests.post(base_url + 'GetGood/', json = params)\n",
    "\n",
    "try:\n",
    "    io = StringIO(r.text)\n",
    "    result = json.load(io)\n",
    "    print(result)\n",
    "except:\n",
    "    print(r)"
   ]
  },
  {
   "cell_type": "code",
   "execution_count": 4,
   "metadata": {},
   "outputs": [
    {
     "name": "stdout",
     "output_type": "stream",
     "text": [
      "{'id': 1, 'officeId': 1, 'sessionId': 1, 'goodsIds': [1], 'datetime': '31.12.2018 12:00', 'adminId': 1, 'masterId': 4, 'clientId': 1, 'cashSum': None, 'cashlessSum': None, 'discountSum': None, 'adminBonusSum': None, 'totalRevenue': None, 'comment': None, 'masterBonusSum': None}\n"
     ]
    }
   ],
   "source": [
    "# GetGoodsOperation\n",
    "\n",
    "params = {'id':1}\n",
    "\n",
    "r = requests.post(base_url + 'GetGoodsOperation/', json = params)\n",
    "\n",
    "try:\n",
    "    io = StringIO(r.text)\n",
    "    result = json.load(io)\n",
    "    print(result)\n",
    "except:\n",
    "    print(r)"
   ]
  },
  {
   "cell_type": "code",
   "execution_count": null,
   "metadata": {
    "collapsed": true
   },
   "outputs": [],
   "source": [
    "# GetSpendTypes\n",
    "\n",
    "r = requests.post(base_url + 'GetSpendTypes/')\n",
    "\n",
    "try:\n",
    "    io = StringIO(r.text)\n",
    "    result = json.load(io)\n",
    "    print(result)\n",
    "except:\n",
    "    print(r)"
   ]
  },
  {
   "cell_type": "code",
   "execution_count": null,
   "metadata": {
    "collapsed": true
   },
   "outputs": [],
   "source": [
    "# GetSpendType\n",
    "\n",
    "params = {'id':1}\n",
    "\n",
    "r = requests.post(base_url + 'GetSpendType/', json = params)\n",
    "\n",
    "try:\n",
    "    io = StringIO(r.text)\n",
    "    result = json.load(io)\n",
    "    print(result)\n",
    "except:\n",
    "    print(r)"
   ]
  },
  {
   "cell_type": "code",
   "execution_count": 5,
   "metadata": {},
   "outputs": [
    {
     "name": "stdout",
     "output_type": "stream",
     "text": [
      "{'id': 1, 'officeId': 1, 'sessionId': 1, 'expenseTypeId': 1, 'datetime': '30.12.2018 09:00', 'sum': 5000.0, 'cashSum': 1000.0, 'cashlessSum': 4000, 'comment': None}\n"
     ]
    }
   ],
   "source": [
    "# GetSpendOperation\n",
    "\n",
    "params = {'id':1}\n",
    "\n",
    "r = requests.post(base_url + 'GetSpendOperation/', json = params)\n",
    "\n",
    "try:\n",
    "    io = StringIO(r.text)\n",
    "    result = json.load(io)\n",
    "    print(result)\n",
    "except:\n",
    "    print(r)"
   ]
  },
  {
   "cell_type": "code",
   "execution_count": null,
   "metadata": {
    "collapsed": true
   },
   "outputs": [],
   "source": [
    "# GetEmployeePaymentTypes\n",
    "\n",
    "r = requests.post(base_url + 'GetEmployeePaymentTypes/')\n",
    "\n",
    "try:\n",
    "    io = StringIO(r.text)\n",
    "    result = json.load(io)\n",
    "    print(result)\n",
    "except:\n",
    "    print(r)"
   ]
  },
  {
   "cell_type": "code",
   "execution_count": null,
   "metadata": {
    "collapsed": true
   },
   "outputs": [],
   "source": [
    "# GetEmployeePaymentType\n",
    "\n",
    "params = {'id':1}\n",
    "\n",
    "r = requests.post(base_url + 'GetEmployeePaymentType/', json = params)\n",
    "\n",
    "try:\n",
    "    io = StringIO(r.text)\n",
    "    result = json.load(io)\n",
    "    print(result)\n",
    "except:\n",
    "    print(r)"
   ]
  },
  {
   "cell_type": "code",
   "execution_count": 4,
   "metadata": {},
   "outputs": [
    {
     "name": "stdout",
     "output_type": "stream",
     "text": [
      "{'id': 1, 'officeId': 1, 'sessionId': 1, 'employeeId': 3, 'datetime': '30.12.2018 09:00', 'sum': 1000.0, 'cashSum': None, 'cashlessSum': None, 'comment': None, 'employeePaymentTypeId': 1, 'paymentType': 'salary'}\n"
     ]
    }
   ],
   "source": [
    "# GetEmployeePaymentOperation\n",
    "\n",
    "params = {'id':1}\n",
    "\n",
    "r = requests.post(base_url + 'GetEmployeePaymentOperation/', json = params)\n",
    "\n",
    "try:\n",
    "    io = StringIO(r.text)\n",
    "    result = json.load(io)\n",
    "    print(result)\n",
    "except:\n",
    "    print(r)"
   ]
  },
  {
   "cell_type": "code",
   "execution_count": 10,
   "metadata": {},
   "outputs": [
    {
     "name": "stdout",
     "output_type": "stream",
     "text": [
      "{'id': 3, 'name': 'Клиентов Клиент Клиентович Старший', 'contacts': [{'type': 'phone', 'value': '+1111'}], 'comment': None, 'photo': None, 'Operations': None}\n"
     ]
    }
   ],
   "source": [
    "# GetClient\n",
    "\n",
    "params = {'id':3}\n",
    "\n",
    "r = requests.post(base_url + 'GetClient/', json = params)\n",
    "\n",
    "try:\n",
    "    io = StringIO(r.text)\n",
    "    result = json.load(io)\n",
    "    print(result)\n",
    "except:\n",
    "    print(r)"
   ]
  },
  {
   "cell_type": "code",
   "execution_count": null,
   "metadata": {
    "collapsed": true
   },
   "outputs": [],
   "source": [
    "# GetClients\n",
    "\n",
    "params = {'q':'кли'}\n",
    "\n",
    "r = requests.post(base_url + 'GetClients/', json = params)\n",
    "\n",
    "try:\n",
    "    io = StringIO(r.text)\n",
    "    result = json.load(io)\n",
    "    print(result)\n",
    "except:\n",
    "    print(r)"
   ]
  },
  {
   "cell_type": "code",
   "execution_count": 6,
   "metadata": {},
   "outputs": [
    {
     "name": "stdout",
     "output_type": "stream",
     "text": [
      "{'summary': [{'totalsalary': 1450000.0, 'totalpaidsalary': 462900.0, 'totalpenalty': None, 'totalunpaidsalary': None, 'totalservicecount': 29, 'totalrepeatingvisitscount': 17, 'totalservicebonus': 8520.12, 'totalgoodsbonus': 3305.17, 'totalpaidbonus': None, 'totalunpaidbonus': None, 'totalworkload': None}], 'byOffices': [{'officeId': None, 'totalsalary': 700000.0, 'totalpaidsalary': 499000.0, 'totalpenalty': None, 'totalunpaidsalary': None, 'totalservicecount': 0, 'totalrepeatingvisitscount': None, 'totalservicebonus': 3370.04, 'totalgoodsbonus': 2554.98, 'totalpaidbonus': None, 'totalunpaidbonus': None, 'totalworkload': None}, {'officeId': 1, 'totalsalary': 750000.0, 'totalpaidsalary': -36100.0, 'totalpenalty': None, 'totalunpaidsalary': None, 'totalservicecount': 29, 'totalrepeatingvisitscount': 17, 'totalservicebonus': 5150.08, 'totalgoodsbonus': 750.19, 'totalpaidbonus': None, 'totalunpaidbonus': None, 'totalworkload': None}], 'byEmployees': [{'name': 'Администратор Администраторович Кусь', 'totalsalary': 400000.0, 'totalpaidsalary': None, 'totalpenalty': None, 'totalunpaidsalary': None, 'totalservicecount': 0, 'totalrepeatingvisitscount': None, 'totalservicebonus': 2800.0, 'totalgoodsbonus': 2534.98, 'totalpaidbonus': None, 'totalunpaidbonus': None, 'totalworkload': None}, {'name': 'admin', 'totalsalary': 0.0, 'totalpaidsalary': 499000.0, 'totalpenalty': None, 'totalunpaidsalary': None, 'totalservicecount': 0, 'totalrepeatingvisitscount': None, 'totalservicebonus': 340.0, 'totalgoodsbonus': 20.0, 'totalpaidbonus': None, 'totalunpaidbonus': None, 'totalworkload': None}, {'name': 'Внеочередной Владимир Барбершопович', 'totalsalary': 100000.0, 'totalpaidsalary': None, 'totalpenalty': None, 'totalunpaidsalary': None, 'totalservicecount': 0, 'totalrepeatingvisitscount': None, 'totalservicebonus': 230.04, 'totalgoodsbonus': None, 'totalpaidbonus': None, 'totalunpaidbonus': None, 'totalworkload': None}, {'name': 'Барберов Бородач Ножницевич', 'totalsalary': 200000.0, 'totalpaidsalary': -22600.0, 'totalpenalty': None, 'totalunpaidsalary': None, 'totalservicecount': 14, 'totalrepeatingvisitscount': 8, 'totalservicebonus': 800.08, 'totalgoodsbonus': 40.0, 'totalpaidbonus': None, 'totalunpaidbonus': None, 'totalworkload': None}, {'name': 'Морковная Светлана Егоровна', 'totalsalary': 450000.0, 'totalpaidsalary': -13500.0, 'totalpenalty': None, 'totalunpaidsalary': None, 'totalservicecount': 15, 'totalrepeatingvisitscount': 9, 'totalservicebonus': 4350.0, 'totalgoodsbonus': 710.19, 'totalpaidbonus': None, 'totalunpaidbonus': None, 'totalworkload': None}, {'name': 'Парикмахеров Парикмахер Парикмахерович', 'totalsalary': 200000.0, 'totalpaidsalary': None, 'totalpenalty': None, 'totalunpaidsalary': None, 'totalservicecount': None, 'totalrepeatingvisitscount': None, 'totalservicebonus': None, 'totalgoodsbonus': None, 'totalpaidbonus': None, 'totalunpaidbonus': None, 'totalworkload': None}, {'name': 'Иванов Диего Михайлович', 'totalsalary': 100000.0, 'totalpaidsalary': None, 'totalpenalty': None, 'totalunpaidsalary': None, 'totalservicecount': None, 'totalrepeatingvisitscount': None, 'totalservicebonus': None, 'totalgoodsbonus': None, 'totalpaidbonus': None, 'totalunpaidbonus': None, 'totalworkload': None}], 'byOfficeAndEmployee': [{'officeId': 1, 'name': 'Морковная Светлана Егоровна', 'state': 'working', 'roles': ['master'], 'salary': 50000.0, 'paidsalary': -1500.0, 'penalty': None, 'unpaidsalary': None, 'servicecount': 2, 'repeatingvisitscount': 1, 'servicebonus': 1100.0, 'goodsbonus': 216.73, 'paidbonus': None, 'unpaidbonus': None, 'total_time': None, 'estimatedworkhours': 32.0, 'workload': None, 'officename': 'Ванкувер'}, {'officeId': 1, 'name': 'Морковная Светлана Егоровна', 'state': 'working', 'roles': ['master'], 'salary': 50000.0, 'paidsalary': -1500.0, 'penalty': None, 'unpaidsalary': None, 'servicecount': 2, 'repeatingvisitscount': 1, 'servicebonus': 1100.0, 'goodsbonus': 10.0, 'paidbonus': None, 'unpaidbonus': None, 'total_time': None, 'estimatedworkhours': 32.0, 'workload': None, 'officename': 'Ванкувер'}, {'officeId': 1, 'name': 'Морковная Светлана Егоровна', 'state': 'working', 'roles': ['master'], 'salary': 50000.0, 'paidsalary': -1500.0, 'penalty': None, 'unpaidsalary': None, 'servicecount': 2, 'repeatingvisitscount': 1, 'servicebonus': 1100.0, 'goodsbonus': 10.0, 'paidbonus': None, 'unpaidbonus': None, 'total_time': None, 'estimatedworkhours': 32.0, 'workload': None, 'officename': 'Ванкувер'}, {'officeId': 1, 'name': 'Морковная Светлана Егоровна', 'state': 'working', 'roles': ['master'], 'salary': 50000.0, 'paidsalary': -1500.0, 'penalty': None, 'unpaidsalary': None, 'servicecount': 1, 'repeatingvisitscount': 1, 'servicebonus': 50.0, 'goodsbonus': 216.73, 'paidbonus': None, 'unpaidbonus': None, 'total_time': None, 'estimatedworkhours': 32.0, 'workload': None, 'officename': 'Ванкувер'}, {'officeId': 1, 'name': 'Морковная Светлана Егоровна', 'state': 'working', 'roles': ['master'], 'salary': 50000.0, 'paidsalary': -1500.0, 'penalty': None, 'unpaidsalary': None, 'servicecount': 1, 'repeatingvisitscount': 1, 'servicebonus': 50.0, 'goodsbonus': 10.0, 'paidbonus': None, 'unpaidbonus': None, 'total_time': None, 'estimatedworkhours': 32.0, 'workload': None, 'officename': 'Ванкувер'}, {'officeId': 1, 'name': 'Морковная Светлана Егоровна', 'state': 'working', 'roles': ['master'], 'salary': 50000.0, 'paidsalary': -1500.0, 'penalty': None, 'unpaidsalary': None, 'servicecount': 1, 'repeatingvisitscount': 1, 'servicebonus': 50.0, 'goodsbonus': 10.0, 'paidbonus': None, 'unpaidbonus': None, 'total_time': None, 'estimatedworkhours': 32.0, 'workload': None, 'officename': 'Ванкувер'}, {'officeId': 1, 'name': 'Морковная Светлана Егоровна', 'state': 'working', 'roles': ['master'], 'salary': 50000.0, 'paidsalary': -1500.0, 'penalty': None, 'unpaidsalary': None, 'servicecount': 2, 'repeatingvisitscount': 1, 'servicebonus': 300.0, 'goodsbonus': 216.73, 'paidbonus': None, 'unpaidbonus': None, 'total_time': None, 'estimatedworkhours': 32.0, 'workload': None, 'officename': 'Ванкувер'}, {'officeId': 1, 'name': 'Морковная Светлана Егоровна', 'state': 'working', 'roles': ['master'], 'salary': 50000.0, 'paidsalary': -1500.0, 'penalty': None, 'unpaidsalary': None, 'servicecount': 2, 'repeatingvisitscount': 1, 'servicebonus': 300.0, 'goodsbonus': 10.0, 'paidbonus': None, 'unpaidbonus': None, 'total_time': None, 'estimatedworkhours': 32.0, 'workload': None, 'officename': 'Ванкувер'}, {'officeId': 1, 'name': 'Морковная Светлана Егоровна', 'state': 'working', 'roles': ['master'], 'salary': 50000.0, 'paidsalary': -1500.0, 'penalty': None, 'unpaidsalary': None, 'servicecount': 2, 'repeatingvisitscount': 1, 'servicebonus': 300.0, 'goodsbonus': 10.0, 'paidbonus': None, 'unpaidbonus': None, 'total_time': None, 'estimatedworkhours': 32.0, 'workload': None, 'officename': 'Ванкувер'}, {'officeId': 1, 'name': 'Иванов Диего Михайлович', 'state': 'working', 'roles': ['officeAdmin'], 'salary': 100000.0, 'paidsalary': None, 'penalty': None, 'unpaidsalary': None, 'servicecount': None, 'repeatingvisitscount': None, 'servicebonus': None, 'goodsbonus': None, 'paidbonus': None, 'unpaidbonus': None, 'total_time': None, 'estimatedworkhours': 32.0, 'workload': None, 'officename': 'Ванкувер'}, {'officeId': 1, 'name': 'Барберов Бородач Ножницевич', 'state': 'working', 'roles': ['master'], 'salary': 50000.0, 'paidsalary': -1000.0, 'penalty': None, 'unpaidsalary': None, 'servicecount': 4, 'repeatingvisitscount': 2, 'servicebonus': 230.04, 'goodsbonus': 10.0, 'paidbonus': None, 'unpaidbonus': None, 'total_time': None, 'estimatedworkhours': 32.0, 'workload': None, 'officename': 'Ванкувер'}, {'officeId': 1, 'name': 'Барберов Бородач Ножницевич', 'state': 'working', 'roles': ['master'], 'salary': 50000.0, 'paidsalary': -1000.0, 'penalty': None, 'unpaidsalary': None, 'servicecount': 3, 'repeatingvisitscount': 2, 'servicebonus': 170.0, 'goodsbonus': 10.0, 'paidbonus': None, 'unpaidbonus': None, 'total_time': None, 'estimatedworkhours': 32.0, 'workload': None, 'officename': 'Ванкувер'}, {'officeId': 1, 'name': 'Барберов Бородач Ножницевич', 'state': 'working', 'roles': ['master'], 'salary': 50000.0, 'paidsalary': -10300.0, 'penalty': None, 'unpaidsalary': None, 'servicecount': 4, 'repeatingvisitscount': 2, 'servicebonus': 230.04, 'goodsbonus': 10.0, 'paidbonus': None, 'unpaidbonus': None, 'total_time': None, 'estimatedworkhours': 32.0, 'workload': None, 'officename': 'Ванкувер'}, {'officeId': 1, 'name': 'Барберов Бородач Ножницевич', 'state': 'working', 'roles': ['master'], 'salary': 50000.0, 'paidsalary': -10300.0, 'penalty': None, 'unpaidsalary': None, 'servicecount': 3, 'repeatingvisitscount': 2, 'servicebonus': 170.0, 'goodsbonus': 10.0, 'paidbonus': None, 'unpaidbonus': None, 'total_time': None, 'estimatedworkhours': 32.0, 'workload': None, 'officename': 'Ванкувер'}, {'officeId': None, 'name': 'Парикмахеров Парикмахер Парикмахерович', 'state': 'working', 'roles': ['manager'], 'salary': 200000.0, 'paidsalary': None, 'penalty': None, 'unpaidsalary': None, 'servicecount': None, 'repeatingvisitscount': None, 'servicebonus': None, 'goodsbonus': None, 'paidbonus': None, 'unpaidbonus': None, 'total_time': None, 'estimatedworkhours': 32.0, 'workload': None, 'officename': None}, {'officeId': None, 'name': 'Администратор Администраторович Кусь', 'state': 'working', 'roles': ['officeAdmin'], 'salary': 100000.0, 'paidsalary': None, 'penalty': None, 'unpaidsalary': None, 'servicecount': 0, 'repeatingvisitscount': None, 'servicebonus': 1100.0, 'goodsbonus': 1257.49, 'paidbonus': None, 'unpaidbonus': None, 'total_time': None, 'estimatedworkhours': 32.0, 'workload': None, 'officename': None}, {'officeId': None, 'name': 'Администратор Администраторович Кусь', 'state': 'working', 'roles': ['officeAdmin'], 'salary': 100000.0, 'paidsalary': None, 'penalty': None, 'unpaidsalary': None, 'servicecount': 0, 'repeatingvisitscount': None, 'servicebonus': 1100.0, 'goodsbonus': 10.0, 'paidbonus': None, 'unpaidbonus': None, 'total_time': None, 'estimatedworkhours': 32.0, 'workload': None, 'officename': None}, {'officeId': None, 'name': 'Администратор Администраторович Кусь', 'state': 'working', 'roles': ['officeAdmin'], 'salary': 100000.0, 'paidsalary': None, 'penalty': None, 'unpaidsalary': None, 'servicecount': 0, 'repeatingvisitscount': None, 'servicebonus': 300.0, 'goodsbonus': 1257.49, 'paidbonus': None, 'unpaidbonus': None, 'total_time': None, 'estimatedworkhours': 32.0, 'workload': None, 'officename': None}, {'officeId': None, 'name': 'Администратор Администраторович Кусь', 'state': 'working', 'roles': ['officeAdmin'], 'salary': 100000.0, 'paidsalary': None, 'penalty': None, 'unpaidsalary': None, 'servicecount': 0, 'repeatingvisitscount': None, 'servicebonus': 300.0, 'goodsbonus': 10.0, 'paidbonus': None, 'unpaidbonus': None, 'total_time': None, 'estimatedworkhours': 32.0, 'workload': None, 'officename': None}, {'officeId': None, 'name': 'Внеочередной Владимир Барбершопович', 'state': 'working', 'roles': ['officeAdmin'], 'salary': 100000.0, 'paidsalary': None, 'penalty': None, 'unpaidsalary': None, 'servicecount': 0, 'repeatingvisitscount': None, 'servicebonus': 230.04, 'goodsbonus': None, 'paidbonus': None, 'unpaidbonus': None, 'total_time': None, 'estimatedworkhours': 32.0, 'workload': None, 'officename': None}, {'officeId': None, 'name': 'admin', 'state': 'working', 'roles': ['master', 'officeAdmin', 'manager'], 'salary': 0.0, 'paidsalary': -1000.0, 'penalty': None, 'unpaidsalary': None, 'servicecount': 0, 'repeatingvisitscount': None, 'servicebonus': 170.0, 'goodsbonus': 10.0, 'paidbonus': None, 'unpaidbonus': None, 'total_time': None, 'estimatedworkhours': 32.0, 'workload': None, 'officename': None}, {'officeId': None, 'name': 'admin', 'state': 'working', 'roles': ['master', 'officeAdmin', 'manager'], 'salary': 0.0, 'paidsalary': 500000.0, 'penalty': None, 'unpaidsalary': None, 'servicecount': 0, 'repeatingvisitscount': None, 'servicebonus': 170.0, 'goodsbonus': 10.0, 'paidbonus': None, 'unpaidbonus': None, 'total_time': None, 'estimatedworkhours': 32.0, 'workload': None, 'officename': None}]}\n"
     ]
    }
   ],
   "source": [
    "# GenerateEmployeeReport\n",
    "\n",
    "params = {'period':'01.10.2019'}\n",
    "\n",
    "r = requests.post(base_url + 'GenerateEmployeeReport/', json = params)\n",
    "\n",
    "try:\n",
    "    io = StringIO(r.text)\n",
    "    result = json.load(io)\n",
    "    print(result)\n",
    "except:\n",
    "    print(r)"
   ]
  },
  {
   "cell_type": "code",
   "execution_count": 7,
   "metadata": {},
   "outputs": [
    {
     "name": "stdout",
     "output_type": "stream",
     "text": [
      "{'summary': [{'totalcash': 22175.3, 'totalcashless': 0.0, 'totaldiscount': 0.0, 'totalservicesum': 9400.4, 'totalgoodssum': 12774.9, 'totalsum': 22175.3, 'totalvisitsduringperiod': 8}], 'byOffices': [{'officeId': 1, 'totalcash': 3100.0, 'totalcashless': 0.0, 'totaldiscount': 0.0, 'totalservicesum': 3000.0, 'totalgoodssum': 100.0, 'totalsum': 3100.0, 'totalvisitsduringperiod': 1}, {'officeId': 2, 'totalcash': 2500.0, 'totalcashless': 0.0, 'totaldiscount': 0.0, 'totalservicesum': 2400.0, 'totalgoodssum': 100.0, 'totalsum': 2500.0, 'totalvisitsduringperiod': 2}, {'officeId': 3, 'totalcash': 16575.3, 'totalcashless': 0.0, 'totaldiscount': 0.0, 'totalservicesum': 4000.4, 'totalgoodssum': 12574.9, 'totalsum': 16575.3, 'totalvisitsduringperiod': 5}], 'byClients': [{'clientId': 12, 'totalcash': 900.0, 'totalcashless': 0.0, 'totaldiscount': 0.0, 'totalservicesum': 900.0, 'totalgoodssum': None, 'totalsum': 900.0, 'totalvisitsduringperiod': 2}, {'clientId': 13, 'totalcash': 18875.3, 'totalcashless': 0.0, 'totaldiscount': 0.0, 'totalservicesum': 6100.4, 'totalgoodssum': 12774.9, 'totalsum': 18875.3, 'totalvisitsduringperiod': 3}, {'clientId': 14, 'totalcash': 1000.0, 'totalcashless': 0.0, 'totaldiscount': 0.0, 'totalservicesum': 1000.0, 'totalgoodssum': None, 'totalsum': 1000.0, 'totalvisitsduringperiod': 1}, {'clientId': 15, 'totalcash': 200.0, 'totalcashless': 0.0, 'totaldiscount': 0.0, 'totalservicesum': 200.0, 'totalgoodssum': None, 'totalsum': 200.0, 'totalvisitsduringperiod': 1}, {'clientId': 16, 'totalcash': 200.0, 'totalcashless': 0.0, 'totaldiscount': 0.0, 'totalservicesum': 200.0, 'totalgoodssum': None, 'totalsum': 200.0, 'totalvisitsduringperiod': 1}, {'clientId': None, 'totalcash': 1000.0, 'totalcashless': 0.0, 'totaldiscount': 0.0, 'totalservicesum': 1000.0, 'totalgoodssum': None, 'totalsum': 1000.0, 'totalvisitsduringperiod': None}], 'byOfficeAndClient': [{'officeId': 3, 'clientId': 12, 'yearmonth': '01.10.2019 00:00', 'totalcash': 200.0, 'totalcashless': 0.0, 'totaldiscount': 0.0, 'totalservicesum': 200.0, 'totalgoodssum': None, 'totalsum': 200.0, 'mastervisits': [{'name': 'Барберов Бородач Ножницевич', 'count': 1}], 'totalvisitsduringperiod': 1, 'name': 'Олег', 'totalvisits': 1, 'lastndaysvisitscount': 1, 'lastvisitdatetime': '27.10.2019', 'loyalty': 'ambivalent', 'newclient': True}, {'officeId': 2, 'clientId': 12, 'yearmonth': '01.10.2019 00:00', 'totalcash': 700.0, 'totalcashless': 0.0, 'totaldiscount': 0.0, 'totalservicesum': 700.0, 'totalgoodssum': None, 'totalsum': 700.0, 'mastervisits': [{'name': 'Барберов Бородач Ножницевич', 'count': 4}], 'totalvisitsduringperiod': 1, 'name': 'Олег', 'totalvisits': 1, 'lastndaysvisitscount': 1, 'lastvisitdatetime': '30.10.2019', 'loyalty': 'ambivalent', 'newclient': True}, {'officeId': 3, 'clientId': 13, 'yearmonth': '01.10.2019 00:00', 'totalcash': 13975.3, 'totalcashless': 0.0, 'totaldiscount': 0.0, 'totalservicesum': 1400.4, 'totalgoodssum': 12574.9, 'totalsum': 13975.3, 'mastervisits': [{'name': 'Барберов Бородач Ножницевич', 'count': 4}, {'name': 'Морковная Светлана Егоровна', 'count': 3}], 'totalvisitsduringperiod': 1, 'name': 'Олежа', 'totalvisits': 2, 'lastndaysvisitscount': 2, 'lastvisitdatetime': '28.10.2019', 'loyalty': 'likely loyal', 'newclient': True}, {'officeId': 2, 'clientId': 13, 'yearmonth': '01.10.2019 00:00', 'totalcash': 1800.0, 'totalcashless': 0.0, 'totaldiscount': 0.0, 'totalservicesum': 1700.0, 'totalgoodssum': 100.0, 'totalsum': 1800.0, 'mastervisits': [{'name': 'Барберов Бородач Ножницевич', 'count': 25}, {'name': 'Морковная Светлана Егоровна', 'count': 3}], 'totalvisitsduringperiod': 1, 'name': 'Олежа', 'totalvisits': 1, 'lastndaysvisitscount': 1, 'lastvisitdatetime': '30.10.2019', 'loyalty': 'ambivalent', 'newclient': True}, {'officeId': 1, 'clientId': 13, 'yearmonth': '01.10.2019 00:00', 'totalcash': 3100.0, 'totalcashless': 0.0, 'totaldiscount': 0.0, 'totalservicesum': 3000.0, 'totalgoodssum': 100.0, 'totalsum': 3100.0, 'mastervisits': [{'name': 'Морковная Светлана Егоровна', 'count': 6}], 'totalvisitsduringperiod': 1, 'name': 'Олежа', 'totalvisits': 1, 'lastndaysvisitscount': 1, 'lastvisitdatetime': '29.10.2019', 'loyalty': 'ambivalent', 'newclient': True}, {'officeId': 3, 'clientId': 14, 'yearmonth': '01.10.2019 00:00', 'totalcash': 1000.0, 'totalcashless': 0.0, 'totaldiscount': 0.0, 'totalservicesum': 1000.0, 'totalgoodssum': None, 'totalsum': 1000.0, 'mastervisits': [{'name': 'Барберов Бородач Ножницевич', 'count': 1}], 'totalvisitsduringperiod': 1, 'name': '', 'totalvisits': 1, 'lastndaysvisitscount': 1, 'lastvisitdatetime': '27.10.2019', 'loyalty': 'ambivalent', 'newclient': True}, {'officeId': 3, 'clientId': 15, 'yearmonth': '01.10.2019 00:00', 'totalcash': 200.0, 'totalcashless': 0.0, 'totaldiscount': 0.0, 'totalservicesum': 200.0, 'totalgoodssum': None, 'totalsum': 200.0, 'mastervisits': [{'name': 'Барберов Бородач Ножницевич', 'count': 1}], 'totalvisitsduringperiod': 1, 'name': '', 'totalvisits': 1, 'lastndaysvisitscount': 1, 'lastvisitdatetime': '27.10.2019', 'loyalty': 'ambivalent', 'newclient': True}, {'officeId': 3, 'clientId': 16, 'yearmonth': '01.10.2019 00:00', 'totalcash': 200.0, 'totalcashless': 0.0, 'totaldiscount': 0.0, 'totalservicesum': 200.0, 'totalgoodssum': None, 'totalsum': 200.0, 'mastervisits': [{'name': 'Барберов Бородач Ножницевич', 'count': 1}], 'totalvisitsduringperiod': 1, 'name': '', 'totalvisits': 1, 'lastndaysvisitscount': 1, 'lastvisitdatetime': '27.10.2019', 'loyalty': 'ambivalent', 'newclient': True}, {'officeId': 3, 'clientId': None, 'yearmonth': '01.10.2019 00:00', 'totalcash': 1000.0, 'totalcashless': 0.0, 'totaldiscount': 0.0, 'totalservicesum': 1000.0, 'totalgoodssum': None, 'totalsum': 1000.0, 'mastervisits': None, 'totalvisitsduringperiod': None, 'name': None, 'totalvisits': None, 'lastndaysvisitscount': None, 'lastvisitdatetime': None, 'loyalty': None, 'newclient': None}]}\n"
     ]
    }
   ],
   "source": [
    "# GenerateClientReport\n",
    "\n",
    "params = {'period':'01.10.2019'}\n",
    "\n",
    "r = requests.post(base_url + 'GenerateClientReport/', json = params)\n",
    "\n",
    "try:\n",
    "    io = StringIO(r.text)\n",
    "    result = json.load(io)\n",
    "    print(result)\n",
    "except:\n",
    "    print(r)"
   ]
  },
  {
   "cell_type": "code",
   "execution_count": 8,
   "metadata": {},
   "outputs": [
    {
     "name": "stdout",
     "output_type": "stream",
     "text": [
      "{'summary': [{'operationcount': 112, 'serviceoperationcount': 53, 'goodsoperationcount': 12, 'spendoperationcount': 47, 'serviceincome': 30500.4, 'goodsincome': 14474.9, 'totalcash': 44975.3, 'totalcashless': 0.0, 'totalincome': 44975.2995986938, 'totalspend': None, 'totalrevenue': None, 'totalemployees': 3, 'total_time': 192}], 'byOffices': [{'officeId': 1, 'yearmonth': '01.10.2019 00:00', 'operationcount': 14, 'serviceoperationcount': 6, 'goodsoperationcount': 2, 'spendoperationcount': 6, 'serviceincome': 7000.0, 'goodsincome': 200.0, 'totalcash': 7200.0, 'totalcashless': 0.0, 'totalincome': 7200.0, 'totalspend': None, 'totalrevenue': None, 'totalemployees': 3, 'total_time': 24}, {'officeId': 2, 'yearmonth': '01.10.2019 00:00', 'operationcount': 67, 'serviceoperationcount': 32, 'goodsoperationcount': 2, 'spendoperationcount': 33, 'serviceincome': 14300.0, 'goodsincome': 200.0, 'totalcash': 14500.0, 'totalcashless': 0.0, 'totalincome': 14500.0, 'totalspend': None, 'totalrevenue': None, 'totalemployees': 0, 'total_time': 54}, {'officeId': 3, 'yearmonth': '01.10.2019 00:00', 'operationcount': 31, 'serviceoperationcount': 15, 'goodsoperationcount': 8, 'spendoperationcount': 8, 'serviceincome': 9200.4, 'goodsincome': 14074.9, 'totalcash': 23275.3, 'totalcashless': 0.0, 'totalincome': 23275.2995986938, 'totalspend': None, 'totalrevenue': None, 'totalemployees': 0, 'total_time': 114}]}\n"
     ]
    }
   ],
   "source": [
    "# GenerateFinanceReport\n",
    "\n",
    "params = {'period':'01.10.2019'}\n",
    "\n",
    "r = requests.post(base_url + 'GenerateFinanceReport/', json = params)\n",
    "\n",
    "try:\n",
    "    io = StringIO(r.text)\n",
    "    result = json.load(io)\n",
    "    print(result)\n",
    "except:\n",
    "    print(r)"
   ]
  },
  {
   "cell_type": "code",
   "execution_count": 33,
   "metadata": {},
   "outputs": [
    {
     "name": "stdout",
     "output_type": "stream",
     "text": [
      "{\"id\": 3}\n"
     ]
    }
   ],
   "source": [
    "# EditOffice\n",
    "\n",
    "params = { 'id':3,\n",
    "'name':'Токио-777',\n",
    "'city':'Токио',\n",
    "'address':'г. Токио, ул. Демонстрации, 51',\n",
    "'coordinatex':0.2,\n",
    "'coordinatey':0.2,\n",
    "'state':'open'}\n",
    "\n",
    "r = requests.post(base_url + 'EditOffice/', json = params)\n",
    "\n",
    "try:\n",
    "    io = StringIO(r.text)\n",
    "    result = json.load(io)\n",
    "    print(result)\n",
    "except:\n",
    "    print(r)"
   ]
  },
  {
   "cell_type": "code",
   "execution_count": null,
   "metadata": {
    "collapsed": true
   },
   "outputs": [],
   "source": [
    "# EditSession\n",
    "\n",
    "params = {\"id\":2,\"dateOpened\":\"2019-10-20\",\"dateClosed\":\"2019-10-20\",\"employees\":[{\"id\":1,\"role\":\"officeAdmin\",\"workHours\":6},{\"id\":4,\"role\":\"master\",\"workHours\":6}],\"officeId\":2,\"state\":\"closed\",\"openCash\":0}\n",
    "\n",
    "r = requests.post(base_url + 'EditSession/', json = params)\n",
    "\n",
    "try:\n",
    "    io = StringIO(r.text)\n",
    "    result = json.load(io)\n",
    "    print(result)\n",
    "except:\n",
    "    print(r)"
   ]
  },
  {
   "cell_type": "code",
   "execution_count": 13,
   "metadata": {},
   "outputs": [
    {
     "name": "stdout",
     "output_type": "stream",
     "text": [
      "{'id': 12}\n"
     ]
    }
   ],
   "source": [
    "# EditClient\n",
    "\n",
    "params = {\"id\":None,\"name\":\"Олег\",\"contacts\":[{\"type\":\"phone\",\"value\":\"123\"}]}\n",
    "r = requests.post(base_url + 'EditClient/', json = params)\n",
    "\n",
    "try:\n",
    "    io = StringIO(r.text)\n",
    "    result = json.load(io)\n",
    "    print(result)\n",
    "except:\n",
    "    print(r)"
   ]
  },
  {
   "cell_type": "code",
   "execution_count": null,
   "metadata": {
    "collapsed": true
   },
   "outputs": [],
   "source": [
    "# EditOperations\n",
    "params = [\n",
    "    {\n",
    "        \"id\":'null',\n",
    "        \"operationType\": 'serviceoperation',\n",
    "        \"officeId\": 3,\n",
    "        \"sessionId\": 3,\n",
    "        \"serviceId\": 3,\n",
    "        \"startDatetime\": '11.10.2019 11:11',\n",
    "        \"finishDatetime\": '11.10.2019 12:11',\n",
    "        \"adminId\": 2,\n",
    "        \"masterId\": 3,\n",
    "        \"clientId\": 2,\n",
    "        \"cashSum\": 100,\n",
    "        \"cashlessSum\": 100,\n",
    "        \"discountSum\": 100,\n",
    "        \"clientRating\": 10,\n",
    "        \"review\": 'Отзыв клиента',\n",
    "        \"comment\": 'Комментарий'\n",
    "    },\n",
    "    {\n",
    "        \"id\":'null',\n",
    "        \"operationType\": 'goodsoperation',\n",
    "        \"officeId\": 3,\n",
    "        \"sessionId\": 3,\n",
    "        \"goodsIds\": [1,2,3],\n",
    "        \"datetime\": '11.10.2019 12:11',\n",
    "        \"adminId\": 1,\n",
    "        \"masterId\": 4,\n",
    "        \"clientId\": 1,\n",
    "        \"cashSum\": 100,\n",
    "        \"cashlessSum\": 100,\n",
    "        \"discountSum\": 100,\n",
    "        \"comment\": 'Комментарий'\n",
    "    },\n",
    "    {\n",
    "        \"id\":'null',\n",
    "        \"operationType\": 'spendoperation',\n",
    "        \"officeId\": 3,\n",
    "        \"sessionId\": 3,\n",
    "        \"expenseTypeId\": 3,\n",
    "        \"datetime\": '11.10.2019 12:11',\n",
    "        \"sum\": 500,\n",
    "        \"comment\": 'Комментарий'\n",
    "    },\n",
    "    {\n",
    "        \"id\":'null',\n",
    "        \"operationType\": 'employeePayment',\n",
    "        \"officeId\": 3,\n",
    "        \"sessionId\": 3,\n",
    "        \"employeeId\": 3,\n",
    "        \"employeePaymentTypeId\": 1,\n",
    "        \"datetime\": '11.10.2019 12:11',\n",
    "        \"sum\": 1000,\n",
    "        \"comment\": 'Комментарий'\n",
    "    }\n",
    "]\n",
    "\n",
    "r = requests.post(base_url + 'EditOperations/', json = params)\n",
    "\n",
    "try:\n",
    "    io = StringIO(r.text)\n",
    "    result = json.load(io)\n",
    "    print(result)\n",
    "except:\n",
    "    print(r)"
   ]
  },
  {
   "cell_type": "code",
   "execution_count": null,
   "metadata": {
    "collapsed": true
   },
   "outputs": [],
   "source": [
    "# EditEmployee\n",
    "params = {\"id\":1,\n",
    "          \"name\":\"Иванов Диего Михайлович\",\n",
    "          \"roles\":[\"officeAdmin\"],\n",
    "          \"salary\":100000,\n",
    "          \"servicePercent\":0.1,\n",
    "          \"goodsPercent\":0.1,\n",
    "          \"categoryId\":2,\n",
    "          \"state\":\"active\",\n",
    "          \"clientRating\":None,\n",
    "          \"controlRating\":None,\n",
    "          \"login\":\"login\",\n",
    "          \"password\":\"password\",\n",
    "          \"contacts\":None,\n",
    "          \"photo\":None}\n",
    "\n",
    "r = requests.post(base_url + 'EditEmployee/', json = params)\n",
    "\n",
    "try:\n",
    "    io = StringIO(r.text)\n",
    "    result = json.load(io)\n",
    "    print(result)\n",
    "except:\n",
    "    print(r)"
   ]
  },
  {
   "cell_type": "code",
   "execution_count": null,
   "metadata": {
    "collapsed": true
   },
   "outputs": [],
   "source": [
    "# EditBarberCategory\n",
    "params = { 'id':1,\n",
    "'name':'Иисус-мастер',\n",
    "'state':'active'}\n",
    "\n",
    "r = requests.post(base_url + 'EditBarberCategory/', json = params)\n",
    "\n",
    "try:\n",
    "    io = StringIO(r.text)\n",
    "    result = json.load(io)\n",
    "    print(result)\n",
    "except:\n",
    "    print(r)"
   ]
  },
  {
   "cell_type": "code",
   "execution_count": null,
   "metadata": {
    "collapsed": true
   },
   "outputs": [],
   "source": [
    "# EditEmployeePaymentType\n",
    "params = { 'id':3,\n",
    "'name':'Похвала красаве',\n",
    "'defaultSum':500000,\n",
    "'state':'active'}\n",
    "\n",
    "r = requests.post(base_url + 'EditEmployeePaymentType/', json = params)\n",
    "\n",
    "try:\n",
    "    io = StringIO(r.text)\n",
    "    result = json.load(io)\n",
    "    print(result)\n",
    "except:\n",
    "    print(r)"
   ]
  },
  {
   "cell_type": "code",
   "execution_count": null,
   "metadata": {
    "collapsed": true
   },
   "outputs": [],
   "source": [
    "# EditGood\n",
    "params = [{ 'id':'null',\n",
    "'name':'Еще шампунь',\n",
    "'price':1500.00,\n",
    "'state':'active'},\n",
    "{ 'id':'null',\n",
    "'name':'Еще Кока-кола',\n",
    "'price':1000.00,\n",
    "'state':'active'}]\n",
    "\n",
    "r = requests.post(base_url + 'EditGood/', json = params)\n",
    "\n",
    "try:\n",
    "    io = StringIO(r.text)\n",
    "    result = json.load(io)\n",
    "    print(result)\n",
    "except:\n",
    "    print(r)"
   ]
  },
  {
   "cell_type": "code",
   "execution_count": null,
   "metadata": {
    "collapsed": true
   },
   "outputs": [],
   "source": [
    "# EditService\n",
    "params = { 'id':'null',\n",
    "'name':'Стрижка для цисгендера',\n",
    "'prices': [{'category':1,'price':5000.00},{'category':2,'price':6000.00},{'category':3,'price':7000.00},{'category':4,'price':8000.00}],\n",
    "'state':'active'}\n",
    "\n",
    "r = requests.post(base_url + 'EditService/', json = params)\n",
    "\n",
    "try:\n",
    "    io = StringIO(r.text)\n",
    "    result = json.load(io)\n",
    "    print(result)\n",
    "except:\n",
    "    print(r)"
   ]
  },
  {
   "cell_type": "code",
   "execution_count": 2,
   "metadata": {},
   "outputs": [
    {
     "name": "stdout",
     "output_type": "stream",
     "text": [
      "{'id': 1, 'name': 'Стрижка мужская', 'state': 'active', 'prices': [{'price': '1000', 'category': 1}, {'price': '1000', 'category': 2}, {'price': '30000', 'category': 3}]}\n"
     ]
    }
   ],
   "source": [
    "# GetService\n",
    "\n",
    "params = {'id': 1}\n",
    "\n",
    "r = requests.post(base_url + 'GetService/', json = params)\n",
    "\n",
    "try:\n",
    "    io = StringIO(r.text)\n",
    "    result = json.load(io)\n",
    "    print(result)\n",
    "except:\n",
    "    print(r)"
   ]
  },
  {
   "cell_type": "code",
   "execution_count": null,
   "metadata": {
    "collapsed": true
   },
   "outputs": [],
   "source": [
    "# EditSpendType\n",
    "\n",
    "params = { 'id':4,\n",
    "'name':'Сигареты админу',\n",
    "'defaultSum':500000,\n",
    "'state':'active'}\n",
    "\n",
    "\n",
    "r = requests.post(base_url + 'EditSpendType/', json = params)\n",
    "\n",
    "try:\n",
    "    io = StringIO(r.text)\n",
    "    result = json.load(io)\n",
    "    print(result)\n",
    "except:\n",
    "    display(HTML(r.text))"
   ]
  }
 ],
 "metadata": {
  "kernelspec": {
   "display_name": "Python 3",
   "language": "python",
   "name": "python3"
  },
  "language_info": {
   "codemirror_mode": {
    "name": "ipython",
    "version": 3
   },
   "file_extension": ".py",
   "mimetype": "text/x-python",
   "name": "python",
   "nbconvert_exporter": "python",
   "pygments_lexer": "ipython3",
   "version": "3.6.8"
  }
 },
 "nbformat": 4,
 "nbformat_minor": 2
}
