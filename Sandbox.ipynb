{
 "cells": [
  {
   "cell_type": "code",
   "execution_count": 1,
   "metadata": {
    "scrolled": true
   },
   "outputs": [
    {
     "data": {
      "text/plain": [
       "{'_id': '5d6f6cde1a578fae725bdda2',\n",
       " 'domain': 'lifeproof-store.ru',\n",
       " 'projectId': 2637865,\n",
       " 'service': 'SERM',\n",
       " 'status': 'active',\n",
       " 'strategy': 'Максимум трафика'}"
      ]
     },
     "execution_count": 1,
     "metadata": {},
     "output_type": "execute_result"
    }
   ],
   "source": [
    "from backend_logic import *\n",
    "import pandas as pd\n",
    "\n",
    "getProject(\"2637865\")"
   ]
  },
  {
   "cell_type": "code",
   "execution_count": null,
   "metadata": {
    "collapsed": true
   },
   "outputs": [],
   "source": [
    "projects_df = pd.read_excel('projects.xlsx')\n",
    "projects = projects_df.to_dict('records')\n",
    "projects"
   ]
  },
  {
   "cell_type": "code",
   "execution_count": null,
   "metadata": {
    "collapsed": true
   },
   "outputs": [],
   "source": [
    "client = MongoClient('mongodb://192.168.10.77:27017/')\n",
    "db = client.Offers\n",
    "collection = db.apraProject\n",
    "for project in projects:\n",
    "#     collection.insert_one(project)"
   ]
  }
 ],
 "metadata": {
  "kernelspec": {
   "display_name": "Python 3",
   "language": "python",
   "name": "python3"
  },
  "language_info": {
   "codemirror_mode": {
    "name": "ipython",
    "version": 3
   },
   "file_extension": ".py",
   "mimetype": "text/x-python",
   "name": "python",
   "nbconvert_exporter": "python",
   "pygments_lexer": "ipython3",
   "version": "3.6.0"
  }
 },
 "nbformat": 4,
 "nbformat_minor": 2
}
