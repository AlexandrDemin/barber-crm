{
 "cells": [
  {
   "cell_type": "code",
   "execution_count": 4,
   "metadata": {},
   "outputs": [
    {
     "name": "stdout",
     "output_type": "stream",
     "text": [
      "success\n"
     ]
    }
   ],
   "source": [
    "import psycopg2\n",
    "conn = psycopg2.connect(host='localhost',database='barbers', user='postgres', password='postgres')\n",
    "conn.autocommit = True\n",
    "cur = conn.cursor()\n",
    "\n",
    "query0 = \"\"\"\n",
    "ALTER TABLE goodsoperation\n",
    "DROP COLUMN \"masterId\",\n",
    "DROP COLUMN \"masterBonusSum\";\n",
    "\"\"\"\n",
    "\n",
    "query1 = \"\"\"\n",
    "ALTER TABLE goodsoperation\n",
    "ADD COLUMN \"employeeBonusSum\" FLOAT(2),\n",
    "ADD COLUMN \"employeeId\" INT;\n",
    "\"\"\"\n",
    "\n",
    "query2 = \"\"\"\n",
    "SELECT\n",
    "   COLUMN_NAME\n",
    "FROM\n",
    "   information_schema.COLUMNS\n",
    "WHERE\n",
    "   TABLE_NAME = 'goodsoperation'\n",
    "\"\"\"\n",
    "\n",
    "query3 = \"\"\"\n",
    "truncate table goodsoperation\n",
    "\"\"\"\n",
    "\n",
    "query4 = \"\"\"\n",
    "select * from goodsoperation\n",
    "\"\"\"\n",
    "\n",
    "cur.execute(query1)\n",
    "# rows = cur.fetchall()\n",
    "# for row in rows:\n",
    "#     print (row)\n",
    "cur.close()\n",
    "conn.close()\n",
    "print('success')"
   ]
  },
  {
   "cell_type": "code",
   "execution_count": 2,
   "metadata": {},
   "outputs": [
    {
     "data": {
      "text/plain": [
       "dict"
      ]
     },
     "execution_count": 2,
     "metadata": {},
     "output_type": "execute_result"
    }
   ],
   "source": [
    "import json\n",
    "a = \"{\\\"id\\\": 36}\"\n",
    "loaded = json.loads(a)\n",
    "type(loaded)"
   ]
  }
 ],
 "metadata": {
  "kernelspec": {
   "display_name": "Python 3",
   "language": "python",
   "name": "python3"
  },
  "language_info": {
   "codemirror_mode": {
    "name": "ipython",
    "version": 3
   },
   "file_extension": ".py",
   "mimetype": "text/x-python",
   "name": "python",
   "nbconvert_exporter": "python",
   "pygments_lexer": "ipython3",
   "version": "3.6.0"
  }
 },
 "nbformat": 4,
 "nbformat_minor": 2
}
