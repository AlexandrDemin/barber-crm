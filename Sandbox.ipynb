{
 "cells": [
  {
   "cell_type": "code",
   "execution_count": null,
   "metadata": {
    "scrolled": true
   },
   "outputs": [],
   "source": [
    "from backend_logic import *\n",
    "import pandas as pd\n",
    "\n",
    "getProject(\"2637865\")"
   ]
  },
  {
   "cell_type": "code",
   "execution_count": null,
   "metadata": {},
   "outputs": [],
   "source": [
    "from backend_logic import *\n",
    "\n",
    "# СЯ\n",
    "getSemCore('123.ru')"
   ]
  },
  {
   "cell_type": "code",
   "execution_count": 2,
   "metadata": {},
   "outputs": [
    {
     "data": {
      "text/plain": [
       "'{\"jsonrpc\":\"2.0\",\"error\":{\"message\":\"Exception: Invalid request: InternalServerError\",\"code\":-2146233088,\"stacktrace\":\"   at NewTeRec.JrpcWrapper.Controllers.NewTeRecService.Analyze(String url, String[] queries) in D:\\\\\\\\code\\\\\\\\POC\\\\\\\\NewTeRec.JrpcWrapper\\\\\\\\NewTeRec.JrpcWrapper\\\\\\\\Controllers\\\\\\\\NewTeRecService.cs:line 27\\\\r\\\\n   at lambda_method(Closure , Object , JToken , CancellationTokenSource )\\\\r\\\\n   at JRPC.Service.MethodInvoker.Invoke(Object instance, JToken parameters, CancellationTokenSource cancellationTokenSource)\\\\r\\\\n   at JRPC.Service.JRpcModule.<get_ProcessJRpcRequest>b__15_0(JRpcRequest request, JRpcServerTraceInfo traceInfo, JRpcRequestSettings requestSettings)\\\\r\\\\n\\\\r\\\\n<---- handled by Module [NewTeRecService] built at 1936-11-23 19:56:24, analyze\"}}'"
      ]
     },
     "execution_count": 2,
     "metadata": {},
     "output_type": "execute_result"
    }
   ],
   "source": [
    "from backend_logic import *\n",
    "\n",
    "# Терек\n",
    "getTerec('http://123.ru', ['123.ru', 'купить комп'])"
   ]
  },
  {
   "cell_type": "code",
   "execution_count": null,
   "metadata": {},
   "outputs": [],
   "source": [
    "from backend_logic import *\n",
    "\n",
    "# Мета-теги\n",
    "domain = '123.ru'\n",
    "queries = [\n",
    "    {\n",
    "        \"Query\":\"Видеостена\",\n",
    "        \"Url\":\"https://www.123.ru/audio-video_i_tv/televizori/brand-nec/_art80245033/\",\n",
    "        \"RegionId\":225\n",
    "    }\n",
    "]\n",
    "\n",
    "getMetatags(domain, queries)"
   ]
  },
  {
   "cell_type": "code",
   "execution_count": null,
   "metadata": {},
   "outputs": [],
   "source": [
    "from backend_logic import *\n",
    "\n",
    "# Прогноз трафика\n",
    "getTrafficForecast([12,120,1200,4,5,6,7], 5)"
   ]
  },
  {
   "cell_type": "code",
   "execution_count": null,
   "metadata": {},
   "outputs": [],
   "source": [
    "from backend_logic import *\n",
    "\n",
    "# Прогноз срока вывода в топ\n",
    "getTopTimeForecast(['test1','test4','test3','test2'])"
   ]
  },
  {
   "cell_type": "code",
   "execution_count": null,
   "metadata": {},
   "outputs": [],
   "source": [
    "from backend_logic import *\n",
    "\n",
    "# Прогноз конверсии\n",
    "getConversionForecast([\"дешевые карнизы купить\",\"карнизы цена\",\"карнизы стоимость\",\"шторы и карнизы от производителя\"])"
   ]
  },
  {
   "cell_type": "code",
   "execution_count": null,
   "metadata": {},
   "outputs": [],
   "source": [
    "from backend_logic import *\n",
    "\n",
    "# Генерация текстов объявлений\n",
    "getAdTexts(\"dodopizza.ru\", [\n",
    "               {\n",
    "                   \"QueryCleanForm\": \"пицца пепперони\",\n",
    "                   \"QueryNormalWords\": [\n",
    "                       \"пицца\",\n",
    "                       \"пепперони\"\n",
    "                   ],\n",
    "                   \"Url\": \"https://dodopizza.ru/\",\n",
    "                   'NeedGenerateText': True\n",
    "               }\n",
    "           ])"
   ]
  },
  {
   "cell_type": "code",
   "execution_count": 15,
   "metadata": {
    "scrolled": true
   },
   "outputs": [
    {
     "data": {
      "text/plain": [
       "[{'contextOfferHref': 'http://192.168.10.55:9004/CommerceOffer/CommerceOffer?siteId=208826&domain=sintec-masla.ru&service=Стратегия&projectId=2637866&strategy=Максимум трафика',\n",
       "  'domain': 'sintec-masla.ru',\n",
       "  'projectId': 2637866,\n",
       "  'seoOfferHref': 'http://192.168.10.55:1235/Offers/offer/5d6935567e76801af86374b0/keywords?domain=sintec-masla.ru&service=Стратегия&projectId=2637866&strategy=Максимум трафика',\n",
       "  'service': 'Стратегия',\n",
       "  'status': 'active',\n",
       "  'strategy': 'Максимум трафика',\n",
       "  'tools': '[\\n    \"seooffer\",\\n    \"semcore\",\\n    \"contextoffer\",\\n    \"terec\",\\n    \"metatags\",\\n    \"trafficforecast\",\\n    \"timetotopforecast\",\\n    \"conversionforecast\",\\n    \"textgeneration\",\\n    \"tonalityforecast\",\\n    \"clientreport\",\\n    \"siteaudit\",\\n    \"filterrivals\",\\n    \"socialseo\"\\n]'},\n",
       " {'contextOfferHref': 'http://192.168.10.55:9004/CommerceOffer/CommerceOffer?siteId=208826&domain=spaonegin.ru&service=SEO Трафик (СТ)&projectId=2638406&strategy=Максимум трафика',\n",
       "  'domain': 'spaonegin.ru',\n",
       "  'projectId': 2638406,\n",
       "  'seoOfferHref': 'http://192.168.10.55:1235/Offers/offer/5d6935567e76801af86374b0/keywords?domain=spaonegin.ru&service=SEO Трафик (СТ)&projectId=2638406&strategy=Максимум трафика',\n",
       "  'service': 'SEO Трафик (СТ)',\n",
       "  'status': 'active',\n",
       "  'strategy': 'Максимум трафика',\n",
       "  'tools': '[\\n    \"seooffer\",\\n    \"semcore\",\\n    \"terec\",\\n    \"metatags\",\\n    \"trafficforecast\",\\n    \"timetotopforecast\",\\n    \"conversionforecast\",\\n    \"textgeneration\",\\n    \"siteaudit\",\\n    \"filterrivals\"\\n]'},\n",
       " {'contextOfferHref': 'http://192.168.10.55:9004/CommerceOffer/CommerceOffer?siteId=208826&domain=americanlg.ru&service=Актив Трафик (АТ)&projectId=2638389&strategy=Максимум трафика',\n",
       "  'domain': 'americanlg.ru',\n",
       "  'projectId': 2638389,\n",
       "  'seoOfferHref': 'http://192.168.10.55:1235/Offers/offer/5d6935567e76801af86374b0/keywords?domain=americanlg.ru&service=Актив Трафик (АТ)&projectId=2638389&strategy=Максимум трафика',\n",
       "  'service': 'Актив Трафик (АТ)',\n",
       "  'status': 'active',\n",
       "  'strategy': 'Максимум трафика',\n",
       "  'tools': '[\\n    \"semcore\",\\n    \"contextoffer\",\\n    \"trafficforecast\",\\n    \"conversionforecast\",\\n    \"textgeneration\",\\n    \"clientreport\"\\n]'},\n",
       " {'contextOfferHref': 'http://192.168.10.55:9004/CommerceOffer/CommerceOffer?siteId=208826&domain=vcgallery.ru&service=Веб-аналитика&projectId=2638381&strategy=Максимум трафика',\n",
       "  'domain': 'vcgallery.ru',\n",
       "  'projectId': 2638381,\n",
       "  'seoOfferHref': 'http://192.168.10.55:1235/Offers/offer/5d6935567e76801af86374b0/keywords?domain=vcgallery.ru&service=Веб-аналитика&projectId=2638381&strategy=Максимум трафика',\n",
       "  'service': 'Веб-аналитика',\n",
       "  'status': 'active',\n",
       "  'strategy': 'Максимум трафика',\n",
       "  'tools': '[\\n    \"seooffer\",\\n    \"semcore\",\\n    \"contextoffer\",\\n    \"terec\",\\n    \"metatags\",\\n    \"trafficforecast\",\\n    \"timetotopforecast\",\\n    \"conversionforecast\",\\n    \"textgeneration\",\\n    \"tonalityforecast\",\\n    \"clientreport\",\\n    \"siteaudit\",\\n    \"filterrivals\",\\n    \"socialseo\"\\n]'},\n",
       " {'contextOfferHref': 'http://192.168.10.55:9004/CommerceOffer/CommerceOffer?siteId=208826&domain=vcgallery.ru&service=Веб-поддержка&projectId=2638360&strategy=Максимум трафика',\n",
       "  'domain': 'vcgallery.ru',\n",
       "  'projectId': 2638360,\n",
       "  'seoOfferHref': 'http://192.168.10.55:1235/Offers/offer/5d6935567e76801af86374b0/keywords?domain=vcgallery.ru&service=Веб-поддержка&projectId=2638360&strategy=Максимум трафика',\n",
       "  'service': 'Веб-поддержка',\n",
       "  'status': 'active',\n",
       "  'strategy': 'Максимум трафика',\n",
       "  'tools': '[\\n    \"terec\",\\n    \"metatags\"\\n]'},\n",
       " {'contextOfferHref': 'http://192.168.10.55:9004/CommerceOffer/CommerceOffer?siteId=208826&domain=club60sec.ru&service=Контекстная реклама&projectId=2638355&strategy=Максимум трафика',\n",
       "  'domain': 'club60sec.ru',\n",
       "  'projectId': 2638355,\n",
       "  'seoOfferHref': 'http://192.168.10.55:1235/Offers/offer/5d6935567e76801af86374b0/keywords?domain=club60sec.ru&service=Контекстная реклама&projectId=2638355&strategy=Максимум трафика',\n",
       "  'service': 'Контекстная реклама',\n",
       "  'status': 'active',\n",
       "  'strategy': 'Максимум трафика',\n",
       "  'tools': '[\\n    \"semcore\",\\n    \"contextoffer\",\\n    \"trafficforecast\",\\n    \"conversionforecast\",\\n    \"textgeneration\",\\n    \"clientreport\"\\n]'},\n",
       " {'contextOfferHref': 'http://192.168.10.55:9004/CommerceOffer/CommerceOffer?siteId=208826&domain=granfest.ru&service=КПК&projectId=2638340&strategy=Максимум трафика',\n",
       "  'domain': 'granfest.ru',\n",
       "  'projectId': 2638340,\n",
       "  'seoOfferHref': 'http://192.168.10.55:1235/Offers/offer/5d6935567e76801af86374b0/keywords?domain=granfest.ru&service=КПК&projectId=2638340&strategy=Максимум трафика',\n",
       "  'service': 'КПК',\n",
       "  'status': 'active',\n",
       "  'strategy': 'Максимум трафика',\n",
       "  'tools': '[\\n    \"semcore\",\\n    \"contextoffer\",\\n    \"trafficforecast\",\\n    \"conversionforecast\",\\n    \"textgeneration\",\\n    \"clientreport\"\\n]'},\n",
       " {'contextOfferHref': 'http://192.168.10.55:9004/CommerceOffer/CommerceOffer?siteId=208826&domain=discountsnab.ru&service=Поисковое продвижение&projectId=2638125&strategy=Высокие позиции по ВЧ запросам',\n",
       "  'domain': 'discountsnab.ru',\n",
       "  'projectId': 2638125,\n",
       "  'seoOfferHref': 'http://192.168.10.55:1235/Offers/offer/5d6935567e76801af86374b0/keywords?domain=discountsnab.ru&service=Поисковое продвижение&projectId=2638125&strategy=Высокие позиции по ВЧ запросам',\n",
       "  'service': 'Поисковое продвижение',\n",
       "  'status': 'active',\n",
       "  'strategy': 'Высокие позиции по ВЧ запросам',\n",
       "  'tools': '[\\n    \"seooffer\",\\n    \"semcore\",\\n    \"terec\",\\n    \"metatags\",\\n    \"trafficforecast\",\\n    \"timetotopforecast\",\\n    \"conversionforecast\",\\n    \"clientreport\",\\n    \"siteaudit\",\\n    \"filterrivals\"\\n]'},\n",
       " {'contextOfferHref': 'http://192.168.10.55:9004/CommerceOffer/CommerceOffer?siteId=208826&domain=sshaped.ru&service=Продвижение в соц. сетях&projectId=2638078&strategy=Максимум трафика',\n",
       "  'domain': 'sshaped.ru',\n",
       "  'projectId': 2638078,\n",
       "  'seoOfferHref': 'http://192.168.10.55:1235/Offers/offer/5d6935567e76801af86374b0/keywords?domain=sshaped.ru&service=Продвижение в соц. сетях&projectId=2638078&strategy=Максимум трафика',\n",
       "  'service': 'Продвижение в соц. сетях',\n",
       "  'status': 'active',\n",
       "  'strategy': 'Максимум трафика',\n",
       "  'tools': '[\\n    \"seooffer\",\\n    \"semcore\",\\n    \"terec\",\\n    \"metatags\",\\n    \"trafficforecast\",\\n    \"timetotopforecast\",\\n    \"conversionforecast\",\\n    \"textgeneration\",\\n    \"tonalityforecast\",\\n    \"siteaudit\",\\n    \"filterrivals\",\\n    \"socialseo\"\\n]'},\n",
       " {'contextOfferHref': 'http://192.168.10.55:9004/CommerceOffer/CommerceOffer?siteId=208826&domain=club60sec.ru&service=Реклама в сети Интернет&projectId=2638077&strategy=Максимум трафика',\n",
       "  'domain': 'club60sec.ru',\n",
       "  'projectId': 2638077,\n",
       "  'seoOfferHref': 'http://192.168.10.55:1235/Offers/offer/5d6935567e76801af86374b0/keywords?domain=club60sec.ru&service=Реклама в сети Интернет&projectId=2638077&strategy=Максимум трафика',\n",
       "  'service': 'Реклама в сети Интернет',\n",
       "  'status': 'active',\n",
       "  'strategy': 'Максимум трафика',\n",
       "  'tools': '[\\n    \"seooffer\",\\n    \"semcore\",\\n    \"contextoffer\",\\n    \"terec\",\\n    \"metatags\",\\n    \"trafficforecast\",\\n    \"timetotopforecast\",\\n    \"conversionforecast\",\\n    \"textgeneration\",\\n    \"tonalityforecast\",\\n    \"clientreport\",\\n    \"siteaudit\",\\n    \"filterrivals\",\\n    \"socialseo\"\\n]'},\n",
       " {'contextOfferHref': 'http://192.168.10.55:9004/CommerceOffer/CommerceOffer?siteId=208826&domain=domvesta.ru&service=РК в ПС&projectId=2637872&strategy=Максимум трафика',\n",
       "  'domain': 'domvesta.ru',\n",
       "  'projectId': 2637872,\n",
       "  'seoOfferHref': 'http://192.168.10.55:1235/Offers/offer/5d6935567e76801af86374b0/keywords?domain=domvesta.ru&service=РК в ПС&projectId=2637872&strategy=Максимум трафика',\n",
       "  'service': 'РК в ПС',\n",
       "  'status': 'active',\n",
       "  'strategy': 'Максимум трафика',\n",
       "  'tools': '[\\n    \"semcore\",\\n    \"contextoffer\",\\n    \"trafficforecast\",\\n    \"conversionforecast\",\\n    \"textgeneration\",\\n    \"clientreport\"\\n]'},\n",
       " {'contextOfferHref': 'http://192.168.10.55:9004/CommerceOffer/CommerceOffer?siteId=208826&domain=lifeproof-store.ru&service=SERM&projectId=2637865&strategy=Максимум трафика',\n",
       "  'domain': 'lifeproof-store.ru',\n",
       "  'projectId': 2637865,\n",
       "  'seoOfferHref': 'http://192.168.10.55:1235/Offers/offer/5d6935567e76801af86374b0/keywords?domain=lifeproof-store.ru&service=SERM&projectId=2637865&strategy=Максимум трафика',\n",
       "  'service': 'SERM',\n",
       "  'status': 'active',\n",
       "  'strategy': 'Максимум трафика',\n",
       "  'tools': '[\\n    \"tonalityforecast\",\\n    \"clientreport\",\\n    \"socialseo\"\\n]'}]"
      ]
     },
     "execution_count": 15,
     "metadata": {},
     "output_type": "execute_result"
    }
   ],
   "source": [
    "projects_df = pd.read_excel('projects.xlsx')\n",
    "projects = projects_df.to_dict('records')\n",
    "projects"
   ]
  },
  {
   "cell_type": "code",
   "execution_count": 16,
   "metadata": {},
   "outputs": [],
   "source": [
    "import json\n",
    "client = MongoClient('mongodb://192.168.10.77:27017/')\n",
    "db = client.Offers\n",
    "collection = db.apraProject\n",
    "for project in projects:\n",
    "    project['tools'] = json.loads(project['tools'])\n",
    "    collection.insert_one(project)"
   ]
  },
  {
   "cell_type": "code",
   "execution_count": 7,
   "metadata": {},
   "outputs": [
    {
     "data": {
      "text/plain": [
       "'s'"
      ]
     },
     "execution_count": 7,
     "metadata": {},
     "output_type": "execute_result"
    }
   ],
   "source": [
    "'test'[-2:-1]"
   ]
  }
 ],
 "metadata": {
  "kernelspec": {
   "display_name": "Python 3",
   "language": "python",
   "name": "python3"
  },
  "language_info": {
   "codemirror_mode": {
    "name": "ipython",
    "version": 3
   },
   "file_extension": ".py",
   "mimetype": "text/x-python",
   "name": "python",
   "nbconvert_exporter": "python",
   "pygments_lexer": "ipython3",
   "version": "3.6.0"
  }
 },
 "nbformat": 4,
 "nbformat_minor": 2
}
