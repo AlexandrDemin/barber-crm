{
 "cells": [
  {
   "cell_type": "code",
   "execution_count": null,
   "metadata": {
    "collapsed": true,
    "scrolled": true
   },
   "outputs": [],
   "source": [
    "from backend_logic import *\n",
    "import pandas as pd\n",
    "\n",
    "getProject(\"2637865\")"
   ]
  },
  {
   "cell_type": "code",
   "execution_count": null,
   "metadata": {
    "collapsed": true
   },
   "outputs": [],
   "source": [
    "from backend_logic import *\n",
    "\n",
    "# СЯ\n",
    "getSemCore('123.ru')"
   ]
  },
  {
   "cell_type": "code",
   "execution_count": 4,
   "metadata": {},
   "outputs": [
    {
     "data": {
      "text/plain": [
       "'{\"jsonrpc\":\"2.0\",\"error\":{\"message\":\"TaskCanceledException: A task was canceled.\",\"code\":-2146233029,\"stacktrace\":\"\\\\r\\\\n\\\\r\\\\n<---- handled by Module [NewTeRecService] built at 1936-11-23 19:56:24, analyze\"}}'"
      ]
     },
     "execution_count": 4,
     "metadata": {},
     "output_type": "execute_result"
    }
   ],
   "source": [
    "from backend_logic import *\n",
    "\n",
    "site_url = 'ingate.ru'\n",
    "queries = ['хуй', 'пизда', 'залупа', 'жопа']\n",
    "\n",
    "# Терек\n",
    "getTerec(site_url, queries)"
   ]
  },
  {
   "cell_type": "code",
   "execution_count": null,
   "metadata": {
    "collapsed": true
   },
   "outputs": [],
   "source": [
    "from backend_logic import *\n",
    "\n",
    "# Мета-теги\n",
    "domain = '123.ru'\n",
    "queries = [\n",
    "    {\n",
    "        \"Query\":\"Видеостена\",\n",
    "        \"Url\":\"https://www.123.ru/audio-video_i_tv/televizori/brand-nec/_art80245033/\",\n",
    "        \"RegionId\":225\n",
    "    }\n",
    "]\n",
    "\n",
    "getMetatags(domain, queries)"
   ]
  },
  {
   "cell_type": "code",
   "execution_count": null,
   "metadata": {
    "collapsed": true
   },
   "outputs": [],
   "source": [
    "from backend_logic import *\n",
    "\n",
    "# Прогноз трафика\n",
    "getTrafficForecast([12,120,1200,4,5,6,7], 5)"
   ]
  },
  {
   "cell_type": "code",
   "execution_count": null,
   "metadata": {
    "collapsed": true
   },
   "outputs": [],
   "source": [
    "from backend_logic import *\n",
    "\n",
    "# Прогноз срока вывода в топ\n",
    "getTopTimeForecast(['test1','test4','test3','test2'])"
   ]
  },
  {
   "cell_type": "code",
   "execution_count": null,
   "metadata": {
    "collapsed": true
   },
   "outputs": [],
   "source": [
    "from backend_logic import *\n",
    "\n",
    "# Прогноз конверсии\n",
    "getConversionForecast([\"дешевые карнизы купить\",\"карнизы цена\",\"карнизы стоимость\",\"шторы и карнизы от производителя\"])"
   ]
  },
  {
   "cell_type": "code",
   "execution_count": null,
   "metadata": {
    "collapsed": true
   },
   "outputs": [],
   "source": [
    "from backend_logic import *\n",
    "\n",
    "# Генерация текстов объявлений\n",
    "getAdTexts(\"dodopizza.ru\", [\n",
    "               {\n",
    "                   \"QueryCleanForm\": \"пицца пепперони\",\n",
    "                   \"QueryNormalWords\": [\n",
    "                       \"пицца\",\n",
    "                       \"пепперони\"\n",
    "                   ],\n",
    "                   \"Url\": \"https://dodopizza.ru/\",\n",
    "                   'NeedGenerateText': True\n",
    "               }\n",
    "           ])"
   ]
  },
  {
   "cell_type": "code",
   "execution_count": null,
   "metadata": {
    "scrolled": true
   },
   "outputs": [],
   "source": [
    "projects_df = pd.read_excel('projects.xlsx')\n",
    "projects = projects_df.to_dict('records')\n",
    "projects"
   ]
  },
  {
   "cell_type": "code",
   "execution_count": null,
   "metadata": {
    "collapsed": true
   },
   "outputs": [],
   "source": [
    "import json\n",
    "client = MongoClient('mongodb://192.168.10.77:27017/')\n",
    "db = client.Offers\n",
    "collection = db.apraProject\n",
    "for project in projects:\n",
    "    project['tools'] = json.loads(project['tools'])\n",
    "    collection.insert_one(project)"
   ]
  },
  {
   "cell_type": "code",
   "execution_count": 9,
   "metadata": {},
   "outputs": [
    {
     "data": {
      "text/plain": [
       "'05184799554921116'"
      ]
     },
     "execution_count": 9,
     "metadata": {},
     "output_type": "execute_result"
    }
   ],
   "source": [
    "import random\n",
    "str(random.random())[2:]"
   ]
  }
 ],
 "metadata": {
  "kernelspec": {
   "display_name": "Python 3",
   "language": "python",
   "name": "python3"
  },
  "language_info": {
   "codemirror_mode": {
    "name": "ipython",
    "version": 3
   },
   "file_extension": ".py",
   "mimetype": "text/x-python",
   "name": "python",
   "nbconvert_exporter": "python",
   "pygments_lexer": "ipython3",
   "version": "3.6.0"
  }
 },
 "nbformat": 4,
 "nbformat_minor": 2
}
