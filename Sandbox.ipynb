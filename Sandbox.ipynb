{
 "cells": [
  {
   "cell_type": "code",
   "execution_count": 4,
   "metadata": {},
   "outputs": [
    {
     "name": "stdout",
     "output_type": "stream",
     "text": [
      "(4, 1, datetime.datetime(2019, 10, 11, 9, 0), datetime.datetime(2019, 10, 11, 23, 0), 'closed', [{'userId': 3, 'starttime': '10:00', 'endtime': '18:00'}, {'userId': 4, 'starttime': '14:00', 'endtime': '22:00'}, {'userId': 1, 'starttime': '09:00', 'endtime': '23:00'}], 20000.0, 30000.0, 10000.0, 10000.0, 20000.0, 5000.0, 15000.0)\n",
      "(17, 2, datetime.datetime(2019, 10, 30, 20, 32), datetime.datetime(2019, 10, 30, 22, 57, 52, 164000), 'closed', [{'id': 7, 'role': 'officeAdmin', 'workHours': 6}, {'id': 4, 'role': 'master', 'workHours': 6}, {'id': 3, 'role': 'master', 'workHours': 6}], 0.0, None, None, None, None, None, None)\n",
      "(18, 3, datetime.datetime(2019, 10, 30, 22, 59), datetime.datetime(2019, 10, 30, 23, 6, 39, 462000), 'closed', [{'id': 7, 'role': 'officeAdmin', 'workHours': 6}, {'id': 4, 'role': 'master', 'workHours': 6}], 0.0, None, None, None, None, None, None)\n",
      "(3, 1, datetime.datetime(2019, 9, 29, 10, 10), datetime.datetime(2019, 10, 20, 20, 15, 21, 575000), 'closed', [{'id': 1, 'role': 'officeAdmin', 'workHours': 6}, {'id': 4, 'role': 'master', 'workHours': 6}], 20000.0, None, None, None, None, None, None)\n",
      "(2, 2, datetime.datetime(2019, 10, 20, 0, 0), datetime.datetime(2019, 10, 20, 0, 0), 'closed', [{'id': 1, 'role': 'officeAdmin', 'workHours': 6}, {'id': 4, 'role': 'master', 'workHours': 6}], 0.0, None, None, None, None, None, None)\n",
      "(19, 3, datetime.datetime(2019, 10, 30, 23, 8), datetime.datetime(2019, 10, 30, 23, 8, 46, 841000), 'closed', [{'id': 7, 'role': 'officeAdmin', 'workHours': 6}, {'id': 4, 'role': 'master', 'workHours': 6}], 0.0, None, None, None, None, None, None)\n",
      "(8, 3, datetime.datetime(2019, 10, 22, 14, 26), datetime.datetime(2019, 10, 22, 21, 15, 26, 734000), 'closed', [{'id': 6, 'role': 'officeAdmin', 'workHours': 6}, {'id': 4, 'role': 'master', 'workHours': 6}, {'id': 6, 'role': 'officeAdmin', 'workHours': 6}], 0.0, None, None, None, None, None, None)\n",
      "(9, 3, datetime.datetime(2019, 10, 22, 18, 25), datetime.datetime(2019, 10, 22, 21, 28, 57, 729000), 'closed', [{'id': 6, 'role': 'officeAdmin', 'workHours': 6}, {'id': 4, 'role': 'master', 'workHours': 6}], 0.0, None, None, None, None, None, None)\n",
      "(6, 2, datetime.datetime(2019, 10, 20, 17, 22), datetime.datetime(2019, 10, 22, 21, 34, 51, 525000), 'closed', [{'id': 1, 'role': 'officeAdmin', 'workHours': 6}, {'id': 4, 'role': 'master', 'workHours': 6}], 0.0, None, None, None, None, None, None)\n",
      "(7, 2, datetime.datetime(2019, 10, 20, 14, 25), datetime.datetime(2019, 10, 22, 22, 2, 30, 817000), 'closed', [{'id': 6, 'role': 'officeAdmin', 'workHours': 6}, {'id': 4, 'role': 'master', 'workHours': 6}], 0.0, None, None, None, None, None, None)\n",
      "(10, 3, datetime.datetime(2019, 10, 23, 18, 12), datetime.datetime(2019, 10, 23, 22, 15, 45, 801000), 'closed', [{'id': 6, 'role': 'officeAdmin', 'workHours': 6}, {'id': 4, 'role': 'master', 'workHours': 6}], 0.0, None, None, None, None, None, None)\n",
      "(11, 1, datetime.datetime(2019, 10, 24, 18, 28), datetime.datetime(2019, 10, 24, 22, 1, 43, 859000), 'closed', [{'id': 6, 'role': 'officeAdmin', 'workHours': 6}, {'id': 4, 'role': 'master', 'workHours': 6}], 0.0, None, None, None, None, None, None)\n",
      "(12, 3, datetime.datetime(2019, 10, 26, 17, 52), datetime.datetime(2019, 10, 26, 22, 40, 56, 384000), 'closed', [{'id': 6, 'role': 'officeAdmin', 'workHours': 6}, {'id': 4, 'role': 'master', 'workHours': 6}], 0.0, None, None, None, None, None, None)\n",
      "(13, 3, datetime.datetime(2019, 10, 27, 7, 34), datetime.datetime(2019, 10, 27, 22, 49, 38, 519000), 'closed', [{'id': 6, 'role': 'officeAdmin', 'workHours': 6}, {'id': 4, 'role': 'master', 'workHours': 6}], 0.0, None, None, None, None, None, None)\n",
      "(14, 3, datetime.datetime(2019, 10, 28, 20, 45), datetime.datetime(2019, 10, 28, 23, 31, 44, 720000), 'closed', [{'id': 5, 'role': 'officeAdmin', 'workHours': 6}, {'id': 3, 'role': 'master', 'workHours': 6}], 0.0, None, None, None, None, None, None)\n",
      "(20, 2, datetime.datetime(2019, 11, 2, 9, 46), datetime.datetime(2019, 11, 2, 9, 48, 33, 154000), 'closed', [{'id': 7, 'role': 'officeAdmin', 'workHours': 6}, {'id': 4, 'role': 'master', 'workHours': 6}], 0.0, None, None, None, None, None, None)\n",
      "(1, 1, datetime.datetime(2018, 12, 30, 9, 0), datetime.datetime(2019, 10, 29, 14, 16, 34), 'closed', [{'userId': 3, 'starttime': '10:00', 'endtime': '18:00'}, {'userId': 4, 'starttime': '14:00', 'endtime': '22:00'}, {'userId': 1, 'starttime': '09:00', 'endtime': '23:00'}], 20000.0, 30000.0, 10000.0, 10000.0, 20000.0, 5000.0, 15000.0)\n",
      "(15, 1, datetime.datetime(2019, 10, 29, 20, 39), datetime.datetime(2019, 10, 29, 23, 15, 31, 678000), 'closed', [{'id': 5, 'role': 'officeAdmin', 'workHours': 6}, {'id': 3, 'role': 'master', 'workHours': 6}], 0.0, None, None, None, None, None, None)\n",
      "(16, 3, datetime.datetime(2019, 10, 29, 23, 21), datetime.datetime(2019, 10, 29, 23, 21, 25, 864000), 'closed', [{'id': 7, 'role': 'officeAdmin', 'workHours': 6}, {'id': 4, 'role': 'master', 'workHours': 6}], 0.0, None, None, None, None, None, None)\n",
      "(21, 2, datetime.datetime(2019, 11, 2, 11, 40), datetime.datetime(2019, 11, 2, 11, 41, 27, 562000), 'closed', [{'id': 4, 'role': 'master', 'workHours': 6}, {'id': 7, 'role': 'officeAdmin', 'workHours': 6}], 0.0, None, None, None, None, None, None)\n",
      "(23, 2, datetime.datetime(2019, 11, 2, 23, 27), datetime.datetime(2019, 11, 3, 16, 16, 11, 383000), 'closed', [{'id': 5, 'role': 'officeAdmin', 'workHours': 6}, {'id': 4, 'role': 'master', 'workHours': 6}], 0.0, None, None, None, None, None, None)\n",
      "(22, 3, datetime.datetime(2019, 11, 2, 13, 56), datetime.datetime(2019, 11, 4, 11, 8, 59, 84000), 'closed', [{'id': 5, 'role': 'officeAdmin', 'workHours': 6}, {'id': 4, 'role': 'master', 'workHours': 6}, {'id': 3, 'role': 'master', 'workHours': 6}], 0.0, None, None, None, None, None, None)\n",
      "success\n"
     ]
    }
   ],
   "source": [
    "import psycopg2\n",
    "conn = psycopg2.connect(host='localhost',database='barbers', user='postgres', password='postgres')\n",
    "conn.autocommit = True\n",
    "cur = conn.cursor()\n",
    "\n",
    "query0 = \"\"\"\n",
    "ALTER TABLE goodsoperation\n",
    "DROP COLUMN \"masterId\",\n",
    "DROP COLUMN \"masterBonusSum\";\n",
    "\"\"\"\n",
    "\n",
    "query1 = \"\"\"\n",
    "ALTER TABLE goodsoperation\n",
    "ADD COLUMN \"employeeBonusSum\" FLOAT(2),\n",
    "ADD COLUMN \"employeeId\" INT;\n",
    "\"\"\"\n",
    "\n",
    "query2 = \"\"\"\n",
    "SELECT\n",
    "   COLUMN_NAME\n",
    "FROM\n",
    "   information_schema.COLUMNS\n",
    "WHERE\n",
    "   TABLE_NAME = 'employeepaymenttype'\n",
    "\"\"\"\n",
    "\n",
    "query3 = \"\"\"\n",
    "truncate table goodsoperation\n",
    "\"\"\"\n",
    "\n",
    "query4 = \"\"\"\n",
    "select * from session\n",
    "\"\"\"\n",
    "\n",
    "cur.execute(query4)\n",
    "rows = cur.fetchall()\n",
    "for row in rows:\n",
    "    print (row)\n",
    "cur.close()\n",
    "conn.close()\n",
    "print('success')"
   ]
  },
  {
   "cell_type": "code",
   "execution_count": 2,
   "metadata": {},
   "outputs": [
    {
     "data": {
      "text/plain": [
       "dict"
      ]
     },
     "execution_count": 2,
     "metadata": {},
     "output_type": "execute_result"
    }
   ],
   "source": [
    "import json\n",
    "a = \"{\\\"id\\\": 36}\"\n",
    "loaded = json.loads(a)\n",
    "type(loaded)"
   ]
  }
 ],
 "metadata": {
  "kernelspec": {
   "display_name": "Python 3",
   "language": "python",
   "name": "python3"
  },
  "language_info": {
   "codemirror_mode": {
    "name": "ipython",
    "version": 3
   },
   "file_extension": ".py",
   "mimetype": "text/x-python",
   "name": "python",
   "nbconvert_exporter": "python",
   "pygments_lexer": "ipython3",
   "version": "3.6.0"
  }
 },
 "nbformat": 4,
 "nbformat_minor": 2
}
