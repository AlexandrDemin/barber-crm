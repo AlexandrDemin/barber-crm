{
 "cells": [
  {
   "cell_type": "code",
   "execution_count": null,
   "metadata": {
    "scrolled": true
   },
   "outputs": [],
   "source": [
    "from clickhouse_driver import Client\n",
    "import io\n",
    "import pandas as pd\n",
    "import numpy as np\n",
    "from pymongo import MongoClient\n",
    "from bson.objectid import ObjectId\n",
    "import datetime\n",
    "import psycopg2\n",
    "import requests\n",
    "import json\n",
    "import time\n",
    "from requests_futures.sessions import FuturesSession\n",
    "from backend_logic import *\n",
    "session = FuturesSession()\n",
    "\n",
    "offerid = '5d56807f7e76808f64a3b555'\n",
    "maxRivalsCount = 12\n",
    "sqiDiffCoef = 100\n",
    "maxPos = 10\n",
    "minCountInSerm = 6\n",
    "\n",
    "keywords, rivals, startDate, keywordsStr, regionsStr, regions = getRivalsAndData(offerid, maxRivalsCount, sqiDiffCoef, maxPos, minCountInSerm)"
   ]
  },
  {
   "cell_type": "code",
   "execution_count": 23,
   "metadata": {},
   "outputs": [
    {
     "name": "stdout",
     "output_type": "stream",
     "text": [
      "_id\n",
      "keywords\n",
      "rivals\n",
      "startDate\n",
      "keywordsStr\n",
      "regionsStr\n",
      "regions\n",
      "offerid\n",
      "keywordsWithData\n",
      "keywordsToRemove\n",
      "minKeywordRivals\n",
      "notRivals\n"
     ]
    }
   ],
   "source": [
    "from backend_logic import *\n",
    "offerid = '5d56807f7e76808f64a3b555'\n",
    "for key in getFilterRivalsObjectByOfferId(offerid):\n",
    "    print(key)"
   ]
  },
  {
   "cell_type": "code",
   "execution_count": null,
   "metadata": {
    "scrolled": true
   },
   "outputs": [],
   "source": [
    "all_keywords, notRivals = getKeywordsRivals(keywords, rivals, maxPos, startDate, keywordsStr, regionsStr, regions, minCountInSerm)\n",
    "all_keywords"
   ]
  },
  {
   "cell_type": "code",
   "execution_count": null,
   "metadata": {},
   "outputs": [],
   "source": [
    "minKeywordRivals = 2\n",
    "keywordsToDelete = getKeywordsToRemove(all_keywords, minKeywordRivals, regions)\n",
    "keywordsToDelete"
   ]
  },
  {
   "cell_type": "code",
   "execution_count": null,
   "metadata": {},
   "outputs": [],
   "source": [
    "filename = 'Rivals ' + offerid + ' ' + 'manual' + '.xlsx'\n",
    "info = [{\n",
    "    'Id КП': offerid,\n",
    "    'Макс. кол-во конкурентов': maxRivalsCount,\n",
    "    'Макс. отклонение ИКС': sqiDiffCoef,\n",
    "    'Макс. позиция для поиска конкурентов': maxPos,\n",
    "    'Мин. кол-во раз, сколько сайт должен встречаться в выдаче, чтобы считаться конкурентом': minCountInSerm,\n",
    "    'Мин. кол-во конкурентов для запроса': minKeywordRivals\n",
    "}]\n",
    "keywordsToDeleteForExcel = []\n",
    "for item in keywordsToDelete:\n",
    "    for key in item['keywordsToDelete']:\n",
    "        keywordsToDeleteForExcel.append({\n",
    "            'Регион': item['region'],\n",
    "            'Ключ для удаления': key\n",
    "        })\n",
    "writer = pd.ExcelWriter('./downloadable_files/' + filename)\n",
    "info_df = pd.DataFrame(info)\n",
    "info_df.to_excel(writer, index=False, sheet_name='Метаданные', freeze_panes = (1,0))\n",
    "regions_df = pd.DataFrame(regions).rename(columns={'name': 'Регион'})['Регион'].to_frame()\n",
    "regions_df.to_excel(writer, index=False, sheet_name='Регионы', freeze_panes = (1,0))\n",
    "rivals_df = pd.DataFrame(rivals).rename(columns={\n",
    "    'domain': 'Сайт',\n",
    "    'isExcluded': 'Не конкурент',\n",
    "    'countInSerm': 'Встречается в выдаче',\n",
    "})[['Сайт', 'Не конкурент', 'Встречается в выдаче']]\n",
    "rivals_df.to_excel(writer, index=False, sheet_name='Конкуренты', freeze_panes = (1,0))\n",
    "all_keywords_df = pd.DataFrame(keywords).rename(columns={\n",
    "    'keyword': 'Запрос',\n",
    "    'regionName': 'Регион',\n",
    "    'searchEngine': 'ПС',\n",
    "    'isMobile': 'Мобильная выдача',\n",
    "    'rivalsCount': 'Кол-во конкурентов'\n",
    "})[['Запрос', 'Кол-во конкурентов', 'Регион', 'ПС', 'Мобильная выдача']]\n",
    "all_keywords_df.to_excel(writer, index=False, sheet_name='Запросы', freeze_panes = (1,0))\n",
    "keywordsToDeleteForExcel_df = pd.DataFrame(keywordsToDeleteForExcel)\n",
    "keywordsToDeleteForExcel_df.to_excel(writer, index=False, sheet_name='Запросы для удаления', freeze_panes = (1,0))\n",
    "writer.save()\n",
    "print(filename)"
   ]
  },
  {
   "cell_type": "code",
   "execution_count": null,
   "metadata": {},
   "outputs": [],
   "source": [
    "keywordsToDeleteForExcel"
   ]
  },
  {
   "cell_type": "code",
   "execution_count": null,
   "metadata": {},
   "outputs": [],
   "source": [
    "keywordsToDeleteForExcel_df = pd.DataFrame(keywordsToDeleteForExcel)\n",
    "all_keywords_df = pd.DataFrame(keywords).rename(columns={\n",
    "    'keyword': 'Запрос',\n",
    "    'regionName': 'Регион',\n",
    "    'searchEngine': 'ПС',\n",
    "    'isMobile': 'Мобильная выдача',\n",
    "    'rivalsCount': 'Кол-во конкурентов'\n",
    "})[['Запрос', 'Кол-во конкурентов', 'Регион', 'ПС', 'Мобильная выдача']]\n",
    "keywordsToDeleteForExcel_df"
   ]
  }
 ],
 "metadata": {
  "kernelspec": {
   "display_name": "Python (3.6)",
   "language": "python",
   "name": "py35"
  },
  "language_info": {
   "codemirror_mode": {
    "name": "ipython",
    "version": 3
   },
   "file_extension": ".py",
   "mimetype": "text/x-python",
   "name": "python",
   "nbconvert_exporter": "python",
   "pygments_lexer": "ipython3",
   "version": "3.6.7"
  }
 },
 "nbformat": 4,
 "nbformat_minor": 2
}
